{
 "cells": [
  {
   "cell_type": "code",
   "execution_count": 1,
   "metadata": {},
   "outputs": [],
   "source": [
    "import perf\n",
    "import pathlib\n",
    "import pandas\n",
    "import altair"
   ]
  },
  {
   "cell_type": "code",
   "execution_count": 6,
   "metadata": {},
   "outputs": [],
   "source": [
    "def get_items():\n",
    "    for path in pathlib.Path('.').glob(\"*.json\"):\n",
    "        _, reduced = path.stem.split('-', 2)\n",
    "        is_reduced = reduced == 'reduced'\n",
    "        benchmark = perf.Benchmark.load(str(path))\n",
    "        n = int(benchmark.get_name())\n",
    "        for value in benchmark.get_values():\n",
    "            yield {\"n\": n, \"time\": value, \"reduced\": is_reduced}\n"
   ]
  },
  {
   "cell_type": "code",
   "execution_count": 7,
   "metadata": {},
   "outputs": [
    {
     "name": "stdout",
     "output_type": "stream",
     "text": [
      "<class 'pandas.core.frame.DataFrame'>\n",
      "RangeIndex: 1680 entries, 0 to 1679\n",
      "Data columns (total 3 columns):\n",
      "n          1680 non-null int64\n",
      "reduced    1680 non-null bool\n",
      "time       1680 non-null int64\n",
      "dtypes: bool(1), int64(2)\n",
      "memory usage: 28.0 KB\n"
     ]
    },
    {
     "data": {
      "text/html": [
       "<div>\n",
       "<style scoped>\n",
       "    .dataframe tbody tr th:only-of-type {\n",
       "        vertical-align: middle;\n",
       "    }\n",
       "\n",
       "    .dataframe tbody tr th {\n",
       "        vertical-align: top;\n",
       "    }\n",
       "\n",
       "    .dataframe thead th {\n",
       "        text-align: right;\n",
       "    }\n",
       "</style>\n",
       "<table border=\"1\" class=\"dataframe\">\n",
       "  <thead>\n",
       "    <tr style=\"text-align: right;\">\n",
       "      <th></th>\n",
       "      <th>n</th>\n",
       "      <th>reduced</th>\n",
       "      <th>time</th>\n",
       "    </tr>\n",
       "  </thead>\n",
       "  <tbody>\n",
       "    <tr>\n",
       "      <th>0</th>\n",
       "      <td>140</td>\n",
       "      <td>False</td>\n",
       "      <td>1355743232</td>\n",
       "    </tr>\n",
       "    <tr>\n",
       "      <th>1</th>\n",
       "      <td>140</td>\n",
       "      <td>False</td>\n",
       "      <td>1355804672</td>\n",
       "    </tr>\n",
       "    <tr>\n",
       "      <th>2</th>\n",
       "      <td>140</td>\n",
       "      <td>False</td>\n",
       "      <td>1355694080</td>\n",
       "    </tr>\n",
       "    <tr>\n",
       "      <th>3</th>\n",
       "      <td>140</td>\n",
       "      <td>False</td>\n",
       "      <td>1355767808</td>\n",
       "    </tr>\n",
       "    <tr>\n",
       "      <th>4</th>\n",
       "      <td>140</td>\n",
       "      <td>False</td>\n",
       "      <td>1355845632</td>\n",
       "    </tr>\n",
       "  </tbody>\n",
       "</table>\n",
       "</div>"
      ],
      "text/plain": [
       "     n  reduced        time\n",
       "0  140    False  1355743232\n",
       "1  140    False  1355804672\n",
       "2  140    False  1355694080\n",
       "3  140    False  1355767808\n",
       "4  140    False  1355845632"
      ]
     },
     "execution_count": 7,
     "metadata": {},
     "output_type": "execute_result"
    }
   ],
   "source": [
    "df = pandas.DataFrame(get_items())\n",
    "df.info()\n",
    "df.head()\n"
   ]
  },
  {
   "cell_type": "code",
   "execution_count": 10,
   "metadata": {},
   "outputs": [
    {
     "data": {
      "application/vnd.vegalite.v2+json": {
       "$schema": "https://vega.github.io/schema/vega-lite/v2.6.0.json",
       "config": {
        "view": {
         "height": 300,
         "width": 400
        }
       },
       "data": {
        "name": "data-904cd78750e591ea33a45dc276973e1c"
       },
       "datasets": {
        "data-904cd78750e591ea33a45dc276973e1c": [
         {
          "n": 140,
          "reduced": false,
          "time": 1355743232
         },
         {
          "n": 140,
          "reduced": false,
          "time": 1355804672
         },
         {
          "n": 140,
          "reduced": false,
          "time": 1355694080
         },
         {
          "n": 140,
          "reduced": false,
          "time": 1355767808
         },
         {
          "n": 140,
          "reduced": false,
          "time": 1355845632
         },
         {
          "n": 140,
          "reduced": false,
          "time": 1355943936
         },
         {
          "n": 140,
          "reduced": false,
          "time": 1355767808
         },
         {
          "n": 140,
          "reduced": false,
          "time": 1355878400
         },
         {
          "n": 140,
          "reduced": false,
          "time": 1355636736
         },
         {
          "n": 140,
          "reduced": false,
          "time": 1355722752
         },
         {
          "n": 140,
          "reduced": false,
          "time": 1355706368
         },
         {
          "n": 140,
          "reduced": false,
          "time": 1355726848
         },
         {
          "n": 140,
          "reduced": false,
          "time": 1355755520
         },
         {
          "n": 140,
          "reduced": false,
          "time": 1355767808
         },
         {
          "n": 140,
          "reduced": false,
          "time": 1355853824
         },
         {
          "n": 140,
          "reduced": false,
          "time": 1355677696
         },
         {
          "n": 140,
          "reduced": false,
          "time": 1355743232
         },
         {
          "n": 140,
          "reduced": false,
          "time": 1355583488
         },
         {
          "n": 140,
          "reduced": false,
          "time": 1355673600
         },
         {
          "n": 140,
          "reduced": false,
          "time": 1355948032
         },
         {
          "n": 140,
          "reduced": false,
          "time": 1355681792
         },
         {
          "n": 140,
          "reduced": false,
          "time": 1355726848
         },
         {
          "n": 140,
          "reduced": false,
          "time": 1355759616
         },
         {
          "n": 140,
          "reduced": false,
          "time": 1355673600
         },
         {
          "n": 140,
          "reduced": false,
          "time": 1355759616
         },
         {
          "n": 140,
          "reduced": false,
          "time": 1355767808
         },
         {
          "n": 140,
          "reduced": false,
          "time": 1355702272
         },
         {
          "n": 140,
          "reduced": false,
          "time": 1355657216
         },
         {
          "n": 140,
          "reduced": false,
          "time": 1355825152
         },
         {
          "n": 140,
          "reduced": false,
          "time": 1355677696
         },
         {
          "n": 140,
          "reduced": false,
          "time": 1355816960
         },
         {
          "n": 140,
          "reduced": false,
          "time": 1355866112
         },
         {
          "n": 140,
          "reduced": false,
          "time": 1355759616
         },
         {
          "n": 140,
          "reduced": false,
          "time": 1355784192
         },
         {
          "n": 140,
          "reduced": false,
          "time": 1355776000
         },
         {
          "n": 140,
          "reduced": false,
          "time": 1355837440
         },
         {
          "n": 140,
          "reduced": false,
          "time": 1355808768
         },
         {
          "n": 140,
          "reduced": false,
          "time": 1355812864
         },
         {
          "n": 140,
          "reduced": false,
          "time": 1355685888
         },
         {
          "n": 140,
          "reduced": false,
          "time": 1355722752
         },
         {
          "n": 180,
          "reduced": true,
          "time": 2833874944
         },
         {
          "n": 180,
          "reduced": true,
          "time": 2834026496
         },
         {
          "n": 180,
          "reduced": true,
          "time": 2833854464
         },
         {
          "n": 180,
          "reduced": true,
          "time": 2833952768
         },
         {
          "n": 180,
          "reduced": true,
          "time": 2833870848
         },
         {
          "n": 180,
          "reduced": true,
          "time": 2833756160
         },
         {
          "n": 180,
          "reduced": true,
          "time": 2834018304
         },
         {
          "n": 180,
          "reduced": true,
          "time": 2833707008
         },
         {
          "n": 180,
          "reduced": true,
          "time": 2833833984
         },
         {
          "n": 180,
          "reduced": true,
          "time": 2833846272
         },
         {
          "n": 180,
          "reduced": true,
          "time": 2834014208
         },
         {
          "n": 180,
          "reduced": true,
          "time": 2833735680
         },
         {
          "n": 180,
          "reduced": true,
          "time": 2833756160
         },
         {
          "n": 180,
          "reduced": true,
          "time": 2833948672
         },
         {
          "n": 180,
          "reduced": true,
          "time": 2833936384
         },
         {
          "n": 180,
          "reduced": true,
          "time": 2833940480
         },
         {
          "n": 180,
          "reduced": true,
          "time": 2833903616
         },
         {
          "n": 180,
          "reduced": true,
          "time": 2833797120
         },
         {
          "n": 180,
          "reduced": true,
          "time": 2833899520
         },
         {
          "n": 180,
          "reduced": true,
          "time": 2833788928
         },
         {
          "n": 180,
          "reduced": true,
          "time": 2833838080
         },
         {
          "n": 180,
          "reduced": true,
          "time": 2834038784
         },
         {
          "n": 180,
          "reduced": true,
          "time": 2833936384
         },
         {
          "n": 180,
          "reduced": true,
          "time": 2832818176
         },
         {
          "n": 180,
          "reduced": true,
          "time": 2833928192
         },
         {
          "n": 180,
          "reduced": true,
          "time": 2833784832
         },
         {
          "n": 180,
          "reduced": true,
          "time": 2833993728
         },
         {
          "n": 180,
          "reduced": true,
          "time": 2833149952
         },
         {
          "n": 180,
          "reduced": true,
          "time": 2833801216
         },
         {
          "n": 180,
          "reduced": true,
          "time": 2829406208
         },
         {
          "n": 180,
          "reduced": true,
          "time": 2833842176
         },
         {
          "n": 180,
          "reduced": true,
          "time": 2833842176
         },
         {
          "n": 180,
          "reduced": true,
          "time": 2834092032
         },
         {
          "n": 180,
          "reduced": true,
          "time": 2833874944
         },
         {
          "n": 180,
          "reduced": true,
          "time": 2834124800
         },
         {
          "n": 180,
          "reduced": true,
          "time": 2833809408
         },
         {
          "n": 180,
          "reduced": true,
          "time": 2833829888
         },
         {
          "n": 180,
          "reduced": true,
          "time": 2834051072
         },
         {
          "n": 180,
          "reduced": true,
          "time": 2833870848
         },
         {
          "n": 180,
          "reduced": true,
          "time": 2833858560
         },
         {
          "n": 130,
          "reduced": false,
          "time": 1092747264
         },
         {
          "n": 130,
          "reduced": false,
          "time": 1092534272
         },
         {
          "n": 130,
          "reduced": false,
          "time": 1092722688
         },
         {
          "n": 130,
          "reduced": false,
          "time": 1092530176
         },
         {
          "n": 130,
          "reduced": false,
          "time": 1092681728
         },
         {
          "n": 130,
          "reduced": false,
          "time": 1092550656
         },
         {
          "n": 130,
          "reduced": false,
          "time": 1092677632
         },
         {
          "n": 130,
          "reduced": false,
          "time": 1092648960
         },
         {
          "n": 130,
          "reduced": false,
          "time": 1092497408
         },
         {
          "n": 130,
          "reduced": false,
          "time": 1092435968
         },
         {
          "n": 130,
          "reduced": false,
          "time": 1092554752
         },
         {
          "n": 130,
          "reduced": false,
          "time": 1092444160
         },
         {
          "n": 130,
          "reduced": false,
          "time": 1092861952
         },
         {
          "n": 130,
          "reduced": false,
          "time": 1092648960
         },
         {
          "n": 130,
          "reduced": false,
          "time": 1092669440
         },
         {
          "n": 130,
          "reduced": false,
          "time": 1092694016
         },
         {
          "n": 130,
          "reduced": false,
          "time": 1092579328
         },
         {
          "n": 130,
          "reduced": false,
          "time": 1092513792
         },
         {
          "n": 130,
          "reduced": false,
          "time": 1092681728
         },
         {
          "n": 130,
          "reduced": false,
          "time": 1092661248
         },
         {
          "n": 130,
          "reduced": false,
          "time": 1092440064
         },
         {
          "n": 130,
          "reduced": false,
          "time": 1092571136
         },
         {
          "n": 130,
          "reduced": false,
          "time": 1092673536
         },
         {
          "n": 130,
          "reduced": false,
          "time": 1092681728
         },
         {
          "n": 130,
          "reduced": false,
          "time": 1092485120
         },
         {
          "n": 130,
          "reduced": false,
          "time": 1092665344
         },
         {
          "n": 130,
          "reduced": false,
          "time": 1092530176
         },
         {
          "n": 130,
          "reduced": false,
          "time": 1092661248
         },
         {
          "n": 130,
          "reduced": false,
          "time": 1092534272
         },
         {
          "n": 130,
          "reduced": false,
          "time": 1092665344
         },
         {
          "n": 130,
          "reduced": false,
          "time": 1092734976
         },
         {
          "n": 130,
          "reduced": false,
          "time": 1092677632
         },
         {
          "n": 130,
          "reduced": false,
          "time": 1092653056
         },
         {
          "n": 130,
          "reduced": false,
          "time": 1092673536
         },
         {
          "n": 130,
          "reduced": false,
          "time": 1092706304
         },
         {
          "n": 130,
          "reduced": false,
          "time": 1092583424
         },
         {
          "n": 130,
          "reduced": false,
          "time": 1092763648
         },
         {
          "n": 130,
          "reduced": false,
          "time": 1092739072
         },
         {
          "n": 130,
          "reduced": false,
          "time": 1092550656
         },
         {
          "n": 130,
          "reduced": false,
          "time": 1092640768
         },
         {
          "n": 120,
          "reduced": false,
          "time": 867090432
         },
         {
          "n": 120,
          "reduced": false,
          "time": 866959360
         },
         {
          "n": 120,
          "reduced": false,
          "time": 867168256
         },
         {
          "n": 120,
          "reduced": false,
          "time": 867225600
         },
         {
          "n": 120,
          "reduced": false,
          "time": 867160064
         },
         {
          "n": 120,
          "reduced": false,
          "time": 866856960
         },
         {
          "n": 120,
          "reduced": false,
          "time": 867139584
         },
         {
          "n": 120,
          "reduced": false,
          "time": 867086336
         },
         {
          "n": 120,
          "reduced": false,
          "time": 866992128
         },
         {
          "n": 120,
          "reduced": false,
          "time": 867061760
         },
         {
          "n": 120,
          "reduced": false,
          "time": 867115008
         },
         {
          "n": 120,
          "reduced": false,
          "time": 867028992
         },
         {
          "n": 120,
          "reduced": false,
          "time": 867000320
         },
         {
          "n": 120,
          "reduced": false,
          "time": 866967552
         },
         {
          "n": 120,
          "reduced": false,
          "time": 867086336
         },
         {
          "n": 120,
          "reduced": false,
          "time": 867061760
         },
         {
          "n": 120,
          "reduced": false,
          "time": 867078144
         },
         {
          "n": 120,
          "reduced": false,
          "time": 866988032
         },
         {
          "n": 120,
          "reduced": false,
          "time": 867115008
         },
         {
          "n": 120,
          "reduced": false,
          "time": 867024896
         },
         {
          "n": 120,
          "reduced": false,
          "time": 867131392
         },
         {
          "n": 120,
          "reduced": false,
          "time": 867119104
         },
         {
          "n": 120,
          "reduced": false,
          "time": 867233792
         },
         {
          "n": 120,
          "reduced": false,
          "time": 867102720
         },
         {
          "n": 120,
          "reduced": false,
          "time": 867090432
         },
         {
          "n": 120,
          "reduced": false,
          "time": 867106816
         },
         {
          "n": 120,
          "reduced": false,
          "time": 866975744
         },
         {
          "n": 120,
          "reduced": false,
          "time": 867037184
         },
         {
          "n": 120,
          "reduced": false,
          "time": 866988032
         },
         {
          "n": 120,
          "reduced": false,
          "time": 866971648
         },
         {
          "n": 120,
          "reduced": false,
          "time": 867102720
         },
         {
          "n": 120,
          "reduced": false,
          "time": 866934784
         },
         {
          "n": 120,
          "reduced": false,
          "time": 866795520
         },
         {
          "n": 120,
          "reduced": false,
          "time": 867221504
         },
         {
          "n": 120,
          "reduced": false,
          "time": 867217408
         },
         {
          "n": 120,
          "reduced": false,
          "time": 867065856
         },
         {
          "n": 120,
          "reduced": false,
          "time": 866979840
         },
         {
          "n": 120,
          "reduced": false,
          "time": 866836480
         },
         {
          "n": 120,
          "reduced": false,
          "time": 867086336
         },
         {
          "n": 120,
          "reduced": false,
          "time": 867196928
         },
         {
          "n": 150,
          "reduced": false,
          "time": 1659240448
         },
         {
          "n": 150,
          "reduced": false,
          "time": 1659133952
         },
         {
          "n": 150,
          "reduced": false,
          "time": 1659305984
         },
         {
          "n": 150,
          "reduced": false,
          "time": 1659207680
         },
         {
          "n": 150,
          "reduced": false,
          "time": 1659146240
         },
         {
          "n": 150,
          "reduced": false,
          "time": 1659404288
         },
         {
          "n": 150,
          "reduced": false,
          "time": 1659056128
         },
         {
          "n": 150,
          "reduced": false,
          "time": 1659101184
         },
         {
          "n": 150,
          "reduced": false,
          "time": 1659269120
         },
         {
          "n": 150,
          "reduced": false,
          "time": 1659252736
         },
         {
          "n": 150,
          "reduced": false,
          "time": 1659187200
         },
         {
          "n": 150,
          "reduced": false,
          "time": 1659097088
         },
         {
          "n": 150,
          "reduced": false,
          "time": 1659203584
         },
         {
          "n": 150,
          "reduced": false,
          "time": 1659146240
         },
         {
          "n": 150,
          "reduced": false,
          "time": 1659084800
         },
         {
          "n": 150,
          "reduced": false,
          "time": 1659338752
         },
         {
          "n": 150,
          "reduced": false,
          "time": 1659109376
         },
         {
          "n": 150,
          "reduced": false,
          "time": 1659109376
         },
         {
          "n": 150,
          "reduced": false,
          "time": 1659224064
         },
         {
          "n": 150,
          "reduced": false,
          "time": 1659179008
         },
         {
          "n": 150,
          "reduced": false,
          "time": 1659224064
         },
         {
          "n": 150,
          "reduced": false,
          "time": 1659228160
         },
         {
          "n": 150,
          "reduced": false,
          "time": 1659211776
         },
         {
          "n": 150,
          "reduced": false,
          "time": 1659277312
         },
         {
          "n": 150,
          "reduced": false,
          "time": 1659170816
         },
         {
          "n": 150,
          "reduced": false,
          "time": 1659174912
         },
         {
          "n": 150,
          "reduced": false,
          "time": 1659379712
         },
         {
          "n": 150,
          "reduced": false,
          "time": 1659318272
         },
         {
          "n": 150,
          "reduced": false,
          "time": 1659113472
         },
         {
          "n": 150,
          "reduced": false,
          "time": 1659224064
         },
         {
          "n": 150,
          "reduced": false,
          "time": 1659150336
         },
         {
          "n": 150,
          "reduced": false,
          "time": 1659166720
         },
         {
          "n": 150,
          "reduced": false,
          "time": 1659179008
         },
         {
          "n": 150,
          "reduced": false,
          "time": 1659170816
         },
         {
          "n": 150,
          "reduced": false,
          "time": 1659293696
         },
         {
          "n": 150,
          "reduced": false,
          "time": 1659105280
         },
         {
          "n": 150,
          "reduced": false,
          "time": 1659195392
         },
         {
          "n": 150,
          "reduced": false,
          "time": 1659133952
         },
         {
          "n": 150,
          "reduced": false,
          "time": 1659146240
         },
         {
          "n": 150,
          "reduced": false,
          "time": 1659371520
         },
         {
          "n": 90,
          "reduced": true,
          "time": 384581632
         },
         {
          "n": 90,
          "reduced": true,
          "time": 384561152
         },
         {
          "n": 90,
          "reduced": true,
          "time": 384552960
         },
         {
          "n": 90,
          "reduced": true,
          "time": 384487424
         },
         {
          "n": 90,
          "reduced": true,
          "time": 384315392
         },
         {
          "n": 90,
          "reduced": true,
          "time": 384651264
         },
         {
          "n": 90,
          "reduced": true,
          "time": 384655360
         },
         {
          "n": 90,
          "reduced": true,
          "time": 384610304
         },
         {
          "n": 90,
          "reduced": true,
          "time": 384450560
         },
         {
          "n": 90,
          "reduced": true,
          "time": 384434176
         },
         {
          "n": 90,
          "reduced": true,
          "time": 384471040
         },
         {
          "n": 90,
          "reduced": true,
          "time": 384761856
         },
         {
          "n": 90,
          "reduced": true,
          "time": 384524288
         },
         {
          "n": 90,
          "reduced": true,
          "time": 384503808
         },
         {
          "n": 90,
          "reduced": true,
          "time": 384483328
         },
         {
          "n": 90,
          "reduced": true,
          "time": 384458752
         },
         {
          "n": 90,
          "reduced": true,
          "time": 384643072
         },
         {
          "n": 90,
          "reduced": true,
          "time": 384475136
         },
         {
          "n": 90,
          "reduced": true,
          "time": 384352256
         },
         {
          "n": 90,
          "reduced": true,
          "time": 384507904
         },
         {
          "n": 90,
          "reduced": true,
          "time": 384458752
         },
         {
          "n": 90,
          "reduced": true,
          "time": 384438272
         },
         {
          "n": 90,
          "reduced": true,
          "time": 384573440
         },
         {
          "n": 90,
          "reduced": true,
          "time": 384573440
         },
         {
          "n": 90,
          "reduced": true,
          "time": 384393216
         },
         {
          "n": 90,
          "reduced": true,
          "time": 384548864
         },
         {
          "n": 90,
          "reduced": true,
          "time": 384471040
         },
         {
          "n": 90,
          "reduced": true,
          "time": 384360448
         },
         {
          "n": 90,
          "reduced": true,
          "time": 384368640
         },
         {
          "n": 90,
          "reduced": true,
          "time": 384618496
         },
         {
          "n": 90,
          "reduced": true,
          "time": 384479232
         },
         {
          "n": 90,
          "reduced": true,
          "time": 384618496
         },
         {
          "n": 90,
          "reduced": true,
          "time": 384458752
         },
         {
          "n": 90,
          "reduced": true,
          "time": 384438272
         },
         {
          "n": 90,
          "reduced": true,
          "time": 384614400
         },
         {
          "n": 90,
          "reduced": true,
          "time": 384663552
         },
         {
          "n": 90,
          "reduced": true,
          "time": 384458752
         },
         {
          "n": 90,
          "reduced": true,
          "time": 384442368
         },
         {
          "n": 90,
          "reduced": true,
          "time": 384512000
         },
         {
          "n": 90,
          "reduced": true,
          "time": 384409600
         },
         {
          "n": 70,
          "reduced": true,
          "time": 199045120
         },
         {
          "n": 70,
          "reduced": true,
          "time": 199294976
         },
         {
          "n": 70,
          "reduced": true,
          "time": 199188480
         },
         {
          "n": 70,
          "reduced": true,
          "time": 199098368
         },
         {
          "n": 70,
          "reduced": true,
          "time": 199299072
         },
         {
          "n": 70,
          "reduced": true,
          "time": 199221248
         },
         {
          "n": 70,
          "reduced": true,
          "time": 199045120
         },
         {
          "n": 70,
          "reduced": true,
          "time": 199254016
         },
         {
          "n": 70,
          "reduced": true,
          "time": 199192576
         },
         {
          "n": 70,
          "reduced": true,
          "time": 199057408
         },
         {
          "n": 70,
          "reduced": true,
          "time": 199290880
         },
         {
          "n": 70,
          "reduced": true,
          "time": 199077888
         },
         {
          "n": 70,
          "reduced": true,
          "time": 199094272
         },
         {
          "n": 70,
          "reduced": true,
          "time": 198971392
         },
         {
          "n": 70,
          "reduced": true,
          "time": 199118848
         },
         {
          "n": 70,
          "reduced": true,
          "time": 199294976
         },
         {
          "n": 70,
          "reduced": true,
          "time": 199077888
         },
         {
          "n": 70,
          "reduced": true,
          "time": 199155712
         },
         {
          "n": 70,
          "reduced": true,
          "time": 199278592
         },
         {
          "n": 70,
          "reduced": true,
          "time": 199053312
         },
         {
          "n": 70,
          "reduced": true,
          "time": 199344128
         },
         {
          "n": 70,
          "reduced": true,
          "time": 199241728
         },
         {
          "n": 70,
          "reduced": true,
          "time": 199184384
         },
         {
          "n": 70,
          "reduced": true,
          "time": 199094272
         },
         {
          "n": 70,
          "reduced": true,
          "time": 199188480
         },
         {
          "n": 70,
          "reduced": true,
          "time": 199249920
         },
         {
          "n": 70,
          "reduced": true,
          "time": 199229440
         },
         {
          "n": 70,
          "reduced": true,
          "time": 199155712
         },
         {
          "n": 70,
          "reduced": true,
          "time": 199249920
         },
         {
          "n": 70,
          "reduced": true,
          "time": 199262208
         },
         {
          "n": 70,
          "reduced": true,
          "time": 199213056
         },
         {
          "n": 70,
          "reduced": true,
          "time": 199254016
         },
         {
          "n": 70,
          "reduced": true,
          "time": 199114752
         },
         {
          "n": 70,
          "reduced": true,
          "time": 199122944
         },
         {
          "n": 70,
          "reduced": true,
          "time": 199118848
         },
         {
          "n": 70,
          "reduced": true,
          "time": 199327744
         },
         {
          "n": 70,
          "reduced": true,
          "time": 199307264
         },
         {
          "n": 70,
          "reduced": true,
          "time": 199094272
         },
         {
          "n": 70,
          "reduced": true,
          "time": 199114752
         },
         {
          "n": 70,
          "reduced": true,
          "time": 199217152
         },
         {
          "n": 170,
          "reduced": false,
          "time": 2398818304
         },
         {
          "n": 170,
          "reduced": false,
          "time": 2398777344
         },
         {
          "n": 170,
          "reduced": false,
          "time": 2398859264
         },
         {
          "n": 170,
          "reduced": false,
          "time": 2398683136
         },
         {
          "n": 170,
          "reduced": false,
          "time": 2398732288
         },
         {
          "n": 170,
          "reduced": false,
          "time": 2398691328
         },
         {
          "n": 170,
          "reduced": false,
          "time": 2398937088
         },
         {
          "n": 170,
          "reduced": false,
          "time": 2398797824
         },
         {
          "n": 170,
          "reduced": false,
          "time": 2398814208
         },
         {
          "n": 170,
          "reduced": false,
          "time": 2398842880
         },
         {
          "n": 170,
          "reduced": false,
          "time": 2398703616
         },
         {
          "n": 170,
          "reduced": false,
          "time": 2398519296
         },
         {
          "n": 170,
          "reduced": false,
          "time": 2398765056
         },
         {
          "n": 170,
          "reduced": false,
          "time": 2398760960
         },
         {
          "n": 170,
          "reduced": false,
          "time": 2398875648
         },
         {
          "n": 170,
          "reduced": false,
          "time": 2398715904
         },
         {
          "n": 170,
          "reduced": false,
          "time": 2398814208
         },
         {
          "n": 170,
          "reduced": false,
          "time": 2398740480
         },
         {
          "n": 170,
          "reduced": false,
          "time": 2398797824
         },
         {
          "n": 170,
          "reduced": false,
          "time": 2398744576
         },
         {
          "n": 170,
          "reduced": false,
          "time": 2398830592
         },
         {
          "n": 170,
          "reduced": false,
          "time": 2398978048
         },
         {
          "n": 170,
          "reduced": false,
          "time": 2398654464
         },
         {
          "n": 170,
          "reduced": false,
          "time": 2398765056
         },
         {
          "n": 170,
          "reduced": false,
          "time": 2398896128
         },
         {
          "n": 170,
          "reduced": false,
          "time": 2398806016
         },
         {
          "n": 170,
          "reduced": false,
          "time": 2398838784
         },
         {
          "n": 170,
          "reduced": false,
          "time": 2398576640
         },
         {
          "n": 170,
          "reduced": false,
          "time": 2398674944
         },
         {
          "n": 170,
          "reduced": false,
          "time": 2398679040
         },
         {
          "n": 170,
          "reduced": false,
          "time": 2398924800
         },
         {
          "n": 170,
          "reduced": false,
          "time": 2398703616
         },
         {
          "n": 170,
          "reduced": false,
          "time": 2398703616
         },
         {
          "n": 170,
          "reduced": false,
          "time": 2398597120
         },
         {
          "n": 170,
          "reduced": false,
          "time": 2399059968
         },
         {
          "n": 170,
          "reduced": false,
          "time": 2398740480
         },
         {
          "n": 170,
          "reduced": false,
          "time": 2398785536
         },
         {
          "n": 170,
          "reduced": false,
          "time": 2398928896
         },
         {
          "n": 170,
          "reduced": false,
          "time": 2398674944
         },
         {
          "n": 170,
          "reduced": false,
          "time": 2398736384
         },
         {
          "n": 30,
          "reduced": true,
          "time": 47443968
         },
         {
          "n": 30,
          "reduced": true,
          "time": 47411200
         },
         {
          "n": 30,
          "reduced": true,
          "time": 47521792
         },
         {
          "n": 30,
          "reduced": true,
          "time": 47517696
         },
         {
          "n": 30,
          "reduced": true,
          "time": 47484928
         },
         {
          "n": 30,
          "reduced": true,
          "time": 47251456
         },
         {
          "n": 30,
          "reduced": true,
          "time": 47566848
         },
         {
          "n": 30,
          "reduced": true,
          "time": 47357952
         },
         {
          "n": 30,
          "reduced": true,
          "time": 47468544
         },
         {
          "n": 30,
          "reduced": true,
          "time": 47415296
         },
         {
          "n": 30,
          "reduced": true,
          "time": 47472640
         },
         {
          "n": 30,
          "reduced": true,
          "time": 47353856
         },
         {
          "n": 30,
          "reduced": true,
          "time": 47525888
         },
         {
          "n": 30,
          "reduced": true,
          "time": 47599616
         },
         {
          "n": 30,
          "reduced": true,
          "time": 47595520
         },
         {
          "n": 30,
          "reduced": true,
          "time": 47427584
         },
         {
          "n": 30,
          "reduced": true,
          "time": 47529984
         },
         {
          "n": 30,
          "reduced": true,
          "time": 47566848
         },
         {
          "n": 30,
          "reduced": true,
          "time": 47673344
         },
         {
          "n": 30,
          "reduced": true,
          "time": 47329280
         },
         {
          "n": 30,
          "reduced": true,
          "time": 47472640
         },
         {
          "n": 30,
          "reduced": true,
          "time": 47656960
         },
         {
          "n": 30,
          "reduced": true,
          "time": 47362048
         },
         {
          "n": 30,
          "reduced": true,
          "time": 47525888
         },
         {
          "n": 30,
          "reduced": true,
          "time": 47558656
         },
         {
          "n": 30,
          "reduced": true,
          "time": 47521792
         },
         {
          "n": 30,
          "reduced": true,
          "time": 47468544
         },
         {
          "n": 30,
          "reduced": true,
          "time": 47308800
         },
         {
          "n": 30,
          "reduced": true,
          "time": 47542272
         },
         {
          "n": 30,
          "reduced": true,
          "time": 47353856
         },
         {
          "n": 30,
          "reduced": true,
          "time": 47603712
         },
         {
          "n": 30,
          "reduced": true,
          "time": 47329280
         },
         {
          "n": 30,
          "reduced": true,
          "time": 47341568
         },
         {
          "n": 30,
          "reduced": true,
          "time": 47480832
         },
         {
          "n": 30,
          "reduced": true,
          "time": 47288320
         },
         {
          "n": 30,
          "reduced": true,
          "time": 47517696
         },
         {
          "n": 30,
          "reduced": true,
          "time": 47599616
         },
         {
          "n": 30,
          "reduced": true,
          "time": 47394816
         },
         {
          "n": 30,
          "reduced": true,
          "time": 47525888
         },
         {
          "n": 30,
          "reduced": true,
          "time": 47624192
         },
         {
          "n": 110,
          "reduced": true,
          "time": 673386496
         },
         {
          "n": 110,
          "reduced": true,
          "time": 673304576
         },
         {
          "n": 110,
          "reduced": true,
          "time": 673394688
         },
         {
          "n": 110,
          "reduced": true,
          "time": 673517568
         },
         {
          "n": 110,
          "reduced": true,
          "time": 673345536
         },
         {
          "n": 110,
          "reduced": true,
          "time": 673349632
         },
         {
          "n": 110,
          "reduced": true,
          "time": 673468416
         },
         {
          "n": 110,
          "reduced": true,
          "time": 673550336
         },
         {
          "n": 110,
          "reduced": true,
          "time": 673460224
         },
         {
          "n": 110,
          "reduced": true,
          "time": 673296384
         },
         {
          "n": 110,
          "reduced": true,
          "time": 673320960
         },
         {
          "n": 110,
          "reduced": true,
          "time": 673337344
         },
         {
          "n": 110,
          "reduced": true,
          "time": 673337344
         },
         {
          "n": 110,
          "reduced": true,
          "time": 673439744
         },
         {
          "n": 110,
          "reduced": true,
          "time": 673517568
         },
         {
          "n": 110,
          "reduced": true,
          "time": 673386496
         },
         {
          "n": 110,
          "reduced": true,
          "time": 673542144
         },
         {
          "n": 110,
          "reduced": true,
          "time": 673488896
         },
         {
          "n": 110,
          "reduced": true,
          "time": 673382400
         },
         {
          "n": 110,
          "reduced": true,
          "time": 673525760
         },
         {
          "n": 110,
          "reduced": true,
          "time": 673386496
         },
         {
          "n": 110,
          "reduced": true,
          "time": 673292288
         },
         {
          "n": 110,
          "reduced": true,
          "time": 673480704
         },
         {
          "n": 110,
          "reduced": true,
          "time": 673394688
         },
         {
          "n": 110,
          "reduced": true,
          "time": 673472512
         },
         {
          "n": 110,
          "reduced": true,
          "time": 673509376
         },
         {
          "n": 110,
          "reduced": true,
          "time": 673529856
         },
         {
          "n": 110,
          "reduced": true,
          "time": 673472512
         },
         {
          "n": 110,
          "reduced": true,
          "time": 673501184
         },
         {
          "n": 110,
          "reduced": true,
          "time": 673341440
         },
         {
          "n": 110,
          "reduced": true,
          "time": 673636352
         },
         {
          "n": 110,
          "reduced": true,
          "time": 673542144
         },
         {
          "n": 110,
          "reduced": true,
          "time": 673603584
         },
         {
          "n": 110,
          "reduced": true,
          "time": 673316864
         },
         {
          "n": 110,
          "reduced": true,
          "time": 673460224
         },
         {
          "n": 110,
          "reduced": true,
          "time": 673325056
         },
         {
          "n": 110,
          "reduced": true,
          "time": 673456128
         },
         {
          "n": 110,
          "reduced": true,
          "time": 673316864
         },
         {
          "n": 110,
          "reduced": true,
          "time": 673329152
         },
         {
          "n": 110,
          "reduced": true,
          "time": 673378304
         },
         {
          "n": 100,
          "reduced": false,
          "time": 516730880
         },
         {
          "n": 100,
          "reduced": false,
          "time": 516657152
         },
         {
          "n": 100,
          "reduced": false,
          "time": 516608000
         },
         {
          "n": 100,
          "reduced": false,
          "time": 516497408
         },
         {
          "n": 100,
          "reduced": false,
          "time": 516722688
         },
         {
          "n": 100,
          "reduced": false,
          "time": 516661248
         },
         {
          "n": 100,
          "reduced": false,
          "time": 516599808
         },
         {
          "n": 100,
          "reduced": false,
          "time": 516775936
         },
         {
          "n": 100,
          "reduced": false,
          "time": 516681728
         },
         {
          "n": 100,
          "reduced": false,
          "time": 516734976
         },
         {
          "n": 100,
          "reduced": false,
          "time": 516661248
         },
         {
          "n": 100,
          "reduced": false,
          "time": 516661248
         },
         {
          "n": 100,
          "reduced": false,
          "time": 516796416
         },
         {
          "n": 100,
          "reduced": false,
          "time": 516796416
         },
         {
          "n": 100,
          "reduced": false,
          "time": 516702208
         },
         {
          "n": 100,
          "reduced": false,
          "time": 516841472
         },
         {
          "n": 100,
          "reduced": false,
          "time": 516730880
         },
         {
          "n": 100,
          "reduced": false,
          "time": 516800512
         },
         {
          "n": 100,
          "reduced": false,
          "time": 516628480
         },
         {
          "n": 100,
          "reduced": false,
          "time": 516624384
         },
         {
          "n": 100,
          "reduced": false,
          "time": 516710400
         },
         {
          "n": 100,
          "reduced": false,
          "time": 516583424
         },
         {
          "n": 100,
          "reduced": false,
          "time": 516644864
         },
         {
          "n": 100,
          "reduced": false,
          "time": 516706304
         },
         {
          "n": 100,
          "reduced": false,
          "time": 516661248
         },
         {
          "n": 100,
          "reduced": false,
          "time": 516726784
         },
         {
          "n": 100,
          "reduced": false,
          "time": 516546560
         },
         {
          "n": 100,
          "reduced": false,
          "time": 516608000
         },
         {
          "n": 100,
          "reduced": false,
          "time": 516763648
         },
         {
          "n": 100,
          "reduced": false,
          "time": 516571136
         },
         {
          "n": 100,
          "reduced": false,
          "time": 516669440
         },
         {
          "n": 100,
          "reduced": false,
          "time": 516583424
         },
         {
          "n": 100,
          "reduced": false,
          "time": 516755456
         },
         {
          "n": 100,
          "reduced": false,
          "time": 516718592
         },
         {
          "n": 100,
          "reduced": false,
          "time": 516603904
         },
         {
          "n": 100,
          "reduced": false,
          "time": 516890624
         },
         {
          "n": 100,
          "reduced": false,
          "time": 516698112
         },
         {
          "n": 100,
          "reduced": false,
          "time": 516722688
         },
         {
          "n": 100,
          "reduced": false,
          "time": 516599808
         },
         {
          "n": 100,
          "reduced": false,
          "time": 516681728
         },
         {
          "n": 180,
          "reduced": false,
          "time": 2840588288
         },
         {
          "n": 180,
          "reduced": false,
          "time": 2840444928
         },
         {
          "n": 180,
          "reduced": false,
          "time": 2840494080
         },
         {
          "n": 180,
          "reduced": false,
          "time": 2840276992
         },
         {
          "n": 180,
          "reduced": false,
          "time": 2840551424
         },
         {
          "n": 180,
          "reduced": false,
          "time": 2840539136
         },
         {
          "n": 180,
          "reduced": false,
          "time": 2840670208
         },
         {
          "n": 180,
          "reduced": false,
          "time": 2840772608
         },
         {
          "n": 180,
          "reduced": false,
          "time": 2840563712
         },
         {
          "n": 180,
          "reduced": false,
          "time": 2840465408
         },
         {
          "n": 180,
          "reduced": false,
          "time": 2840436736
         },
         {
          "n": 180,
          "reduced": false,
          "time": 2840657920
         },
         {
          "n": 180,
          "reduced": false,
          "time": 2840604672
         },
         {
          "n": 180,
          "reduced": false,
          "time": 2840576000
         },
         {
          "n": 180,
          "reduced": false,
          "time": 2840625152
         },
         {
          "n": 180,
          "reduced": false,
          "time": 2840461312
         },
         {
          "n": 180,
          "reduced": false,
          "time": 2840481792
         },
         {
          "n": 180,
          "reduced": false,
          "time": 2840506368
         },
         {
          "n": 180,
          "reduced": false,
          "time": 2840424448
         },
         {
          "n": 180,
          "reduced": false,
          "time": 2840518656
         },
         {
          "n": 180,
          "reduced": false,
          "time": 2840444928
         },
         {
          "n": 180,
          "reduced": false,
          "time": 2840551424
         },
         {
          "n": 180,
          "reduced": false,
          "time": 2840338432
         },
         {
          "n": 180,
          "reduced": false,
          "time": 2840543232
         },
         {
          "n": 180,
          "reduced": false,
          "time": 2840481792
         },
         {
          "n": 180,
          "reduced": false,
          "time": 2840694784
         },
         {
          "n": 180,
          "reduced": false,
          "time": 2840600576
         },
         {
          "n": 180,
          "reduced": false,
          "time": 2840428544
         },
         {
          "n": 180,
          "reduced": false,
          "time": 2840563712
         },
         {
          "n": 180,
          "reduced": false,
          "time": 2840489984
         },
         {
          "n": 180,
          "reduced": false,
          "time": 2840621056
         },
         {
          "n": 180,
          "reduced": false,
          "time": 2840526848
         },
         {
          "n": 180,
          "reduced": false,
          "time": 2840469504
         },
         {
          "n": 180,
          "reduced": false,
          "time": 2840580096
         },
         {
          "n": 180,
          "reduced": false,
          "time": 2840596480
         },
         {
          "n": 180,
          "reduced": false,
          "time": 2840481792
         },
         {
          "n": 180,
          "reduced": false,
          "time": 2840457216
         },
         {
          "n": 180,
          "reduced": false,
          "time": 2840481792
         },
         {
          "n": 180,
          "reduced": false,
          "time": 2840555520
         },
         {
          "n": 180,
          "reduced": false,
          "time": 2840649728
         },
         {
          "n": 150,
          "reduced": true,
          "time": 1654538240
         },
         {
          "n": 150,
          "reduced": true,
          "time": 1654693888
         },
         {
          "n": 150,
          "reduced": true,
          "time": 1654632448
         },
         {
          "n": 150,
          "reduced": true,
          "time": 1654558720
         },
         {
          "n": 150,
          "reduced": true,
          "time": 1654628352
         },
         {
          "n": 150,
          "reduced": true,
          "time": 1654583296
         },
         {
          "n": 150,
          "reduced": true,
          "time": 1654919168
         },
         {
          "n": 150,
          "reduced": true,
          "time": 1654411264
         },
         {
          "n": 150,
          "reduced": true,
          "time": 1654546432
         },
         {
          "n": 150,
          "reduced": true,
          "time": 1654517760
         },
         {
          "n": 150,
          "reduced": true,
          "time": 1654558720
         },
         {
          "n": 150,
          "reduced": true,
          "time": 1654476800
         },
         {
          "n": 150,
          "reduced": true,
          "time": 1654644736
         },
         {
          "n": 150,
          "reduced": true,
          "time": 1654599680
         },
         {
          "n": 150,
          "reduced": true,
          "time": 1654759424
         },
         {
          "n": 150,
          "reduced": true,
          "time": 1654521856
         },
         {
          "n": 150,
          "reduced": true,
          "time": 1654726656
         },
         {
          "n": 150,
          "reduced": true,
          "time": 1654591488
         },
         {
          "n": 150,
          "reduced": true,
          "time": 1654743040
         },
         {
          "n": 150,
          "reduced": true,
          "time": 1654370304
         },
         {
          "n": 150,
          "reduced": true,
          "time": 1654603776
         },
         {
          "n": 150,
          "reduced": true,
          "time": 1654644736
         },
         {
          "n": 150,
          "reduced": true,
          "time": 1654661120
         },
         {
          "n": 150,
          "reduced": true,
          "time": 1654566912
         },
         {
          "n": 150,
          "reduced": true,
          "time": 1654808576
         },
         {
          "n": 150,
          "reduced": true,
          "time": 1654587392
         },
         {
          "n": 150,
          "reduced": true,
          "time": 1654464512
         },
         {
          "n": 150,
          "reduced": true,
          "time": 1654681600
         },
         {
          "n": 150,
          "reduced": true,
          "time": 1654534144
         },
         {
          "n": 150,
          "reduced": true,
          "time": 1654562816
         },
         {
          "n": 150,
          "reduced": true,
          "time": 1654550528
         },
         {
          "n": 150,
          "reduced": true,
          "time": 1654517760
         },
         {
          "n": 150,
          "reduced": true,
          "time": 1654624256
         },
         {
          "n": 150,
          "reduced": true,
          "time": 1654460416
         },
         {
          "n": 150,
          "reduced": true,
          "time": 1654579200
         },
         {
          "n": 150,
          "reduced": true,
          "time": 1654722560
         },
         {
          "n": 150,
          "reduced": true,
          "time": 1654558720
         },
         {
          "n": 150,
          "reduced": true,
          "time": 1654657024
         },
         {
          "n": 150,
          "reduced": true,
          "time": 1654566912
         },
         {
          "n": 150,
          "reduced": true,
          "time": 1654558720
         },
         {
          "n": 120,
          "reduced": true,
          "time": 864018432
         },
         {
          "n": 120,
          "reduced": true,
          "time": 864055296
         },
         {
          "n": 120,
          "reduced": true,
          "time": 864157696
         },
         {
          "n": 120,
          "reduced": true,
          "time": 864124928
         },
         {
          "n": 120,
          "reduced": true,
          "time": 864178176
         },
         {
          "n": 120,
          "reduced": true,
          "time": 863944704
         },
         {
          "n": 120,
          "reduced": true,
          "time": 863977472
         },
         {
          "n": 120,
          "reduced": true,
          "time": 864120832
         },
         {
          "n": 120,
          "reduced": true,
          "time": 864161792
         },
         {
          "n": 120,
          "reduced": true,
          "time": 864006144
         },
         {
          "n": 120,
          "reduced": true,
          "time": 864088064
         },
         {
          "n": 120,
          "reduced": true,
          "time": 864120832
         },
         {
          "n": 120,
          "reduced": true,
          "time": 864124928
         },
         {
          "n": 120,
          "reduced": true,
          "time": 864305152
         },
         {
          "n": 120,
          "reduced": true,
          "time": 864161792
         },
         {
          "n": 120,
          "reduced": true,
          "time": 864079872
         },
         {
          "n": 120,
          "reduced": true,
          "time": 863977472
         },
         {
          "n": 120,
          "reduced": true,
          "time": 863977472
         },
         {
          "n": 120,
          "reduced": true,
          "time": 864120832
         },
         {
          "n": 120,
          "reduced": true,
          "time": 864137216
         },
         {
          "n": 120,
          "reduced": true,
          "time": 864063488
         },
         {
          "n": 120,
          "reduced": true,
          "time": 864038912
         },
         {
          "n": 120,
          "reduced": true,
          "time": 864141312
         },
         {
          "n": 120,
          "reduced": true,
          "time": 864182272
         },
         {
          "n": 120,
          "reduced": true,
          "time": 863944704
         },
         {
          "n": 120,
          "reduced": true,
          "time": 864067584
         },
         {
          "n": 120,
          "reduced": true,
          "time": 864165888
         },
         {
          "n": 120,
          "reduced": true,
          "time": 863944704
         },
         {
          "n": 120,
          "reduced": true,
          "time": 864215040
         },
         {
          "n": 120,
          "reduced": true,
          "time": 863920128
         },
         {
          "n": 120,
          "reduced": true,
          "time": 864104448
         },
         {
          "n": 120,
          "reduced": true,
          "time": 863981568
         },
         {
          "n": 120,
          "reduced": true,
          "time": 863993856
         },
         {
          "n": 120,
          "reduced": true,
          "time": 864002048
         },
         {
          "n": 120,
          "reduced": true,
          "time": 864051200
         },
         {
          "n": 120,
          "reduced": true,
          "time": 864161792
         },
         {
          "n": 120,
          "reduced": true,
          "time": 864174080
         },
         {
          "n": 120,
          "reduced": true,
          "time": 863899648
         },
         {
          "n": 120,
          "reduced": true,
          "time": 864002048
         },
         {
          "n": 120,
          "reduced": true,
          "time": 864055296
         },
         {
          "n": 190,
          "reduced": false,
          "time": 3334320128
         },
         {
          "n": 190,
          "reduced": false,
          "time": 3334283264
         },
         {
          "n": 190,
          "reduced": false,
          "time": 3334049792
         },
         {
          "n": 190,
          "reduced": false,
          "time": 3334123520
         },
         {
          "n": 190,
          "reduced": false,
          "time": 3334258688
         },
         {
          "n": 190,
          "reduced": false,
          "time": 3334336512
         },
         {
          "n": 190,
          "reduced": false,
          "time": 3334303744
         },
         {
          "n": 190,
          "reduced": false,
          "time": 3334311936
         },
         {
          "n": 190,
          "reduced": false,
          "time": 3334197248
         },
         {
          "n": 190,
          "reduced": false,
          "time": 3334213632
         },
         {
          "n": 190,
          "reduced": false,
          "time": 3334246400
         },
         {
          "n": 190,
          "reduced": false,
          "time": 3334332416
         },
         {
          "n": 190,
          "reduced": false,
          "time": 3334447104
         },
         {
          "n": 190,
          "reduced": false,
          "time": 3334266880
         },
         {
          "n": 190,
          "reduced": false,
          "time": 3334221824
         },
         {
          "n": 190,
          "reduced": false,
          "time": 3334254592
         },
         {
          "n": 190,
          "reduced": false,
          "time": 3334246400
         },
         {
          "n": 190,
          "reduced": false,
          "time": 3334139904
         },
         {
          "n": 190,
          "reduced": false,
          "time": 3334070272
         },
         {
          "n": 190,
          "reduced": false,
          "time": 3334066176
         },
         {
          "n": 190,
          "reduced": false,
          "time": 3334324224
         },
         {
          "n": 190,
          "reduced": false,
          "time": 3334131712
         },
         {
          "n": 190,
          "reduced": false,
          "time": 3334418432
         },
         {
          "n": 190,
          "reduced": false,
          "time": 3334209536
         },
         {
          "n": 190,
          "reduced": false,
          "time": 3334172672
         },
         {
          "n": 190,
          "reduced": false,
          "time": 3334291456
         },
         {
          "n": 190,
          "reduced": false,
          "time": 3334250496
         },
         {
          "n": 190,
          "reduced": false,
          "time": 3334295552
         },
         {
          "n": 190,
          "reduced": false,
          "time": 3334291456
         },
         {
          "n": 190,
          "reduced": false,
          "time": 3334111232
         },
         {
          "n": 190,
          "reduced": false,
          "time": 3334209536
         },
         {
          "n": 190,
          "reduced": false,
          "time": 3334172672
         },
         {
          "n": 190,
          "reduced": false,
          "time": 3334184960
         },
         {
          "n": 190,
          "reduced": false,
          "time": 3334352896
         },
         {
          "n": 190,
          "reduced": false,
          "time": 3334062080
         },
         {
          "n": 190,
          "reduced": false,
          "time": 3334307840
         },
         {
          "n": 190,
          "reduced": false,
          "time": 3334291456
         },
         {
          "n": 190,
          "reduced": false,
          "time": 3334344704
         },
         {
          "n": 190,
          "reduced": false,
          "time": 3334164480
         },
         {
          "n": 190,
          "reduced": false,
          "time": 3334270976
         },
         {
          "n": 1,
          "reduced": true,
          "time": 34693120
         },
         {
          "n": 1,
          "reduced": true,
          "time": 34590720
         },
         {
          "n": 1,
          "reduced": true,
          "time": 34758656
         },
         {
          "n": 1,
          "reduced": true,
          "time": 34709504
         },
         {
          "n": 1,
          "reduced": true,
          "time": 34660352
         },
         {
          "n": 1,
          "reduced": true,
          "time": 34611200
         },
         {
          "n": 1,
          "reduced": true,
          "time": 34615296
         },
         {
          "n": 1,
          "reduced": true,
          "time": 34467840
         },
         {
          "n": 1,
          "reduced": true,
          "time": 34783232
         },
         {
          "n": 1,
          "reduced": true,
          "time": 34775040
         },
         {
          "n": 1,
          "reduced": true,
          "time": 34725888
         },
         {
          "n": 1,
          "reduced": true,
          "time": 34693120
         },
         {
          "n": 1,
          "reduced": true,
          "time": 34533376
         },
         {
          "n": 1,
          "reduced": true,
          "time": 34689024
         },
         {
          "n": 1,
          "reduced": true,
          "time": 34566144
         },
         {
          "n": 1,
          "reduced": true,
          "time": 34586624
         },
         {
          "n": 1,
          "reduced": true,
          "time": 34766848
         },
         {
          "n": 1,
          "reduced": true,
          "time": 34664448
         },
         {
          "n": 1,
          "reduced": true,
          "time": 34795520
         },
         {
          "n": 1,
          "reduced": true,
          "time": 34701312
         },
         {
          "n": 1,
          "reduced": true,
          "time": 34582528
         },
         {
          "n": 1,
          "reduced": true,
          "time": 34803712
         },
         {
          "n": 1,
          "reduced": true,
          "time": 34816000
         },
         {
          "n": 1,
          "reduced": true,
          "time": 34770944
         },
         {
          "n": 1,
          "reduced": true,
          "time": 34881536
         },
         {
          "n": 1,
          "reduced": true,
          "time": 34783232
         },
         {
          "n": 1,
          "reduced": true,
          "time": 34750464
         },
         {
          "n": 1,
          "reduced": true,
          "time": 34799616
         },
         {
          "n": 1,
          "reduced": true,
          "time": 34729984
         },
         {
          "n": 1,
          "reduced": true,
          "time": 34676736
         },
         {
          "n": 1,
          "reduced": true,
          "time": 34676736
         },
         {
          "n": 1,
          "reduced": true,
          "time": 34758656
         },
         {
          "n": 1,
          "reduced": true,
          "time": 34619392
         },
         {
          "n": 1,
          "reduced": true,
          "time": 34967552
         },
         {
          "n": 1,
          "reduced": true,
          "time": 34664448
         },
         {
          "n": 1,
          "reduced": true,
          "time": 34701312
         },
         {
          "n": 1,
          "reduced": true,
          "time": 34766848
         },
         {
          "n": 1,
          "reduced": true,
          "time": 34693120
         },
         {
          "n": 1,
          "reduced": true,
          "time": 34680832
         },
         {
          "n": 1,
          "reduced": true,
          "time": 34861056
         },
         {
          "n": 160,
          "reduced": true,
          "time": 2000650240
         },
         {
          "n": 160,
          "reduced": true,
          "time": 2000805888
         },
         {
          "n": 160,
          "reduced": true,
          "time": 2000613376
         },
         {
          "n": 160,
          "reduced": true,
          "time": 2000691200
         },
         {
          "n": 160,
          "reduced": true,
          "time": 2000732160
         },
         {
          "n": 160,
          "reduced": true,
          "time": 2000650240
         },
         {
          "n": 160,
          "reduced": true,
          "time": 2000695296
         },
         {
          "n": 160,
          "reduced": true,
          "time": 2000564224
         },
         {
          "n": 160,
          "reduced": true,
          "time": 2000670720
         },
         {
          "n": 160,
          "reduced": true,
          "time": 2000572416
         },
         {
          "n": 160,
          "reduced": true,
          "time": 2000711680
         },
         {
          "n": 160,
          "reduced": true,
          "time": 2000789504
         },
         {
          "n": 160,
          "reduced": true,
          "time": 2000633856
         },
         {
          "n": 160,
          "reduced": true,
          "time": 2000637952
         },
         {
          "n": 160,
          "reduced": true,
          "time": 2000572416
         },
         {
          "n": 160,
          "reduced": true,
          "time": 2000646144
         },
         {
          "n": 160,
          "reduced": true,
          "time": 2000707584
         },
         {
          "n": 160,
          "reduced": true,
          "time": 2000621568
         },
         {
          "n": 160,
          "reduced": true,
          "time": 2000666624
         },
         {
          "n": 160,
          "reduced": true,
          "time": 2000498688
         },
         {
          "n": 160,
          "reduced": true,
          "time": 2000601088
         },
         {
          "n": 160,
          "reduced": true,
          "time": 2000728064
         },
         {
          "n": 160,
          "reduced": true,
          "time": 2000764928
         },
         {
          "n": 160,
          "reduced": true,
          "time": 2000736256
         },
         {
          "n": 160,
          "reduced": true,
          "time": 2000691200
         },
         {
          "n": 160,
          "reduced": true,
          "time": 2000715776
         },
         {
          "n": 160,
          "reduced": true,
          "time": 2000674816
         },
         {
          "n": 160,
          "reduced": true,
          "time": 1997742080
         },
         {
          "n": 160,
          "reduced": true,
          "time": 2000617472
         },
         {
          "n": 160,
          "reduced": true,
          "time": 2000719872
         },
         {
          "n": 160,
          "reduced": true,
          "time": 2000707584
         },
         {
          "n": 160,
          "reduced": true,
          "time": 2000515072
         },
         {
          "n": 160,
          "reduced": true,
          "time": 2000654336
         },
         {
          "n": 160,
          "reduced": true,
          "time": 2000801792
         },
         {
          "n": 160,
          "reduced": true,
          "time": 2000629760
         },
         {
          "n": 160,
          "reduced": true,
          "time": 2000535552
         },
         {
          "n": 160,
          "reduced": true,
          "time": 2000490496
         },
         {
          "n": 160,
          "reduced": true,
          "time": 2000658432
         },
         {
          "n": 160,
          "reduced": true,
          "time": 2000658432
         },
         {
          "n": 160,
          "reduced": true,
          "time": 2000576512
         },
         {
          "n": 110,
          "reduced": false,
          "time": 675942400
         },
         {
          "n": 110,
          "reduced": false,
          "time": 676044800
         },
         {
          "n": 110,
          "reduced": false,
          "time": 675926016
         },
         {
          "n": 110,
          "reduced": false,
          "time": 676085760
         },
         {
          "n": 110,
          "reduced": false,
          "time": 676147200
         },
         {
          "n": 110,
          "reduced": false,
          "time": 675962880
         },
         {
          "n": 110,
          "reduced": false,
          "time": 675921920
         },
         {
          "n": 110,
          "reduced": false,
          "time": 676098048
         },
         {
          "n": 110,
          "reduced": false,
          "time": 675926016
         },
         {
          "n": 110,
          "reduced": false,
          "time": 676012032
         },
         {
          "n": 110,
          "reduced": false,
          "time": 676052992
         },
         {
          "n": 110,
          "reduced": false,
          "time": 675938304
         },
         {
          "n": 110,
          "reduced": false,
          "time": 675926016
         },
         {
          "n": 110,
          "reduced": false,
          "time": 675966976
         },
         {
          "n": 110,
          "reduced": false,
          "time": 676048896
         },
         {
          "n": 110,
          "reduced": false,
          "time": 676016128
         },
         {
          "n": 110,
          "reduced": false,
          "time": 676052992
         },
         {
          "n": 110,
          "reduced": false,
          "time": 675991552
         },
         {
          "n": 110,
          "reduced": false,
          "time": 675872768
         },
         {
          "n": 110,
          "reduced": false,
          "time": 675930112
         },
         {
          "n": 110,
          "reduced": false,
          "time": 675975168
         },
         {
          "n": 110,
          "reduced": false,
          "time": 676143104
         },
         {
          "n": 110,
          "reduced": false,
          "time": 675930112
         },
         {
          "n": 110,
          "reduced": false,
          "time": 675921920
         },
         {
          "n": 110,
          "reduced": false,
          "time": 676089856
         },
         {
          "n": 110,
          "reduced": false,
          "time": 676032512
         },
         {
          "n": 110,
          "reduced": false,
          "time": 675975168
         },
         {
          "n": 110,
          "reduced": false,
          "time": 676089856
         },
         {
          "n": 110,
          "reduced": false,
          "time": 676052992
         },
         {
          "n": 110,
          "reduced": false,
          "time": 675958784
         },
         {
          "n": 110,
          "reduced": false,
          "time": 675844096
         },
         {
          "n": 110,
          "reduced": false,
          "time": 675876864
         },
         {
          "n": 110,
          "reduced": false,
          "time": 675868672
         },
         {
          "n": 110,
          "reduced": false,
          "time": 676028416
         },
         {
          "n": 110,
          "reduced": false,
          "time": 675958784
         },
         {
          "n": 110,
          "reduced": false,
          "time": 675975168
         },
         {
          "n": 110,
          "reduced": false,
          "time": 676016128
         },
         {
          "n": 110,
          "reduced": false,
          "time": 675966976
         },
         {
          "n": 110,
          "reduced": false,
          "time": 675958784
         },
         {
          "n": 110,
          "reduced": false,
          "time": 676093952
         },
         {
          "n": 40,
          "reduced": true,
          "time": 65228800
         },
         {
          "n": 40,
          "reduced": true,
          "time": 65220608
         },
         {
          "n": 40,
          "reduced": true,
          "time": 65232896
         },
         {
          "n": 40,
          "reduced": true,
          "time": 65093632
         },
         {
          "n": 40,
          "reduced": true,
          "time": 65093632
         },
         {
          "n": 40,
          "reduced": true,
          "time": 65200128
         },
         {
          "n": 40,
          "reduced": true,
          "time": 65290240
         },
         {
          "n": 40,
          "reduced": true,
          "time": 65220608
         },
         {
          "n": 40,
          "reduced": true,
          "time": 65187840
         },
         {
          "n": 40,
          "reduced": true,
          "time": 65167360
         },
         {
          "n": 40,
          "reduced": true,
          "time": 65458176
         },
         {
          "n": 40,
          "reduced": true,
          "time": 65171456
         },
         {
          "n": 40,
          "reduced": true,
          "time": 65228800
         },
         {
          "n": 40,
          "reduced": true,
          "time": 65343488
         },
         {
          "n": 40,
          "reduced": true,
          "time": 65294336
         },
         {
          "n": 40,
          "reduced": true,
          "time": 65204224
         },
         {
          "n": 40,
          "reduced": true,
          "time": 65134592
         },
         {
          "n": 40,
          "reduced": true,
          "time": 65036288
         },
         {
          "n": 40,
          "reduced": true,
          "time": 65155072
         },
         {
          "n": 40,
          "reduced": true,
          "time": 65249280
         },
         {
          "n": 40,
          "reduced": true,
          "time": 65208320
         },
         {
          "n": 40,
          "reduced": true,
          "time": 65236992
         },
         {
          "n": 40,
          "reduced": true,
          "time": 65163264
         },
         {
          "n": 40,
          "reduced": true,
          "time": 65245184
         },
         {
          "n": 40,
          "reduced": true,
          "time": 65204224
         },
         {
          "n": 40,
          "reduced": true,
          "time": 65462272
         },
         {
          "n": 40,
          "reduced": true,
          "time": 65228800
         },
         {
          "n": 40,
          "reduced": true,
          "time": 65236992
         },
         {
          "n": 40,
          "reduced": true,
          "time": 65204224
         },
         {
          "n": 40,
          "reduced": true,
          "time": 65228800
         },
         {
          "n": 40,
          "reduced": true,
          "time": 65179648
         },
         {
          "n": 40,
          "reduced": true,
          "time": 65187840
         },
         {
          "n": 40,
          "reduced": true,
          "time": 65245184
         },
         {
          "n": 40,
          "reduced": true,
          "time": 65241088
         },
         {
          "n": 40,
          "reduced": true,
          "time": 65298432
         },
         {
          "n": 40,
          "reduced": true,
          "time": 65269760
         },
         {
          "n": 40,
          "reduced": true,
          "time": 65282048
         },
         {
          "n": 40,
          "reduced": true,
          "time": 65204224
         },
         {
          "n": 40,
          "reduced": true,
          "time": 65359872
         },
         {
          "n": 40,
          "reduced": true,
          "time": 65224704
         },
         {
          "n": 160,
          "reduced": false,
          "time": 2005934080
         },
         {
          "n": 160,
          "reduced": false,
          "time": 2005897216
         },
         {
          "n": 160,
          "reduced": false,
          "time": 2005905408
         },
         {
          "n": 160,
          "reduced": false,
          "time": 2005762048
         },
         {
          "n": 160,
          "reduced": false,
          "time": 2006106112
         },
         {
          "n": 160,
          "reduced": false,
          "time": 2005983232
         },
         {
          "n": 160,
          "reduced": false,
          "time": 2005975040
         },
         {
          "n": 160,
          "reduced": false,
          "time": 2005999616
         },
         {
          "n": 160,
          "reduced": false,
          "time": 2005979136
         },
         {
          "n": 160,
          "reduced": false,
          "time": 2006007808
         },
         {
          "n": 160,
          "reduced": false,
          "time": 2005860352
         },
         {
          "n": 160,
          "reduced": false,
          "time": 2005950464
         },
         {
          "n": 160,
          "reduced": false,
          "time": 2005876736
         },
         {
          "n": 160,
          "reduced": false,
          "time": 2005917696
         },
         {
          "n": 160,
          "reduced": false,
          "time": 2005823488
         },
         {
          "n": 160,
          "reduced": false,
          "time": 2005864448
         },
         {
          "n": 160,
          "reduced": false,
          "time": 2005966848
         },
         {
          "n": 160,
          "reduced": false,
          "time": 2006003712
         },
         {
          "n": 160,
          "reduced": false,
          "time": 2005704704
         },
         {
          "n": 160,
          "reduced": false,
          "time": 2005786624
         },
         {
          "n": 160,
          "reduced": false,
          "time": 2005921792
         },
         {
          "n": 160,
          "reduced": false,
          "time": 2005925888
         },
         {
          "n": 160,
          "reduced": false,
          "time": 2005864448
         },
         {
          "n": 160,
          "reduced": false,
          "time": 2005909504
         },
         {
          "n": 160,
          "reduced": false,
          "time": 2005782528
         },
         {
          "n": 160,
          "reduced": false,
          "time": 2005970944
         },
         {
          "n": 160,
          "reduced": false,
          "time": 2005958656
         },
         {
          "n": 160,
          "reduced": false,
          "time": 2005876736
         },
         {
          "n": 160,
          "reduced": false,
          "time": 2005991424
         },
         {
          "n": 160,
          "reduced": false,
          "time": 2005995520
         },
         {
          "n": 160,
          "reduced": false,
          "time": 2005880832
         },
         {
          "n": 160,
          "reduced": false,
          "time": 2005860352
         },
         {
          "n": 160,
          "reduced": false,
          "time": 2005995520
         },
         {
          "n": 160,
          "reduced": false,
          "time": 2005946368
         },
         {
          "n": 160,
          "reduced": false,
          "time": 2005934080
         },
         {
          "n": 160,
          "reduced": false,
          "time": 2005794816
         },
         {
          "n": 160,
          "reduced": false,
          "time": 2005790720
         },
         {
          "n": 160,
          "reduced": false,
          "time": 2005950464
         },
         {
          "n": 160,
          "reduced": false,
          "time": 2005925888
         },
         {
          "n": 160,
          "reduced": false,
          "time": 2005913600
         },
         {
          "n": 170,
          "reduced": true,
          "time": 2392809472
         },
         {
          "n": 170,
          "reduced": true,
          "time": 2392702976
         },
         {
          "n": 170,
          "reduced": true,
          "time": 2392821760
         },
         {
          "n": 170,
          "reduced": true,
          "time": 2392866816
         },
         {
          "n": 170,
          "reduced": true,
          "time": 2392821760
         },
         {
          "n": 170,
          "reduced": true,
          "time": 2392858624
         },
         {
          "n": 170,
          "reduced": true,
          "time": 2392850432
         },
         {
          "n": 170,
          "reduced": true,
          "time": 2393042944
         },
         {
          "n": 170,
          "reduced": true,
          "time": 2392940544
         },
         {
          "n": 170,
          "reduced": true,
          "time": 2392858624
         },
         {
          "n": 170,
          "reduced": true,
          "time": 2392764416
         },
         {
          "n": 170,
          "reduced": true,
          "time": 2392895488
         },
         {
          "n": 170,
          "reduced": true,
          "time": 2392956928
         },
         {
          "n": 170,
          "reduced": true,
          "time": 2392842240
         },
         {
          "n": 170,
          "reduced": true,
          "time": 2392694784
         },
         {
          "n": 170,
          "reduced": true,
          "time": 2392715264
         },
         {
          "n": 170,
          "reduced": true,
          "time": 2392707072
         },
         {
          "n": 170,
          "reduced": true,
          "time": 2392829952
         },
         {
          "n": 170,
          "reduced": true,
          "time": 2392715264
         },
         {
          "n": 170,
          "reduced": true,
          "time": 2393063424
         },
         {
          "n": 170,
          "reduced": true,
          "time": 2392727552
         },
         {
          "n": 170,
          "reduced": true,
          "time": 2392952832
         },
         {
          "n": 170,
          "reduced": true,
          "time": 2392813568
         },
         {
          "n": 170,
          "reduced": true,
          "time": 2392952832
         },
         {
          "n": 170,
          "reduced": true,
          "time": 2392670208
         },
         {
          "n": 170,
          "reduced": true,
          "time": 2392924160
         },
         {
          "n": 170,
          "reduced": true,
          "time": 2392662016
         },
         {
          "n": 170,
          "reduced": true,
          "time": 2393018368
         },
         {
          "n": 170,
          "reduced": true,
          "time": 2392801280
         },
         {
          "n": 170,
          "reduced": true,
          "time": 2392887296
         },
         {
          "n": 170,
          "reduced": true,
          "time": 2392752128
         },
         {
          "n": 170,
          "reduced": true,
          "time": 2392682496
         },
         {
          "n": 170,
          "reduced": true,
          "time": 2388791296
         },
         {
          "n": 170,
          "reduced": true,
          "time": 2383785984
         },
         {
          "n": 170,
          "reduced": true,
          "time": 2392645632
         },
         {
          "n": 170,
          "reduced": true,
          "time": 2386124800
         },
         {
          "n": 170,
          "reduced": true,
          "time": 2392850432
         },
         {
          "n": 170,
          "reduced": true,
          "time": 2392604672
         },
         {
          "n": 170,
          "reduced": true,
          "time": 2390315008
         },
         {
          "n": 170,
          "reduced": true,
          "time": 2392686592
         },
         {
          "n": 70,
          "reduced": false,
          "time": 200376320
         },
         {
          "n": 70,
          "reduced": false,
          "time": 200331264
         },
         {
          "n": 70,
          "reduced": false,
          "time": 200355840
         },
         {
          "n": 70,
          "reduced": false,
          "time": 200642560
         },
         {
          "n": 70,
          "reduced": false,
          "time": 200138752
         },
         {
          "n": 70,
          "reduced": false,
          "time": 200400896
         },
         {
          "n": 70,
          "reduced": false,
          "time": 200134656
         },
         {
          "n": 70,
          "reduced": false,
          "time": 200294400
         },
         {
          "n": 70,
          "reduced": false,
          "time": 200347648
         },
         {
          "n": 70,
          "reduced": false,
          "time": 200458240
         },
         {
          "n": 70,
          "reduced": false,
          "time": 200441856
         },
         {
          "n": 70,
          "reduced": false,
          "time": 200396800
         },
         {
          "n": 70,
          "reduced": false,
          "time": 200228864
         },
         {
          "n": 70,
          "reduced": false,
          "time": 200269824
         },
         {
          "n": 70,
          "reduced": false,
          "time": 200232960
         },
         {
          "n": 70,
          "reduced": false,
          "time": 200441856
         },
         {
          "n": 70,
          "reduced": false,
          "time": 200282112
         },
         {
          "n": 70,
          "reduced": false,
          "time": 200421376
         },
         {
          "n": 70,
          "reduced": false,
          "time": 200495104
         },
         {
          "n": 70,
          "reduced": false,
          "time": 200155136
         },
         {
          "n": 70,
          "reduced": false,
          "time": 200257536
         },
         {
          "n": 70,
          "reduced": false,
          "time": 200376320
         },
         {
          "n": 70,
          "reduced": false,
          "time": 200245248
         },
         {
          "n": 70,
          "reduced": false,
          "time": 200388608
         },
         {
          "n": 70,
          "reduced": false,
          "time": 200286208
         },
         {
          "n": 70,
          "reduced": false,
          "time": 200241152
         },
         {
          "n": 70,
          "reduced": false,
          "time": 200232960
         },
         {
          "n": 70,
          "reduced": false,
          "time": 200273920
         },
         {
          "n": 70,
          "reduced": false,
          "time": 200572928
         },
         {
          "n": 70,
          "reduced": false,
          "time": 200314880
         },
         {
          "n": 70,
          "reduced": false,
          "time": 200216576
         },
         {
          "n": 70,
          "reduced": false,
          "time": 200351744
         },
         {
          "n": 70,
          "reduced": false,
          "time": 200318976
         },
         {
          "n": 70,
          "reduced": false,
          "time": 200482816
         },
         {
          "n": 70,
          "reduced": false,
          "time": 200359936
         },
         {
          "n": 70,
          "reduced": false,
          "time": 200597504
         },
         {
          "n": 70,
          "reduced": false,
          "time": 200302592
         },
         {
          "n": 70,
          "reduced": false,
          "time": 200351744
         },
         {
          "n": 70,
          "reduced": false,
          "time": 200224768
         },
         {
          "n": 70,
          "reduced": false,
          "time": 200364032
         },
         {
          "n": 130,
          "reduced": true,
          "time": 1089245184
         },
         {
          "n": 130,
          "reduced": true,
          "time": 1089097728
         },
         {
          "n": 130,
          "reduced": true,
          "time": 1089142784
         },
         {
          "n": 130,
          "reduced": true,
          "time": 1088983040
         },
         {
          "n": 130,
          "reduced": true,
          "time": 1089032192
         },
         {
          "n": 130,
          "reduced": true,
          "time": 1089167360
         },
         {
          "n": 130,
          "reduced": true,
          "time": 1088970752
         },
         {
          "n": 130,
          "reduced": true,
          "time": 1089011712
         },
         {
          "n": 130,
          "reduced": true,
          "time": 1089015808
         },
         {
          "n": 130,
          "reduced": true,
          "time": 1089015808
         },
         {
          "n": 130,
          "reduced": true,
          "time": 1089110016
         },
         {
          "n": 130,
          "reduced": true,
          "time": 1089298432
         },
         {
          "n": 130,
          "reduced": true,
          "time": 1089249280
         },
         {
          "n": 130,
          "reduced": true,
          "time": 1089130496
         },
         {
          "n": 130,
          "reduced": true,
          "time": 1089015808
         },
         {
          "n": 130,
          "reduced": true,
          "time": 1089036288
         },
         {
          "n": 130,
          "reduced": true,
          "time": 1089101824
         },
         {
          "n": 130,
          "reduced": true,
          "time": 1089167360
         },
         {
          "n": 130,
          "reduced": true,
          "time": 1088999424
         },
         {
          "n": 130,
          "reduced": true,
          "time": 1089060864
         },
         {
          "n": 130,
          "reduced": true,
          "time": 1089060864
         },
         {
          "n": 130,
          "reduced": true,
          "time": 1089142784
         },
         {
          "n": 130,
          "reduced": true,
          "time": 1089163264
         },
         {
          "n": 130,
          "reduced": true,
          "time": 1089150976
         },
         {
          "n": 130,
          "reduced": true,
          "time": 1089073152
         },
         {
          "n": 130,
          "reduced": true,
          "time": 1089126400
         },
         {
          "n": 130,
          "reduced": true,
          "time": 1089175552
         },
         {
          "n": 130,
          "reduced": true,
          "time": 1089290240
         },
         {
          "n": 130,
          "reduced": true,
          "time": 1089163264
         },
         {
          "n": 130,
          "reduced": true,
          "time": 1088913408
         },
         {
          "n": 130,
          "reduced": true,
          "time": 1089060864
         },
         {
          "n": 130,
          "reduced": true,
          "time": 1089085440
         },
         {
          "n": 130,
          "reduced": true,
          "time": 1089040384
         },
         {
          "n": 130,
          "reduced": true,
          "time": 1089183744
         },
         {
          "n": 130,
          "reduced": true,
          "time": 1089138688
         },
         {
          "n": 130,
          "reduced": true,
          "time": 1089093632
         },
         {
          "n": 130,
          "reduced": true,
          "time": 1089056768
         },
         {
          "n": 130,
          "reduced": true,
          "time": 1089028096
         },
         {
          "n": 130,
          "reduced": true,
          "time": 1089150976
         },
         {
          "n": 130,
          "reduced": true,
          "time": 1089085440
         },
         {
          "n": 1,
          "reduced": false,
          "time": 34652160
         },
         {
          "n": 1,
          "reduced": false,
          "time": 34758656
         },
         {
          "n": 1,
          "reduced": false,
          "time": 34783232
         },
         {
          "n": 1,
          "reduced": false,
          "time": 34639872
         },
         {
          "n": 1,
          "reduced": false,
          "time": 34787328
         },
         {
          "n": 1,
          "reduced": false,
          "time": 34545664
         },
         {
          "n": 1,
          "reduced": false,
          "time": 34598912
         },
         {
          "n": 1,
          "reduced": false,
          "time": 34729984
         },
         {
          "n": 1,
          "reduced": false,
          "time": 34865152
         },
         {
          "n": 1,
          "reduced": false,
          "time": 34775040
         },
         {
          "n": 1,
          "reduced": false,
          "time": 34697216
         },
         {
          "n": 1,
          "reduced": false,
          "time": 34709504
         },
         {
          "n": 1,
          "reduced": false,
          "time": 34729984
         },
         {
          "n": 1,
          "reduced": false,
          "time": 34656256
         },
         {
          "n": 1,
          "reduced": false,
          "time": 34717696
         },
         {
          "n": 1,
          "reduced": false,
          "time": 34885632
         },
         {
          "n": 1,
          "reduced": false,
          "time": 34717696
         },
         {
          "n": 1,
          "reduced": false,
          "time": 34635776
         },
         {
          "n": 1,
          "reduced": false,
          "time": 34709504
         },
         {
          "n": 1,
          "reduced": false,
          "time": 34590720
         },
         {
          "n": 1,
          "reduced": false,
          "time": 34721792
         },
         {
          "n": 1,
          "reduced": false,
          "time": 34742272
         },
         {
          "n": 1,
          "reduced": false,
          "time": 34824192
         },
         {
          "n": 1,
          "reduced": false,
          "time": 34783232
         },
         {
          "n": 1,
          "reduced": false,
          "time": 34775040
         },
         {
          "n": 1,
          "reduced": false,
          "time": 34906112
         },
         {
          "n": 1,
          "reduced": false,
          "time": 34566144
         },
         {
          "n": 1,
          "reduced": false,
          "time": 34680832
         },
         {
          "n": 1,
          "reduced": false,
          "time": 34807808
         },
         {
          "n": 1,
          "reduced": false,
          "time": 34807808
         },
         {
          "n": 1,
          "reduced": false,
          "time": 34631680
         },
         {
          "n": 1,
          "reduced": false,
          "time": 34660352
         },
         {
          "n": 1,
          "reduced": false,
          "time": 34762752
         },
         {
          "n": 1,
          "reduced": false,
          "time": 34795520
         },
         {
          "n": 1,
          "reduced": false,
          "time": 34766848
         },
         {
          "n": 1,
          "reduced": false,
          "time": 34738176
         },
         {
          "n": 1,
          "reduced": false,
          "time": 34754560
         },
         {
          "n": 1,
          "reduced": false,
          "time": 34562048
         },
         {
          "n": 1,
          "reduced": false,
          "time": 34664448
         },
         {
          "n": 1,
          "reduced": false,
          "time": 34643968
         },
         {
          "n": 80,
          "reduced": false,
          "time": 281849856
         },
         {
          "n": 80,
          "reduced": false,
          "time": 281964544
         },
         {
          "n": 80,
          "reduced": false,
          "time": 281681920
         },
         {
          "n": 80,
          "reduced": false,
          "time": 281767936
         },
         {
          "n": 80,
          "reduced": false,
          "time": 281800704
         },
         {
          "n": 80,
          "reduced": false,
          "time": 281620480
         },
         {
          "n": 80,
          "reduced": false,
          "time": 281792512
         },
         {
          "n": 80,
          "reduced": false,
          "time": 281776128
         },
         {
          "n": 80,
          "reduced": false,
          "time": 281751552
         },
         {
          "n": 80,
          "reduced": false,
          "time": 281595904
         },
         {
          "n": 80,
          "reduced": false,
          "time": 281808896
         },
         {
          "n": 80,
          "reduced": false,
          "time": 281985024
         },
         {
          "n": 80,
          "reduced": false,
          "time": 281718784
         },
         {
          "n": 80,
          "reduced": false,
          "time": 281751552
         },
         {
          "n": 80,
          "reduced": false,
          "time": 281616384
         },
         {
          "n": 80,
          "reduced": false,
          "time": 281632768
         },
         {
          "n": 80,
          "reduced": false,
          "time": 282030080
         },
         {
          "n": 80,
          "reduced": false,
          "time": 281706496
         },
         {
          "n": 80,
          "reduced": false,
          "time": 281591808
         },
         {
          "n": 80,
          "reduced": false,
          "time": 281939968
         },
         {
          "n": 80,
          "reduced": false,
          "time": 281718784
         },
         {
          "n": 80,
          "reduced": false,
          "time": 281583616
         },
         {
          "n": 80,
          "reduced": false,
          "time": 281620480
         },
         {
          "n": 80,
          "reduced": false,
          "time": 281767936
         },
         {
          "n": 80,
          "reduced": false,
          "time": 281849856
         },
         {
          "n": 80,
          "reduced": false,
          "time": 281628672
         },
         {
          "n": 80,
          "reduced": false,
          "time": 281743360
         },
         {
          "n": 80,
          "reduced": false,
          "time": 281841664
         },
         {
          "n": 80,
          "reduced": false,
          "time": 281661440
         },
         {
          "n": 80,
          "reduced": false,
          "time": 281706496
         },
         {
          "n": 80,
          "reduced": false,
          "time": 281927680
         },
         {
          "n": 80,
          "reduced": false,
          "time": 281624576
         },
         {
          "n": 80,
          "reduced": false,
          "time": 281681920
         },
         {
          "n": 80,
          "reduced": false,
          "time": 281862144
         },
         {
          "n": 80,
          "reduced": false,
          "time": 281763840
         },
         {
          "n": 80,
          "reduced": false,
          "time": 281808896
         },
         {
          "n": 80,
          "reduced": false,
          "time": 281767936
         },
         {
          "n": 80,
          "reduced": false,
          "time": 281849856
         },
         {
          "n": 80,
          "reduced": false,
          "time": 281612288
         },
         {
          "n": 80,
          "reduced": false,
          "time": 281636864
         },
         {
          "n": 10,
          "reduced": true,
          "time": 34996224
         },
         {
          "n": 10,
          "reduced": true,
          "time": 34979840
         },
         {
          "n": 10,
          "reduced": true,
          "time": 35020800
         },
         {
          "n": 10,
          "reduced": true,
          "time": 34934784
         },
         {
          "n": 10,
          "reduced": true,
          "time": 35020800
         },
         {
          "n": 10,
          "reduced": true,
          "time": 35004416
         },
         {
          "n": 10,
          "reduced": true,
          "time": 34897920
         },
         {
          "n": 10,
          "reduced": true,
          "time": 35016704
         },
         {
          "n": 10,
          "reduced": true,
          "time": 34979840
         },
         {
          "n": 10,
          "reduced": true,
          "time": 35098624
         },
         {
          "n": 10,
          "reduced": true,
          "time": 35188736
         },
         {
          "n": 10,
          "reduced": true,
          "time": 35016704
         },
         {
          "n": 10,
          "reduced": true,
          "time": 34828288
         },
         {
          "n": 10,
          "reduced": true,
          "time": 34951168
         },
         {
          "n": 10,
          "reduced": true,
          "time": 35008512
         },
         {
          "n": 10,
          "reduced": true,
          "time": 34902016
         },
         {
          "n": 10,
          "reduced": true,
          "time": 34983936
         },
         {
          "n": 10,
          "reduced": true,
          "time": 35024896
         },
         {
          "n": 10,
          "reduced": true,
          "time": 34934784
         },
         {
          "n": 10,
          "reduced": true,
          "time": 35115008
         },
         {
          "n": 10,
          "reduced": true,
          "time": 35045376
         },
         {
          "n": 10,
          "reduced": true,
          "time": 34971648
         },
         {
          "n": 10,
          "reduced": true,
          "time": 35180544
         },
         {
          "n": 10,
          "reduced": true,
          "time": 34996224
         },
         {
          "n": 10,
          "reduced": true,
          "time": 35004416
         },
         {
          "n": 10,
          "reduced": true,
          "time": 34971648
         },
         {
          "n": 10,
          "reduced": true,
          "time": 34934784
         },
         {
          "n": 10,
          "reduced": true,
          "time": 34988032
         },
         {
          "n": 10,
          "reduced": true,
          "time": 35000320
         },
         {
          "n": 10,
          "reduced": true,
          "time": 34897920
         },
         {
          "n": 10,
          "reduced": true,
          "time": 35119104
         },
         {
          "n": 10,
          "reduced": true,
          "time": 35164160
         },
         {
          "n": 10,
          "reduced": true,
          "time": 34983936
         },
         {
          "n": 10,
          "reduced": true,
          "time": 35115008
         },
         {
          "n": 10,
          "reduced": true,
          "time": 34955264
         },
         {
          "n": 10,
          "reduced": true,
          "time": 35024896
         },
         {
          "n": 10,
          "reduced": true,
          "time": 34902016
         },
         {
          "n": 10,
          "reduced": true,
          "time": 34926592
         },
         {
          "n": 10,
          "reduced": true,
          "time": 34971648
         },
         {
          "n": 10,
          "reduced": true,
          "time": 35045376
         },
         {
          "n": 50,
          "reduced": true,
          "time": 94420992
         },
         {
          "n": 50,
          "reduced": true,
          "time": 94474240
         },
         {
          "n": 50,
          "reduced": true,
          "time": 94576640
         },
         {
          "n": 50,
          "reduced": true,
          "time": 94588928
         },
         {
          "n": 50,
          "reduced": true,
          "time": 94568448
         },
         {
          "n": 50,
          "reduced": true,
          "time": 94564352
         },
         {
          "n": 50,
          "reduced": true,
          "time": 94478336
         },
         {
          "n": 50,
          "reduced": true,
          "time": 94478336
         },
         {
          "n": 50,
          "reduced": true,
          "time": 94576640
         },
         {
          "n": 50,
          "reduced": true,
          "time": 94547968
         },
         {
          "n": 50,
          "reduced": true,
          "time": 94474240
         },
         {
          "n": 50,
          "reduced": true,
          "time": 94466048
         },
         {
          "n": 50,
          "reduced": true,
          "time": 94556160
         },
         {
          "n": 50,
          "reduced": true,
          "time": 94375936
         },
         {
          "n": 50,
          "reduced": true,
          "time": 94638080
         },
         {
          "n": 50,
          "reduced": true,
          "time": 94552064
         },
         {
          "n": 50,
          "reduced": true,
          "time": 94494720
         },
         {
          "n": 50,
          "reduced": true,
          "time": 94420992
         },
         {
          "n": 50,
          "reduced": true,
          "time": 94461952
         },
         {
          "n": 50,
          "reduced": true,
          "time": 94453760
         },
         {
          "n": 50,
          "reduced": true,
          "time": 94593024
         },
         {
          "n": 50,
          "reduced": true,
          "time": 94527488
         },
         {
          "n": 50,
          "reduced": true,
          "time": 94490624
         },
         {
          "n": 50,
          "reduced": true,
          "time": 94457856
         },
         {
          "n": 50,
          "reduced": true,
          "time": 94523392
         },
         {
          "n": 50,
          "reduced": true,
          "time": 94531584
         },
         {
          "n": 50,
          "reduced": true,
          "time": 94527488
         },
         {
          "n": 50,
          "reduced": true,
          "time": 94519296
         },
         {
          "n": 50,
          "reduced": true,
          "time": 94539776
         },
         {
          "n": 50,
          "reduced": true,
          "time": 94404608
         },
         {
          "n": 50,
          "reduced": true,
          "time": 94375936
         },
         {
          "n": 50,
          "reduced": true,
          "time": 94552064
         },
         {
          "n": 50,
          "reduced": true,
          "time": 94552064
         },
         {
          "n": 50,
          "reduced": true,
          "time": 94502912
         },
         {
          "n": 50,
          "reduced": true,
          "time": 94363648
         },
         {
          "n": 50,
          "reduced": true,
          "time": 94494720
         },
         {
          "n": 50,
          "reduced": true,
          "time": 94535680
         },
         {
          "n": 50,
          "reduced": true,
          "time": 94375936
         },
         {
          "n": 50,
          "reduced": true,
          "time": 94494720
         },
         {
          "n": 50,
          "reduced": true,
          "time": 94474240
         },
         {
          "n": 10,
          "reduced": false,
          "time": 35217408
         },
         {
          "n": 10,
          "reduced": false,
          "time": 35233792
         },
         {
          "n": 10,
          "reduced": false,
          "time": 35299328
         },
         {
          "n": 10,
          "reduced": false,
          "time": 35196928
         },
         {
          "n": 10,
          "reduced": false,
          "time": 35151872
         },
         {
          "n": 10,
          "reduced": false,
          "time": 35368960
         },
         {
          "n": 10,
          "reduced": false,
          "time": 35270656
         },
         {
          "n": 10,
          "reduced": false,
          "time": 35241984
         },
         {
          "n": 10,
          "reduced": false,
          "time": 35344384
         },
         {
          "n": 10,
          "reduced": false,
          "time": 35393536
         },
         {
          "n": 10,
          "reduced": false,
          "time": 35328000
         },
         {
          "n": 10,
          "reduced": false,
          "time": 35495936
         },
         {
          "n": 10,
          "reduced": false,
          "time": 35389440
         },
         {
          "n": 10,
          "reduced": false,
          "time": 35377152
         },
         {
          "n": 10,
          "reduced": false,
          "time": 35225600
         },
         {
          "n": 10,
          "reduced": false,
          "time": 35254272
         },
         {
          "n": 10,
          "reduced": false,
          "time": 35307520
         },
         {
          "n": 10,
          "reduced": false,
          "time": 35295232
         },
         {
          "n": 10,
          "reduced": false,
          "time": 35241984
         },
         {
          "n": 10,
          "reduced": false,
          "time": 35344384
         },
         {
          "n": 10,
          "reduced": false,
          "time": 35311616
         },
         {
          "n": 10,
          "reduced": false,
          "time": 35229696
         },
         {
          "n": 10,
          "reduced": false,
          "time": 35344384
         },
         {
          "n": 10,
          "reduced": false,
          "time": 35299328
         },
         {
          "n": 10,
          "reduced": false,
          "time": 35155968
         },
         {
          "n": 10,
          "reduced": false,
          "time": 35471360
         },
         {
          "n": 10,
          "reduced": false,
          "time": 35581952
         },
         {
          "n": 10,
          "reduced": false,
          "time": 35315712
         },
         {
          "n": 10,
          "reduced": false,
          "time": 35360768
         },
         {
          "n": 10,
          "reduced": false,
          "time": 35356672
         },
         {
          "n": 10,
          "reduced": false,
          "time": 35209216
         },
         {
          "n": 10,
          "reduced": false,
          "time": 35450880
         },
         {
          "n": 10,
          "reduced": false,
          "time": 35381248
         },
         {
          "n": 10,
          "reduced": false,
          "time": 35217408
         },
         {
          "n": 10,
          "reduced": false,
          "time": 35319808
         },
         {
          "n": 10,
          "reduced": false,
          "time": 35340288
         },
         {
          "n": 10,
          "reduced": false,
          "time": 35307520
         },
         {
          "n": 10,
          "reduced": false,
          "time": 35479552
         },
         {
          "n": 10,
          "reduced": false,
          "time": 35377152
         },
         {
          "n": 10,
          "reduced": false,
          "time": 35508224
         },
         {
          "n": 20,
          "reduced": true,
          "time": 38461440
         },
         {
          "n": 20,
          "reduced": true,
          "time": 38318080
         },
         {
          "n": 20,
          "reduced": true,
          "time": 38453248
         },
         {
          "n": 20,
          "reduced": true,
          "time": 38113280
         },
         {
          "n": 20,
          "reduced": true,
          "time": 38346752
         },
         {
          "n": 20,
          "reduced": true,
          "time": 38612992
         },
         {
          "n": 20,
          "reduced": true,
          "time": 38387712
         },
         {
          "n": 20,
          "reduced": true,
          "time": 38383616
         },
         {
          "n": 20,
          "reduced": true,
          "time": 38584320
         },
         {
          "n": 20,
          "reduced": true,
          "time": 38526976
         },
         {
          "n": 20,
          "reduced": true,
          "time": 38223872
         },
         {
          "n": 20,
          "reduced": true,
          "time": 38445056
         },
         {
          "n": 20,
          "reduced": true,
          "time": 38391808
         },
         {
          "n": 20,
          "reduced": true,
          "time": 38445056
         },
         {
          "n": 20,
          "reduced": true,
          "time": 38232064
         },
         {
          "n": 20,
          "reduced": true,
          "time": 38285312
         },
         {
          "n": 20,
          "reduced": true,
          "time": 38268928
         },
         {
          "n": 20,
          "reduced": true,
          "time": 38268928
         },
         {
          "n": 20,
          "reduced": true,
          "time": 38318080
         },
         {
          "n": 20,
          "reduced": true,
          "time": 38404096
         },
         {
          "n": 20,
          "reduced": true,
          "time": 38408192
         },
         {
          "n": 20,
          "reduced": true,
          "time": 38371328
         },
         {
          "n": 20,
          "reduced": true,
          "time": 38293504
         },
         {
          "n": 20,
          "reduced": true,
          "time": 38293504
         },
         {
          "n": 20,
          "reduced": true,
          "time": 38363136
         },
         {
          "n": 20,
          "reduced": true,
          "time": 38498304
         },
         {
          "n": 20,
          "reduced": true,
          "time": 38338560
         },
         {
          "n": 20,
          "reduced": true,
          "time": 38338560
         },
         {
          "n": 20,
          "reduced": true,
          "time": 38428672
         },
         {
          "n": 20,
          "reduced": true,
          "time": 38424576
         },
         {
          "n": 20,
          "reduced": true,
          "time": 38260736
         },
         {
          "n": 20,
          "reduced": true,
          "time": 38477824
         },
         {
          "n": 20,
          "reduced": true,
          "time": 38252544
         },
         {
          "n": 20,
          "reduced": true,
          "time": 38649856
         },
         {
          "n": 20,
          "reduced": true,
          "time": 38367232
         },
         {
          "n": 20,
          "reduced": true,
          "time": 38273024
         },
         {
          "n": 20,
          "reduced": true,
          "time": 38526976
         },
         {
          "n": 20,
          "reduced": true,
          "time": 38412288
         },
         {
          "n": 20,
          "reduced": true,
          "time": 38264832
         },
         {
          "n": 20,
          "reduced": true,
          "time": 38400000
         },
         {
          "n": 90,
          "reduced": false,
          "time": 386244608
         },
         {
          "n": 90,
          "reduced": false,
          "time": 386224128
         },
         {
          "n": 90,
          "reduced": false,
          "time": 386334720
         },
         {
          "n": 90,
          "reduced": false,
          "time": 386383872
         },
         {
          "n": 90,
          "reduced": false,
          "time": 386248704
         },
         {
          "n": 90,
          "reduced": false,
          "time": 386154496
         },
         {
          "n": 90,
          "reduced": false,
          "time": 386342912
         },
         {
          "n": 90,
          "reduced": false,
          "time": 386285568
         },
         {
          "n": 90,
          "reduced": false,
          "time": 386301952
         },
         {
          "n": 90,
          "reduced": false,
          "time": 386404352
         },
         {
          "n": 90,
          "reduced": false,
          "time": 386306048
         },
         {
          "n": 90,
          "reduced": false,
          "time": 386224128
         },
         {
          "n": 90,
          "reduced": false,
          "time": 386150400
         },
         {
          "n": 90,
          "reduced": false,
          "time": 386203648
         },
         {
          "n": 90,
          "reduced": false,
          "time": 386039808
         },
         {
          "n": 90,
          "reduced": false,
          "time": 386109440
         },
         {
          "n": 90,
          "reduced": false,
          "time": 386248704
         },
         {
          "n": 90,
          "reduced": false,
          "time": 386088960
         },
         {
          "n": 90,
          "reduced": false,
          "time": 386158592
         },
         {
          "n": 90,
          "reduced": false,
          "time": 386220032
         },
         {
          "n": 90,
          "reduced": false,
          "time": 386433024
         },
         {
          "n": 90,
          "reduced": false,
          "time": 386154496
         },
         {
          "n": 90,
          "reduced": false,
          "time": 386138112
         },
         {
          "n": 90,
          "reduced": false,
          "time": 386031616
         },
         {
          "n": 90,
          "reduced": false,
          "time": 386314240
         },
         {
          "n": 90,
          "reduced": false,
          "time": 386228224
         },
         {
          "n": 90,
          "reduced": false,
          "time": 386244608
         },
         {
          "n": 90,
          "reduced": false,
          "time": 386383872
         },
         {
          "n": 90,
          "reduced": false,
          "time": 386154496
         },
         {
          "n": 90,
          "reduced": false,
          "time": 386301952
         },
         {
          "n": 90,
          "reduced": false,
          "time": 386310144
         },
         {
          "n": 90,
          "reduced": false,
          "time": 386240512
         },
         {
          "n": 90,
          "reduced": false,
          "time": 386416640
         },
         {
          "n": 90,
          "reduced": false,
          "time": 386355200
         },
         {
          "n": 90,
          "reduced": false,
          "time": 386240512
         },
         {
          "n": 90,
          "reduced": false,
          "time": 386072576
         },
         {
          "n": 90,
          "reduced": false,
          "time": 386269184
         },
         {
          "n": 90,
          "reduced": false,
          "time": 386383872
         },
         {
          "n": 90,
          "reduced": false,
          "time": 386203648
         },
         {
          "n": 90,
          "reduced": false,
          "time": 386383872
         },
         {
          "n": 60,
          "reduced": true,
          "time": 138383360
         },
         {
          "n": 60,
          "reduced": true,
          "time": 138301440
         },
         {
          "n": 60,
          "reduced": true,
          "time": 138317824
         },
         {
          "n": 60,
          "reduced": true,
          "time": 138190848
         },
         {
          "n": 60,
          "reduced": true,
          "time": 138252288
         },
         {
          "n": 60,
          "reduced": true,
          "time": 138346496
         },
         {
          "n": 60,
          "reduced": true,
          "time": 138186752
         },
         {
          "n": 60,
          "reduced": true,
          "time": 138297344
         },
         {
          "n": 60,
          "reduced": true,
          "time": 138309632
         },
         {
          "n": 60,
          "reduced": true,
          "time": 138088448
         },
         {
          "n": 60,
          "reduced": true,
          "time": 138338304
         },
         {
          "n": 60,
          "reduced": true,
          "time": 138293248
         },
         {
          "n": 60,
          "reduced": true,
          "time": 138309632
         },
         {
          "n": 60,
          "reduced": true,
          "time": 138371072
         },
         {
          "n": 60,
          "reduced": true,
          "time": 138174464
         },
         {
          "n": 60,
          "reduced": true,
          "time": 138264576
         },
         {
          "n": 60,
          "reduced": true,
          "time": 138280960
         },
         {
          "n": 60,
          "reduced": true,
          "time": 138190848
         },
         {
          "n": 60,
          "reduced": true,
          "time": 138248192
         },
         {
          "n": 60,
          "reduced": true,
          "time": 138448896
         },
         {
          "n": 60,
          "reduced": true,
          "time": 138252288
         },
         {
          "n": 60,
          "reduced": true,
          "time": 138260480
         },
         {
          "n": 60,
          "reduced": true,
          "time": 138166272
         },
         {
          "n": 60,
          "reduced": true,
          "time": 138371072
         },
         {
          "n": 60,
          "reduced": true,
          "time": 138145792
         },
         {
          "n": 60,
          "reduced": true,
          "time": 138326016
         },
         {
          "n": 60,
          "reduced": true,
          "time": 138358784
         },
         {
          "n": 60,
          "reduced": true,
          "time": 138182656
         },
         {
          "n": 60,
          "reduced": true,
          "time": 138215424
         },
         {
          "n": 60,
          "reduced": true,
          "time": 138227712
         },
         {
          "n": 60,
          "reduced": true,
          "time": 138170368
         },
         {
          "n": 60,
          "reduced": true,
          "time": 138321920
         },
         {
          "n": 60,
          "reduced": true,
          "time": 138219520
         },
         {
          "n": 60,
          "reduced": true,
          "time": 138174464
         },
         {
          "n": 60,
          "reduced": true,
          "time": 138133504
         },
         {
          "n": 60,
          "reduced": true,
          "time": 138207232
         },
         {
          "n": 60,
          "reduced": true,
          "time": 138117120
         },
         {
          "n": 60,
          "reduced": true,
          "time": 138092544
         },
         {
          "n": 60,
          "reduced": true,
          "time": 138178560
         },
         {
          "n": 60,
          "reduced": true,
          "time": 138231808
         },
         {
          "n": 60,
          "reduced": false,
          "time": 139104256
         },
         {
          "n": 60,
          "reduced": false,
          "time": 139112448
         },
         {
          "n": 60,
          "reduced": false,
          "time": 139042816
         },
         {
          "n": 60,
          "reduced": false,
          "time": 139120640
         },
         {
          "n": 60,
          "reduced": false,
          "time": 139042816
         },
         {
          "n": 60,
          "reduced": false,
          "time": 139010048
         },
         {
          "n": 60,
          "reduced": false,
          "time": 138944512
         },
         {
          "n": 60,
          "reduced": false,
          "time": 139223040
         },
         {
          "n": 60,
          "reduced": false,
          "time": 138948608
         },
         {
          "n": 60,
          "reduced": false,
          "time": 139108352
         },
         {
          "n": 60,
          "reduced": false,
          "time": 139218944
         },
         {
          "n": 60,
          "reduced": false,
          "time": 139124736
         },
         {
          "n": 60,
          "reduced": false,
          "time": 139116544
         },
         {
          "n": 60,
          "reduced": false,
          "time": 139276288
         },
         {
          "n": 60,
          "reduced": false,
          "time": 139100160
         },
         {
          "n": 60,
          "reduced": false,
          "time": 138846208
         },
         {
          "n": 60,
          "reduced": false,
          "time": 139034624
         },
         {
          "n": 60,
          "reduced": false,
          "time": 138862592
         },
         {
          "n": 60,
          "reduced": false,
          "time": 139055104
         },
         {
          "n": 60,
          "reduced": false,
          "time": 139108352
         },
         {
          "n": 60,
          "reduced": false,
          "time": 139333632
         },
         {
          "n": 60,
          "reduced": false,
          "time": 138915840
         },
         {
          "n": 60,
          "reduced": false,
          "time": 139059200
         },
         {
          "n": 60,
          "reduced": false,
          "time": 139120640
         },
         {
          "n": 60,
          "reduced": false,
          "time": 139223040
         },
         {
          "n": 60,
          "reduced": false,
          "time": 139059200
         },
         {
          "n": 60,
          "reduced": false,
          "time": 139161600
         },
         {
          "n": 60,
          "reduced": false,
          "time": 139198464
         },
         {
          "n": 60,
          "reduced": false,
          "time": 139100160
         },
         {
          "n": 60,
          "reduced": false,
          "time": 139071488
         },
         {
          "n": 60,
          "reduced": false,
          "time": 139014144
         },
         {
          "n": 60,
          "reduced": false,
          "time": 138928128
         },
         {
          "n": 60,
          "reduced": false,
          "time": 139001856
         },
         {
          "n": 60,
          "reduced": false,
          "time": 139141120
         },
         {
          "n": 60,
          "reduced": false,
          "time": 139083776
         },
         {
          "n": 60,
          "reduced": false,
          "time": 138903552
         },
         {
          "n": 60,
          "reduced": false,
          "time": 139059200
         },
         {
          "n": 60,
          "reduced": false,
          "time": 139137024
         },
         {
          "n": 60,
          "reduced": false,
          "time": 139218944
         },
         {
          "n": 60,
          "reduced": false,
          "time": 139149312
         },
         {
          "n": 140,
          "reduced": true,
          "time": 1351544832
         },
         {
          "n": 140,
          "reduced": true,
          "time": 1351610368
         },
         {
          "n": 140,
          "reduced": true,
          "time": 1351671808
         },
         {
          "n": 140,
          "reduced": true,
          "time": 1351790592
         },
         {
          "n": 140,
          "reduced": true,
          "time": 1351757824
         },
         {
          "n": 140,
          "reduced": true,
          "time": 1351741440
         },
         {
          "n": 140,
          "reduced": true,
          "time": 1351639040
         },
         {
          "n": 140,
          "reduced": true,
          "time": 1351790592
         },
         {
          "n": 140,
          "reduced": true,
          "time": 1351610368
         },
         {
          "n": 140,
          "reduced": true,
          "time": 1351766016
         },
         {
          "n": 140,
          "reduced": true,
          "time": 1351639040
         },
         {
          "n": 140,
          "reduced": true,
          "time": 1351647232
         },
         {
          "n": 140,
          "reduced": true,
          "time": 1351806976
         },
         {
          "n": 140,
          "reduced": true,
          "time": 1351577600
         },
         {
          "n": 140,
          "reduced": true,
          "time": 1351794688
         },
         {
          "n": 140,
          "reduced": true,
          "time": 1351864320
         },
         {
          "n": 140,
          "reduced": true,
          "time": 1351684096
         },
         {
          "n": 140,
          "reduced": true,
          "time": 1351708672
         },
         {
          "n": 140,
          "reduced": true,
          "time": 1351716864
         },
         {
          "n": 140,
          "reduced": true,
          "time": 1351618560
         },
         {
          "n": 140,
          "reduced": true,
          "time": 1351663616
         },
         {
          "n": 140,
          "reduced": true,
          "time": 1351667712
         },
         {
          "n": 140,
          "reduced": true,
          "time": 1351585792
         },
         {
          "n": 140,
          "reduced": true,
          "time": 1351630848
         },
         {
          "n": 140,
          "reduced": true,
          "time": 1351626752
         },
         {
          "n": 140,
          "reduced": true,
          "time": 1351733248
         },
         {
          "n": 140,
          "reduced": true,
          "time": 1351675904
         },
         {
          "n": 140,
          "reduced": true,
          "time": 1351647232
         },
         {
          "n": 140,
          "reduced": true,
          "time": 1351684096
         },
         {
          "n": 140,
          "reduced": true,
          "time": 1351688192
         },
         {
          "n": 140,
          "reduced": true,
          "time": 1351507968
         },
         {
          "n": 140,
          "reduced": true,
          "time": 1351651328
         },
         {
          "n": 140,
          "reduced": true,
          "time": 1351729152
         },
         {
          "n": 140,
          "reduced": true,
          "time": 1351860224
         },
         {
          "n": 140,
          "reduced": true,
          "time": 1351737344
         },
         {
          "n": 140,
          "reduced": true,
          "time": 1351626752
         },
         {
          "n": 140,
          "reduced": true,
          "time": 1351602176
         },
         {
          "n": 140,
          "reduced": true,
          "time": 1351708672
         },
         {
          "n": 140,
          "reduced": true,
          "time": 1351712768
         },
         {
          "n": 140,
          "reduced": true,
          "time": 1351643136
         },
         {
          "n": 100,
          "reduced": true,
          "time": 514523136
         },
         {
          "n": 100,
          "reduced": true,
          "time": 514482176
         },
         {
          "n": 100,
          "reduced": true,
          "time": 514650112
         },
         {
          "n": 100,
          "reduced": true,
          "time": 514383872
         },
         {
          "n": 100,
          "reduced": true,
          "time": 514584576
         },
         {
          "n": 100,
          "reduced": true,
          "time": 514654208
         },
         {
          "n": 100,
          "reduced": true,
          "time": 514527232
         },
         {
          "n": 100,
          "reduced": true,
          "time": 514469888
         },
         {
          "n": 100,
          "reduced": true,
          "time": 514502656
         },
         {
          "n": 100,
          "reduced": true,
          "time": 514400256
         },
         {
          "n": 100,
          "reduced": true,
          "time": 514310144
         },
         {
          "n": 100,
          "reduced": true,
          "time": 514801664
         },
         {
          "n": 100,
          "reduced": true,
          "time": 514535424
         },
         {
          "n": 100,
          "reduced": true,
          "time": 514449408
         },
         {
          "n": 100,
          "reduced": true,
          "time": 514461696
         },
         {
          "n": 100,
          "reduced": true,
          "time": 514564096
         },
         {
          "n": 100,
          "reduced": true,
          "time": 514453504
         },
         {
          "n": 100,
          "reduced": true,
          "time": 514600960
         },
         {
          "n": 100,
          "reduced": true,
          "time": 514449408
         },
         {
          "n": 100,
          "reduced": true,
          "time": 514625536
         },
         {
          "n": 100,
          "reduced": true,
          "time": 514576384
         },
         {
          "n": 100,
          "reduced": true,
          "time": 514494464
         },
         {
          "n": 100,
          "reduced": true,
          "time": 514732032
         },
         {
          "n": 100,
          "reduced": true,
          "time": 514715648
         },
         {
          "n": 100,
          "reduced": true,
          "time": 514482176
         },
         {
          "n": 100,
          "reduced": true,
          "time": 514490368
         },
         {
          "n": 100,
          "reduced": true,
          "time": 514539520
         },
         {
          "n": 100,
          "reduced": true,
          "time": 514510848
         },
         {
          "n": 100,
          "reduced": true,
          "time": 514588672
         },
         {
          "n": 100,
          "reduced": true,
          "time": 514461696
         },
         {
          "n": 100,
          "reduced": true,
          "time": 514596864
         },
         {
          "n": 100,
          "reduced": true,
          "time": 514326528
         },
         {
          "n": 100,
          "reduced": true,
          "time": 514752512
         },
         {
          "n": 100,
          "reduced": true,
          "time": 514523136
         },
         {
          "n": 100,
          "reduced": true,
          "time": 514523136
         },
         {
          "n": 100,
          "reduced": true,
          "time": 514494464
         },
         {
          "n": 100,
          "reduced": true,
          "time": 514465792
         },
         {
          "n": 100,
          "reduced": true,
          "time": 514494464
         },
         {
          "n": 100,
          "reduced": true,
          "time": 514461696
         },
         {
          "n": 100,
          "reduced": true,
          "time": 514711552
         },
         {
          "n": 40,
          "reduced": false,
          "time": 65544192
         },
         {
          "n": 40,
          "reduced": false,
          "time": 65658880
         },
         {
          "n": 40,
          "reduced": false,
          "time": 65593344
         },
         {
          "n": 40,
          "reduced": false,
          "time": 65556480
         },
         {
          "n": 40,
          "reduced": false,
          "time": 65724416
         },
         {
          "n": 40,
          "reduced": false,
          "time": 65855488
         },
         {
          "n": 40,
          "reduced": false,
          "time": 65687552
         },
         {
          "n": 40,
          "reduced": false,
          "time": 65822720
         },
         {
          "n": 40,
          "reduced": false,
          "time": 65662976
         },
         {
          "n": 40,
          "reduced": false,
          "time": 65687552
         },
         {
          "n": 40,
          "reduced": false,
          "time": 65773568
         },
         {
          "n": 40,
          "reduced": false,
          "time": 65757184
         },
         {
          "n": 40,
          "reduced": false,
          "time": 65585152
         },
         {
          "n": 40,
          "reduced": false,
          "time": 65724416
         },
         {
          "n": 40,
          "reduced": false,
          "time": 65531904
         },
         {
          "n": 40,
          "reduced": false,
          "time": 65560576
         },
         {
          "n": 40,
          "reduced": false,
          "time": 65654784
         },
         {
          "n": 40,
          "reduced": false,
          "time": 65683456
         },
         {
          "n": 40,
          "reduced": false,
          "time": 65683456
         },
         {
          "n": 40,
          "reduced": false,
          "time": 65777664
         },
         {
          "n": 40,
          "reduced": false,
          "time": 65593344
         },
         {
          "n": 40,
          "reduced": false,
          "time": 65642496
         },
         {
          "n": 40,
          "reduced": false,
          "time": 65605632
         },
         {
          "n": 40,
          "reduced": false,
          "time": 65654784
         },
         {
          "n": 40,
          "reduced": false,
          "time": 65667072
         },
         {
          "n": 40,
          "reduced": false,
          "time": 65765376
         },
         {
          "n": 40,
          "reduced": false,
          "time": 65757184
         },
         {
          "n": 40,
          "reduced": false,
          "time": 65605632
         },
         {
          "n": 40,
          "reduced": false,
          "time": 65822720
         },
         {
          "n": 40,
          "reduced": false,
          "time": 65548288
         },
         {
          "n": 40,
          "reduced": false,
          "time": 65519616
         },
         {
          "n": 40,
          "reduced": false,
          "time": 65585152
         },
         {
          "n": 40,
          "reduced": false,
          "time": 65654784
         },
         {
          "n": 40,
          "reduced": false,
          "time": 65724416
         },
         {
          "n": 40,
          "reduced": false,
          "time": 65880064
         },
         {
          "n": 40,
          "reduced": false,
          "time": 65687552
         },
         {
          "n": 40,
          "reduced": false,
          "time": 65789952
         },
         {
          "n": 40,
          "reduced": false,
          "time": 65597440
         },
         {
          "n": 40,
          "reduced": false,
          "time": 65732608
         },
         {
          "n": 40,
          "reduced": false,
          "time": 65785856
         },
         {
          "n": 30,
          "reduced": false,
          "time": 47833088
         },
         {
          "n": 30,
          "reduced": false,
          "time": 47812608
         },
         {
          "n": 30,
          "reduced": false,
          "time": 47992832
         },
         {
          "n": 30,
          "reduced": false,
          "time": 47755264
         },
         {
          "n": 30,
          "reduced": false,
          "time": 47763456
         },
         {
          "n": 30,
          "reduced": false,
          "time": 47972352
         },
         {
          "n": 30,
          "reduced": false,
          "time": 47820800
         },
         {
          "n": 30,
          "reduced": false,
          "time": 47808512
         },
         {
          "n": 30,
          "reduced": false,
          "time": 47841280
         },
         {
          "n": 30,
          "reduced": false,
          "time": 47833088
         },
         {
          "n": 30,
          "reduced": false,
          "time": 47714304
         },
         {
          "n": 30,
          "reduced": false,
          "time": 47939584
         },
         {
          "n": 30,
          "reduced": false,
          "time": 47845376
         },
         {
          "n": 30,
          "reduced": false,
          "time": 47853568
         },
         {
          "n": 30,
          "reduced": false,
          "time": 47529984
         },
         {
          "n": 30,
          "reduced": false,
          "time": 47808512
         },
         {
          "n": 30,
          "reduced": false,
          "time": 47550464
         },
         {
          "n": 30,
          "reduced": false,
          "time": 47730688
         },
         {
          "n": 30,
          "reduced": false,
          "time": 47767552
         },
         {
          "n": 30,
          "reduced": false,
          "time": 47689728
         },
         {
          "n": 30,
          "reduced": false,
          "time": 47669248
         },
         {
          "n": 30,
          "reduced": false,
          "time": 47640576
         },
         {
          "n": 30,
          "reduced": false,
          "time": 47759360
         },
         {
          "n": 30,
          "reduced": false,
          "time": 47816704
         },
         {
          "n": 30,
          "reduced": false,
          "time": 47628288
         },
         {
          "n": 30,
          "reduced": false,
          "time": 47853568
         },
         {
          "n": 30,
          "reduced": false,
          "time": 47861760
         },
         {
          "n": 30,
          "reduced": false,
          "time": 47702016
         },
         {
          "n": 30,
          "reduced": false,
          "time": 47853568
         },
         {
          "n": 30,
          "reduced": false,
          "time": 47681536
         },
         {
          "n": 30,
          "reduced": false,
          "time": 47865856
         },
         {
          "n": 30,
          "reduced": false,
          "time": 48021504
         },
         {
          "n": 30,
          "reduced": false,
          "time": 47792128
         },
         {
          "n": 30,
          "reduced": false,
          "time": 47865856
         },
         {
          "n": 30,
          "reduced": false,
          "time": 47865856
         },
         {
          "n": 30,
          "reduced": false,
          "time": 47718400
         },
         {
          "n": 30,
          "reduced": false,
          "time": 47710208
         },
         {
          "n": 30,
          "reduced": false,
          "time": 47726592
         },
         {
          "n": 30,
          "reduced": false,
          "time": 47935488
         },
         {
          "n": 30,
          "reduced": false,
          "time": 48066560
         },
         {
          "n": 80,
          "reduced": true,
          "time": 280383488
         },
         {
          "n": 80,
          "reduced": true,
          "time": 280444928
         },
         {
          "n": 80,
          "reduced": true,
          "time": 280403968
         },
         {
          "n": 80,
          "reduced": true,
          "time": 280461312
         },
         {
          "n": 80,
          "reduced": true,
          "time": 280502272
         },
         {
          "n": 80,
          "reduced": true,
          "time": 280408064
         },
         {
          "n": 80,
          "reduced": true,
          "time": 280399872
         },
         {
          "n": 80,
          "reduced": true,
          "time": 280350720
         },
         {
          "n": 80,
          "reduced": true,
          "time": 280666112
         },
         {
          "n": 80,
          "reduced": true,
          "time": 280457216
         },
         {
          "n": 80,
          "reduced": true,
          "time": 280485888
         },
         {
          "n": 80,
          "reduced": true,
          "time": 280121344
         },
         {
          "n": 80,
          "reduced": true,
          "time": 280477696
         },
         {
          "n": 80,
          "reduced": true,
          "time": 280346624
         },
         {
          "n": 80,
          "reduced": true,
          "time": 280317952
         },
         {
          "n": 80,
          "reduced": true,
          "time": 280285184
         },
         {
          "n": 80,
          "reduced": true,
          "time": 280375296
         },
         {
          "n": 80,
          "reduced": true,
          "time": 280326144
         },
         {
          "n": 80,
          "reduced": true,
          "time": 280289280
         },
         {
          "n": 80,
          "reduced": true,
          "time": 280358912
         },
         {
          "n": 80,
          "reduced": true,
          "time": 280162304
         },
         {
          "n": 80,
          "reduced": true,
          "time": 280461312
         },
         {
          "n": 80,
          "reduced": true,
          "time": 280473600
         },
         {
          "n": 80,
          "reduced": true,
          "time": 280567808
         },
         {
          "n": 80,
          "reduced": true,
          "time": 280395776
         },
         {
          "n": 80,
          "reduced": true,
          "time": 280342528
         },
         {
          "n": 80,
          "reduced": true,
          "time": 280469504
         },
         {
          "n": 80,
          "reduced": true,
          "time": 280403968
         },
         {
          "n": 80,
          "reduced": true,
          "time": 280203264
         },
         {
          "n": 80,
          "reduced": true,
          "time": 280477696
         },
         {
          "n": 80,
          "reduced": true,
          "time": 280535040
         },
         {
          "n": 80,
          "reduced": true,
          "time": 280489984
         },
         {
          "n": 80,
          "reduced": true,
          "time": 280457216
         },
         {
          "n": 80,
          "reduced": true,
          "time": 280449024
         },
         {
          "n": 80,
          "reduced": true,
          "time": 280322048
         },
         {
          "n": 80,
          "reduced": true,
          "time": 280481792
         },
         {
          "n": 80,
          "reduced": true,
          "time": 280354816
         },
         {
          "n": 80,
          "reduced": true,
          "time": 280317952
         },
         {
          "n": 80,
          "reduced": true,
          "time": 280424448
         },
         {
          "n": 80,
          "reduced": true,
          "time": 280174592
         },
         {
          "n": 20,
          "reduced": false,
          "time": 38666240
         },
         {
          "n": 20,
          "reduced": false,
          "time": 38440960
         },
         {
          "n": 20,
          "reduced": false,
          "time": 38883328
         },
         {
          "n": 20,
          "reduced": false,
          "time": 38445056
         },
         {
          "n": 20,
          "reduced": false,
          "time": 38477824
         },
         {
          "n": 20,
          "reduced": false,
          "time": 38584320
         },
         {
          "n": 20,
          "reduced": false,
          "time": 38682624
         },
         {
          "n": 20,
          "reduced": false,
          "time": 38502400
         },
         {
          "n": 20,
          "reduced": false,
          "time": 38653952
         },
         {
          "n": 20,
          "reduced": false,
          "time": 38531072
         },
         {
          "n": 20,
          "reduced": false,
          "time": 38498304
         },
         {
          "n": 20,
          "reduced": false,
          "time": 38379520
         },
         {
          "n": 20,
          "reduced": false,
          "time": 38674432
         },
         {
          "n": 20,
          "reduced": false,
          "time": 38576128
         },
         {
          "n": 20,
          "reduced": false,
          "time": 38465536
         },
         {
          "n": 20,
          "reduced": false,
          "time": 38506496
         },
         {
          "n": 20,
          "reduced": false,
          "time": 38453248
         },
         {
          "n": 20,
          "reduced": false,
          "time": 38633472
         },
         {
          "n": 20,
          "reduced": false,
          "time": 38707200
         },
         {
          "n": 20,
          "reduced": false,
          "time": 38612992
         },
         {
          "n": 20,
          "reduced": false,
          "time": 38703104
         },
         {
          "n": 20,
          "reduced": false,
          "time": 38617088
         },
         {
          "n": 20,
          "reduced": false,
          "time": 38703104
         },
         {
          "n": 20,
          "reduced": false,
          "time": 38703104
         },
         {
          "n": 20,
          "reduced": false,
          "time": 38629376
         },
         {
          "n": 20,
          "reduced": false,
          "time": 38633472
         },
         {
          "n": 20,
          "reduced": false,
          "time": 38604800
         },
         {
          "n": 20,
          "reduced": false,
          "time": 38629376
         },
         {
          "n": 20,
          "reduced": false,
          "time": 38502400
         },
         {
          "n": 20,
          "reduced": false,
          "time": 38506496
         },
         {
          "n": 20,
          "reduced": false,
          "time": 38559744
         },
         {
          "n": 20,
          "reduced": false,
          "time": 38604800
         },
         {
          "n": 20,
          "reduced": false,
          "time": 38666240
         },
         {
          "n": 20,
          "reduced": false,
          "time": 38617088
         },
         {
          "n": 20,
          "reduced": false,
          "time": 38563840
         },
         {
          "n": 20,
          "reduced": false,
          "time": 38559744
         },
         {
          "n": 20,
          "reduced": false,
          "time": 38760448
         },
         {
          "n": 20,
          "reduced": false,
          "time": 38772736
         },
         {
          "n": 20,
          "reduced": false,
          "time": 38449152
         },
         {
          "n": 20,
          "reduced": false,
          "time": 38514688
         },
         {
          "n": 200,
          "reduced": true,
          "time": 3874217984
         },
         {
          "n": 200,
          "reduced": true,
          "time": 3874516992
         },
         {
          "n": 200,
          "reduced": true,
          "time": 3874607104
         },
         {
          "n": 200,
          "reduced": true,
          "time": 3874619392
         },
         {
          "n": 200,
          "reduced": true,
          "time": 3874557952
         },
         {
          "n": 200,
          "reduced": true,
          "time": 3873873920
         },
         {
          "n": 200,
          "reduced": true,
          "time": 3874529280
         },
         {
          "n": 200,
          "reduced": true,
          "time": 3874496512
         },
         {
          "n": 200,
          "reduced": true,
          "time": 3874410496
         },
         {
          "n": 200,
          "reduced": true,
          "time": 3874598912
         },
         {
          "n": 200,
          "reduced": true,
          "time": 3874480128
         },
         {
          "n": 200,
          "reduced": true,
          "time": 3873021952
         },
         {
          "n": 200,
          "reduced": true,
          "time": 3874512896
         },
         {
          "n": 200,
          "reduced": true,
          "time": 3874447360
         },
         {
          "n": 200,
          "reduced": true,
          "time": 3874594816
         },
         {
          "n": 200,
          "reduced": true,
          "time": 3874516992
         },
         {
          "n": 200,
          "reduced": true,
          "time": 3874557952
         },
         {
          "n": 200,
          "reduced": true,
          "time": 3864375296
         },
         {
          "n": 200,
          "reduced": true,
          "time": 3874541568
         },
         {
          "n": 200,
          "reduced": true,
          "time": 3874516992
         },
         {
          "n": 200,
          "reduced": true,
          "time": 3874435072
         },
         {
          "n": 200,
          "reduced": true,
          "time": 3874443264
         },
         {
          "n": 200,
          "reduced": true,
          "time": 3874545664
         },
         {
          "n": 200,
          "reduced": true,
          "time": 3874508800
         },
         {
          "n": 200,
          "reduced": true,
          "time": 3874496512
         },
         {
          "n": 200,
          "reduced": true,
          "time": 3874512896
         },
         {
          "n": 200,
          "reduced": true,
          "time": 3874410496
         },
         {
          "n": 200,
          "reduced": true,
          "time": 3874443264
         },
         {
          "n": 200,
          "reduced": true,
          "time": 3874369536
         },
         {
          "n": 200,
          "reduced": true,
          "time": 3874451456
         },
         {
          "n": 200,
          "reduced": true,
          "time": 3874451456
         },
         {
          "n": 200,
          "reduced": true,
          "time": 3874533376
         },
         {
          "n": 200,
          "reduced": true,
          "time": 3874504704
         },
         {
          "n": 200,
          "reduced": true,
          "time": 3874459648
         },
         {
          "n": 200,
          "reduced": true,
          "time": 3874430976
         },
         {
          "n": 200,
          "reduced": true,
          "time": 3874545664
         },
         {
          "n": 200,
          "reduced": true,
          "time": 3874426880
         },
         {
          "n": 200,
          "reduced": true,
          "time": 3874611200
         },
         {
          "n": 200,
          "reduced": true,
          "time": 3874398208
         },
         {
          "n": 200,
          "reduced": true,
          "time": 3873886208
         },
         {
          "n": 190,
          "reduced": true,
          "time": 3326951424
         },
         {
          "n": 190,
          "reduced": true,
          "time": 3326992384
         },
         {
          "n": 190,
          "reduced": true,
          "time": 3326902272
         },
         {
          "n": 190,
          "reduced": true,
          "time": 3327074304
         },
         {
          "n": 190,
          "reduced": true,
          "time": 3326963712
         },
         {
          "n": 190,
          "reduced": true,
          "time": 3326877696
         },
         {
          "n": 190,
          "reduced": true,
          "time": 3326906368
         },
         {
          "n": 190,
          "reduced": true,
          "time": 3326930944
         },
         {
          "n": 190,
          "reduced": true,
          "time": 3326849024
         },
         {
          "n": 190,
          "reduced": true,
          "time": 3326976000
         },
         {
          "n": 190,
          "reduced": true,
          "time": 3326935040
         },
         {
          "n": 190,
          "reduced": true,
          "time": 3326951424
         },
         {
          "n": 190,
          "reduced": true,
          "time": 3326857216
         },
         {
          "n": 190,
          "reduced": true,
          "time": 3326767104
         },
         {
          "n": 190,
          "reduced": true,
          "time": 3326705664
         },
         {
          "n": 190,
          "reduced": true,
          "time": 3326898176
         },
         {
          "n": 190,
          "reduced": true,
          "time": 3327139840
         },
         {
          "n": 190,
          "reduced": true,
          "time": 3326976000
         },
         {
          "n": 190,
          "reduced": true,
          "time": 3326861312
         },
         {
          "n": 190,
          "reduced": true,
          "time": 3326980096
         },
         {
          "n": 190,
          "reduced": true,
          "time": 3327119360
         },
         {
          "n": 190,
          "reduced": true,
          "time": 3326955520
         },
         {
          "n": 190,
          "reduced": true,
          "time": 3326857216
         },
         {
          "n": 190,
          "reduced": true,
          "time": 3326844928
         },
         {
          "n": 190,
          "reduced": true,
          "time": 3326963712
         },
         {
          "n": 190,
          "reduced": true,
          "time": 3326873600
         },
         {
          "n": 190,
          "reduced": true,
          "time": 3327123456
         },
         {
          "n": 190,
          "reduced": true,
          "time": 3326902272
         },
         {
          "n": 190,
          "reduced": true,
          "time": 3326726144
         },
         {
          "n": 190,
          "reduced": true,
          "time": 3326836736
         },
         {
          "n": 190,
          "reduced": true,
          "time": 3327000576
         },
         {
          "n": 190,
          "reduced": true,
          "time": 3306582016
         },
         {
          "n": 190,
          "reduced": true,
          "time": 3326943232
         },
         {
          "n": 190,
          "reduced": true,
          "time": 3326734336
         },
         {
          "n": 190,
          "reduced": true,
          "time": 3326914560
         },
         {
          "n": 190,
          "reduced": true,
          "time": 3326820352
         },
         {
          "n": 190,
          "reduced": true,
          "time": 3327107072
         },
         {
          "n": 190,
          "reduced": true,
          "time": 3326816256
         },
         {
          "n": 190,
          "reduced": true,
          "time": 3326992384
         },
         {
          "n": 190,
          "reduced": true,
          "time": 3326849024
         },
         {
          "n": 50,
          "reduced": false,
          "time": 95215616
         },
         {
          "n": 50,
          "reduced": false,
          "time": 95150080
         },
         {
          "n": 50,
          "reduced": false,
          "time": 95076352
         },
         {
          "n": 50,
          "reduced": false,
          "time": 95129600
         },
         {
          "n": 50,
          "reduced": false,
          "time": 95178752
         },
         {
          "n": 50,
          "reduced": false,
          "time": 95207424
         },
         {
          "n": 50,
          "reduced": false,
          "time": 95363072
         },
         {
          "n": 50,
          "reduced": false,
          "time": 95318016
         },
         {
          "n": 50,
          "reduced": false,
          "time": 95227904
         },
         {
          "n": 50,
          "reduced": false,
          "time": 95035392
         },
         {
          "n": 50,
          "reduced": false,
          "time": 95129600
         },
         {
          "n": 50,
          "reduced": false,
          "time": 95088640
         },
         {
          "n": 50,
          "reduced": false,
          "time": 95182848
         },
         {
          "n": 50,
          "reduced": false,
          "time": 95195136
         },
         {
          "n": 50,
          "reduced": false,
          "time": 95178752
         },
         {
          "n": 50,
          "reduced": false,
          "time": 95215616
         },
         {
          "n": 50,
          "reduced": false,
          "time": 95248384
         },
         {
          "n": 50,
          "reduced": false,
          "time": 95162368
         },
         {
          "n": 50,
          "reduced": false,
          "time": 95150080
         },
         {
          "n": 50,
          "reduced": false,
          "time": 95113216
         },
         {
          "n": 50,
          "reduced": false,
          "time": 95068160
         },
         {
          "n": 50,
          "reduced": false,
          "time": 95191040
         },
         {
          "n": 50,
          "reduced": false,
          "time": 95178752
         },
         {
          "n": 50,
          "reduced": false,
          "time": 95256576
         },
         {
          "n": 50,
          "reduced": false,
          "time": 95232000
         },
         {
          "n": 50,
          "reduced": false,
          "time": 95096832
         },
         {
          "n": 50,
          "reduced": false,
          "time": 95055872
         },
         {
          "n": 50,
          "reduced": false,
          "time": 95256576
         },
         {
          "n": 50,
          "reduced": false,
          "time": 95150080
         },
         {
          "n": 50,
          "reduced": false,
          "time": 95080448
         },
         {
          "n": 50,
          "reduced": false,
          "time": 95416320
         },
         {
          "n": 50,
          "reduced": false,
          "time": 95289344
         },
         {
          "n": 50,
          "reduced": false,
          "time": 95141888
         },
         {
          "n": 50,
          "reduced": false,
          "time": 95113216
         },
         {
          "n": 50,
          "reduced": false,
          "time": 95260672
         },
         {
          "n": 50,
          "reduced": false,
          "time": 95174656
         },
         {
          "n": 50,
          "reduced": false,
          "time": 95170560
         },
         {
          "n": 50,
          "reduced": false,
          "time": 95182848
         },
         {
          "n": 50,
          "reduced": false,
          "time": 95346688
         },
         {
          "n": 50,
          "reduced": false,
          "time": 95092736
         },
         {
          "n": 200,
          "reduced": false,
          "time": 3882741760
         },
         {
          "n": 200,
          "reduced": false,
          "time": 3882737664
         },
         {
          "n": 200,
          "reduced": false,
          "time": 3882508288
         },
         {
          "n": 200,
          "reduced": false,
          "time": 3882807296
         },
         {
          "n": 200,
          "reduced": false,
          "time": 3882713088
         },
         {
          "n": 200,
          "reduced": false,
          "time": 3882930176
         },
         {
          "n": 200,
          "reduced": false,
          "time": 3882672128
         },
         {
          "n": 200,
          "reduced": false,
          "time": 3882606592
         },
         {
          "n": 200,
          "reduced": false,
          "time": 3882758144
         },
         {
          "n": 200,
          "reduced": false,
          "time": 3882676224
         },
         {
          "n": 200,
          "reduced": false,
          "time": 3882659840
         },
         {
          "n": 200,
          "reduced": false,
          "time": 3882729472
         },
         {
          "n": 200,
          "reduced": false,
          "time": 3882749952
         },
         {
          "n": 200,
          "reduced": false,
          "time": 3882819584
         },
         {
          "n": 200,
          "reduced": false,
          "time": 3882749952
         },
         {
          "n": 200,
          "reduced": false,
          "time": 3882954752
         },
         {
          "n": 200,
          "reduced": false,
          "time": 3882934272
         },
         {
          "n": 200,
          "reduced": false,
          "time": 3882807296
         },
         {
          "n": 200,
          "reduced": false,
          "time": 3882827776
         },
         {
          "n": 200,
          "reduced": false,
          "time": 3882713088
         },
         {
          "n": 200,
          "reduced": false,
          "time": 3882844160
         },
         {
          "n": 200,
          "reduced": false,
          "time": 3882725376
         },
         {
          "n": 200,
          "reduced": false,
          "time": 3882659840
         },
         {
          "n": 200,
          "reduced": false,
          "time": 3882745856
         },
         {
          "n": 200,
          "reduced": false,
          "time": 3882692608
         },
         {
          "n": 200,
          "reduced": false,
          "time": 3882733568
         },
         {
          "n": 200,
          "reduced": false,
          "time": 3882790912
         },
         {
          "n": 200,
          "reduced": false,
          "time": 3882758144
         },
         {
          "n": 200,
          "reduced": false,
          "time": 3882549248
         },
         {
          "n": 200,
          "reduced": false,
          "time": 3882618880
         },
         {
          "n": 200,
          "reduced": false,
          "time": 3882721280
         },
         {
          "n": 200,
          "reduced": false,
          "time": 3882774528
         },
         {
          "n": 200,
          "reduced": false,
          "time": 3882561536
         },
         {
          "n": 200,
          "reduced": false,
          "time": 3882684416
         },
         {
          "n": 200,
          "reduced": false,
          "time": 3882790912
         },
         {
          "n": 200,
          "reduced": false,
          "time": 3882803200
         },
         {
          "n": 200,
          "reduced": false,
          "time": 3882872832
         },
         {
          "n": 200,
          "reduced": false,
          "time": 3882741760
         },
         {
          "n": 200,
          "reduced": false,
          "time": 3882749952
         },
         {
          "n": 200,
          "reduced": false,
          "time": 3882790912
         }
        ]
       },
       "encoding": {
        "column": {
         "field": "reduced",
         "type": "nominal"
        },
        "x": {
         "field": "n",
         "type": "quantitative"
        },
        "y": {
         "aggregate": "mean",
         "axis": {
          "title": "Time (seconds)"
         },
         "field": "time",
         "scale": {
          "type": "log",
          "zero": false
         },
         "type": "quantitative"
        }
       },
       "mark": "line"
      },
      "image/png": "[encoded data removed]",
      "text/plain": [
       "<VegaLite 2 object>\n",
       "\n",
       "If you see this message, it means the renderer has not been properly enabled\n",
       "for the frontend that you are using. For more information, see\n",
       "https://altair-viz.github.io/user_guide/troubleshooting.html\n"
      ]
     },
     "execution_count": 10,
     "metadata": {},
     "output_type": "execute_result"
    }
   ],
   "source": [
    "points = altair.Chart(df).mark_line().encode(\n",
    "    altair.Y(\n",
    "        'mean(time)',\n",
    "        scale=altair.Scale(type='log', zero=False),\n",
    "        axis=altair.Axis(title='Time (seconds)'),\n",
    "    ),\n",
    "    x='n',\n",
    "    column='reduced',\n",
    "#     column='n',\n",
    ")\n",
    "\n",
    "\n",
    "points"
   ]
  }
 ],
 "metadata": {
  "kernelspec": {
   "display_name": "Python 3",
   "language": "python",
   "name": "python3"
  },
  "language_info": {
   "codemirror_mode": {
    "name": "ipython",
    "version": 3
   },
   "file_extension": ".py",
   "mimetype": "text/x-python",
   "name": "python",
   "nbconvert_exporter": "python",
   "pygments_lexer": "ipython3",
   "version": "3.7.0"
  }
 },
 "nbformat": 4,
 "nbformat_minor": 2
}
