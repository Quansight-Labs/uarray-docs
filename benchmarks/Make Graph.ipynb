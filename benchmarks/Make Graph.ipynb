{
 "cells": [
  {
   "cell_type": "code",
   "execution_count": 1,
   "metadata": {},
   "outputs": [],
   "source": [
    "import perf\n",
    "import pathlib\n",
    "import pandas\n",
    "import altair"
   ]
  },
  {
   "cell_type": "code",
   "execution_count": 19,
   "metadata": {},
   "outputs": [],
   "source": [
    "def get_items():\n",
    "    for path in pathlib.Path('.').glob(\"*.json\"):\n",
    "        _, _, *parts = path.stem.split('-', 3)\n",
    "        is_reduced = parts[0] == 'reduced'\n",
    "        label = parts[1] if len(parts) == 2 else 'inner'\n",
    "        benchmark = perf.Benchmark.load(str(path))\n",
    "        n = int(benchmark.get_name())\n",
    "        for value in benchmark.get_values():\n",
    "            yield {\"label\": label, \"n\": n, \"time\": value, \"reduced\": is_reduced}\n"
   ]
  },
  {
   "cell_type": "code",
   "execution_count": 20,
   "metadata": {},
   "outputs": [
    {
     "name": "stdout",
     "output_type": "stream",
     "text": [
      "<class 'pandas.core.frame.DataFrame'>\n",
      "RangeIndex: 3600 entries, 0 to 3599\n",
      "Data columns (total 4 columns):\n",
      "label      3600 non-null object\n",
      "n          3600 non-null int64\n",
      "reduced    3600 non-null bool\n",
      "time       3600 non-null float64\n",
      "dtypes: bool(1), float64(1), int64(1), object(1)\n",
      "memory usage: 88.0+ KB\n"
     ]
    },
    {
     "data": {
      "text/html": [
       "<div>\n",
       "<style scoped>\n",
       "    .dataframe tbody tr th:only-of-type {\n",
       "        vertical-align: middle;\n",
       "    }\n",
       "\n",
       "    .dataframe tbody tr th {\n",
       "        vertical-align: top;\n",
       "    }\n",
       "\n",
       "    .dataframe thead th {\n",
       "        text-align: right;\n",
       "    }\n",
       "</style>\n",
       "<table border=\"1\" class=\"dataframe\">\n",
       "  <thead>\n",
       "    <tr style=\"text-align: right;\">\n",
       "      <th></th>\n",
       "      <th>label</th>\n",
       "      <th>n</th>\n",
       "      <th>reduced</th>\n",
       "      <th>time</th>\n",
       "    </tr>\n",
       "  </thead>\n",
       "  <tbody>\n",
       "    <tr>\n",
       "      <th>0</th>\n",
       "      <td>tensordot</td>\n",
       "      <td>10</td>\n",
       "      <td>True</td>\n",
       "      <td>0.000026</td>\n",
       "    </tr>\n",
       "    <tr>\n",
       "      <th>1</th>\n",
       "      <td>tensordot</td>\n",
       "      <td>10</td>\n",
       "      <td>True</td>\n",
       "      <td>0.000026</td>\n",
       "    </tr>\n",
       "    <tr>\n",
       "      <th>2</th>\n",
       "      <td>tensordot</td>\n",
       "      <td>10</td>\n",
       "      <td>True</td>\n",
       "      <td>0.000026</td>\n",
       "    </tr>\n",
       "    <tr>\n",
       "      <th>3</th>\n",
       "      <td>tensordot</td>\n",
       "      <td>10</td>\n",
       "      <td>True</td>\n",
       "      <td>0.000026</td>\n",
       "    </tr>\n",
       "    <tr>\n",
       "      <th>4</th>\n",
       "      <td>tensordot</td>\n",
       "      <td>10</td>\n",
       "      <td>True</td>\n",
       "      <td>0.000026</td>\n",
       "    </tr>\n",
       "  </tbody>\n",
       "</table>\n",
       "</div>"
      ],
      "text/plain": [
       "       label   n  reduced      time\n",
       "0  tensordot  10     True  0.000026\n",
       "1  tensordot  10     True  0.000026\n",
       "2  tensordot  10     True  0.000026\n",
       "3  tensordot  10     True  0.000026\n",
       "4  tensordot  10     True  0.000026"
      ]
     },
     "execution_count": 20,
     "metadata": {},
     "output_type": "execute_result"
    }
   ],
   "source": [
    "df = pandas.DataFrame(get_items())\n",
    "df.info()\n",
    "df.head()\n"
   ]
  },
  {
   "cell_type": "code",
   "execution_count": null,
   "metadata": {},
   "outputs": [],
   "source": []
  },
  {
   "cell_type": "code",
   "execution_count": 59,
   "metadata": {},
   "outputs": [
    {
     "data": {
      "application/vnd.vegalite.v2+json": {
       "$schema": "https://vega.github.io/schema/vega-lite/v2.6.0.json",
       "config": {
        "view": {
         "height": 300,
         "width": 400
        }
       },
       "data": {
        "name": "data-d42f0797ffce8d6f91aaef4283713e55"
       },
       "datasets": {
        "data-d42f0797ffce8d6f91aaef4283713e55": [
         {
          "label": "tensordot",
          "n": 10,
          "reduced": true,
          "time": 2.573628735351563e-05
         },
         {
          "label": "tensordot",
          "n": 10,
          "reduced": true,
          "time": 2.5910017333984374e-05
         },
         {
          "label": "tensordot",
          "n": 10,
          "reduced": true,
          "time": 2.5616826904296887e-05
         },
         {
          "label": "tensordot",
          "n": 10,
          "reduced": true,
          "time": 2.6168039306640622e-05
         },
         {
          "label": "tensordot",
          "n": 10,
          "reduced": true,
          "time": 2.6131337158203128e-05
         },
         {
          "label": "tensordot",
          "n": 10,
          "reduced": true,
          "time": 2.5923017578124993e-05
         },
         {
          "label": "tensordot",
          "n": 10,
          "reduced": true,
          "time": 2.6500097656249996e-05
         },
         {
          "label": "tensordot",
          "n": 10,
          "reduced": true,
          "time": 2.6635202636718757e-05
         },
         {
          "label": "tensordot",
          "n": 10,
          "reduced": true,
          "time": 2.6335803710937495e-05
         },
         {
          "label": "tensordot",
          "n": 10,
          "reduced": true,
          "time": 2.5178829345703124e-05
         },
         {
          "label": "tensordot",
          "n": 10,
          "reduced": true,
          "time": 2.546631176757812e-05
         },
         {
          "label": "tensordot",
          "n": 10,
          "reduced": true,
          "time": 2.5263156982421872e-05
         },
         {
          "label": "tensordot",
          "n": 10,
          "reduced": true,
          "time": 2.595194165039062e-05
         },
         {
          "label": "tensordot",
          "n": 10,
          "reduced": true,
          "time": 2.6358615966796877e-05
         },
         {
          "label": "tensordot",
          "n": 10,
          "reduced": true,
          "time": 2.627259277343748e-05
         },
         {
          "label": "tensordot",
          "n": 10,
          "reduced": true,
          "time": 2.649456030273438e-05
         },
         {
          "label": "tensordot",
          "n": 10,
          "reduced": true,
          "time": 2.6371488769531246e-05
         },
         {
          "label": "tensordot",
          "n": 10,
          "reduced": true,
          "time": 2.6442534912109373e-05
         },
         {
          "label": "tensordot",
          "n": 10,
          "reduced": true,
          "time": 2.5526113769531244e-05
         },
         {
          "label": "tensordot",
          "n": 10,
          "reduced": true,
          "time": 2.5503439697265634e-05
         },
         {
          "label": "tensordot",
          "n": 10,
          "reduced": true,
          "time": 2.5632519287109394e-05
         },
         {
          "label": "tensordot",
          "n": 10,
          "reduced": true,
          "time": 2.5775766357421875e-05
         },
         {
          "label": "tensordot",
          "n": 10,
          "reduced": true,
          "time": 2.578926953125e-05
         },
         {
          "label": "tensordot",
          "n": 10,
          "reduced": true,
          "time": 2.57091923828125e-05
         },
         {
          "label": "tensordot",
          "n": 10,
          "reduced": true,
          "time": 2.537719604492187e-05
         },
         {
          "label": "tensordot",
          "n": 10,
          "reduced": true,
          "time": 2.529951782226562e-05
         },
         {
          "label": "tensordot",
          "n": 10,
          "reduced": true,
          "time": 2.5200941162109377e-05
         },
         {
          "label": "tensordot",
          "n": 10,
          "reduced": true,
          "time": 2.6207685791015625e-05
         },
         {
          "label": "tensordot",
          "n": 10,
          "reduced": true,
          "time": 2.594406030273437e-05
         },
         {
          "label": "tensordot",
          "n": 10,
          "reduced": true,
          "time": 2.5927541259765616e-05
         },
         {
          "label": "tensordot",
          "n": 10,
          "reduced": true,
          "time": 2.764811767578126e-05
         },
         {
          "label": "tensordot",
          "n": 10,
          "reduced": true,
          "time": 2.7214931640625012e-05
         },
         {
          "label": "tensordot",
          "n": 10,
          "reduced": true,
          "time": 2.706902124023435e-05
         },
         {
          "label": "tensordot",
          "n": 10,
          "reduced": true,
          "time": 2.6099853271484375e-05
         },
         {
          "label": "tensordot",
          "n": 10,
          "reduced": true,
          "time": 2.5968433349609363e-05
         },
         {
          "label": "tensordot",
          "n": 10,
          "reduced": true,
          "time": 2.584786596679687e-05
         },
         {
          "label": "tensordot",
          "n": 10,
          "reduced": true,
          "time": 2.6424300048828126e-05
         },
         {
          "label": "tensordot",
          "n": 10,
          "reduced": true,
          "time": 2.6199076904296866e-05
         },
         {
          "label": "tensordot",
          "n": 10,
          "reduced": true,
          "time": 2.6372857421874993e-05
         },
         {
          "label": "tensordot",
          "n": 10,
          "reduced": true,
          "time": 2.6499516113281254e-05
         },
         {
          "label": "tensordot",
          "n": 10,
          "reduced": true,
          "time": 2.66228310546875e-05
         },
         {
          "label": "tensordot",
          "n": 10,
          "reduced": true,
          "time": 2.641293994140626e-05
         },
         {
          "label": "tensordot",
          "n": 10,
          "reduced": true,
          "time": 2.617862768554687e-05
         },
         {
          "label": "tensordot",
          "n": 10,
          "reduced": true,
          "time": 2.63158388671875e-05
         },
         {
          "label": "tensordot",
          "n": 10,
          "reduced": true,
          "time": 2.6275336425781237e-05
         },
         {
          "label": "tensordot",
          "n": 10,
          "reduced": true,
          "time": 2.5398940917968746e-05
         },
         {
          "label": "tensordot",
          "n": 10,
          "reduced": true,
          "time": 2.5271171875e-05
         },
         {
          "label": "tensordot",
          "n": 10,
          "reduced": true,
          "time": 2.5784241943359386e-05
         },
         {
          "label": "tensordot",
          "n": 10,
          "reduced": true,
          "time": 2.6267947998046882e-05
         },
         {
          "label": "tensordot",
          "n": 10,
          "reduced": true,
          "time": 2.6025415283203126e-05
         },
         {
          "label": "tensordot",
          "n": 10,
          "reduced": true,
          "time": 2.605694750976563e-05
         },
         {
          "label": "tensordot",
          "n": 10,
          "reduced": true,
          "time": 2.6177638916015624e-05
         },
         {
          "label": "tensordot",
          "n": 10,
          "reduced": true,
          "time": 2.6148629638671883e-05
         },
         {
          "label": "tensordot",
          "n": 10,
          "reduced": true,
          "time": 2.6308231933593743e-05
         },
         {
          "label": "tensordot",
          "n": 10,
          "reduced": true,
          "time": 2.656714013671875e-05
         },
         {
          "label": "tensordot",
          "n": 10,
          "reduced": true,
          "time": 2.6613939208984373e-05
         },
         {
          "label": "tensordot",
          "n": 10,
          "reduced": true,
          "time": 2.681228662109375e-05
         },
         {
          "label": "tensordot",
          "n": 10,
          "reduced": true,
          "time": 2.7033500244140623e-05
         },
         {
          "label": "tensordot",
          "n": 10,
          "reduced": true,
          "time": 2.6891207275390615e-05
         },
         {
          "label": "tensordot",
          "n": 10,
          "reduced": true,
          "time": 2.644009082031249e-05
         },
         {
          "label": "tensordot",
          "n": 10,
          "reduced": true,
          "time": 2.55474951171875e-05
         },
         {
          "label": "tensordot",
          "n": 10,
          "reduced": true,
          "time": 2.5909834716796875e-05
         },
         {
          "label": "tensordot",
          "n": 10,
          "reduced": true,
          "time": 2.5778974365234366e-05
         },
         {
          "label": "tensordot",
          "n": 10,
          "reduced": true,
          "time": 2.703204370117188e-05
         },
         {
          "label": "tensordot",
          "n": 10,
          "reduced": true,
          "time": 2.709695458984375e-05
         },
         {
          "label": "tensordot",
          "n": 10,
          "reduced": true,
          "time": 2.697842431640624e-05
         },
         {
          "label": "tensordot",
          "n": 10,
          "reduced": true,
          "time": 2.532897290039062e-05
         },
         {
          "label": "tensordot",
          "n": 10,
          "reduced": true,
          "time": 2.534179907226563e-05
         },
         {
          "label": "tensordot",
          "n": 10,
          "reduced": true,
          "time": 2.529261987304687e-05
         },
         {
          "label": "tensordot",
          "n": 10,
          "reduced": true,
          "time": 2.572132250976563e-05
         },
         {
          "label": "tensordot",
          "n": 10,
          "reduced": true,
          "time": 2.5552228027343754e-05
         },
         {
          "label": "tensordot",
          "n": 10,
          "reduced": true,
          "time": 2.5601763671874992e-05
         },
         {
          "label": "tensordot",
          "n": 10,
          "reduced": true,
          "time": 2.5082944335937506e-05
         },
         {
          "label": "tensordot",
          "n": 10,
          "reduced": true,
          "time": 2.491502587890625e-05
         },
         {
          "label": "tensordot",
          "n": 10,
          "reduced": true,
          "time": 2.5046491943359384e-05
         },
         {
          "label": "tensordot",
          "n": 10,
          "reduced": true,
          "time": 2.5442096191406245e-05
         },
         {
          "label": "tensordot",
          "n": 10,
          "reduced": true,
          "time": 2.581391528320313e-05
         },
         {
          "label": "tensordot",
          "n": 10,
          "reduced": true,
          "time": 2.563094702148438e-05
         },
         {
          "label": "tensordot",
          "n": 10,
          "reduced": true,
          "time": 2.6344094970703126e-05
         },
         {
          "label": "tensordot",
          "n": 10,
          "reduced": true,
          "time": 2.6287783203124995e-05
         },
         {
          "label": "tensordot",
          "n": 10,
          "reduced": true,
          "time": 2.617656274414062e-05
         },
         {
          "label": "tensordot",
          "n": 10,
          "reduced": true,
          "time": 2.6255031982421877e-05
         },
         {
          "label": "tensordot",
          "n": 10,
          "reduced": true,
          "time": 2.6410806640624995e-05
         },
         {
          "label": "tensordot",
          "n": 10,
          "reduced": true,
          "time": 2.6729950439453127e-05
         },
         {
          "label": "tensordot",
          "n": 10,
          "reduced": true,
          "time": 2.6330341796874997e-05
         },
         {
          "label": "tensordot",
          "n": 10,
          "reduced": true,
          "time": 2.6642859130859384e-05
         },
         {
          "label": "tensordot",
          "n": 10,
          "reduced": true,
          "time": 2.655613354492186e-05
         },
         {
          "label": "tensordot",
          "n": 10,
          "reduced": true,
          "time": 2.626241528320313e-05
         },
         {
          "label": "tensordot",
          "n": 10,
          "reduced": true,
          "time": 2.613053710937501e-05
         },
         {
          "label": "tensordot",
          "n": 10,
          "reduced": true,
          "time": 2.6145889892578112e-05
         },
         {
          "label": "tensordot",
          "n": 10,
          "reduced": true,
          "time": 2.5138758300781246e-05
         },
         {
          "label": "tensordot",
          "n": 10,
          "reduced": true,
          "time": 2.56748974609375e-05
         },
         {
          "label": "tensordot",
          "n": 10,
          "reduced": true,
          "time": 2.573782739257813e-05
         },
         {
          "label": "tensordot",
          "n": 10,
          "reduced": true,
          "time": 2.7309824707031255e-05
         },
         {
          "label": "tensordot",
          "n": 10,
          "reduced": true,
          "time": 2.69426181640625e-05
         },
         {
          "label": "tensordot",
          "n": 10,
          "reduced": true,
          "time": 2.7337107910156247e-05
         },
         {
          "label": "tensordot",
          "n": 10,
          "reduced": true,
          "time": 2.6776238525390617e-05
         },
         {
          "label": "tensordot",
          "n": 10,
          "reduced": true,
          "time": 2.656863012695312e-05
         },
         {
          "label": "tensordot",
          "n": 10,
          "reduced": true,
          "time": 2.6448064453124995e-05
         },
         {
          "label": "tensordot",
          "n": 10,
          "reduced": true,
          "time": 2.6526606689453134e-05
         },
         {
          "label": "tensordot",
          "n": 10,
          "reduced": true,
          "time": 2.603158154296875e-05
         },
         {
          "label": "tensordot",
          "n": 10,
          "reduced": true,
          "time": 2.594056982421876e-05
         },
         {
          "label": "tensordot",
          "n": 10,
          "reduced": true,
          "time": 2.5705214843750008e-05
         },
         {
          "label": "tensordot",
          "n": 10,
          "reduced": true,
          "time": 2.5623060546875004e-05
         },
         {
          "label": "tensordot",
          "n": 10,
          "reduced": true,
          "time": 2.5938308837890626e-05
         },
         {
          "label": "tensordot",
          "n": 10,
          "reduced": true,
          "time": 2.5639506591796876e-05
         },
         {
          "label": "tensordot",
          "n": 10,
          "reduced": true,
          "time": 2.5860097656250003e-05
         },
         {
          "label": "tensordot",
          "n": 10,
          "reduced": true,
          "time": 2.6455675537109382e-05
         },
         {
          "label": "tensordot",
          "n": 10,
          "reduced": true,
          "time": 2.6838352783203125e-05
         },
         {
          "label": "tensordot",
          "n": 10,
          "reduced": true,
          "time": 2.662179150390624e-05
         },
         {
          "label": "tensordot",
          "n": 10,
          "reduced": true,
          "time": 2.6686782226562517e-05
         },
         {
          "label": "tensordot",
          "n": 10,
          "reduced": true,
          "time": 2.6199599365234376e-05
         },
         {
          "label": "tensordot",
          "n": 10,
          "reduced": true,
          "time": 2.593150659179688e-05
         },
         {
          "label": "tensordot",
          "n": 10,
          "reduced": true,
          "time": 2.6066098388671875e-05
         },
         {
          "label": "tensordot",
          "n": 10,
          "reduced": true,
          "time": 2.6179020507812497e-05
         },
         {
          "label": "tensordot",
          "n": 10,
          "reduced": true,
          "time": 2.6186931640624994e-05
         },
         {
          "label": "tensordot",
          "n": 10,
          "reduced": true,
          "time": 2.6182318847656232e-05
         },
         {
          "label": "tensordot",
          "n": 10,
          "reduced": true,
          "time": 2.576295727539063e-05
         },
         {
          "label": "tensordot",
          "n": 10,
          "reduced": true,
          "time": 2.5558966796874994e-05
         },
         {
          "label": "tensordot",
          "n": 10,
          "reduced": true,
          "time": 2.5071941162109365e-05
         },
         {
          "label": "inner",
          "n": 10,
          "reduced": true,
          "time": 2.022995422363281e-06
         },
         {
          "label": "inner",
          "n": 10,
          "reduced": true,
          "time": 2.033470581054688e-06
         },
         {
          "label": "inner",
          "n": 10,
          "reduced": true,
          "time": 2.035624755859375e-06
         },
         {
          "label": "inner",
          "n": 10,
          "reduced": true,
          "time": 2.052528213500976e-06
         },
         {
          "label": "inner",
          "n": 10,
          "reduced": true,
          "time": 2.0549875030517587e-06
         },
         {
          "label": "inner",
          "n": 10,
          "reduced": true,
          "time": 2.0552638092041027e-06
         },
         {
          "label": "inner",
          "n": 10,
          "reduced": true,
          "time": 1.962620681762695e-06
         },
         {
          "label": "inner",
          "n": 10,
          "reduced": true,
          "time": 1.9652641906738286e-06
         },
         {
          "label": "inner",
          "n": 10,
          "reduced": true,
          "time": 1.9689716186523427e-06
         },
         {
          "label": "inner",
          "n": 10,
          "reduced": true,
          "time": 2.0435195159912113e-06
         },
         {
          "label": "inner",
          "n": 10,
          "reduced": true,
          "time": 2.057136108398437e-06
         },
         {
          "label": "inner",
          "n": 10,
          "reduced": true,
          "time": 2.053540893554688e-06
         },
         {
          "label": "inner",
          "n": 10,
          "reduced": true,
          "time": 1.9899973449707033e-06
         },
         {
          "label": "inner",
          "n": 10,
          "reduced": true,
          "time": 1.975624465942382e-06
         },
         {
          "label": "inner",
          "n": 10,
          "reduced": true,
          "time": 1.9694662475585933e-06
         },
         {
          "label": "inner",
          "n": 10,
          "reduced": true,
          "time": 2.0177157592773443e-06
         },
         {
          "label": "inner",
          "n": 10,
          "reduced": true,
          "time": 2.025437957763672e-06
         },
         {
          "label": "inner",
          "n": 10,
          "reduced": true,
          "time": 2.001941986083984e-06
         },
         {
          "label": "inner",
          "n": 10,
          "reduced": true,
          "time": 1.9809392547607426e-06
         },
         {
          "label": "inner",
          "n": 10,
          "reduced": true,
          "time": 2.0059223175048834e-06
         },
         {
          "label": "inner",
          "n": 10,
          "reduced": true,
          "time": 2.0279906311035145e-06
         },
         {
          "label": "inner",
          "n": 10,
          "reduced": true,
          "time": 2.017301239013672e-06
         },
         {
          "label": "inner",
          "n": 10,
          "reduced": true,
          "time": 2.015219985961915e-06
         },
         {
          "label": "inner",
          "n": 10,
          "reduced": true,
          "time": 2.0362559814453138e-06
         },
         {
          "label": "inner",
          "n": 10,
          "reduced": true,
          "time": 1.9784790496826174e-06
         },
         {
          "label": "inner",
          "n": 10,
          "reduced": true,
          "time": 1.973278991699219e-06
         },
         {
          "label": "inner",
          "n": 10,
          "reduced": true,
          "time": 1.9653649597167977e-06
         },
         {
          "label": "inner",
          "n": 10,
          "reduced": true,
          "time": 2.048909439086914e-06
         },
         {
          "label": "inner",
          "n": 10,
          "reduced": true,
          "time": 2.031136947631837e-06
         },
         {
          "label": "inner",
          "n": 10,
          "reduced": true,
          "time": 2.0583680725097655e-06
         },
         {
          "label": "inner",
          "n": 10,
          "reduced": true,
          "time": 1.9808119201660157e-06
         },
         {
          "label": "inner",
          "n": 10,
          "reduced": true,
          "time": 1.9918359069824224e-06
         },
         {
          "label": "inner",
          "n": 10,
          "reduced": true,
          "time": 1.976831527709962e-06
         },
         {
          "label": "inner",
          "n": 10,
          "reduced": true,
          "time": 2.008173690795898e-06
         },
         {
          "label": "inner",
          "n": 10,
          "reduced": true,
          "time": 2.0169790496826163e-06
         },
         {
          "label": "inner",
          "n": 10,
          "reduced": true,
          "time": 2.032918823242187e-06
         },
         {
          "label": "inner",
          "n": 10,
          "reduced": true,
          "time": 1.9903056945800786e-06
         },
         {
          "label": "inner",
          "n": 10,
          "reduced": true,
          "time": 1.960361923217773e-06
         },
         {
          "label": "inner",
          "n": 10,
          "reduced": true,
          "time": 1.9731244659423825e-06
         },
         {
          "label": "inner",
          "n": 10,
          "reduced": true,
          "time": 1.9911039428710933e-06
         },
         {
          "label": "inner",
          "n": 10,
          "reduced": true,
          "time": 2.0212924652099614e-06
         },
         {
          "label": "inner",
          "n": 10,
          "reduced": true,
          "time": 2.0107083435058595e-06
         },
         {
          "label": "inner",
          "n": 10,
          "reduced": true,
          "time": 1.9587852935791017e-06
         },
         {
          "label": "inner",
          "n": 10,
          "reduced": true,
          "time": 1.943629959106446e-06
         },
         {
          "label": "inner",
          "n": 10,
          "reduced": true,
          "time": 1.961717163085938e-06
         },
         {
          "label": "inner",
          "n": 10,
          "reduced": true,
          "time": 1.9723268585205072e-06
         },
         {
          "label": "inner",
          "n": 10,
          "reduced": true,
          "time": 1.9912516479492194e-06
         },
         {
          "label": "inner",
          "n": 10,
          "reduced": true,
          "time": 1.9547549133300783e-06
         },
         {
          "label": "inner",
          "n": 10,
          "reduced": true,
          "time": 1.999354309082031e-06
         },
         {
          "label": "inner",
          "n": 10,
          "reduced": true,
          "time": 1.9833108825683595e-06
         },
         {
          "label": "inner",
          "n": 10,
          "reduced": true,
          "time": 1.9766268310546873e-06
         },
         {
          "label": "inner",
          "n": 10,
          "reduced": true,
          "time": 1.9116278381347655e-06
         },
         {
          "label": "inner",
          "n": 10,
          "reduced": true,
          "time": 1.928990905761719e-06
         },
         {
          "label": "inner",
          "n": 10,
          "reduced": true,
          "time": 1.9181054840087883e-06
         },
         {
          "label": "inner",
          "n": 10,
          "reduced": true,
          "time": 2.03938459777832e-06
         },
         {
          "label": "inner",
          "n": 10,
          "reduced": true,
          "time": 2.0489499053955077e-06
         },
         {
          "label": "inner",
          "n": 10,
          "reduced": true,
          "time": 2.0419687194824207e-06
         },
         {
          "label": "inner",
          "n": 10,
          "reduced": true,
          "time": 2.0449069976806642e-06
         },
         {
          "label": "inner",
          "n": 10,
          "reduced": true,
          "time": 2.029434860229492e-06
         },
         {
          "label": "inner",
          "n": 10,
          "reduced": true,
          "time": 2.0523976898193354e-06
         },
         {
          "label": "inner",
          "n": 10,
          "reduced": true,
          "time": 2.0833499755859373e-06
         },
         {
          "label": "inner",
          "n": 10,
          "reduced": true,
          "time": 2.0842036743164056e-06
         },
         {
          "label": "inner",
          "n": 10,
          "reduced": true,
          "time": 2.0707274322509766e-06
         },
         {
          "label": "inner",
          "n": 10,
          "reduced": true,
          "time": 1.992298690795898e-06
         },
         {
          "label": "inner",
          "n": 10,
          "reduced": true,
          "time": 2.0071337890625003e-06
         },
         {
          "label": "inner",
          "n": 10,
          "reduced": true,
          "time": 1.9988860015869133e-06
         },
         {
          "label": "inner",
          "n": 10,
          "reduced": true,
          "time": 1.9696455688476562e-06
         },
         {
          "label": "inner",
          "n": 10,
          "reduced": true,
          "time": 1.954724197387695e-06
         },
         {
          "label": "inner",
          "n": 10,
          "reduced": true,
          "time": 1.9775372619628915e-06
         },
         {
          "label": "inner",
          "n": 10,
          "reduced": true,
          "time": 2.0130300598144526e-06
         },
         {
          "label": "inner",
          "n": 10,
          "reduced": true,
          "time": 1.9935067596435554e-06
         },
         {
          "label": "inner",
          "n": 10,
          "reduced": true,
          "time": 1.9830074462890614e-06
         },
         {
          "label": "inner",
          "n": 10,
          "reduced": true,
          "time": 1.984208679199219e-06
         },
         {
          "label": "inner",
          "n": 10,
          "reduced": true,
          "time": 1.9928298950195312e-06
         },
         {
          "label": "inner",
          "n": 10,
          "reduced": true,
          "time": 1.980627563476562e-06
         },
         {
          "label": "inner",
          "n": 10,
          "reduced": true,
          "time": 1.994198638916016e-06
         },
         {
          "label": "inner",
          "n": 10,
          "reduced": true,
          "time": 2.00638410949707e-06
         },
         {
          "label": "inner",
          "n": 10,
          "reduced": true,
          "time": 1.967516494750977e-06
         },
         {
          "label": "inner",
          "n": 10,
          "reduced": true,
          "time": 2.0562591705322272e-06
         },
         {
          "label": "inner",
          "n": 10,
          "reduced": true,
          "time": 2.0874523010253902e-06
         },
         {
          "label": "inner",
          "n": 10,
          "reduced": true,
          "time": 2.066303497314452e-06
         },
         {
          "label": "inner",
          "n": 10,
          "reduced": true,
          "time": 2.0201115264892573e-06
         },
         {
          "label": "inner",
          "n": 10,
          "reduced": true,
          "time": 2.009257598876953e-06
         },
         {
          "label": "inner",
          "n": 10,
          "reduced": true,
          "time": 2.0164898071289066e-06
         },
         {
          "label": "inner",
          "n": 10,
          "reduced": true,
          "time": 1.9818721008300775e-06
         },
         {
          "label": "inner",
          "n": 10,
          "reduced": true,
          "time": 1.984944061279298e-06
         },
         {
          "label": "inner",
          "n": 10,
          "reduced": true,
          "time": 1.9611458435058584e-06
         },
         {
          "label": "inner",
          "n": 10,
          "reduced": true,
          "time": 1.9774558105468755e-06
         },
         {
          "label": "inner",
          "n": 10,
          "reduced": true,
          "time": 1.9995640563964838e-06
         },
         {
          "label": "inner",
          "n": 10,
          "reduced": true,
          "time": 1.9867402496337896e-06
         },
         {
          "label": "inner",
          "n": 10,
          "reduced": true,
          "time": 1.9616309661865233e-06
         },
         {
          "label": "inner",
          "n": 10,
          "reduced": true,
          "time": 1.9656816101074212e-06
         },
         {
          "label": "inner",
          "n": 10,
          "reduced": true,
          "time": 1.9646494140625005e-06
         },
         {
          "label": "inner",
          "n": 10,
          "reduced": true,
          "time": 2.0050322875976565e-06
         },
         {
          "label": "inner",
          "n": 10,
          "reduced": true,
          "time": 2.0035036773681646e-06
         },
         {
          "label": "inner",
          "n": 10,
          "reduced": true,
          "time": 2.0007265167236323e-06
         },
         {
          "label": "inner",
          "n": 10,
          "reduced": true,
          "time": 2.0324735107421875e-06
         },
         {
          "label": "inner",
          "n": 10,
          "reduced": true,
          "time": 2.0463916015625e-06
         },
         {
          "label": "inner",
          "n": 10,
          "reduced": true,
          "time": 2.032799377441406e-06
         },
         {
          "label": "inner",
          "n": 10,
          "reduced": true,
          "time": 1.9891757202148435e-06
         },
         {
          "label": "inner",
          "n": 10,
          "reduced": true,
          "time": 1.98436181640625e-06
         },
         {
          "label": "inner",
          "n": 10,
          "reduced": true,
          "time": 2.0094326019287112e-06
         },
         {
          "label": "inner",
          "n": 10,
          "reduced": true,
          "time": 2.030094619750977e-06
         },
         {
          "label": "inner",
          "n": 10,
          "reduced": true,
          "time": 2.027106857299805e-06
         },
         {
          "label": "inner",
          "n": 10,
          "reduced": true,
          "time": 2.02565916442871e-06
         },
         {
          "label": "inner",
          "n": 10,
          "reduced": true,
          "time": 1.940603408813477e-06
         },
         {
          "label": "inner",
          "n": 10,
          "reduced": true,
          "time": 1.9621577758789062e-06
         },
         {
          "label": "inner",
          "n": 10,
          "reduced": true,
          "time": 1.926870697021484e-06
         },
         {
          "label": "inner",
          "n": 10,
          "reduced": true,
          "time": 2.056246383666993e-06
         },
         {
          "label": "inner",
          "n": 10,
          "reduced": true,
          "time": 2.0491336364746087e-06
         },
         {
          "label": "inner",
          "n": 10,
          "reduced": true,
          "time": 2.045105895996094e-06
         },
         {
          "label": "inner",
          "n": 10,
          "reduced": true,
          "time": 2.0059428405761714e-06
         },
         {
          "label": "inner",
          "n": 10,
          "reduced": true,
          "time": 1.9787436523437494e-06
         },
         {
          "label": "inner",
          "n": 10,
          "reduced": true,
          "time": 1.9738203124999998e-06
         },
         {
          "label": "inner",
          "n": 10,
          "reduced": true,
          "time": 1.961358459472657e-06
         },
         {
          "label": "inner",
          "n": 10,
          "reduced": true,
          "time": 1.969822204589844e-06
         },
         {
          "label": "inner",
          "n": 10,
          "reduced": true,
          "time": 1.9899285888671874e-06
         },
         {
          "label": "inner",
          "n": 10,
          "reduced": true,
          "time": 2.050194580078125e-06
         },
         {
          "label": "inner",
          "n": 10,
          "reduced": true,
          "time": 2.026122512817383e-06
         },
         {
          "label": "inner",
          "n": 10,
          "reduced": true,
          "time": 2.0298012084960942e-06
         },
         {
          "label": "dask",
          "n": 100,
          "reduced": true,
          "time": 0.033768249500000014
         },
         {
          "label": "dask",
          "n": 100,
          "reduced": true,
          "time": 0.03397152449999996
         },
         {
          "label": "dask",
          "n": 100,
          "reduced": true,
          "time": 0.03404974974999997
         },
         {
          "label": "dask",
          "n": 100,
          "reduced": true,
          "time": 0.03361610525000003
         },
         {
          "label": "dask",
          "n": 100,
          "reduced": true,
          "time": 0.033792758749999985
         },
         {
          "label": "dask",
          "n": 100,
          "reduced": true,
          "time": 0.03375854874999995
         },
         {
          "label": "dask",
          "n": 100,
          "reduced": true,
          "time": 0.034120862249999995
         },
         {
          "label": "dask",
          "n": 100,
          "reduced": true,
          "time": 0.039417359500000027
         },
         {
          "label": "dask",
          "n": 100,
          "reduced": true,
          "time": 0.03903993250000004
         },
         {
          "label": "dask",
          "n": 100,
          "reduced": true,
          "time": 0.03459040899999999
         },
         {
          "label": "dask",
          "n": 100,
          "reduced": true,
          "time": 0.03458111349999998
         },
         {
          "label": "dask",
          "n": 100,
          "reduced": true,
          "time": 0.03418545124999994
         },
         {
          "label": "dask",
          "n": 100,
          "reduced": true,
          "time": 0.03449834125000001
         },
         {
          "label": "dask",
          "n": 100,
          "reduced": true,
          "time": 0.03399307300000004
         },
         {
          "label": "dask",
          "n": 100,
          "reduced": true,
          "time": 0.03440746249999993
         },
         {
          "label": "dask",
          "n": 100,
          "reduced": true,
          "time": 0.03410422749999997
         },
         {
          "label": "dask",
          "n": 100,
          "reduced": true,
          "time": 0.03430515774999998
         },
         {
          "label": "dask",
          "n": 100,
          "reduced": true,
          "time": 0.03371486875000007
         },
         {
          "label": "dask",
          "n": 100,
          "reduced": true,
          "time": 0.03408636699999995
         },
         {
          "label": "dask",
          "n": 100,
          "reduced": true,
          "time": 0.04006581100000001
         },
         {
          "label": "dask",
          "n": 100,
          "reduced": true,
          "time": 0.03918718649999997
         },
         {
          "label": "dask",
          "n": 100,
          "reduced": true,
          "time": 0.034535241250000015
         },
         {
          "label": "dask",
          "n": 100,
          "reduced": true,
          "time": 0.039691295250000036
         },
         {
          "label": "dask",
          "n": 100,
          "reduced": true,
          "time": 0.039514089249999995
         },
         {
          "label": "dask",
          "n": 100,
          "reduced": true,
          "time": 0.033682692999999986
         },
         {
          "label": "dask",
          "n": 100,
          "reduced": true,
          "time": 0.03404672824999999
         },
         {
          "label": "dask",
          "n": 100,
          "reduced": true,
          "time": 0.0335222477499999
         },
         {
          "label": "dask",
          "n": 100,
          "reduced": true,
          "time": 0.03423150450000001
         },
         {
          "label": "dask",
          "n": 100,
          "reduced": true,
          "time": 0.03401174725
         },
         {
          "label": "dask",
          "n": 100,
          "reduced": true,
          "time": 0.034193609250000034
         },
         {
          "label": "dask",
          "n": 100,
          "reduced": true,
          "time": 0.03436663425000003
         },
         {
          "label": "dask",
          "n": 100,
          "reduced": true,
          "time": 0.033554140249999975
         },
         {
          "label": "dask",
          "n": 100,
          "reduced": true,
          "time": 0.03396974424999999
         },
         {
          "label": "dask",
          "n": 100,
          "reduced": true,
          "time": 0.03429511725000001
         },
         {
          "label": "dask",
          "n": 100,
          "reduced": true,
          "time": 0.04031559075000002
         },
         {
          "label": "dask",
          "n": 100,
          "reduced": true,
          "time": 0.038565088499999955
         },
         {
          "label": "dask",
          "n": 100,
          "reduced": true,
          "time": 0.03392672575
         },
         {
          "label": "dask",
          "n": 100,
          "reduced": true,
          "time": 0.03384219375000003
         },
         {
          "label": "dask",
          "n": 100,
          "reduced": true,
          "time": 0.03376915275000003
         },
         {
          "label": "dask",
          "n": 100,
          "reduced": true,
          "time": 0.034008330249999996
         },
         {
          "label": "dask",
          "n": 100,
          "reduced": true,
          "time": 0.03411399450000002
         },
         {
          "label": "dask",
          "n": 100,
          "reduced": true,
          "time": 0.03432514624999994
         },
         {
          "label": "dask",
          "n": 100,
          "reduced": true,
          "time": 0.03433653249999996
         },
         {
          "label": "dask",
          "n": 100,
          "reduced": true,
          "time": 0.039813786500000004
         },
         {
          "label": "dask",
          "n": 100,
          "reduced": true,
          "time": 0.039535003250000034
         },
         {
          "label": "dask",
          "n": 100,
          "reduced": true,
          "time": 0.035148512249999986
         },
         {
          "label": "dask",
          "n": 100,
          "reduced": true,
          "time": 0.03922128625000004
         },
         {
          "label": "dask",
          "n": 100,
          "reduced": true,
          "time": 0.039489519000000084
         },
         {
          "label": "dask",
          "n": 100,
          "reduced": true,
          "time": 0.03345257549999997
         },
         {
          "label": "dask",
          "n": 100,
          "reduced": true,
          "time": 0.039573761250000006
         },
         {
          "label": "dask",
          "n": 100,
          "reduced": true,
          "time": 0.03877709574999999
         },
         {
          "label": "dask",
          "n": 100,
          "reduced": true,
          "time": 0.0340969995
         },
         {
          "label": "dask",
          "n": 100,
          "reduced": true,
          "time": 0.040003502999999996
         },
         {
          "label": "dask",
          "n": 100,
          "reduced": true,
          "time": 0.03885264100000008
         },
         {
          "label": "dask",
          "n": 100,
          "reduced": true,
          "time": 0.034656447749999986
         },
         {
          "label": "dask",
          "n": 100,
          "reduced": true,
          "time": 0.03420850624999999
         },
         {
          "label": "dask",
          "n": 100,
          "reduced": true,
          "time": 0.034040768
         },
         {
          "label": "dask",
          "n": 100,
          "reduced": true,
          "time": 0.03375408949999997
         },
         {
          "label": "dask",
          "n": 100,
          "reduced": true,
          "time": 0.033882293499999994
         },
         {
          "label": "dask",
          "n": 100,
          "reduced": true,
          "time": 0.03410676224999998
         },
         {
          "label": "dask",
          "n": 100,
          "reduced": true,
          "time": 0.03373234650000001
         },
         {
          "label": "dask",
          "n": 100,
          "reduced": true,
          "time": 0.03347059849999995
         },
         {
          "label": "dask",
          "n": 100,
          "reduced": true,
          "time": 0.03422036075000001
         },
         {
          "label": "dask",
          "n": 100,
          "reduced": true,
          "time": 0.034165199000000035
         },
         {
          "label": "dask",
          "n": 100,
          "reduced": true,
          "time": 0.03427915625
         },
         {
          "label": "dask",
          "n": 100,
          "reduced": true,
          "time": 0.03386337024999997
         },
         {
          "label": "dask",
          "n": 100,
          "reduced": true,
          "time": 0.0342331635
         },
         {
          "label": "dask",
          "n": 100,
          "reduced": true,
          "time": 0.0339480955
         },
         {
          "label": "dask",
          "n": 100,
          "reduced": true,
          "time": 0.03403718850000004
         },
         {
          "label": "dask",
          "n": 100,
          "reduced": true,
          "time": 0.03497018350000003
         },
         {
          "label": "dask",
          "n": 100,
          "reduced": true,
          "time": 0.03440978849999998
         },
         {
          "label": "dask",
          "n": 100,
          "reduced": true,
          "time": 0.03444666549999997
         },
         {
          "label": "dask",
          "n": 100,
          "reduced": true,
          "time": 0.03371705075000003
         },
         {
          "label": "dask",
          "n": 100,
          "reduced": true,
          "time": 0.033634471750000006
         },
         {
          "label": "dask",
          "n": 100,
          "reduced": true,
          "time": 0.03344590624999999
         },
         {
          "label": "dask",
          "n": 100,
          "reduced": true,
          "time": 0.03405047324999999
         },
         {
          "label": "dask",
          "n": 100,
          "reduced": true,
          "time": 0.03350399074999999
         },
         {
          "label": "dask",
          "n": 100,
          "reduced": true,
          "time": 0.03374546874999995
         },
         {
          "label": "dask",
          "n": 100,
          "reduced": true,
          "time": 0.034237716249999994
         },
         {
          "label": "dask",
          "n": 100,
          "reduced": true,
          "time": 0.03321135274999998
         },
         {
          "label": "dask",
          "n": 100,
          "reduced": true,
          "time": 0.03349990775
         },
         {
          "label": "dask",
          "n": 100,
          "reduced": true,
          "time": 0.03406927625
         },
         {
          "label": "dask",
          "n": 100,
          "reduced": true,
          "time": 0.03327444349999997
         },
         {
          "label": "dask",
          "n": 100,
          "reduced": true,
          "time": 0.03394158650000001
         },
         {
          "label": "dask",
          "n": 100,
          "reduced": true,
          "time": 0.033998478499999985
         },
         {
          "label": "dask",
          "n": 100,
          "reduced": true,
          "time": 0.03959280724999997
         },
         {
          "label": "dask",
          "n": 100,
          "reduced": true,
          "time": 0.038694347500000004
         },
         {
          "label": "dask",
          "n": 100,
          "reduced": true,
          "time": 0.034226253250000005
         },
         {
          "label": "dask",
          "n": 100,
          "reduced": true,
          "time": 0.03977483300000001
         },
         {
          "label": "dask",
          "n": 100,
          "reduced": true,
          "time": 0.03918702499999993
         },
         {
          "label": "dask",
          "n": 100,
          "reduced": true,
          "time": 0.03437897525
         },
         {
          "label": "dask",
          "n": 100,
          "reduced": true,
          "time": 0.039275548999999965
         },
         {
          "label": "dask",
          "n": 100,
          "reduced": true,
          "time": 0.03842435099999997
         },
         {
          "label": "dask",
          "n": 100,
          "reduced": true,
          "time": 0.034141856000000026
         },
         {
          "label": "dask",
          "n": 100,
          "reduced": true,
          "time": 0.03963625425
         },
         {
          "label": "dask",
          "n": 100,
          "reduced": true,
          "time": 0.038664395500000004
         },
         {
          "label": "dask",
          "n": 100,
          "reduced": true,
          "time": 0.034322862249999975
         },
         {
          "label": "dask",
          "n": 100,
          "reduced": true,
          "time": 0.03364081074999997
         },
         {
          "label": "dask",
          "n": 100,
          "reduced": true,
          "time": 0.03403805775000002
         },
         {
          "label": "dask",
          "n": 100,
          "reduced": true,
          "time": 0.033839130250000016
         },
         {
          "label": "dask",
          "n": 100,
          "reduced": true,
          "time": 0.03430988024999998
         },
         {
          "label": "dask",
          "n": 100,
          "reduced": true,
          "time": 0.03448193874999994
         },
         {
          "label": "dask",
          "n": 100,
          "reduced": true,
          "time": 0.03437939950000002
         },
         {
          "label": "dask",
          "n": 100,
          "reduced": true,
          "time": 0.039381108
         },
         {
          "label": "dask",
          "n": 100,
          "reduced": true,
          "time": 0.03894815024999998
         },
         {
          "label": "dask",
          "n": 100,
          "reduced": true,
          "time": 0.03360871300000001
         },
         {
          "label": "dask",
          "n": 100,
          "reduced": true,
          "time": 0.033692828750000015
         },
         {
          "label": "dask",
          "n": 100,
          "reduced": true,
          "time": 0.03383295774999995
         },
         {
          "label": "dask",
          "n": 100,
          "reduced": true,
          "time": 0.034124245
         },
         {
          "label": "dask",
          "n": 100,
          "reduced": true,
          "time": 0.03998178874999997
         },
         {
          "label": "dask",
          "n": 100,
          "reduced": true,
          "time": 0.03859613500000003
         },
         {
          "label": "dask",
          "n": 100,
          "reduced": true,
          "time": 0.03483897549999998
         },
         {
          "label": "dask",
          "n": 100,
          "reduced": true,
          "time": 0.03977911049999999
         },
         {
          "label": "dask",
          "n": 100,
          "reduced": true,
          "time": 0.03926609525000002
         },
         {
          "label": "dask",
          "n": 100,
          "reduced": true,
          "time": 0.03511133325000004
         },
         {
          "label": "dask",
          "n": 100,
          "reduced": true,
          "time": 0.03924923199999997
         },
         {
          "label": "dask",
          "n": 100,
          "reduced": true,
          "time": 0.039024689
         },
         {
          "label": "dask",
          "n": 100,
          "reduced": true,
          "time": 0.034071538999999984
         },
         {
          "label": "dask",
          "n": 100,
          "reduced": true,
          "time": 0.03368407000000001
         },
         {
          "label": "dask",
          "n": 100,
          "reduced": true,
          "time": 0.03334862999999999
         },
         {
          "label": "tensordot",
          "n": 200,
          "reduced": true,
          "time": 2.6610461914062383e-05
         },
         {
          "label": "tensordot",
          "n": 200,
          "reduced": true,
          "time": 2.62319711914062e-05
         },
         {
          "label": "tensordot",
          "n": 200,
          "reduced": true,
          "time": 2.6606914550781225e-05
         },
         {
          "label": "tensordot",
          "n": 200,
          "reduced": true,
          "time": 2.8101527343750042e-05
         },
         {
          "label": "tensordot",
          "n": 200,
          "reduced": true,
          "time": 2.7825545166015615e-05
         },
         {
          "label": "tensordot",
          "n": 200,
          "reduced": true,
          "time": 2.7630772460937505e-05
         },
         {
          "label": "tensordot",
          "n": 200,
          "reduced": true,
          "time": 2.7175596679687372e-05
         },
         {
          "label": "tensordot",
          "n": 200,
          "reduced": true,
          "time": 2.7078528076171808e-05
         },
         {
          "label": "tensordot",
          "n": 200,
          "reduced": true,
          "time": 2.7103563476562394e-05
         },
         {
          "label": "tensordot",
          "n": 200,
          "reduced": true,
          "time": 2.749298828124986e-05
         },
         {
          "label": "tensordot",
          "n": 200,
          "reduced": true,
          "time": 2.7138500488281363e-05
         },
         {
          "label": "tensordot",
          "n": 200,
          "reduced": true,
          "time": 2.7182202636718764e-05
         },
         {
          "label": "tensordot",
          "n": 200,
          "reduced": true,
          "time": 2.715502343750005e-05
         },
         {
          "label": "tensordot",
          "n": 200,
          "reduced": true,
          "time": 2.7029807373046702e-05
         },
         {
          "label": "tensordot",
          "n": 200,
          "reduced": true,
          "time": 2.7049325927734364e-05
         },
         {
          "label": "tensordot",
          "n": 200,
          "reduced": true,
          "time": 2.7864584716796956e-05
         },
         {
          "label": "tensordot",
          "n": 200,
          "reduced": true,
          "time": 2.817537158203128e-05
         },
         {
          "label": "tensordot",
          "n": 200,
          "reduced": true,
          "time": 2.811888842773431e-05
         },
         {
          "label": "tensordot",
          "n": 200,
          "reduced": true,
          "time": 2.7290473388671922e-05
         },
         {
          "label": "tensordot",
          "n": 200,
          "reduced": true,
          "time": 2.72963889160155e-05
         },
         {
          "label": "tensordot",
          "n": 200,
          "reduced": true,
          "time": 2.7412547607422177e-05
         },
         {
          "label": "tensordot",
          "n": 200,
          "reduced": true,
          "time": 2.791896850585932e-05
         },
         {
          "label": "tensordot",
          "n": 200,
          "reduced": true,
          "time": 2.7908101074218756e-05
         },
         {
          "label": "tensordot",
          "n": 200,
          "reduced": true,
          "time": 2.7992324951171994e-05
         },
         {
          "label": "tensordot",
          "n": 200,
          "reduced": true,
          "time": 2.9250865966796947e-05
         },
         {
          "label": "tensordot",
          "n": 200,
          "reduced": true,
          "time": 2.8766666992187558e-05
         },
         {
          "label": "tensordot",
          "n": 200,
          "reduced": true,
          "time": 2.9045045898437507e-05
         },
         {
          "label": "tensordot",
          "n": 200,
          "reduced": true,
          "time": 2.702909057617181e-05
         },
         {
          "label": "tensordot",
          "n": 200,
          "reduced": true,
          "time": 2.648278247070323e-05
         },
         {
          "label": "tensordot",
          "n": 200,
          "reduced": true,
          "time": 2.7349119384765825e-05
         },
         {
          "label": "tensordot",
          "n": 200,
          "reduced": true,
          "time": 2.73051743164064e-05
         },
         {
          "label": "tensordot",
          "n": 200,
          "reduced": true,
          "time": 2.7438997802734172e-05
         },
         {
          "label": "tensordot",
          "n": 200,
          "reduced": true,
          "time": 2.7235311523437274e-05
         },
         {
          "label": "tensordot",
          "n": 200,
          "reduced": true,
          "time": 2.7843632324218645e-05
         },
         {
          "label": "tensordot",
          "n": 200,
          "reduced": true,
          "time": 2.792652026367172e-05
         },
         {
          "label": "tensordot",
          "n": 200,
          "reduced": true,
          "time": 2.7990935058593795e-05
         },
         {
          "label": "tensordot",
          "n": 200,
          "reduced": true,
          "time": 2.8263827148437577e-05
         },
         {
          "label": "tensordot",
          "n": 200,
          "reduced": true,
          "time": 2.7796096679687547e-05
         },
         {
          "label": "tensordot",
          "n": 200,
          "reduced": true,
          "time": 2.7934020751952966e-05
         },
         {
          "label": "tensordot",
          "n": 200,
          "reduced": true,
          "time": 2.8284095458984415e-05
         },
         {
          "label": "tensordot",
          "n": 200,
          "reduced": true,
          "time": 2.8015602294921777e-05
         },
         {
          "label": "tensordot",
          "n": 200,
          "reduced": true,
          "time": 2.8239265624999642e-05
         },
         {
          "label": "tensordot",
          "n": 200,
          "reduced": true,
          "time": 2.6517177246093877e-05
         },
         {
          "label": "tensordot",
          "n": 200,
          "reduced": true,
          "time": 2.644039453124987e-05
         },
         {
          "label": "tensordot",
          "n": 200,
          "reduced": true,
          "time": 2.605455004882828e-05
         },
         {
          "label": "tensordot",
          "n": 200,
          "reduced": true,
          "time": 2.6813178710937422e-05
         },
         {
          "label": "tensordot",
          "n": 200,
          "reduced": true,
          "time": 2.6654727294921857e-05
         },
         {
          "label": "tensordot",
          "n": 200,
          "reduced": true,
          "time": 2.7015659423828067e-05
         },
         {
          "label": "tensordot",
          "n": 200,
          "reduced": true,
          "time": 2.7411155273437526e-05
         },
         {
          "label": "tensordot",
          "n": 200,
          "reduced": true,
          "time": 2.7572095458984263e-05
         },
         {
          "label": "tensordot",
          "n": 200,
          "reduced": true,
          "time": 2.777915332031252e-05
         },
         {
          "label": "tensordot",
          "n": 200,
          "reduced": true,
          "time": 2.7224072998046798e-05
         },
         {
          "label": "tensordot",
          "n": 200,
          "reduced": true,
          "time": 2.718356738281246e-05
         },
         {
          "label": "tensordot",
          "n": 200,
          "reduced": true,
          "time": 2.7510858886718812e-05
         },
         {
          "label": "tensordot",
          "n": 200,
          "reduced": true,
          "time": 2.7538176757812508e-05
         },
         {
          "label": "tensordot",
          "n": 200,
          "reduced": true,
          "time": 2.7579143066406176e-05
         },
         {
          "label": "tensordot",
          "n": 200,
          "reduced": true,
          "time": 2.7383928955077973e-05
         },
         {
          "label": "tensordot",
          "n": 200,
          "reduced": true,
          "time": 2.6947270019531296e-05
         },
         {
          "label": "tensordot",
          "n": 200,
          "reduced": true,
          "time": 2.6819946289062492e-05
         },
         {
          "label": "tensordot",
          "n": 200,
          "reduced": true,
          "time": 2.7185560791015504e-05
         },
         {
          "label": "tensordot",
          "n": 200,
          "reduced": true,
          "time": 2.6939827636718837e-05
         },
         {
          "label": "tensordot",
          "n": 200,
          "reduced": true,
          "time": 2.7054736572265517e-05
         },
         {
          "label": "tensordot",
          "n": 200,
          "reduced": true,
          "time": 2.7004271240234443e-05
         },
         {
          "label": "tensordot",
          "n": 200,
          "reduced": true,
          "time": 2.7002632080078094e-05
         },
         {
          "label": "tensordot",
          "n": 200,
          "reduced": true,
          "time": 2.6925826904296898e-05
         },
         {
          "label": "tensordot",
          "n": 200,
          "reduced": true,
          "time": 2.6751927001952835e-05
         },
         {
          "label": "tensordot",
          "n": 200,
          "reduced": true,
          "time": 2.847364404296891e-05
         },
         {
          "label": "tensordot",
          "n": 200,
          "reduced": true,
          "time": 2.7902749511718753e-05
         },
         {
          "label": "tensordot",
          "n": 200,
          "reduced": true,
          "time": 2.826813159179705e-05
         },
         {
          "label": "tensordot",
          "n": 200,
          "reduced": true,
          "time": 2.820079370117177e-05
         },
         {
          "label": "tensordot",
          "n": 200,
          "reduced": true,
          "time": 2.8099777587890524e-05
         },
         {
          "label": "tensordot",
          "n": 200,
          "reduced": true,
          "time": 2.7798333496093473e-05
         },
         {
          "label": "tensordot",
          "n": 200,
          "reduced": true,
          "time": 2.760835205078125e-05
         },
         {
          "label": "tensordot",
          "n": 200,
          "reduced": true,
          "time": 2.7358444335937515e-05
         },
         {
          "label": "tensordot",
          "n": 200,
          "reduced": true,
          "time": 2.7611322021484433e-05
         },
         {
          "label": "tensordot",
          "n": 200,
          "reduced": true,
          "time": 2.721942358398428e-05
         },
         {
          "label": "tensordot",
          "n": 200,
          "reduced": true,
          "time": 2.7251829833984352e-05
         },
         {
          "label": "tensordot",
          "n": 200,
          "reduced": true,
          "time": 2.74629208984376e-05
         },
         {
          "label": "tensordot",
          "n": 200,
          "reduced": true,
          "time": 2.876911669921875e-05
         },
         {
          "label": "tensordot",
          "n": 200,
          "reduced": true,
          "time": 2.8452504150390696e-05
         },
         {
          "label": "tensordot",
          "n": 200,
          "reduced": true,
          "time": 2.8653551025390692e-05
         },
         {
          "label": "tensordot",
          "n": 200,
          "reduced": true,
          "time": 2.7404666748046935e-05
         },
         {
          "label": "tensordot",
          "n": 200,
          "reduced": true,
          "time": 2.728216870117174e-05
         },
         {
          "label": "tensordot",
          "n": 200,
          "reduced": true,
          "time": 2.7404098388671746e-05
         },
         {
          "label": "tensordot",
          "n": 200,
          "reduced": true,
          "time": 2.733404125976552e-05
         },
         {
          "label": "tensordot",
          "n": 200,
          "reduced": true,
          "time": 2.7711659423827967e-05
         },
         {
          "label": "tensordot",
          "n": 200,
          "reduced": true,
          "time": 2.7613691162109433e-05
         },
         {
          "label": "tensordot",
          "n": 200,
          "reduced": true,
          "time": 2.6591301025390666e-05
         },
         {
          "label": "tensordot",
          "n": 200,
          "reduced": true,
          "time": 2.633032421874991e-05
         },
         {
          "label": "tensordot",
          "n": 200,
          "reduced": true,
          "time": 2.6928857666015313e-05
         },
         {
          "label": "tensordot",
          "n": 200,
          "reduced": true,
          "time": 2.6732487792968792e-05
         },
         {
          "label": "tensordot",
          "n": 200,
          "reduced": true,
          "time": 2.7165483154296954e-05
         },
         {
          "label": "tensordot",
          "n": 200,
          "reduced": true,
          "time": 2.65476428222655e-05
         },
         {
          "label": "tensordot",
          "n": 200,
          "reduced": true,
          "time": 2.7595359619140506e-05
         },
         {
          "label": "tensordot",
          "n": 200,
          "reduced": true,
          "time": 2.728140112304698e-05
         },
         {
          "label": "tensordot",
          "n": 200,
          "reduced": true,
          "time": 2.7108057617187577e-05
         },
         {
          "label": "tensordot",
          "n": 200,
          "reduced": true,
          "time": 2.6273783935546954e-05
         },
         {
          "label": "tensordot",
          "n": 200,
          "reduced": true,
          "time": 2.657643969726552e-05
         },
         {
          "label": "tensordot",
          "n": 200,
          "reduced": true,
          "time": 2.6724132568359607e-05
         },
         {
          "label": "tensordot",
          "n": 200,
          "reduced": true,
          "time": 2.7493028808593927e-05
         },
         {
          "label": "tensordot",
          "n": 200,
          "reduced": true,
          "time": 2.7486329345703013e-05
         },
         {
          "label": "tensordot",
          "n": 200,
          "reduced": true,
          "time": 2.753785205078128e-05
         },
         {
          "label": "tensordot",
          "n": 200,
          "reduced": true,
          "time": 2.790460888671886e-05
         },
         {
          "label": "tensordot",
          "n": 200,
          "reduced": true,
          "time": 2.7984998779296893e-05
         },
         {
          "label": "tensordot",
          "n": 200,
          "reduced": true,
          "time": 2.7734118408203126e-05
         },
         {
          "label": "tensordot",
          "n": 200,
          "reduced": true,
          "time": 2.864164379882809e-05
         },
         {
          "label": "tensordot",
          "n": 200,
          "reduced": true,
          "time": 2.840178320312513e-05
         },
         {
          "label": "tensordot",
          "n": 200,
          "reduced": true,
          "time": 2.8401155273437284e-05
         },
         {
          "label": "tensordot",
          "n": 200,
          "reduced": true,
          "time": 2.7282856201172028e-05
         },
         {
          "label": "tensordot",
          "n": 200,
          "reduced": true,
          "time": 2.711520922851567e-05
         },
         {
          "label": "tensordot",
          "n": 200,
          "reduced": true,
          "time": 2.7739025146484436e-05
         },
         {
          "label": "tensordot",
          "n": 200,
          "reduced": true,
          "time": 2.7453713378906277e-05
         },
         {
          "label": "tensordot",
          "n": 200,
          "reduced": true,
          "time": 2.7373008789062384e-05
         },
         {
          "label": "tensordot",
          "n": 200,
          "reduced": true,
          "time": 2.715101708984386e-05
         },
         {
          "label": "tensordot",
          "n": 200,
          "reduced": true,
          "time": 2.7461960449218746e-05
         },
         {
          "label": "tensordot",
          "n": 200,
          "reduced": true,
          "time": 2.727730395507815e-05
         },
         {
          "label": "tensordot",
          "n": 200,
          "reduced": true,
          "time": 2.748949462890631e-05
         },
         {
          "label": "tensordot",
          "n": 200,
          "reduced": true,
          "time": 2.683711499023439e-05
         },
         {
          "label": "tensordot",
          "n": 200,
          "reduced": true,
          "time": 2.683051416015633e-05
         },
         {
          "label": "tensordot",
          "n": 200,
          "reduced": true,
          "time": 2.6991406738281157e-05
         },
         {
          "label": "tensordot",
          "n": 200,
          "reduced": false,
          "time": 0.0014113452656250025
         },
         {
          "label": "tensordot",
          "n": 200,
          "reduced": false,
          "time": 0.0013886296640624948
         },
         {
          "label": "tensordot",
          "n": 200,
          "reduced": false,
          "time": 0.0014046567890625
         },
         {
          "label": "tensordot",
          "n": 200,
          "reduced": false,
          "time": 0.001404403031250001
         },
         {
          "label": "tensordot",
          "n": 200,
          "reduced": false,
          "time": 0.0013706737734375044
         },
         {
          "label": "tensordot",
          "n": 200,
          "reduced": false,
          "time": 0.0013720120468750097
         },
         {
          "label": "tensordot",
          "n": 200,
          "reduced": false,
          "time": 0.0014072031406250005
         },
         {
          "label": "tensordot",
          "n": 200,
          "reduced": false,
          "time": 0.0013957705078125049
         },
         {
          "label": "tensordot",
          "n": 200,
          "reduced": false,
          "time": 0.0013663907109374984
         },
         {
          "label": "tensordot",
          "n": 200,
          "reduced": false,
          "time": 0.001368112039062501
         },
         {
          "label": "tensordot",
          "n": 200,
          "reduced": false,
          "time": 0.0013919308124999974
         },
         {
          "label": "tensordot",
          "n": 200,
          "reduced": false,
          "time": 0.001407612210937506
         },
         {
          "label": "tensordot",
          "n": 200,
          "reduced": false,
          "time": 0.0013386731640624983
         },
         {
          "label": "tensordot",
          "n": 200,
          "reduced": false,
          "time": 0.0013960265468749983
         },
         {
          "label": "tensordot",
          "n": 200,
          "reduced": false,
          "time": 0.0013693677656250042
         },
         {
          "label": "tensordot",
          "n": 200,
          "reduced": false,
          "time": 0.001340872781250002
         },
         {
          "label": "tensordot",
          "n": 200,
          "reduced": false,
          "time": 0.001358269882812499
         },
         {
          "label": "tensordot",
          "n": 200,
          "reduced": false,
          "time": 0.0014065231328125039
         },
         {
          "label": "tensordot",
          "n": 200,
          "reduced": false,
          "time": 0.001393297937500003
         },
         {
          "label": "tensordot",
          "n": 200,
          "reduced": false,
          "time": 0.0013909961562499976
         },
         {
          "label": "tensordot",
          "n": 200,
          "reduced": false,
          "time": 0.001392110359375004
         },
         {
          "label": "tensordot",
          "n": 200,
          "reduced": false,
          "time": 0.001396796171874999
         },
         {
          "label": "tensordot",
          "n": 200,
          "reduced": false,
          "time": 0.001395380351562496
         },
         {
          "label": "tensordot",
          "n": 200,
          "reduced": false,
          "time": 0.0013859685156249885
         },
         {
          "label": "tensordot",
          "n": 200,
          "reduced": false,
          "time": 0.0013846329843750019
         },
         {
          "label": "tensordot",
          "n": 200,
          "reduced": false,
          "time": 0.0013709924218750016
         },
         {
          "label": "tensordot",
          "n": 200,
          "reduced": false,
          "time": 0.0013914831718749993
         },
         {
          "label": "tensordot",
          "n": 200,
          "reduced": false,
          "time": 0.0013811181328125047
         },
         {
          "label": "tensordot",
          "n": 200,
          "reduced": false,
          "time": 0.0014000719921875016
         },
         {
          "label": "tensordot",
          "n": 200,
          "reduced": false,
          "time": 0.0013575350156249943
         },
         {
          "label": "tensordot",
          "n": 200,
          "reduced": false,
          "time": 0.0013919971015625004
         },
         {
          "label": "tensordot",
          "n": 200,
          "reduced": false,
          "time": 0.0013922890468750018
         },
         {
          "label": "tensordot",
          "n": 200,
          "reduced": false,
          "time": 0.0013563474531250036
         },
         {
          "label": "tensordot",
          "n": 200,
          "reduced": false,
          "time": 0.0013848748046874984
         },
         {
          "label": "tensordot",
          "n": 200,
          "reduced": false,
          "time": 0.0013791373671874982
         },
         {
          "label": "tensordot",
          "n": 200,
          "reduced": false,
          "time": 0.0013942176796875039
         },
         {
          "label": "tensordot",
          "n": 200,
          "reduced": false,
          "time": 0.0013929831874999951
         },
         {
          "label": "tensordot",
          "n": 200,
          "reduced": false,
          "time": 0.001388994460937501
         },
         {
          "label": "tensordot",
          "n": 200,
          "reduced": false,
          "time": 0.0013546623203125052
         },
         {
          "label": "tensordot",
          "n": 200,
          "reduced": false,
          "time": 0.0013377086796875007
         },
         {
          "label": "tensordot",
          "n": 200,
          "reduced": false,
          "time": 0.0013851684687500032
         },
         {
          "label": "tensordot",
          "n": 200,
          "reduced": false,
          "time": 0.0013782454062499921
         },
         {
          "label": "tensordot",
          "n": 200,
          "reduced": false,
          "time": 0.0014026357656250002
         },
         {
          "label": "tensordot",
          "n": 200,
          "reduced": false,
          "time": 0.0013945416796874999
         },
         {
          "label": "tensordot",
          "n": 200,
          "reduced": false,
          "time": 0.0014027837656249986
         },
         {
          "label": "tensordot",
          "n": 200,
          "reduced": false,
          "time": 0.0014009237656249993
         },
         {
          "label": "tensordot",
          "n": 200,
          "reduced": false,
          "time": 0.001390864867187501
         },
         {
          "label": "tensordot",
          "n": 200,
          "reduced": false,
          "time": 0.0013940267734375011
         },
         {
          "label": "tensordot",
          "n": 200,
          "reduced": false,
          "time": 0.0013956139453124988
         },
         {
          "label": "tensordot",
          "n": 200,
          "reduced": false,
          "time": 0.0013454609218749997
         },
         {
          "label": "tensordot",
          "n": 200,
          "reduced": false,
          "time": 0.0013770591640624996
         },
         {
          "label": "tensordot",
          "n": 200,
          "reduced": false,
          "time": 0.0013856768125000002
         },
         {
          "label": "tensordot",
          "n": 200,
          "reduced": false,
          "time": 0.001379701382812501
         },
         {
          "label": "tensordot",
          "n": 200,
          "reduced": false,
          "time": 0.0013299829609375036
         },
         {
          "label": "tensordot",
          "n": 200,
          "reduced": false,
          "time": 0.0013956128046875016
         },
         {
          "label": "tensordot",
          "n": 200,
          "reduced": false,
          "time": 0.001396121679687501
         },
         {
          "label": "tensordot",
          "n": 200,
          "reduced": false,
          "time": 0.001341919671874997
         },
         {
          "label": "tensordot",
          "n": 200,
          "reduced": false,
          "time": 0.001376545109374995
         },
         {
          "label": "tensordot",
          "n": 200,
          "reduced": false,
          "time": 0.0013834783359375005
         },
         {
          "label": "tensordot",
          "n": 200,
          "reduced": false,
          "time": 0.0013992529062499953
         },
         {
          "label": "tensordot",
          "n": 200,
          "reduced": false,
          "time": 0.001391950085937503
         },
         {
          "label": "tensordot",
          "n": 200,
          "reduced": false,
          "time": 0.0013949625390625026
         },
         {
          "label": "tensordot",
          "n": 200,
          "reduced": false,
          "time": 0.0013962886953124976
         },
         {
          "label": "tensordot",
          "n": 200,
          "reduced": false,
          "time": 0.0014051061015624977
         },
         {
          "label": "tensordot",
          "n": 200,
          "reduced": false,
          "time": 0.0013923912109374964
         },
         {
          "label": "tensordot",
          "n": 200,
          "reduced": false,
          "time": 0.0013959497890625033
         },
         {
          "label": "tensordot",
          "n": 200,
          "reduced": false,
          "time": 0.0013707282500000015
         },
         {
          "label": "tensordot",
          "n": 200,
          "reduced": false,
          "time": 0.0014106418984374952
         },
         {
          "label": "tensordot",
          "n": 200,
          "reduced": false,
          "time": 0.0013896020937499975
         },
         {
          "label": "tensordot",
          "n": 200,
          "reduced": false,
          "time": 0.0013868860937499977
         },
         {
          "label": "tensordot",
          "n": 200,
          "reduced": false,
          "time": 0.001390470085937498
         },
         {
          "label": "tensordot",
          "n": 200,
          "reduced": false,
          "time": 0.001388163554687502
         },
         {
          "label": "tensordot",
          "n": 200,
          "reduced": false,
          "time": 0.0013924068359374986
         },
         {
          "label": "tensordot",
          "n": 200,
          "reduced": false,
          "time": 0.0013907631015624977
         },
         {
          "label": "tensordot",
          "n": 200,
          "reduced": false,
          "time": 0.0013478608906250106
         },
         {
          "label": "tensordot",
          "n": 200,
          "reduced": false,
          "time": 0.0013931497968749998
         },
         {
          "label": "tensordot",
          "n": 200,
          "reduced": false,
          "time": 0.001444550601562504
         },
         {
          "label": "tensordot",
          "n": 200,
          "reduced": false,
          "time": 0.0014050124609374937
         },
         {
          "label": "tensordot",
          "n": 200,
          "reduced": false,
          "time": 0.0014070105234375019
         },
         {
          "label": "tensordot",
          "n": 200,
          "reduced": false,
          "time": 0.0013848042421875026
         },
         {
          "label": "tensordot",
          "n": 200,
          "reduced": false,
          "time": 0.0013782733828125032
         },
         {
          "label": "tensordot",
          "n": 200,
          "reduced": false,
          "time": 0.001395974367187497
         },
         {
          "label": "tensordot",
          "n": 200,
          "reduced": false,
          "time": 0.0014002809296875043
         },
         {
          "label": "tensordot",
          "n": 200,
          "reduced": false,
          "time": 0.001391726695312498
         },
         {
          "label": "tensordot",
          "n": 200,
          "reduced": false,
          "time": 0.001329836960937504
         },
         {
          "label": "tensordot",
          "n": 200,
          "reduced": false,
          "time": 0.0013402975703125028
         },
         {
          "label": "tensordot",
          "n": 200,
          "reduced": false,
          "time": 0.0013959692656249911
         },
         {
          "label": "tensordot",
          "n": 200,
          "reduced": false,
          "time": 0.001394109664062497
         },
         {
          "label": "tensordot",
          "n": 200,
          "reduced": false,
          "time": 0.0013929851953124947
         },
         {
          "label": "tensordot",
          "n": 200,
          "reduced": false,
          "time": 0.0014055077500000068
         },
         {
          "label": "tensordot",
          "n": 200,
          "reduced": false,
          "time": 0.0013918023671875002
         },
         {
          "label": "tensordot",
          "n": 200,
          "reduced": false,
          "time": 0.0013945406328125035
         },
         {
          "label": "tensordot",
          "n": 200,
          "reduced": false,
          "time": 0.0013966981640625015
         },
         {
          "label": "tensordot",
          "n": 200,
          "reduced": false,
          "time": 0.0013572223281249976
         },
         {
          "label": "tensordot",
          "n": 200,
          "reduced": false,
          "time": 0.001345880015625002
         },
         {
          "label": "tensordot",
          "n": 200,
          "reduced": false,
          "time": 0.0014183669609375005
         },
         {
          "label": "tensordot",
          "n": 200,
          "reduced": false,
          "time": 0.0013951924218749967
         },
         {
          "label": "tensordot",
          "n": 200,
          "reduced": false,
          "time": 0.0013966725937500021
         },
         {
          "label": "tensordot",
          "n": 200,
          "reduced": false,
          "time": 0.0013788895781250005
         },
         {
          "label": "tensordot",
          "n": 200,
          "reduced": false,
          "time": 0.001393339570312506
         },
         {
          "label": "tensordot",
          "n": 200,
          "reduced": false,
          "time": 0.0013827070156249982
         },
         {
          "label": "tensordot",
          "n": 200,
          "reduced": false,
          "time": 0.0013960374140625093
         },
         {
          "label": "tensordot",
          "n": 200,
          "reduced": false,
          "time": 0.0013888251562499954
         },
         {
          "label": "tensordot",
          "n": 200,
          "reduced": false,
          "time": 0.0013968374375000064
         },
         {
          "label": "tensordot",
          "n": 200,
          "reduced": false,
          "time": 0.0013811057031250101
         },
         {
          "label": "tensordot",
          "n": 200,
          "reduced": false,
          "time": 0.0014006324296874997
         },
         {
          "label": "tensordot",
          "n": 200,
          "reduced": false,
          "time": 0.0013762228046875005
         },
         {
          "label": "tensordot",
          "n": 200,
          "reduced": false,
          "time": 0.0013931537031249969
         },
         {
          "label": "tensordot",
          "n": 200,
          "reduced": false,
          "time": 0.0013692100703124946
         },
         {
          "label": "tensordot",
          "n": 200,
          "reduced": false,
          "time": 0.0013909745625000011
         },
         {
          "label": "tensordot",
          "n": 200,
          "reduced": false,
          "time": 0.001376206132812502
         },
         {
          "label": "tensordot",
          "n": 200,
          "reduced": false,
          "time": 0.0013953990312500011
         },
         {
          "label": "tensordot",
          "n": 200,
          "reduced": false,
          "time": 0.0013952563828125014
         },
         {
          "label": "tensordot",
          "n": 200,
          "reduced": false,
          "time": 0.0013812420781249973
         },
         {
          "label": "tensordot",
          "n": 200,
          "reduced": false,
          "time": 0.0013939746484374974
         },
         {
          "label": "tensordot",
          "n": 200,
          "reduced": false,
          "time": 0.0013925735703124997
         },
         {
          "label": "tensordot",
          "n": 200,
          "reduced": false,
          "time": 0.001392033625000011
         },
         {
          "label": "tensordot",
          "n": 200,
          "reduced": false,
          "time": 0.0013959767812499954
         },
         {
          "label": "tensordot",
          "n": 200,
          "reduced": false,
          "time": 0.001387028749999998
         },
         {
          "label": "tensordot",
          "n": 200,
          "reduced": false,
          "time": 0.0013953725624999969
         },
         {
          "label": "inner",
          "n": 10,
          "reduced": false,
          "time": 1.1727929016113283e-05
         },
         {
          "label": "inner",
          "n": 10,
          "reduced": false,
          "time": 1.1703582336425784e-05
         },
         {
          "label": "inner",
          "n": 10,
          "reduced": false,
          "time": 1.1643177490234373e-05
         },
         {
          "label": "inner",
          "n": 10,
          "reduced": false,
          "time": 1.2501085388183596e-05
         },
         {
          "label": "inner",
          "n": 10,
          "reduced": false,
          "time": 1.2190350952148443e-05
         },
         {
          "label": "inner",
          "n": 10,
          "reduced": false,
          "time": 1.2010801452636714e-05
         },
         {
          "label": "inner",
          "n": 10,
          "reduced": false,
          "time": 1.1616417785644535e-05
         },
         {
          "label": "inner",
          "n": 10,
          "reduced": false,
          "time": 1.1585284973144534e-05
         },
         {
          "label": "inner",
          "n": 10,
          "reduced": false,
          "time": 1.1518857177734372e-05
         },
         {
          "label": "inner",
          "n": 10,
          "reduced": false,
          "time": 1.2129629394531253e-05
         },
         {
          "label": "inner",
          "n": 10,
          "reduced": false,
          "time": 1.2294898620605473e-05
         },
         {
          "label": "inner",
          "n": 10,
          "reduced": false,
          "time": 1.2202813842773442e-05
         },
         {
          "label": "inner",
          "n": 10,
          "reduced": false,
          "time": 1.189901824951172e-05
         },
         {
          "label": "inner",
          "n": 10,
          "reduced": false,
          "time": 1.1880500610351561e-05
         },
         {
          "label": "inner",
          "n": 10,
          "reduced": false,
          "time": 1.1949815185546876e-05
         },
         {
          "label": "inner",
          "n": 10,
          "reduced": false,
          "time": 1.191161761474609e-05
         },
         {
          "label": "inner",
          "n": 10,
          "reduced": false,
          "time": 1.1858842407226564e-05
         },
         {
          "label": "inner",
          "n": 10,
          "reduced": false,
          "time": 1.1796388793945315e-05
         },
         {
          "label": "inner",
          "n": 10,
          "reduced": false,
          "time": 1.2535562377929687e-05
         },
         {
          "label": "inner",
          "n": 10,
          "reduced": false,
          "time": 1.260595922851562e-05
         },
         {
          "label": "inner",
          "n": 10,
          "reduced": false,
          "time": 1.2518646728515628e-05
         },
         {
          "label": "inner",
          "n": 10,
          "reduced": false,
          "time": 1.1968154907226567e-05
         },
         {
          "label": "inner",
          "n": 10,
          "reduced": false,
          "time": 1.1900630126953123e-05
         },
         {
          "label": "inner",
          "n": 10,
          "reduced": false,
          "time": 1.1971808715820315e-05
         },
         {
          "label": "inner",
          "n": 10,
          "reduced": false,
          "time": 1.2027305053710938e-05
         },
         {
          "label": "inner",
          "n": 10,
          "reduced": false,
          "time": 1.2054950683593748e-05
         },
         {
          "label": "inner",
          "n": 10,
          "reduced": false,
          "time": 1.2047830993652343e-05
         },
         {
          "label": "inner",
          "n": 10,
          "reduced": false,
          "time": 1.1974426025390629e-05
         },
         {
          "label": "inner",
          "n": 10,
          "reduced": false,
          "time": 1.1771148681640628e-05
         },
         {
          "label": "inner",
          "n": 10,
          "reduced": false,
          "time": 1.1856517578125002e-05
         },
         {
          "label": "inner",
          "n": 10,
          "reduced": false,
          "time": 1.2175037902832034e-05
         },
         {
          "label": "inner",
          "n": 10,
          "reduced": false,
          "time": 1.2277084045410156e-05
         },
         {
          "label": "inner",
          "n": 10,
          "reduced": false,
          "time": 1.2090135009765623e-05
         },
         {
          "label": "inner",
          "n": 10,
          "reduced": false,
          "time": 1.1850162414550782e-05
         },
         {
          "label": "inner",
          "n": 10,
          "reduced": false,
          "time": 1.186707946777344e-05
         },
         {
          "label": "inner",
          "n": 10,
          "reduced": false,
          "time": 1.1799008178710943e-05
         },
         {
          "label": "inner",
          "n": 10,
          "reduced": false,
          "time": 1.164336798095703e-05
         },
         {
          "label": "inner",
          "n": 10,
          "reduced": false,
          "time": 1.1655056213378905e-05
         },
         {
          "label": "inner",
          "n": 10,
          "reduced": false,
          "time": 1.1602815368652345e-05
         },
         {
          "label": "inner",
          "n": 10,
          "reduced": false,
          "time": 1.1786714660644531e-05
         },
         {
          "label": "inner",
          "n": 10,
          "reduced": false,
          "time": 1.167253625488281e-05
         },
         {
          "label": "inner",
          "n": 10,
          "reduced": false,
          "time": 1.1708157287597657e-05
         },
         {
          "label": "inner",
          "n": 10,
          "reduced": false,
          "time": 1.1721837768554689e-05
         },
         {
          "label": "inner",
          "n": 10,
          "reduced": false,
          "time": 1.1760130737304686e-05
         },
         {
          "label": "inner",
          "n": 10,
          "reduced": false,
          "time": 1.1840638305664064e-05
         },
         {
          "label": "inner",
          "n": 10,
          "reduced": false,
          "time": 1.1827718383789061e-05
         },
         {
          "label": "inner",
          "n": 10,
          "reduced": false,
          "time": 1.1882172119140628e-05
         },
         {
          "label": "inner",
          "n": 10,
          "reduced": false,
          "time": 1.1901667358398435e-05
         },
         {
          "label": "inner",
          "n": 10,
          "reduced": false,
          "time": 1.2073825134277346e-05
         },
         {
          "label": "inner",
          "n": 10,
          "reduced": false,
          "time": 1.1968524536132809e-05
         },
         {
          "label": "inner",
          "n": 10,
          "reduced": false,
          "time": 1.2031458923339848e-05
         },
         {
          "label": "inner",
          "n": 10,
          "reduced": false,
          "time": 1.227714971923828e-05
         },
         {
          "label": "inner",
          "n": 10,
          "reduced": false,
          "time": 1.2033813232421872e-05
         },
         {
          "label": "inner",
          "n": 10,
          "reduced": false,
          "time": 1.2055209472656254e-05
         },
         {
          "label": "inner",
          "n": 10,
          "reduced": false,
          "time": 1.2229508789062497e-05
         },
         {
          "label": "inner",
          "n": 10,
          "reduced": false,
          "time": 1.226800793457031e-05
         },
         {
          "label": "inner",
          "n": 10,
          "reduced": false,
          "time": 1.209733782958984e-05
         },
         {
          "label": "inner",
          "n": 10,
          "reduced": false,
          "time": 1.2106828247070313e-05
         },
         {
          "label": "inner",
          "n": 10,
          "reduced": false,
          "time": 1.2257036254882812e-05
         },
         {
          "label": "inner",
          "n": 10,
          "reduced": false,
          "time": 1.2226488037109377e-05
         },
         {
          "label": "inner",
          "n": 10,
          "reduced": false,
          "time": 1.204041516113281e-05
         },
         {
          "label": "inner",
          "n": 10,
          "reduced": false,
          "time": 1.2125541564941407e-05
         },
         {
          "label": "inner",
          "n": 10,
          "reduced": false,
          "time": 1.1976446777343747e-05
         },
         {
          "label": "inner",
          "n": 10,
          "reduced": false,
          "time": 1.1808000122070308e-05
         },
         {
          "label": "inner",
          "n": 10,
          "reduced": false,
          "time": 1.168697088623047e-05
         },
         {
          "label": "inner",
          "n": 10,
          "reduced": false,
          "time": 1.1771599243164062e-05
         },
         {
          "label": "inner",
          "n": 10,
          "reduced": false,
          "time": 1.200935919189453e-05
         },
         {
          "label": "inner",
          "n": 10,
          "reduced": false,
          "time": 1.199655981445312e-05
         },
         {
          "label": "inner",
          "n": 10,
          "reduced": false,
          "time": 1.1877111206054688e-05
         },
         {
          "label": "inner",
          "n": 10,
          "reduced": false,
          "time": 1.2008099914550779e-05
         },
         {
          "label": "inner",
          "n": 10,
          "reduced": false,
          "time": 1.1778815856933594e-05
         },
         {
          "label": "inner",
          "n": 10,
          "reduced": false,
          "time": 1.1798676513671876e-05
         },
         {
          "label": "inner",
          "n": 10,
          "reduced": false,
          "time": 1.1645013183593748e-05
         },
         {
          "label": "inner",
          "n": 10,
          "reduced": false,
          "time": 1.1665314147949222e-05
         },
         {
          "label": "inner",
          "n": 10,
          "reduced": false,
          "time": 1.1745463806152342e-05
         },
         {
          "label": "inner",
          "n": 10,
          "reduced": false,
          "time": 1.1821881652832027e-05
         },
         {
          "label": "inner",
          "n": 10,
          "reduced": false,
          "time": 1.188270501708984e-05
         },
         {
          "label": "inner",
          "n": 10,
          "reduced": false,
          "time": 1.1976196166992184e-05
         },
         {
          "label": "inner",
          "n": 10,
          "reduced": false,
          "time": 1.1685295837402343e-05
         },
         {
          "label": "inner",
          "n": 10,
          "reduced": false,
          "time": 1.165992370605469e-05
         },
         {
          "label": "inner",
          "n": 10,
          "reduced": false,
          "time": 1.158289990234375e-05
         },
         {
          "label": "inner",
          "n": 10,
          "reduced": false,
          "time": 1.2469604797363278e-05
         },
         {
          "label": "inner",
          "n": 10,
          "reduced": false,
          "time": 1.2426867431640628e-05
         },
         {
          "label": "inner",
          "n": 10,
          "reduced": false,
          "time": 1.2316240417480468e-05
         },
         {
          "label": "inner",
          "n": 10,
          "reduced": false,
          "time": 1.212824566650391e-05
         },
         {
          "label": "inner",
          "n": 10,
          "reduced": false,
          "time": 1.2154335083007815e-05
         },
         {
          "label": "inner",
          "n": 10,
          "reduced": false,
          "time": 1.2083321716308595e-05
         },
         {
          "label": "inner",
          "n": 10,
          "reduced": false,
          "time": 1.1892646667480466e-05
         },
         {
          "label": "inner",
          "n": 10,
          "reduced": false,
          "time": 1.1955565063476563e-05
         },
         {
          "label": "inner",
          "n": 10,
          "reduced": false,
          "time": 1.200807293701172e-05
         },
         {
          "label": "inner",
          "n": 10,
          "reduced": false,
          "time": 1.1794128356933595e-05
         },
         {
          "label": "inner",
          "n": 10,
          "reduced": false,
          "time": 1.1885867492675776e-05
         },
         {
          "label": "inner",
          "n": 10,
          "reduced": false,
          "time": 1.1892974121093753e-05
         },
         {
          "label": "inner",
          "n": 10,
          "reduced": false,
          "time": 1.2265330017089843e-05
         },
         {
          "label": "inner",
          "n": 10,
          "reduced": false,
          "time": 1.224527410888672e-05
         },
         {
          "label": "inner",
          "n": 10,
          "reduced": false,
          "time": 1.220921405029297e-05
         },
         {
          "label": "inner",
          "n": 10,
          "reduced": false,
          "time": 1.1893735351562502e-05
         },
         {
          "label": "inner",
          "n": 10,
          "reduced": false,
          "time": 1.1935826232910153e-05
         },
         {
          "label": "inner",
          "n": 10,
          "reduced": false,
          "time": 1.1917080810546874e-05
         },
         {
          "label": "inner",
          "n": 10,
          "reduced": false,
          "time": 1.1694669799804687e-05
         },
         {
          "label": "inner",
          "n": 10,
          "reduced": false,
          "time": 1.152398876953125e-05
         },
         {
          "label": "inner",
          "n": 10,
          "reduced": false,
          "time": 1.1697109252929688e-05
         },
         {
          "label": "inner",
          "n": 10,
          "reduced": false,
          "time": 1.1892716796875e-05
         },
         {
          "label": "inner",
          "n": 10,
          "reduced": false,
          "time": 1.1956916015624998e-05
         },
         {
          "label": "inner",
          "n": 10,
          "reduced": false,
          "time": 1.1933749511718751e-05
         },
         {
          "label": "inner",
          "n": 10,
          "reduced": false,
          "time": 1.160562957763672e-05
         },
         {
          "label": "inner",
          "n": 10,
          "reduced": false,
          "time": 1.1633799804687501e-05
         },
         {
          "label": "inner",
          "n": 10,
          "reduced": false,
          "time": 1.1648768432617187e-05
         },
         {
          "label": "inner",
          "n": 10,
          "reduced": false,
          "time": 1.183814636230469e-05
         },
         {
          "label": "inner",
          "n": 10,
          "reduced": false,
          "time": 1.1857015014648438e-05
         },
         {
          "label": "inner",
          "n": 10,
          "reduced": false,
          "time": 1.1884719238281254e-05
         },
         {
          "label": "inner",
          "n": 10,
          "reduced": false,
          "time": 1.2243323059082034e-05
         },
         {
          "label": "inner",
          "n": 10,
          "reduced": false,
          "time": 1.221522491455078e-05
         },
         {
          "label": "inner",
          "n": 10,
          "reduced": false,
          "time": 1.2183452331542971e-05
         },
         {
          "label": "inner",
          "n": 10,
          "reduced": false,
          "time": 1.1875936645507815e-05
         },
         {
          "label": "inner",
          "n": 10,
          "reduced": false,
          "time": 1.1941725769042968e-05
         },
         {
          "label": "inner",
          "n": 10,
          "reduced": false,
          "time": 1.1876954040527344e-05
         },
         {
          "label": "inner",
          "n": 10,
          "reduced": false,
          "time": 1.1683485412597656e-05
         },
         {
          "label": "inner",
          "n": 10,
          "reduced": false,
          "time": 1.170367095947266e-05
         },
         {
          "label": "inner",
          "n": 10,
          "reduced": false,
          "time": 1.1683945678710934e-05
         },
         {
          "label": "dask",
          "n": 300,
          "reduced": true,
          "time": 0.4065342850000011
         },
         {
          "label": "dask",
          "n": 300,
          "reduced": true,
          "time": 0.3923740430000002
         },
         {
          "label": "dask",
          "n": 300,
          "reduced": true,
          "time": 0.3959682650000005
         },
         {
          "label": "dask",
          "n": 300,
          "reduced": true,
          "time": 0.40243258400000137
         },
         {
          "label": "dask",
          "n": 300,
          "reduced": true,
          "time": 0.3829147759999998
         },
         {
          "label": "dask",
          "n": 300,
          "reduced": true,
          "time": 0.3818553449999982
         },
         {
          "label": "dask",
          "n": 300,
          "reduced": true,
          "time": 0.40815656400000044
         },
         {
          "label": "dask",
          "n": 300,
          "reduced": true,
          "time": 0.3812536489999978
         },
         {
          "label": "dask",
          "n": 300,
          "reduced": true,
          "time": 0.38987553599999814
         },
         {
          "label": "dask",
          "n": 300,
          "reduced": true,
          "time": 0.4130036019999981
         },
         {
          "label": "dask",
          "n": 300,
          "reduced": true,
          "time": 0.38875973300000055
         },
         {
          "label": "dask",
          "n": 300,
          "reduced": true,
          "time": 0.39810564599999765
         },
         {
          "label": "dask",
          "n": 300,
          "reduced": true,
          "time": 0.409557705000001
         },
         {
          "label": "dask",
          "n": 300,
          "reduced": true,
          "time": 0.3956711350000006
         },
         {
          "label": "dask",
          "n": 300,
          "reduced": true,
          "time": 0.37640622199999996
         },
         {
          "label": "dask",
          "n": 300,
          "reduced": true,
          "time": 0.4179893399999983
         },
         {
          "label": "dask",
          "n": 300,
          "reduced": true,
          "time": 0.42059549100000027
         },
         {
          "label": "dask",
          "n": 300,
          "reduced": true,
          "time": 0.3967938639999957
         },
         {
          "label": "dask",
          "n": 300,
          "reduced": true,
          "time": 0.41199365400000154
         },
         {
          "label": "dask",
          "n": 300,
          "reduced": true,
          "time": 0.402830569999999
         },
         {
          "label": "dask",
          "n": 300,
          "reduced": true,
          "time": 0.4017074550000004
         },
         {
          "label": "dask",
          "n": 300,
          "reduced": true,
          "time": 0.39372964899999907
         },
         {
          "label": "dask",
          "n": 300,
          "reduced": true,
          "time": 0.3911299899999996
         },
         {
          "label": "dask",
          "n": 300,
          "reduced": true,
          "time": 0.3918755830000009
         },
         {
          "label": "dask",
          "n": 300,
          "reduced": true,
          "time": 0.4075530480000005
         },
         {
          "label": "dask",
          "n": 300,
          "reduced": true,
          "time": 0.3885926280000014
         },
         {
          "label": "dask",
          "n": 300,
          "reduced": true,
          "time": 0.4112807079999996
         },
         {
          "label": "dask",
          "n": 300,
          "reduced": true,
          "time": 0.4328013559999988
         },
         {
          "label": "dask",
          "n": 300,
          "reduced": true,
          "time": 0.3965416270000013
         },
         {
          "label": "dask",
          "n": 300,
          "reduced": true,
          "time": 0.3913319979999983
         },
         {
          "label": "dask",
          "n": 300,
          "reduced": true,
          "time": 0.4112829929999986
         },
         {
          "label": "dask",
          "n": 300,
          "reduced": true,
          "time": 0.39363016599999767
         },
         {
          "label": "dask",
          "n": 300,
          "reduced": true,
          "time": 0.38647521300000065
         },
         {
          "label": "dask",
          "n": 300,
          "reduced": true,
          "time": 0.414947402000001
         },
         {
          "label": "dask",
          "n": 300,
          "reduced": true,
          "time": 0.4134758739999995
         },
         {
          "label": "dask",
          "n": 300,
          "reduced": true,
          "time": 0.39366956499999617
         },
         {
          "label": "dask",
          "n": 300,
          "reduced": true,
          "time": 0.4068415219999988
         },
         {
          "label": "dask",
          "n": 300,
          "reduced": true,
          "time": 0.3838300459999999
         },
         {
          "label": "dask",
          "n": 300,
          "reduced": true,
          "time": 0.3832846360000026
         },
         {
          "label": "dask",
          "n": 300,
          "reduced": true,
          "time": 0.42488733899999964
         },
         {
          "label": "dask",
          "n": 300,
          "reduced": true,
          "time": 0.38467892200000264
         },
         {
          "label": "dask",
          "n": 300,
          "reduced": true,
          "time": 0.3967391919999983
         },
         {
          "label": "dask",
          "n": 300,
          "reduced": true,
          "time": 0.38782365500000004
         },
         {
          "label": "dask",
          "n": 300,
          "reduced": true,
          "time": 0.3918904939999983
         },
         {
          "label": "dask",
          "n": 300,
          "reduced": true,
          "time": 0.38949920700000007
         },
         {
          "label": "dask",
          "n": 300,
          "reduced": true,
          "time": 0.4219483729999993
         },
         {
          "label": "dask",
          "n": 300,
          "reduced": true,
          "time": 0.408885386999998
         },
         {
          "label": "dask",
          "n": 300,
          "reduced": true,
          "time": 0.4051609670000005
         },
         {
          "label": "dask",
          "n": 300,
          "reduced": true,
          "time": 0.41043029000000075
         },
         {
          "label": "dask",
          "n": 300,
          "reduced": true,
          "time": 0.40551401999999825
         },
         {
          "label": "dask",
          "n": 300,
          "reduced": true,
          "time": 0.4179394700000003
         },
         {
          "label": "dask",
          "n": 300,
          "reduced": true,
          "time": 0.4130464759999999
         },
         {
          "label": "dask",
          "n": 300,
          "reduced": true,
          "time": 0.3974315500000003
         },
         {
          "label": "dask",
          "n": 300,
          "reduced": true,
          "time": 0.3876037719999985
         },
         {
          "label": "dask",
          "n": 300,
          "reduced": true,
          "time": 0.4293095609999984
         },
         {
          "label": "dask",
          "n": 300,
          "reduced": true,
          "time": 0.38575532600000173
         },
         {
          "label": "dask",
          "n": 300,
          "reduced": true,
          "time": 0.373497111999999
         },
         {
          "label": "dask",
          "n": 300,
          "reduced": true,
          "time": 0.41626067000000155
         },
         {
          "label": "dask",
          "n": 300,
          "reduced": true,
          "time": 0.3865024669999997
         },
         {
          "label": "dask",
          "n": 300,
          "reduced": true,
          "time": 0.3836850709999986
         },
         {
          "label": "dask",
          "n": 300,
          "reduced": true,
          "time": 0.40404293599999974
         },
         {
          "label": "dask",
          "n": 300,
          "reduced": true,
          "time": 0.40344169999999835
         },
         {
          "label": "dask",
          "n": 300,
          "reduced": true,
          "time": 0.3931949689999996
         },
         {
          "label": "dask",
          "n": 300,
          "reduced": true,
          "time": 0.3856204569999999
         },
         {
          "label": "dask",
          "n": 300,
          "reduced": true,
          "time": 0.38250149899999997
         },
         {
          "label": "dask",
          "n": 300,
          "reduced": true,
          "time": 0.3716724900000017
         },
         {
          "label": "dask",
          "n": 300,
          "reduced": true,
          "time": 0.4171850140000011
         },
         {
          "label": "dask",
          "n": 300,
          "reduced": true,
          "time": 0.40235342500000115
         },
         {
          "label": "dask",
          "n": 300,
          "reduced": true,
          "time": 0.395353250000003
         },
         {
          "label": "dask",
          "n": 300,
          "reduced": true,
          "time": 0.4067590050000014
         },
         {
          "label": "dask",
          "n": 300,
          "reduced": true,
          "time": 0.3943680940000007
         },
         {
          "label": "dask",
          "n": 300,
          "reduced": true,
          "time": 0.3923406319999998
         },
         {
          "label": "dask",
          "n": 300,
          "reduced": true,
          "time": 0.39480660899999975
         },
         {
          "label": "dask",
          "n": 300,
          "reduced": true,
          "time": 0.3941335710000011
         },
         {
          "label": "dask",
          "n": 300,
          "reduced": true,
          "time": 0.38019678099999865
         },
         {
          "label": "dask",
          "n": 300,
          "reduced": true,
          "time": 0.4052212379999993
         },
         {
          "label": "dask",
          "n": 300,
          "reduced": true,
          "time": 0.4158052689999998
         },
         {
          "label": "dask",
          "n": 300,
          "reduced": true,
          "time": 0.3848949260000012
         },
         {
          "label": "dask",
          "n": 300,
          "reduced": true,
          "time": 0.41237128099999865
         },
         {
          "label": "dask",
          "n": 300,
          "reduced": true,
          "time": 0.42820372199999923
         },
         {
          "label": "dask",
          "n": 300,
          "reduced": true,
          "time": 0.40068915599999855
         },
         {
          "label": "dask",
          "n": 300,
          "reduced": true,
          "time": 0.40474885999999977
         },
         {
          "label": "dask",
          "n": 300,
          "reduced": true,
          "time": 0.4150588120000016
         },
         {
          "label": "dask",
          "n": 300,
          "reduced": true,
          "time": 0.3883562040000008
         },
         {
          "label": "dask",
          "n": 300,
          "reduced": true,
          "time": 0.4086476990000012
         },
         {
          "label": "dask",
          "n": 300,
          "reduced": true,
          "time": 0.38948516499999997
         },
         {
          "label": "dask",
          "n": 300,
          "reduced": true,
          "time": 0.3903141750000003
         },
         {
          "label": "dask",
          "n": 300,
          "reduced": true,
          "time": 0.39392118499999995
         },
         {
          "label": "dask",
          "n": 300,
          "reduced": true,
          "time": 0.39595490600000005
         },
         {
          "label": "dask",
          "n": 300,
          "reduced": true,
          "time": 0.40319242099999997
         },
         {
          "label": "dask",
          "n": 300,
          "reduced": true,
          "time": 0.4087332590000017
         },
         {
          "label": "dask",
          "n": 300,
          "reduced": true,
          "time": 0.39757507000000203
         },
         {
          "label": "dask",
          "n": 300,
          "reduced": true,
          "time": 0.4134528639999999
         },
         {
          "label": "dask",
          "n": 300,
          "reduced": true,
          "time": 0.40499956000000026
         },
         {
          "label": "dask",
          "n": 300,
          "reduced": true,
          "time": 0.3953141659999986
         },
         {
          "label": "dask",
          "n": 300,
          "reduced": true,
          "time": 0.38326629600000217
         },
         {
          "label": "dask",
          "n": 300,
          "reduced": true,
          "time": 0.43027598499999975
         },
         {
          "label": "dask",
          "n": 300,
          "reduced": true,
          "time": 0.4039249269999985
         },
         {
          "label": "dask",
          "n": 300,
          "reduced": true,
          "time": 0.39931668100000195
         },
         {
          "label": "dask",
          "n": 300,
          "reduced": true,
          "time": 0.4102894020000001
         },
         {
          "label": "dask",
          "n": 300,
          "reduced": true,
          "time": 0.4055345380000013
         },
         {
          "label": "dask",
          "n": 300,
          "reduced": true,
          "time": 0.40010355100000083
         },
         {
          "label": "dask",
          "n": 300,
          "reduced": true,
          "time": 0.4057652090000019
         },
         {
          "label": "dask",
          "n": 300,
          "reduced": true,
          "time": 0.42275011599999957
         },
         {
          "label": "dask",
          "n": 300,
          "reduced": true,
          "time": 0.3955266919999971
         },
         {
          "label": "dask",
          "n": 300,
          "reduced": true,
          "time": 0.4214067039999989
         },
         {
          "label": "dask",
          "n": 300,
          "reduced": true,
          "time": 0.38492660300000026
         },
         {
          "label": "dask",
          "n": 300,
          "reduced": true,
          "time": 0.40427771899999954
         },
         {
          "label": "dask",
          "n": 300,
          "reduced": true,
          "time": 0.42875808299999996
         },
         {
          "label": "dask",
          "n": 300,
          "reduced": true,
          "time": 0.39341135000000094
         },
         {
          "label": "dask",
          "n": 300,
          "reduced": true,
          "time": 0.4050522470000004
         },
         {
          "label": "dask",
          "n": 300,
          "reduced": true,
          "time": 0.4099611860000021
         },
         {
          "label": "dask",
          "n": 300,
          "reduced": true,
          "time": 0.3944799659999987
         },
         {
          "label": "dask",
          "n": 300,
          "reduced": true,
          "time": 0.37588577400000034
         },
         {
          "label": "dask",
          "n": 300,
          "reduced": true,
          "time": 0.4110461910000005
         },
         {
          "label": "dask",
          "n": 300,
          "reduced": true,
          "time": 0.39444595999999876
         },
         {
          "label": "dask",
          "n": 300,
          "reduced": true,
          "time": 0.40366034600000233
         },
         {
          "label": "dask",
          "n": 300,
          "reduced": true,
          "time": 0.3986170530000006
         },
         {
          "label": "dask",
          "n": 300,
          "reduced": true,
          "time": 0.407030816999999
         },
         {
          "label": "dask",
          "n": 300,
          "reduced": true,
          "time": 0.3953785690000018
         },
         {
          "label": "inner",
          "n": 200,
          "reduced": false,
          "time": 0.0013625312187499974
         },
         {
          "label": "inner",
          "n": 200,
          "reduced": false,
          "time": 0.0013654001718749961
         },
         {
          "label": "inner",
          "n": 200,
          "reduced": false,
          "time": 0.0013894720312500053
         },
         {
          "label": "inner",
          "n": 200,
          "reduced": false,
          "time": 0.0013622865390625002
         },
         {
          "label": "inner",
          "n": 200,
          "reduced": false,
          "time": 0.0013371976250000014
         },
         {
          "label": "inner",
          "n": 200,
          "reduced": false,
          "time": 0.0013696857578125027
         },
         {
          "label": "inner",
          "n": 200,
          "reduced": false,
          "time": 0.001348493249999999
         },
         {
          "label": "inner",
          "n": 200,
          "reduced": false,
          "time": 0.0013659961718750016
         },
         {
          "label": "inner",
          "n": 200,
          "reduced": false,
          "time": 0.0013680128984374929
         },
         {
          "label": "inner",
          "n": 200,
          "reduced": false,
          "time": 0.0013710412656250046
         },
         {
          "label": "inner",
          "n": 200,
          "reduced": false,
          "time": 0.0014674267734375024
         },
         {
          "label": "inner",
          "n": 200,
          "reduced": false,
          "time": 0.0013737718281250089
         },
         {
          "label": "inner",
          "n": 200,
          "reduced": false,
          "time": 0.0013721047812500012
         },
         {
          "label": "inner",
          "n": 200,
          "reduced": false,
          "time": 0.0013649178437499937
         },
         {
          "label": "inner",
          "n": 200,
          "reduced": false,
          "time": 0.0013756201015625025
         },
         {
          "label": "inner",
          "n": 200,
          "reduced": false,
          "time": 0.0013657308671875049
         },
         {
          "label": "inner",
          "n": 200,
          "reduced": false,
          "time": 0.0013667643046875039
         },
         {
          "label": "inner",
          "n": 200,
          "reduced": false,
          "time": 0.001361437382812497
         },
         {
          "label": "inner",
          "n": 200,
          "reduced": false,
          "time": 0.0013390156328125027
         },
         {
          "label": "inner",
          "n": 200,
          "reduced": false,
          "time": 0.0013391108593749992
         },
         {
          "label": "inner",
          "n": 200,
          "reduced": false,
          "time": 0.0013616378437499993
         },
         {
          "label": "inner",
          "n": 200,
          "reduced": false,
          "time": 0.001360757203125
         },
         {
          "label": "inner",
          "n": 200,
          "reduced": false,
          "time": 0.0013629855156249981
         },
         {
          "label": "inner",
          "n": 200,
          "reduced": false,
          "time": 0.0013736851406249972
         },
         {
          "label": "inner",
          "n": 200,
          "reduced": false,
          "time": 0.0013153571093749983
         },
         {
          "label": "inner",
          "n": 200,
          "reduced": false,
          "time": 0.001330475687499999
         },
         {
          "label": "inner",
          "n": 200,
          "reduced": false,
          "time": 0.0013729724453125092
         },
         {
          "label": "inner",
          "n": 200,
          "reduced": false,
          "time": 0.0013658238828124988
         },
         {
          "label": "inner",
          "n": 200,
          "reduced": false,
          "time": 0.0013268466796875003
         },
         {
          "label": "inner",
          "n": 200,
          "reduced": false,
          "time": 0.0013618943984374937
         },
         {
          "label": "inner",
          "n": 200,
          "reduced": false,
          "time": 0.0013556670234374998
         },
         {
          "label": "inner",
          "n": 200,
          "reduced": false,
          "time": 0.001364355171874998
         },
         {
          "label": "inner",
          "n": 200,
          "reduced": false,
          "time": 0.0013701935624999967
         },
         {
          "label": "inner",
          "n": 200,
          "reduced": false,
          "time": 0.0013518911015625024
         },
         {
          "label": "inner",
          "n": 200,
          "reduced": false,
          "time": 0.0013039726718750005
         },
         {
          "label": "inner",
          "n": 200,
          "reduced": false,
          "time": 0.0013676375468749946
         },
         {
          "label": "inner",
          "n": 200,
          "reduced": false,
          "time": 0.0013392924140624984
         },
         {
          "label": "inner",
          "n": 200,
          "reduced": false,
          "time": 0.0013263461953125014
         },
         {
          "label": "inner",
          "n": 200,
          "reduced": false,
          "time": 0.0013635337499999928
         },
         {
          "label": "inner",
          "n": 200,
          "reduced": false,
          "time": 0.0013676568828124985
         },
         {
          "label": "inner",
          "n": 200,
          "reduced": false,
          "time": 0.0013658220625000009
         },
         {
          "label": "inner",
          "n": 200,
          "reduced": false,
          "time": 0.0013831040625000013
         },
         {
          "label": "inner",
          "n": 200,
          "reduced": false,
          "time": 0.0013043594375000064
         },
         {
          "label": "inner",
          "n": 200,
          "reduced": false,
          "time": 0.0016983763359375015
         },
         {
          "label": "inner",
          "n": 200,
          "reduced": false,
          "time": 0.0013333497343750028
         },
         {
          "label": "inner",
          "n": 200,
          "reduced": false,
          "time": 0.001373602664062501
         },
         {
          "label": "inner",
          "n": 200,
          "reduced": false,
          "time": 0.0013474874921875005
         },
         {
          "label": "inner",
          "n": 200,
          "reduced": false,
          "time": 0.0013667624296875014
         },
         {
          "label": "inner",
          "n": 200,
          "reduced": false,
          "time": 0.0013611826015624967
         },
         {
          "label": "inner",
          "n": 200,
          "reduced": false,
          "time": 0.0013660389296875006
         },
         {
          "label": "inner",
          "n": 200,
          "reduced": false,
          "time": 0.0013625461328125033
         },
         {
          "label": "inner",
          "n": 200,
          "reduced": false,
          "time": 0.001305487359374996
         },
         {
          "label": "inner",
          "n": 200,
          "reduced": false,
          "time": 0.0013683708593750024
         },
         {
          "label": "inner",
          "n": 200,
          "reduced": false,
          "time": 0.0013659188749999968
         },
         {
          "label": "inner",
          "n": 200,
          "reduced": false,
          "time": 0.0013629628281250014
         },
         {
          "label": "inner",
          "n": 200,
          "reduced": false,
          "time": 0.0013656280546874983
         },
         {
          "label": "inner",
          "n": 200,
          "reduced": false,
          "time": 0.0013768635468749957
         },
         {
          "label": "inner",
          "n": 200,
          "reduced": false,
          "time": 0.0013583074999999958
         },
         {
          "label": "inner",
          "n": 200,
          "reduced": false,
          "time": 0.0013540438984375042
         },
         {
          "label": "inner",
          "n": 200,
          "reduced": false,
          "time": 0.0013671061015625013
         },
         {
          "label": "inner",
          "n": 200,
          "reduced": false,
          "time": 0.0013766230937499943
         },
         {
          "label": "inner",
          "n": 200,
          "reduced": false,
          "time": 0.001360468507812504
         },
         {
          "label": "inner",
          "n": 200,
          "reduced": false,
          "time": 0.0013855135312499933
         },
         {
          "label": "inner",
          "n": 200,
          "reduced": false,
          "time": 0.001370557640624999
         },
         {
          "label": "inner",
          "n": 200,
          "reduced": false,
          "time": 0.0013553357421874981
         },
         {
          "label": "inner",
          "n": 200,
          "reduced": false,
          "time": 0.001365179539062511
         },
         {
          "label": "inner",
          "n": 200,
          "reduced": false,
          "time": 0.0013644880937500048
         },
         {
          "label": "inner",
          "n": 200,
          "reduced": false,
          "time": 0.001363605492187503
         },
         {
          "label": "inner",
          "n": 200,
          "reduced": false,
          "time": 0.0013614173593750056
         },
         {
          "label": "inner",
          "n": 200,
          "reduced": false,
          "time": 0.0013689903671874962
         },
         {
          "label": "inner",
          "n": 200,
          "reduced": false,
          "time": 0.0013659496406249957
         },
         {
          "label": "inner",
          "n": 200,
          "reduced": false,
          "time": 0.001312118671875001
         },
         {
          "label": "inner",
          "n": 200,
          "reduced": false,
          "time": 0.0013559361406249998
         },
         {
          "label": "inner",
          "n": 200,
          "reduced": false,
          "time": 0.0013686636015625003
         },
         {
          "label": "inner",
          "n": 200,
          "reduced": false,
          "time": 0.0013674289453124988
         },
         {
          "label": "inner",
          "n": 200,
          "reduced": false,
          "time": 0.0013627820078125005
         },
         {
          "label": "inner",
          "n": 200,
          "reduced": false,
          "time": 0.0013687241249999982
         },
         {
          "label": "inner",
          "n": 200,
          "reduced": false,
          "time": 0.0013621440703125015
         },
         {
          "label": "inner",
          "n": 200,
          "reduced": false,
          "time": 0.0013652755781250053
         },
         {
          "label": "inner",
          "n": 200,
          "reduced": false,
          "time": 0.0013602995859374953
         },
         {
          "label": "inner",
          "n": 200,
          "reduced": false,
          "time": 0.0013684381406249974
         },
         {
          "label": "inner",
          "n": 200,
          "reduced": false,
          "time": 0.0013763714218750014
         },
         {
          "label": "inner",
          "n": 200,
          "reduced": false,
          "time": 0.001363333703124997
         },
         {
          "label": "inner",
          "n": 200,
          "reduced": false,
          "time": 0.00135945946093749
         },
         {
          "label": "inner",
          "n": 200,
          "reduced": false,
          "time": 0.001367112867187499
         },
         {
          "label": "inner",
          "n": 200,
          "reduced": false,
          "time": 0.001367074960937499
         },
         {
          "label": "inner",
          "n": 200,
          "reduced": false,
          "time": 0.0013705045312500108
         },
         {
          "label": "inner",
          "n": 200,
          "reduced": false,
          "time": 0.0013732429218750036
         },
         {
          "label": "inner",
          "n": 200,
          "reduced": false,
          "time": 0.001363589234375004
         },
         {
          "label": "inner",
          "n": 200,
          "reduced": false,
          "time": 0.001371780179687504
         },
         {
          "label": "inner",
          "n": 200,
          "reduced": false,
          "time": 0.0013596148203125005
         },
         {
          "label": "inner",
          "n": 200,
          "reduced": false,
          "time": 0.0013641408593750015
         },
         {
          "label": "inner",
          "n": 200,
          "reduced": false,
          "time": 0.0013576857734375058
         },
         {
          "label": "inner",
          "n": 200,
          "reduced": false,
          "time": 0.0013834177734375064
         },
         {
          "label": "inner",
          "n": 200,
          "reduced": false,
          "time": 0.0013659098281249976
         },
         {
          "label": "inner",
          "n": 200,
          "reduced": false,
          "time": 0.0012985859765625024
         },
         {
          "label": "inner",
          "n": 200,
          "reduced": false,
          "time": 0.0013754115078125004
         },
         {
          "label": "inner",
          "n": 200,
          "reduced": false,
          "time": 0.0013670838906250024
         },
         {
          "label": "inner",
          "n": 200,
          "reduced": false,
          "time": 0.0013681237499999915
         },
         {
          "label": "inner",
          "n": 200,
          "reduced": false,
          "time": 0.0013661393828124993
         },
         {
          "label": "inner",
          "n": 200,
          "reduced": false,
          "time": 0.0013209176406249953
         },
         {
          "label": "inner",
          "n": 200,
          "reduced": false,
          "time": 0.0013655266796874926
         },
         {
          "label": "inner",
          "n": 200,
          "reduced": false,
          "time": 0.0013641572109374944
         },
         {
          "label": "inner",
          "n": 200,
          "reduced": false,
          "time": 0.0013447971562500008
         },
         {
          "label": "inner",
          "n": 200,
          "reduced": false,
          "time": 0.0013217343671875076
         },
         {
          "label": "inner",
          "n": 200,
          "reduced": false,
          "time": 0.0013412565468750026
         },
         {
          "label": "inner",
          "n": 200,
          "reduced": false,
          "time": 0.001356235296875001
         },
         {
          "label": "inner",
          "n": 200,
          "reduced": false,
          "time": 0.0013569913046874993
         },
         {
          "label": "inner",
          "n": 200,
          "reduced": false,
          "time": 0.001363333882812505
         },
         {
          "label": "inner",
          "n": 200,
          "reduced": false,
          "time": 0.0013668341796874983
         },
         {
          "label": "inner",
          "n": 200,
          "reduced": false,
          "time": 0.001368699515625002
         },
         {
          "label": "inner",
          "n": 200,
          "reduced": false,
          "time": 0.0013381617812499996
         },
         {
          "label": "inner",
          "n": 200,
          "reduced": false,
          "time": 0.0013669829062499944
         },
         {
          "label": "inner",
          "n": 200,
          "reduced": false,
          "time": 0.0013666019296875026
         },
         {
          "label": "inner",
          "n": 200,
          "reduced": false,
          "time": 0.0013673264765624998
         },
         {
          "label": "inner",
          "n": 200,
          "reduced": false,
          "time": 0.0013682584921874963
         },
         {
          "label": "inner",
          "n": 200,
          "reduced": false,
          "time": 0.001367160070312498
         },
         {
          "label": "inner",
          "n": 200,
          "reduced": false,
          "time": 0.0013708612812499965
         },
         {
          "label": "inner",
          "n": 200,
          "reduced": false,
          "time": 0.0013609915703124975
         },
         {
          "label": "inner",
          "n": 200,
          "reduced": false,
          "time": 0.001373567117187502
         },
         {
          "label": "dask",
          "n": 500,
          "reduced": true,
          "time": 1.4886873589999965
         },
         {
          "label": "dask",
          "n": 500,
          "reduced": true,
          "time": 1.3834990659999988
         },
         {
          "label": "dask",
          "n": 500,
          "reduced": true,
          "time": 1.3667406070000254
         },
         {
          "label": "dask",
          "n": 500,
          "reduced": true,
          "time": 1.4521337999999986
         },
         {
          "label": "dask",
          "n": 500,
          "reduced": true,
          "time": 1.4003613069999972
         },
         {
          "label": "dask",
          "n": 500,
          "reduced": true,
          "time": 1.3773670549999792
         },
         {
          "label": "dask",
          "n": 500,
          "reduced": true,
          "time": 1.527815824000001
         },
         {
          "label": "dask",
          "n": 500,
          "reduced": true,
          "time": 1.3937941770000037
         },
         {
          "label": "dask",
          "n": 500,
          "reduced": true,
          "time": 1.3866639409999948
         },
         {
          "label": "dask",
          "n": 500,
          "reduced": true,
          "time": 1.4844848559999946
         },
         {
          "label": "dask",
          "n": 500,
          "reduced": true,
          "time": 1.3850169870000002
         },
         {
          "label": "dask",
          "n": 500,
          "reduced": true,
          "time": 1.3817177239999978
         },
         {
          "label": "dask",
          "n": 500,
          "reduced": true,
          "time": 1.456383097000014
         },
         {
          "label": "dask",
          "n": 500,
          "reduced": true,
          "time": 1.4130850610000039
         },
         {
          "label": "dask",
          "n": 500,
          "reduced": true,
          "time": 1.4049934380000195
         },
         {
          "label": "dask",
          "n": 500,
          "reduced": true,
          "time": 1.4979591599999935
         },
         {
          "label": "dask",
          "n": 500,
          "reduced": true,
          "time": 1.3842735540000035
         },
         {
          "label": "dask",
          "n": 500,
          "reduced": true,
          "time": 1.379009702000019
         },
         {
          "label": "dask",
          "n": 500,
          "reduced": true,
          "time": 1.4529241519999943
         },
         {
          "label": "dask",
          "n": 500,
          "reduced": true,
          "time": 1.355726881999999
         },
         {
          "label": "dask",
          "n": 500,
          "reduced": true,
          "time": 1.3875141529999837
         },
         {
          "label": "dask",
          "n": 500,
          "reduced": true,
          "time": 1.442274279000003
         },
         {
          "label": "dask",
          "n": 500,
          "reduced": true,
          "time": 1.3731893270000057
         },
         {
          "label": "dask",
          "n": 500,
          "reduced": true,
          "time": 1.404266390999993
         },
         {
          "label": "dask",
          "n": 500,
          "reduced": true,
          "time": 1.481568113999998
         },
         {
          "label": "dask",
          "n": 500,
          "reduced": true,
          "time": 1.3883404320000068
         },
         {
          "label": "dask",
          "n": 500,
          "reduced": true,
          "time": 1.3862669119999964
         },
         {
          "label": "dask",
          "n": 500,
          "reduced": true,
          "time": 1.5073116690000035
         },
         {
          "label": "dask",
          "n": 500,
          "reduced": true,
          "time": 1.3912464939999865
         },
         {
          "label": "dask",
          "n": 500,
          "reduced": true,
          "time": 1.4333112270000186
         },
         {
          "label": "dask",
          "n": 500,
          "reduced": true,
          "time": 1.4358045059999966
         },
         {
          "label": "dask",
          "n": 500,
          "reduced": true,
          "time": 1.3762310780000035
         },
         {
          "label": "dask",
          "n": 500,
          "reduced": true,
          "time": 1.373811814999982
         },
         {
          "label": "dask",
          "n": 500,
          "reduced": true,
          "time": 1.4672482739999992
         },
         {
          "label": "dask",
          "n": 500,
          "reduced": true,
          "time": 1.3833932590000018
         },
         {
          "label": "dask",
          "n": 500,
          "reduced": true,
          "time": 1.379273598999987
         },
         {
          "label": "dask",
          "n": 500,
          "reduced": true,
          "time": 1.4473409240000024
         },
         {
          "label": "dask",
          "n": 500,
          "reduced": true,
          "time": 1.373441077999999
         },
         {
          "label": "dask",
          "n": 500,
          "reduced": true,
          "time": 1.3813234469999998
         },
         {
          "label": "dask",
          "n": 500,
          "reduced": true,
          "time": 1.4777260119999909
         },
         {
          "label": "dask",
          "n": 500,
          "reduced": true,
          "time": 1.3746606930000098
         },
         {
          "label": "dask",
          "n": 500,
          "reduced": true,
          "time": 1.3941209009999795
         },
         {
          "label": "dask",
          "n": 500,
          "reduced": true,
          "time": 1.4838016109999899
         },
         {
          "label": "dask",
          "n": 500,
          "reduced": true,
          "time": 1.3773461419999933
         },
         {
          "label": "dask",
          "n": 500,
          "reduced": true,
          "time": 1.3754334110000173
         },
         {
          "label": "dask",
          "n": 500,
          "reduced": true,
          "time": 1.4653439960000014
         },
         {
          "label": "dask",
          "n": 500,
          "reduced": true,
          "time": 1.3849181860000073
         },
         {
          "label": "dask",
          "n": 500,
          "reduced": true,
          "time": 1.3909217920000003
         },
         {
          "label": "dask",
          "n": 500,
          "reduced": true,
          "time": 1.4277925760000016
         },
         {
          "label": "dask",
          "n": 500,
          "reduced": true,
          "time": 1.3299302100000006
         },
         {
          "label": "dask",
          "n": 500,
          "reduced": true,
          "time": 1.3381942270000025
         },
         {
          "label": "dask",
          "n": 500,
          "reduced": true,
          "time": 1.4669037680000088
         },
         {
          "label": "dask",
          "n": 500,
          "reduced": true,
          "time": 1.371674965000011
         },
         {
          "label": "dask",
          "n": 500,
          "reduced": true,
          "time": 1.384700453999983
         },
         {
          "label": "dask",
          "n": 500,
          "reduced": true,
          "time": 1.487357199999991
         },
         {
          "label": "dask",
          "n": 500,
          "reduced": true,
          "time": 1.397702787
         },
         {
          "label": "dask",
          "n": 500,
          "reduced": true,
          "time": 1.369617968
         },
         {
          "label": "dask",
          "n": 500,
          "reduced": true,
          "time": 1.4642786109999975
         },
         {
          "label": "dask",
          "n": 500,
          "reduced": true,
          "time": 1.3877434009999945
         },
         {
          "label": "dask",
          "n": 500,
          "reduced": true,
          "time": 1.3824178819999986
         },
         {
          "label": "dask",
          "n": 500,
          "reduced": true,
          "time": 1.4387115570000049
         },
         {
          "label": "dask",
          "n": 500,
          "reduced": true,
          "time": 1.362463138999999
         },
         {
          "label": "dask",
          "n": 500,
          "reduced": true,
          "time": 1.3354919300000176
         },
         {
          "label": "dask",
          "n": 500,
          "reduced": true,
          "time": 1.4813266519999928
         },
         {
          "label": "dask",
          "n": 500,
          "reduced": true,
          "time": 1.3470442509999998
         },
         {
          "label": "dask",
          "n": 500,
          "reduced": true,
          "time": 1.3392435570000032
         },
         {
          "label": "dask",
          "n": 500,
          "reduced": true,
          "time": 1.5062213350000064
         },
         {
          "label": "dask",
          "n": 500,
          "reduced": true,
          "time": 1.392986590999996
         },
         {
          "label": "dask",
          "n": 500,
          "reduced": true,
          "time": 1.384688261000008
         },
         {
          "label": "dask",
          "n": 500,
          "reduced": true,
          "time": 1.4465355709999983
         },
         {
          "label": "dask",
          "n": 500,
          "reduced": true,
          "time": 1.3389525200000065
         },
         {
          "label": "dask",
          "n": 500,
          "reduced": true,
          "time": 1.350827494000015
         },
         {
          "label": "dask",
          "n": 500,
          "reduced": true,
          "time": 1.429004011999993
         },
         {
          "label": "dask",
          "n": 500,
          "reduced": true,
          "time": 1.3809339460000132
         },
         {
          "label": "dask",
          "n": 500,
          "reduced": true,
          "time": 1.3961135890000094
         },
         {
          "label": "dask",
          "n": 500,
          "reduced": true,
          "time": 1.4936529099999944
         },
         {
          "label": "dask",
          "n": 500,
          "reduced": true,
          "time": 1.392229982999993
         },
         {
          "label": "dask",
          "n": 500,
          "reduced": true,
          "time": 1.380912362999993
         },
         {
          "label": "dask",
          "n": 500,
          "reduced": true,
          "time": 1.4529662890000026
         },
         {
          "label": "dask",
          "n": 500,
          "reduced": true,
          "time": 1.3638570950000002
         },
         {
          "label": "dask",
          "n": 500,
          "reduced": true,
          "time": 1.3661710260000177
         },
         {
          "label": "dask",
          "n": 500,
          "reduced": true,
          "time": 1.4645619530000005
         },
         {
          "label": "dask",
          "n": 500,
          "reduced": true,
          "time": 1.3872744769999912
         },
         {
          "label": "dask",
          "n": 500,
          "reduced": true,
          "time": 1.3895714420000047
         },
         {
          "label": "dask",
          "n": 500,
          "reduced": true,
          "time": 1.4562408600000083
         },
         {
          "label": "dask",
          "n": 500,
          "reduced": true,
          "time": 1.3927646509999931
         },
         {
          "label": "dask",
          "n": 500,
          "reduced": true,
          "time": 1.3780084979999856
         },
         {
          "label": "dask",
          "n": 500,
          "reduced": true,
          "time": 1.481763696999991
         },
         {
          "label": "dask",
          "n": 500,
          "reduced": true,
          "time": 1.3823661240000007
         },
         {
          "label": "dask",
          "n": 500,
          "reduced": true,
          "time": 1.3875415370000042
         },
         {
          "label": "dask",
          "n": 500,
          "reduced": true,
          "time": 1.4864658819999903
         },
         {
          "label": "dask",
          "n": 500,
          "reduced": true,
          "time": 1.3691600370000003
         },
         {
          "label": "dask",
          "n": 500,
          "reduced": true,
          "time": 1.3719999529999996
         },
         {
          "label": "dask",
          "n": 500,
          "reduced": true,
          "time": 1.471472274000007
         },
         {
          "label": "dask",
          "n": 500,
          "reduced": true,
          "time": 1.3799288280000042
         },
         {
          "label": "dask",
          "n": 500,
          "reduced": true,
          "time": 1.3881032879999964
         },
         {
          "label": "dask",
          "n": 500,
          "reduced": true,
          "time": 1.44235415
         },
         {
          "label": "dask",
          "n": 500,
          "reduced": true,
          "time": 1.3761698739999986
         },
         {
          "label": "dask",
          "n": 500,
          "reduced": true,
          "time": 1.3786161660000005
         },
         {
          "label": "dask",
          "n": 500,
          "reduced": true,
          "time": 1.517499921999999
         },
         {
          "label": "dask",
          "n": 500,
          "reduced": true,
          "time": 1.3915580790000064
         },
         {
          "label": "dask",
          "n": 500,
          "reduced": true,
          "time": 1.4331540180000104
         },
         {
          "label": "dask",
          "n": 500,
          "reduced": true,
          "time": 1.4092500000000001
         },
         {
          "label": "dask",
          "n": 500,
          "reduced": true,
          "time": 1.3770190999999983
         },
         {
          "label": "dask",
          "n": 500,
          "reduced": true,
          "time": 1.3687446100000216
         },
         {
          "label": "dask",
          "n": 500,
          "reduced": true,
          "time": 1.5113539769999988
         },
         {
          "label": "dask",
          "n": 500,
          "reduced": true,
          "time": 1.372279375000005
         },
         {
          "label": "dask",
          "n": 500,
          "reduced": true,
          "time": 1.380833210999981
         },
         {
          "label": "dask",
          "n": 500,
          "reduced": true,
          "time": 1.5099035679999986
         },
         {
          "label": "dask",
          "n": 500,
          "reduced": true,
          "time": 1.3850693769999936
         },
         {
          "label": "dask",
          "n": 500,
          "reduced": true,
          "time": 1.3847795430000076
         },
         {
          "label": "dask",
          "n": 500,
          "reduced": true,
          "time": 1.484432881999993
         },
         {
          "label": "dask",
          "n": 500,
          "reduced": true,
          "time": 1.3781729420000062
         },
         {
          "label": "dask",
          "n": 500,
          "reduced": true,
          "time": 1.4147144330000003
         },
         {
          "label": "dask",
          "n": 500,
          "reduced": true,
          "time": 1.476266167999995
         },
         {
          "label": "dask",
          "n": 500,
          "reduced": true,
          "time": 1.3687074500000023
         },
         {
          "label": "dask",
          "n": 500,
          "reduced": true,
          "time": 1.3689450999999906
         },
         {
          "label": "dask",
          "n": 500,
          "reduced": true,
          "time": 1.4795036089999911
         },
         {
          "label": "dask",
          "n": 500,
          "reduced": true,
          "time": 1.3863000270000043
         },
         {
          "label": "dask",
          "n": 500,
          "reduced": true,
          "time": 1.3825183060000086
         },
         {
          "label": "inner",
          "n": 1,
          "reduced": false,
          "time": 6.932969116210936e-06
         },
         {
          "label": "inner",
          "n": 1,
          "reduced": false,
          "time": 6.932083679199214e-06
         },
         {
          "label": "inner",
          "n": 1,
          "reduced": false,
          "time": 7.047122985839844e-06
         },
         {
          "label": "inner",
          "n": 1,
          "reduced": false,
          "time": 7.203289672851561e-06
         },
         {
          "label": "inner",
          "n": 1,
          "reduced": false,
          "time": 7.256252563476558e-06
         },
         {
          "label": "inner",
          "n": 1,
          "reduced": false,
          "time": 7.277571899414068e-06
         },
         {
          "label": "inner",
          "n": 1,
          "reduced": false,
          "time": 7.159650634765625e-06
         },
         {
          "label": "inner",
          "n": 1,
          "reduced": false,
          "time": 7.226841552734374e-06
         },
         {
          "label": "inner",
          "n": 1,
          "reduced": false,
          "time": 7.308346923828124e-06
         },
         {
          "label": "inner",
          "n": 1,
          "reduced": false,
          "time": 7.114981628417969e-06
         },
         {
          "label": "inner",
          "n": 1,
          "reduced": false,
          "time": 7.04411962890625e-06
         },
         {
          "label": "inner",
          "n": 1,
          "reduced": false,
          "time": 7.13420825195312e-06
         },
         {
          "label": "inner",
          "n": 1,
          "reduced": false,
          "time": 7.159654296874998e-06
         },
         {
          "label": "inner",
          "n": 1,
          "reduced": false,
          "time": 7.1448027954101535e-06
         },
         {
          "label": "inner",
          "n": 1,
          "reduced": false,
          "time": 7.138651428222656e-06
         },
         {
          "label": "inner",
          "n": 1,
          "reduced": false,
          "time": 7.1701201782226565e-06
         },
         {
          "label": "inner",
          "n": 1,
          "reduced": false,
          "time": 7.1293364257812515e-06
         },
         {
          "label": "inner",
          "n": 1,
          "reduced": false,
          "time": 7.141486755371095e-06
         },
         {
          "label": "inner",
          "n": 1,
          "reduced": false,
          "time": 7.128568420410157e-06
         },
         {
          "label": "inner",
          "n": 1,
          "reduced": false,
          "time": 7.171187561035154e-06
         },
         {
          "label": "inner",
          "n": 1,
          "reduced": false,
          "time": 7.147111633300786e-06
         },
         {
          "label": "inner",
          "n": 1,
          "reduced": false,
          "time": 7.273725219726563e-06
         },
         {
          "label": "inner",
          "n": 1,
          "reduced": false,
          "time": 7.204594177246092e-06
         },
         {
          "label": "inner",
          "n": 1,
          "reduced": false,
          "time": 7.244827819824219e-06
         },
         {
          "label": "inner",
          "n": 1,
          "reduced": false,
          "time": 7.064100646972658e-06
         },
         {
          "label": "inner",
          "n": 1,
          "reduced": false,
          "time": 7.082312011718749e-06
         },
         {
          "label": "inner",
          "n": 1,
          "reduced": false,
          "time": 7.03727215576172e-06
         },
         {
          "label": "inner",
          "n": 1,
          "reduced": false,
          "time": 7.364800170898436e-06
         },
         {
          "label": "inner",
          "n": 1,
          "reduced": false,
          "time": 7.222063354492184e-06
         },
         {
          "label": "inner",
          "n": 1,
          "reduced": false,
          "time": 7.2908342895507805e-06
         },
         {
          "label": "inner",
          "n": 1,
          "reduced": false,
          "time": 7.146121643066404e-06
         },
         {
          "label": "inner",
          "n": 1,
          "reduced": false,
          "time": 7.233161437988279e-06
         },
         {
          "label": "inner",
          "n": 1,
          "reduced": false,
          "time": 7.158825195312494e-06
         },
         {
          "label": "inner",
          "n": 1,
          "reduced": false,
          "time": 6.974433898925783e-06
         },
         {
          "label": "inner",
          "n": 1,
          "reduced": false,
          "time": 7.042426269531247e-06
         },
         {
          "label": "inner",
          "n": 1,
          "reduced": false,
          "time": 7.066569335937502e-06
         },
         {
          "label": "inner",
          "n": 1,
          "reduced": false,
          "time": 7.0825921630859385e-06
         },
         {
          "label": "inner",
          "n": 1,
          "reduced": false,
          "time": 7.139756469726565e-06
         },
         {
          "label": "inner",
          "n": 1,
          "reduced": false,
          "time": 7.1107624511718715e-06
         },
         {
          "label": "inner",
          "n": 1,
          "reduced": false,
          "time": 7.1787015380859356e-06
         },
         {
          "label": "inner",
          "n": 1,
          "reduced": false,
          "time": 7.1926595458984375e-06
         },
         {
          "label": "inner",
          "n": 1,
          "reduced": false,
          "time": 7.193566955566408e-06
         },
         {
          "label": "inner",
          "n": 1,
          "reduced": false,
          "time": 7.508109558105467e-06
         },
         {
          "label": "inner",
          "n": 1,
          "reduced": false,
          "time": 7.5914865112304675e-06
         },
         {
          "label": "inner",
          "n": 1,
          "reduced": false,
          "time": 7.527864990234378e-06
         },
         {
          "label": "inner",
          "n": 1,
          "reduced": false,
          "time": 6.870698791503906e-06
         },
         {
          "label": "inner",
          "n": 1,
          "reduced": false,
          "time": 6.9264784545898454e-06
         },
         {
          "label": "inner",
          "n": 1,
          "reduced": false,
          "time": 6.8743472900390616e-06
         },
         {
          "label": "inner",
          "n": 1,
          "reduced": false,
          "time": 7.26297003173828e-06
         },
         {
          "label": "inner",
          "n": 1,
          "reduced": false,
          "time": 7.229797546386719e-06
         },
         {
          "label": "inner",
          "n": 1,
          "reduced": false,
          "time": 7.2433966064453154e-06
         },
         {
          "label": "inner",
          "n": 1,
          "reduced": false,
          "time": 7.073404907226564e-06
         },
         {
          "label": "inner",
          "n": 1,
          "reduced": false,
          "time": 7.1569536132812535e-06
         },
         {
          "label": "inner",
          "n": 1,
          "reduced": false,
          "time": 7.200393920898436e-06
         },
         {
          "label": "inner",
          "n": 1,
          "reduced": false,
          "time": 7.378492675781248e-06
         },
         {
          "label": "inner",
          "n": 1,
          "reduced": false,
          "time": 7.364432495117186e-06
         },
         {
          "label": "inner",
          "n": 1,
          "reduced": false,
          "time": 7.444922302246096e-06
         },
         {
          "label": "inner",
          "n": 1,
          "reduced": false,
          "time": 7.218825378417967e-06
         },
         {
          "label": "inner",
          "n": 1,
          "reduced": false,
          "time": 7.2329257812499984e-06
         },
         {
          "label": "inner",
          "n": 1,
          "reduced": false,
          "time": 7.171571472167971e-06
         },
         {
          "label": "inner",
          "n": 1,
          "reduced": false,
          "time": 7.29758972167969e-06
         },
         {
          "label": "inner",
          "n": 1,
          "reduced": false,
          "time": 7.316562622070317e-06
         },
         {
          "label": "inner",
          "n": 1,
          "reduced": false,
          "time": 7.348247802734378e-06
         },
         {
          "label": "inner",
          "n": 1,
          "reduced": false,
          "time": 7.281783447265626e-06
         },
         {
          "label": "inner",
          "n": 1,
          "reduced": false,
          "time": 7.181896789550783e-06
         },
         {
          "label": "inner",
          "n": 1,
          "reduced": false,
          "time": 7.211096252441411e-06
         },
         {
          "label": "inner",
          "n": 1,
          "reduced": false,
          "time": 7.0183190307617215e-06
         },
         {
          "label": "inner",
          "n": 1,
          "reduced": false,
          "time": 6.99028790283203e-06
         },
         {
          "label": "inner",
          "n": 1,
          "reduced": false,
          "time": 7.0335121459960955e-06
         },
         {
          "label": "inner",
          "n": 1,
          "reduced": false,
          "time": 7.235507019042969e-06
         },
         {
          "label": "inner",
          "n": 1,
          "reduced": false,
          "time": 7.264921508789059e-06
         },
         {
          "label": "inner",
          "n": 1,
          "reduced": false,
          "time": 7.167044433593748e-06
         },
         {
          "label": "inner",
          "n": 1,
          "reduced": false,
          "time": 7.152372375488282e-06
         },
         {
          "label": "inner",
          "n": 1,
          "reduced": false,
          "time": 7.094152282714847e-06
         },
         {
          "label": "inner",
          "n": 1,
          "reduced": false,
          "time": 7.095121765136716e-06
         },
         {
          "label": "inner",
          "n": 1,
          "reduced": false,
          "time": 7.08106201171875e-06
         },
         {
          "label": "inner",
          "n": 1,
          "reduced": false,
          "time": 7.057062744140623e-06
         },
         {
          "label": "inner",
          "n": 1,
          "reduced": false,
          "time": 6.999333557128904e-06
         },
         {
          "label": "inner",
          "n": 1,
          "reduced": false,
          "time": 7.4206044311523425e-06
         },
         {
          "label": "inner",
          "n": 1,
          "reduced": false,
          "time": 7.36449749755859e-06
         },
         {
          "label": "inner",
          "n": 1,
          "reduced": false,
          "time": 7.325142822265626e-06
         },
         {
          "label": "inner",
          "n": 1,
          "reduced": false,
          "time": 7.180639038085939e-06
         },
         {
          "label": "inner",
          "n": 1,
          "reduced": false,
          "time": 7.191064392089845e-06
         },
         {
          "label": "inner",
          "n": 1,
          "reduced": false,
          "time": 7.162963623046873e-06
         },
         {
          "label": "inner",
          "n": 1,
          "reduced": false,
          "time": 7.04511248779297e-06
         },
         {
          "label": "inner",
          "n": 1,
          "reduced": false,
          "time": 7.092428833007813e-06
         },
         {
          "label": "inner",
          "n": 1,
          "reduced": false,
          "time": 7.006862243652346e-06
         },
         {
          "label": "inner",
          "n": 1,
          "reduced": false,
          "time": 7.067055236816408e-06
         },
         {
          "label": "inner",
          "n": 1,
          "reduced": false,
          "time": 7.0669449462890596e-06
         },
         {
          "label": "inner",
          "n": 1,
          "reduced": false,
          "time": 7.094565917968747e-06
         },
         {
          "label": "inner",
          "n": 1,
          "reduced": false,
          "time": 7.3387142944335954e-06
         },
         {
          "label": "inner",
          "n": 1,
          "reduced": false,
          "time": 7.364874511718746e-06
         },
         {
          "label": "inner",
          "n": 1,
          "reduced": false,
          "time": 7.379690307617192e-06
         },
         {
          "label": "inner",
          "n": 1,
          "reduced": false,
          "time": 7.176132019042969e-06
         },
         {
          "label": "inner",
          "n": 1,
          "reduced": false,
          "time": 7.191621643066402e-06
         },
         {
          "label": "inner",
          "n": 1,
          "reduced": false,
          "time": 7.169336853027343e-06
         },
         {
          "label": "inner",
          "n": 1,
          "reduced": false,
          "time": 6.90333905029297e-06
         },
         {
          "label": "inner",
          "n": 1,
          "reduced": false,
          "time": 6.907809997558596e-06
         },
         {
          "label": "inner",
          "n": 1,
          "reduced": false,
          "time": 6.878372192382814e-06
         },
         {
          "label": "inner",
          "n": 1,
          "reduced": false,
          "time": 7.0885315551757816e-06
         },
         {
          "label": "inner",
          "n": 1,
          "reduced": false,
          "time": 7.081632568359376e-06
         },
         {
          "label": "inner",
          "n": 1,
          "reduced": false,
          "time": 7.1636416015625e-06
         },
         {
          "label": "inner",
          "n": 1,
          "reduced": false,
          "time": 7.1975812377929685e-06
         },
         {
          "label": "inner",
          "n": 1,
          "reduced": false,
          "time": 7.183876098632811e-06
         },
         {
          "label": "inner",
          "n": 1,
          "reduced": false,
          "time": 7.174899597167974e-06
         },
         {
          "label": "inner",
          "n": 1,
          "reduced": false,
          "time": 7.109225708007815e-06
         },
         {
          "label": "inner",
          "n": 1,
          "reduced": false,
          "time": 7.112343139648439e-06
         },
         {
          "label": "inner",
          "n": 1,
          "reduced": false,
          "time": 7.095441772460938e-06
         },
         {
          "label": "inner",
          "n": 1,
          "reduced": false,
          "time": 7.229656860351564e-06
         },
         {
          "label": "inner",
          "n": 1,
          "reduced": false,
          "time": 7.2684832153320316e-06
         },
         {
          "label": "inner",
          "n": 1,
          "reduced": false,
          "time": 7.2723905029296895e-06
         },
         {
          "label": "inner",
          "n": 1,
          "reduced": false,
          "time": 7.167253234863283e-06
         },
         {
          "label": "inner",
          "n": 1,
          "reduced": false,
          "time": 7.241535705566408e-06
         },
         {
          "label": "inner",
          "n": 1,
          "reduced": false,
          "time": 7.218956726074223e-06
         },
         {
          "label": "inner",
          "n": 1,
          "reduced": false,
          "time": 7.223438049316406e-06
         },
         {
          "label": "inner",
          "n": 1,
          "reduced": false,
          "time": 7.147695190429689e-06
         },
         {
          "label": "inner",
          "n": 1,
          "reduced": false,
          "time": 7.125773925781253e-06
         },
         {
          "label": "inner",
          "n": 1,
          "reduced": false,
          "time": 7.2115422363281234e-06
         },
         {
          "label": "inner",
          "n": 1,
          "reduced": false,
          "time": 7.225779418945315e-06
         },
         {
          "label": "inner",
          "n": 1,
          "reduced": false,
          "time": 7.255926818847659e-06
         },
         {
          "label": "dask",
          "n": 1,
          "reduced": true,
          "time": 0.0017274073593750005
         },
         {
          "label": "dask",
          "n": 1,
          "reduced": true,
          "time": 0.0016952354062500005
         },
         {
          "label": "dask",
          "n": 1,
          "reduced": true,
          "time": 0.0017034329687499981
         },
         {
          "label": "dask",
          "n": 1,
          "reduced": true,
          "time": 0.0017475899218750007
         },
         {
          "label": "dask",
          "n": 1,
          "reduced": true,
          "time": 0.0017251654062499996
         },
         {
          "label": "dask",
          "n": 1,
          "reduced": true,
          "time": 0.001737128953125
         },
         {
          "label": "dask",
          "n": 1,
          "reduced": true,
          "time": 0.001701924046875001
         },
         {
          "label": "dask",
          "n": 1,
          "reduced": true,
          "time": 0.0017392132031249993
         },
         {
          "label": "dask",
          "n": 1,
          "reduced": true,
          "time": 0.0017216316874999991
         },
         {
          "label": "dask",
          "n": 1,
          "reduced": true,
          "time": 0.0017291192812500002
         },
         {
          "label": "dask",
          "n": 1,
          "reduced": true,
          "time": 0.001737790078124999
         },
         {
          "label": "dask",
          "n": 1,
          "reduced": true,
          "time": 0.0017119114843750002
         },
         {
          "label": "dask",
          "n": 1,
          "reduced": true,
          "time": 0.0017345394843750004
         },
         {
          "label": "dask",
          "n": 1,
          "reduced": true,
          "time": 0.0016753999843749992
         },
         {
          "label": "dask",
          "n": 1,
          "reduced": true,
          "time": 0.0017254988750000002
         },
         {
          "label": "dask",
          "n": 1,
          "reduced": true,
          "time": 0.0017325591718750002
         },
         {
          "label": "dask",
          "n": 1,
          "reduced": true,
          "time": 0.0017344138906250015
         },
         {
          "label": "dask",
          "n": 1,
          "reduced": true,
          "time": 0.0017315978281250005
         },
         {
          "label": "dask",
          "n": 1,
          "reduced": true,
          "time": 0.0017274935781249993
         },
         {
          "label": "dask",
          "n": 1,
          "reduced": true,
          "time": 0.0016950563593750006
         },
         {
          "label": "dask",
          "n": 1,
          "reduced": true,
          "time": 0.0017280139531250013
         },
         {
          "label": "dask",
          "n": 1,
          "reduced": true,
          "time": 0.0017199380937499998
         },
         {
          "label": "dask",
          "n": 1,
          "reduced": true,
          "time": 0.0017340673437499995
         },
         {
          "label": "dask",
          "n": 1,
          "reduced": true,
          "time": 0.0017178929843750003
         },
         {
          "label": "dask",
          "n": 1,
          "reduced": true,
          "time": 0.0017407905937499996
         },
         {
          "label": "dask",
          "n": 1,
          "reduced": true,
          "time": 0.0017378884531249993
         },
         {
          "label": "dask",
          "n": 1,
          "reduced": true,
          "time": 0.0017188242656249984
         },
         {
          "label": "dask",
          "n": 1,
          "reduced": true,
          "time": 0.0017203837187499994
         },
         {
          "label": "dask",
          "n": 1,
          "reduced": true,
          "time": 0.0017140231406249998
         },
         {
          "label": "dask",
          "n": 1,
          "reduced": true,
          "time": 0.0017020048906249991
         },
         {
          "label": "dask",
          "n": 1,
          "reduced": true,
          "time": 0.0017363801718749995
         },
         {
          "label": "dask",
          "n": 1,
          "reduced": true,
          "time": 0.0016813112187500003
         },
         {
          "label": "dask",
          "n": 1,
          "reduced": true,
          "time": 0.0017385686250000008
         },
         {
          "label": "dask",
          "n": 1,
          "reduced": true,
          "time": 0.0017194944375
         },
         {
          "label": "dask",
          "n": 1,
          "reduced": true,
          "time": 0.0017299589374999997
         },
         {
          "label": "dask",
          "n": 1,
          "reduced": true,
          "time": 0.001706668484375
         },
         {
          "label": "dask",
          "n": 1,
          "reduced": true,
          "time": 0.001689764765624999
         },
         {
          "label": "dask",
          "n": 1,
          "reduced": true,
          "time": 0.0017208615312500012
         },
         {
          "label": "dask",
          "n": 1,
          "reduced": true,
          "time": 0.001719437984374999
         },
         {
          "label": "dask",
          "n": 1,
          "reduced": true,
          "time": 0.0016980643906249985
         },
         {
          "label": "dask",
          "n": 1,
          "reduced": true,
          "time": 0.0017096785468749993
         },
         {
          "label": "dask",
          "n": 1,
          "reduced": true,
          "time": 0.0017346850156249993
         },
         {
          "label": "dask",
          "n": 1,
          "reduced": true,
          "time": 0.0016821321874999993
         },
         {
          "label": "dask",
          "n": 1,
          "reduced": true,
          "time": 0.0016761180000000007
         },
         {
          "label": "dask",
          "n": 1,
          "reduced": true,
          "time": 0.0016969889843749999
         },
         {
          "label": "dask",
          "n": 1,
          "reduced": true,
          "time": 0.0017130183906250013
         },
         {
          "label": "dask",
          "n": 1,
          "reduced": true,
          "time": 0.0017279212500000002
         },
         {
          "label": "dask",
          "n": 1,
          "reduced": true,
          "time": 0.001726238812500001
         },
         {
          "label": "dask",
          "n": 1,
          "reduced": true,
          "time": 0.0017419943125
         },
         {
          "label": "dask",
          "n": 1,
          "reduced": true,
          "time": 0.00174455175
         },
         {
          "label": "dask",
          "n": 1,
          "reduced": true,
          "time": 0.001734423421874999
         },
         {
          "label": "dask",
          "n": 1,
          "reduced": true,
          "time": 0.0016873577031249996
         },
         {
          "label": "dask",
          "n": 1,
          "reduced": true,
          "time": 0.0017281601562500002
         },
         {
          "label": "dask",
          "n": 1,
          "reduced": true,
          "time": 0.0017315830468750005
         },
         {
          "label": "dask",
          "n": 1,
          "reduced": true,
          "time": 0.0017274890937499995
         },
         {
          "label": "dask",
          "n": 1,
          "reduced": true,
          "time": 0.0017205464687500005
         },
         {
          "label": "dask",
          "n": 1,
          "reduced": true,
          "time": 0.0017179701093749979
         },
         {
          "label": "dask",
          "n": 1,
          "reduced": true,
          "time": 0.0017520529375
         },
         {
          "label": "dask",
          "n": 1,
          "reduced": true,
          "time": 0.0017206292500000012
         },
         {
          "label": "dask",
          "n": 1,
          "reduced": true,
          "time": 0.0017453030000000001
         },
         {
          "label": "dask",
          "n": 1,
          "reduced": true,
          "time": 0.0017209310000000002
         },
         {
          "label": "dask",
          "n": 1,
          "reduced": true,
          "time": 0.0017132035312500005
         },
         {
          "label": "dask",
          "n": 1,
          "reduced": true,
          "time": 0.001726369828125001
         },
         {
          "label": "dask",
          "n": 1,
          "reduced": true,
          "time": 0.0016682315468749993
         },
         {
          "label": "dask",
          "n": 1,
          "reduced": true,
          "time": 0.0017314291562500004
         },
         {
          "label": "dask",
          "n": 1,
          "reduced": true,
          "time": 0.0017330022500000007
         },
         {
          "label": "dask",
          "n": 1,
          "reduced": true,
          "time": 0.0016979504062500008
         },
         {
          "label": "dask",
          "n": 1,
          "reduced": true,
          "time": 0.0017377361875
         },
         {
          "label": "dask",
          "n": 1,
          "reduced": true,
          "time": 0.001751519578125001
         },
         {
          "label": "dask",
          "n": 1,
          "reduced": true,
          "time": 0.0017173194999999999
         },
         {
          "label": "dask",
          "n": 1,
          "reduced": true,
          "time": 0.0017230243749999999
         },
         {
          "label": "dask",
          "n": 1,
          "reduced": true,
          "time": 0.0017013176406249983
         },
         {
          "label": "dask",
          "n": 1,
          "reduced": true,
          "time": 0.0017293041718749996
         },
         {
          "label": "dask",
          "n": 1,
          "reduced": true,
          "time": 0.0017374541093749998
         },
         {
          "label": "dask",
          "n": 1,
          "reduced": true,
          "time": 0.0017306879374999994
         },
         {
          "label": "dask",
          "n": 1,
          "reduced": true,
          "time": 0.0016889938281250006
         },
         {
          "label": "dask",
          "n": 1,
          "reduced": true,
          "time": 0.0017169282968749998
         },
         {
          "label": "dask",
          "n": 1,
          "reduced": true,
          "time": 0.0017266362656250013
         },
         {
          "label": "dask",
          "n": 1,
          "reduced": true,
          "time": 0.0017380280468750012
         },
         {
          "label": "dask",
          "n": 1,
          "reduced": true,
          "time": 0.0017137548906250005
         },
         {
          "label": "dask",
          "n": 1,
          "reduced": true,
          "time": 0.0017430458125
         },
         {
          "label": "dask",
          "n": 1,
          "reduced": true,
          "time": 0.0016958274062499994
         },
         {
          "label": "dask",
          "n": 1,
          "reduced": true,
          "time": 0.0017386463124999998
         },
         {
          "label": "dask",
          "n": 1,
          "reduced": true,
          "time": 0.00171751853125
         },
         {
          "label": "dask",
          "n": 1,
          "reduced": true,
          "time": 0.0017240152187499996
         },
         {
          "label": "dask",
          "n": 1,
          "reduced": true,
          "time": 0.0016991842656250006
         },
         {
          "label": "dask",
          "n": 1,
          "reduced": true,
          "time": 0.0017186404687499993
         },
         {
          "label": "dask",
          "n": 1,
          "reduced": true,
          "time": 0.0017218772968750004
         },
         {
          "label": "dask",
          "n": 1,
          "reduced": true,
          "time": 0.0017412825468750004
         },
         {
          "label": "dask",
          "n": 1,
          "reduced": true,
          "time": 0.0017229197500000012
         },
         {
          "label": "dask",
          "n": 1,
          "reduced": true,
          "time": 0.001735887656249999
         },
         {
          "label": "dask",
          "n": 1,
          "reduced": true,
          "time": 0.0017166998749999999
         },
         {
          "label": "dask",
          "n": 1,
          "reduced": true,
          "time": 0.0017193058593750008
         },
         {
          "label": "dask",
          "n": 1,
          "reduced": true,
          "time": 0.001760860500000001
         },
         {
          "label": "dask",
          "n": 1,
          "reduced": true,
          "time": 0.0017547151874999986
         },
         {
          "label": "dask",
          "n": 1,
          "reduced": true,
          "time": 0.001759678796874999
         },
         {
          "label": "dask",
          "n": 1,
          "reduced": true,
          "time": 0.0016986705781250003
         },
         {
          "label": "dask",
          "n": 1,
          "reduced": true,
          "time": 0.0017162700156250002
         },
         {
          "label": "dask",
          "n": 1,
          "reduced": true,
          "time": 0.001731488031249999
         },
         {
          "label": "dask",
          "n": 1,
          "reduced": true,
          "time": 0.0017379030468749994
         },
         {
          "label": "dask",
          "n": 1,
          "reduced": true,
          "time": 0.0016931084375000002
         },
         {
          "label": "dask",
          "n": 1,
          "reduced": true,
          "time": 0.0017327048593749998
         },
         {
          "label": "dask",
          "n": 1,
          "reduced": true,
          "time": 0.0016928030781249992
         },
         {
          "label": "dask",
          "n": 1,
          "reduced": true,
          "time": 0.0017337093749999997
         },
         {
          "label": "dask",
          "n": 1,
          "reduced": true,
          "time": 0.0017329120312499988
         },
         {
          "label": "dask",
          "n": 1,
          "reduced": true,
          "time": 0.0017234068437500007
         },
         {
          "label": "dask",
          "n": 1,
          "reduced": true,
          "time": 0.0017234777031250002
         },
         {
          "label": "dask",
          "n": 1,
          "reduced": true,
          "time": 0.0017282925937499999
         },
         {
          "label": "dask",
          "n": 1,
          "reduced": true,
          "time": 0.001734678484375
         },
         {
          "label": "dask",
          "n": 1,
          "reduced": true,
          "time": 0.0017382615781250006
         },
         {
          "label": "dask",
          "n": 1,
          "reduced": true,
          "time": 0.0017029177812499987
         },
         {
          "label": "dask",
          "n": 1,
          "reduced": true,
          "time": 0.0017046666406249997
         },
         {
          "label": "dask",
          "n": 1,
          "reduced": true,
          "time": 0.0017274295937499996
         },
         {
          "label": "dask",
          "n": 1,
          "reduced": true,
          "time": 0.001720711515624999
         },
         {
          "label": "dask",
          "n": 1,
          "reduced": true,
          "time": 0.0017308688906250008
         },
         {
          "label": "dask",
          "n": 1,
          "reduced": true,
          "time": 0.0017101654218749998
         },
         {
          "label": "dask",
          "n": 1,
          "reduced": true,
          "time": 0.0016669557812499982
         },
         {
          "label": "dask",
          "n": 1,
          "reduced": true,
          "time": 0.00172211953125
         },
         {
          "label": "dask",
          "n": 1,
          "reduced": true,
          "time": 0.0017659442031249997
         },
         {
          "label": "dask",
          "n": 1,
          "reduced": true,
          "time": 0.0017402509531249978
         },
         {
          "label": "inner",
          "n": 100,
          "reduced": false,
          "time": 0.00034301352539062497
         },
         {
          "label": "inner",
          "n": 100,
          "reduced": false,
          "time": 0.00034807330664062474
         },
         {
          "label": "inner",
          "n": 100,
          "reduced": false,
          "time": 0.00035018755664062515
         },
         {
          "label": "inner",
          "n": 100,
          "reduced": false,
          "time": 0.0003474233925781251
         },
         {
          "label": "inner",
          "n": 100,
          "reduced": false,
          "time": 0.000349655703125
         },
         {
          "label": "inner",
          "n": 100,
          "reduced": false,
          "time": 0.00035027797656249967
         },
         {
          "label": "inner",
          "n": 100,
          "reduced": false,
          "time": 0.00035353597460937485
         },
         {
          "label": "inner",
          "n": 100,
          "reduced": false,
          "time": 0.0003478316191406249
         },
         {
          "label": "inner",
          "n": 100,
          "reduced": false,
          "time": 0.00035054378906249984
         },
         {
          "label": "inner",
          "n": 100,
          "reduced": false,
          "time": 0.00034143288085937504
         },
         {
          "label": "inner",
          "n": 100,
          "reduced": false,
          "time": 0.0003387236074218749
         },
         {
          "label": "inner",
          "n": 100,
          "reduced": false,
          "time": 0.0003347830996093754
         },
         {
          "label": "inner",
          "n": 100,
          "reduced": false,
          "time": 0.00035095774609375
         },
         {
          "label": "inner",
          "n": 100,
          "reduced": false,
          "time": 0.00034706694335937503
         },
         {
          "label": "inner",
          "n": 100,
          "reduced": false,
          "time": 0.00034828181835937526
         },
         {
          "label": "inner",
          "n": 100,
          "reduced": false,
          "time": 0.0003468090957031251
         },
         {
          "label": "inner",
          "n": 100,
          "reduced": false,
          "time": 0.00033898392773437473
         },
         {
          "label": "inner",
          "n": 100,
          "reduced": false,
          "time": 0.0003491607851562502
         },
         {
          "label": "inner",
          "n": 100,
          "reduced": false,
          "time": 0.00035154065429687494
         },
         {
          "label": "inner",
          "n": 100,
          "reduced": false,
          "time": 0.00035415974804687504
         },
         {
          "label": "inner",
          "n": 100,
          "reduced": false,
          "time": 0.0003456957304687502
         },
         {
          "label": "inner",
          "n": 100,
          "reduced": false,
          "time": 0.000347418158203125
         },
         {
          "label": "inner",
          "n": 100,
          "reduced": false,
          "time": 0.00035133900585937504
         },
         {
          "label": "inner",
          "n": 100,
          "reduced": false,
          "time": 0.000352335853515625
         },
         {
          "label": "inner",
          "n": 100,
          "reduced": false,
          "time": 0.0003476916484375001
         },
         {
          "label": "inner",
          "n": 100,
          "reduced": false,
          "time": 0.0003425957441406252
         },
         {
          "label": "inner",
          "n": 100,
          "reduced": false,
          "time": 0.0003473850175781251
         },
         {
          "label": "inner",
          "n": 100,
          "reduced": false,
          "time": 0.0003448967558593748
         },
         {
          "label": "inner",
          "n": 100,
          "reduced": false,
          "time": 0.0003387469882812498
         },
         {
          "label": "inner",
          "n": 100,
          "reduced": false,
          "time": 0.00033810479101562506
         },
         {
          "label": "inner",
          "n": 100,
          "reduced": false,
          "time": 0.00033420062695312504
         },
         {
          "label": "inner",
          "n": 100,
          "reduced": false,
          "time": 0.0003381080253906251
         },
         {
          "label": "inner",
          "n": 100,
          "reduced": false,
          "time": 0.0003405193359375001
         },
         {
          "label": "inner",
          "n": 100,
          "reduced": false,
          "time": 0.0003497673730468748
         },
         {
          "label": "inner",
          "n": 100,
          "reduced": false,
          "time": 0.00035043680468749977
         },
         {
          "label": "inner",
          "n": 100,
          "reduced": false,
          "time": 0.00035082569921874966
         },
         {
          "label": "inner",
          "n": 100,
          "reduced": false,
          "time": 0.00034852936914062517
         },
         {
          "label": "inner",
          "n": 100,
          "reduced": false,
          "time": 0.0003502110117187501
         },
         {
          "label": "inner",
          "n": 100,
          "reduced": false,
          "time": 0.00035154171093750063
         },
         {
          "label": "inner",
          "n": 100,
          "reduced": false,
          "time": 0.000350536201171875
         },
         {
          "label": "inner",
          "n": 100,
          "reduced": false,
          "time": 0.0003481640195312501
         },
         {
          "label": "inner",
          "n": 100,
          "reduced": false,
          "time": 0.00034980449218749996
         },
         {
          "label": "inner",
          "n": 100,
          "reduced": false,
          "time": 0.00035906592187499994
         },
         {
          "label": "inner",
          "n": 100,
          "reduced": false,
          "time": 0.00035600707031249994
         },
         {
          "label": "inner",
          "n": 100,
          "reduced": false,
          "time": 0.0003537799335937503
         },
         {
          "label": "inner",
          "n": 100,
          "reduced": false,
          "time": 0.0003481340371093752
         },
         {
          "label": "inner",
          "n": 100,
          "reduced": false,
          "time": 0.00034728662109375025
         },
         {
          "label": "inner",
          "n": 100,
          "reduced": false,
          "time": 0.00035120104882812534
         },
         {
          "label": "inner",
          "n": 100,
          "reduced": false,
          "time": 0.0003507964863281249
         },
         {
          "label": "inner",
          "n": 100,
          "reduced": false,
          "time": 0.0003509809101562497
         },
         {
          "label": "inner",
          "n": 100,
          "reduced": false,
          "time": 0.0003528714492187497
         },
         {
          "label": "inner",
          "n": 100,
          "reduced": false,
          "time": 0.00034925505859375
         },
         {
          "label": "inner",
          "n": 100,
          "reduced": false,
          "time": 0.0003513262460937499
         },
         {
          "label": "inner",
          "n": 100,
          "reduced": false,
          "time": 0.0003480357089843751
         },
         {
          "label": "inner",
          "n": 100,
          "reduced": false,
          "time": 0.0003472815820312501
         },
         {
          "label": "inner",
          "n": 100,
          "reduced": false,
          "time": 0.0003533590996093747
         },
         {
          "label": "inner",
          "n": 100,
          "reduced": false,
          "time": 0.00035164278906249947
         },
         {
          "label": "inner",
          "n": 100,
          "reduced": false,
          "time": 0.0003516457421875001
         },
         {
          "label": "inner",
          "n": 100,
          "reduced": false,
          "time": 0.0003455418886718748
         },
         {
          "label": "inner",
          "n": 100,
          "reduced": false,
          "time": 0.000351876240234375
         },
         {
          "label": "inner",
          "n": 100,
          "reduced": false,
          "time": 0.0003511274570312498
         },
         {
          "label": "inner",
          "n": 100,
          "reduced": false,
          "time": 0.00035084802343750016
         },
         {
          "label": "inner",
          "n": 100,
          "reduced": false,
          "time": 0.000347842732421875
         },
         {
          "label": "inner",
          "n": 100,
          "reduced": false,
          "time": 0.0003513451542968753
         },
         {
          "label": "inner",
          "n": 100,
          "reduced": false,
          "time": 0.00035042616601562533
         },
         {
          "label": "inner",
          "n": 100,
          "reduced": false,
          "time": 0.00033943331249999993
         },
         {
          "label": "inner",
          "n": 100,
          "reduced": false,
          "time": 0.00035028011718749984
         },
         {
          "label": "inner",
          "n": 100,
          "reduced": false,
          "time": 0.00035064042187499993
         },
         {
          "label": "inner",
          "n": 100,
          "reduced": false,
          "time": 0.0003518948808593752
         },
         {
          "label": "inner",
          "n": 100,
          "reduced": false,
          "time": 0.000341795705078125
         },
         {
          "label": "inner",
          "n": 100,
          "reduced": false,
          "time": 0.0003411455078125001
         },
         {
          "label": "inner",
          "n": 100,
          "reduced": false,
          "time": 0.0003503776582031246
         },
         {
          "label": "inner",
          "n": 100,
          "reduced": false,
          "time": 0.0003497673789062501
         },
         {
          "label": "inner",
          "n": 100,
          "reduced": false,
          "time": 0.0003466881640625001
         },
         {
          "label": "inner",
          "n": 100,
          "reduced": false,
          "time": 0.0003495024902343746
         },
         {
          "label": "inner",
          "n": 100,
          "reduced": false,
          "time": 0.0003500672304687501
         },
         {
          "label": "inner",
          "n": 100,
          "reduced": false,
          "time": 0.00035036406835937516
         },
         {
          "label": "inner",
          "n": 100,
          "reduced": false,
          "time": 0.00035281150390625024
         },
         {
          "label": "inner",
          "n": 100,
          "reduced": false,
          "time": 0.00034743307812500003
         },
         {
          "label": "inner",
          "n": 100,
          "reduced": false,
          "time": 0.000345401388671875
         },
         {
          "label": "inner",
          "n": 100,
          "reduced": false,
          "time": 0.00035015339062499954
         },
         {
          "label": "inner",
          "n": 100,
          "reduced": false,
          "time": 0.00035195915039062486
         },
         {
          "label": "inner",
          "n": 100,
          "reduced": false,
          "time": 0.0003443349218749999
         },
         {
          "label": "inner",
          "n": 100,
          "reduced": false,
          "time": 0.00035143857031249984
         },
         {
          "label": "inner",
          "n": 100,
          "reduced": false,
          "time": 0.00034283838281249984
         },
         {
          "label": "inner",
          "n": 100,
          "reduced": false,
          "time": 0.0003451368164062501
         },
         {
          "label": "inner",
          "n": 100,
          "reduced": false,
          "time": 0.0003429618750000001
         },
         {
          "label": "inner",
          "n": 100,
          "reduced": false,
          "time": 0.0003509013671875003
         },
         {
          "label": "inner",
          "n": 100,
          "reduced": false,
          "time": 0.00035189575976562505
         },
         {
          "label": "inner",
          "n": 100,
          "reduced": false,
          "time": 0.0003501163281250004
         },
         {
          "label": "inner",
          "n": 100,
          "reduced": false,
          "time": 0.0003511481699218751
         },
         {
          "label": "inner",
          "n": 100,
          "reduced": false,
          "time": 0.0003456903046875001
         },
         {
          "label": "inner",
          "n": 100,
          "reduced": false,
          "time": 0.0003420595078125
         },
         {
          "label": "inner",
          "n": 100,
          "reduced": false,
          "time": 0.0003491096562500001
         },
         {
          "label": "inner",
          "n": 100,
          "reduced": false,
          "time": 0.0003512260820312499
         },
         {
          "label": "inner",
          "n": 100,
          "reduced": false,
          "time": 0.00034647945507812515
         },
         {
          "label": "inner",
          "n": 100,
          "reduced": false,
          "time": 0.0003466911953125002
         },
         {
          "label": "inner",
          "n": 100,
          "reduced": false,
          "time": 0.00034749461914062533
         },
         {
          "label": "inner",
          "n": 100,
          "reduced": false,
          "time": 0.0003473566582031253
         },
         {
          "label": "inner",
          "n": 100,
          "reduced": false,
          "time": 0.0003415905917968751
         },
         {
          "label": "inner",
          "n": 100,
          "reduced": false,
          "time": 0.00034469625195312483
         },
         {
          "label": "inner",
          "n": 100,
          "reduced": false,
          "time": 0.0003467699999999997
         },
         {
          "label": "inner",
          "n": 100,
          "reduced": false,
          "time": 0.00035106898437499987
         },
         {
          "label": "inner",
          "n": 100,
          "reduced": false,
          "time": 0.00034957091406250017
         },
         {
          "label": "inner",
          "n": 100,
          "reduced": false,
          "time": 0.0003496495429687499
         },
         {
          "label": "inner",
          "n": 100,
          "reduced": false,
          "time": 0.00034905750585937506
         },
         {
          "label": "inner",
          "n": 100,
          "reduced": false,
          "time": 0.0003497716035156251
         },
         {
          "label": "inner",
          "n": 100,
          "reduced": false,
          "time": 0.0003510263476562501
         },
         {
          "label": "inner",
          "n": 100,
          "reduced": false,
          "time": 0.00034660675195312494
         },
         {
          "label": "inner",
          "n": 100,
          "reduced": false,
          "time": 0.0003460642597656249
         },
         {
          "label": "inner",
          "n": 100,
          "reduced": false,
          "time": 0.0003472498535156249
         },
         {
          "label": "inner",
          "n": 100,
          "reduced": false,
          "time": 0.00035202217773437476
         },
         {
          "label": "inner",
          "n": 100,
          "reduced": false,
          "time": 0.0003485504121093748
         },
         {
          "label": "inner",
          "n": 100,
          "reduced": false,
          "time": 0.0003506077812500002
         },
         {
          "label": "inner",
          "n": 100,
          "reduced": false,
          "time": 0.00035213268359375
         },
         {
          "label": "inner",
          "n": 100,
          "reduced": false,
          "time": 0.00035012436328124997
         },
         {
          "label": "inner",
          "n": 100,
          "reduced": false,
          "time": 0.0003512731894531251
         },
         {
          "label": "inner",
          "n": 100,
          "reduced": false,
          "time": 0.0003475838808593751
         },
         {
          "label": "inner",
          "n": 100,
          "reduced": false,
          "time": 0.0003470000976562499
         },
         {
          "label": "inner",
          "n": 100,
          "reduced": false,
          "time": 0.0003362734394531256
         },
         {
          "label": "tensordot",
          "n": 1,
          "reduced": false,
          "time": 3.137660668945313e-05
         },
         {
          "label": "tensordot",
          "n": 1,
          "reduced": false,
          "time": 3.1526081054687494e-05
         },
         {
          "label": "tensordot",
          "n": 1,
          "reduced": false,
          "time": 3.148176269531251e-05
         },
         {
          "label": "tensordot",
          "n": 1,
          "reduced": false,
          "time": 3.048145654296875e-05
         },
         {
          "label": "tensordot",
          "n": 1,
          "reduced": false,
          "time": 3.1357764160156246e-05
         },
         {
          "label": "tensordot",
          "n": 1,
          "reduced": false,
          "time": 3.0810593017578116e-05
         },
         {
          "label": "tensordot",
          "n": 1,
          "reduced": false,
          "time": 3.0103375732421867e-05
         },
         {
          "label": "tensordot",
          "n": 1,
          "reduced": false,
          "time": 3.0484495117187485e-05
         },
         {
          "label": "tensordot",
          "n": 1,
          "reduced": false,
          "time": 3.087867529296876e-05
         },
         {
          "label": "tensordot",
          "n": 1,
          "reduced": false,
          "time": 3.1129959228515635e-05
         },
         {
          "label": "tensordot",
          "n": 1,
          "reduced": false,
          "time": 3.145198779296874e-05
         },
         {
          "label": "tensordot",
          "n": 1,
          "reduced": false,
          "time": 3.153639526367187e-05
         },
         {
          "label": "tensordot",
          "n": 1,
          "reduced": false,
          "time": 2.9312698486328123e-05
         },
         {
          "label": "tensordot",
          "n": 1,
          "reduced": false,
          "time": 2.974915893554687e-05
         },
         {
          "label": "tensordot",
          "n": 1,
          "reduced": false,
          "time": 3.0339914794921856e-05
         },
         {
          "label": "tensordot",
          "n": 1,
          "reduced": false,
          "time": 3.0330566406250003e-05
         },
         {
          "label": "tensordot",
          "n": 1,
          "reduced": false,
          "time": 2.9972704833984367e-05
         },
         {
          "label": "tensordot",
          "n": 1,
          "reduced": false,
          "time": 3.0196017578124984e-05
         },
         {
          "label": "tensordot",
          "n": 1,
          "reduced": false,
          "time": 3.0140799316406242e-05
         },
         {
          "label": "tensordot",
          "n": 1,
          "reduced": false,
          "time": 2.9983163574218732e-05
         },
         {
          "label": "tensordot",
          "n": 1,
          "reduced": false,
          "time": 2.8956214843750007e-05
         },
         {
          "label": "tensordot",
          "n": 1,
          "reduced": false,
          "time": 3.000697119140625e-05
         },
         {
          "label": "tensordot",
          "n": 1,
          "reduced": false,
          "time": 3.0130064453125005e-05
         },
         {
          "label": "tensordot",
          "n": 1,
          "reduced": false,
          "time": 3.0128382568359377e-05
         },
         {
          "label": "tensordot",
          "n": 1,
          "reduced": false,
          "time": 3.0311429199218756e-05
         },
         {
          "label": "tensordot",
          "n": 1,
          "reduced": false,
          "time": 3.0357674072265623e-05
         },
         {
          "label": "tensordot",
          "n": 1,
          "reduced": false,
          "time": 3.0635518066406256e-05
         },
         {
          "label": "tensordot",
          "n": 1,
          "reduced": false,
          "time": 3.0384754638671877e-05
         },
         {
          "label": "tensordot",
          "n": 1,
          "reduced": false,
          "time": 3.0489984374999996e-05
         },
         {
          "label": "tensordot",
          "n": 1,
          "reduced": false,
          "time": 3.053399560546874e-05
         },
         {
          "label": "tensordot",
          "n": 1,
          "reduced": false,
          "time": 2.970698608398438e-05
         },
         {
          "label": "tensordot",
          "n": 1,
          "reduced": false,
          "time": 2.954540917968749e-05
         },
         {
          "label": "tensordot",
          "n": 1,
          "reduced": false,
          "time": 2.974088867187499e-05
         },
         {
          "label": "tensordot",
          "n": 1,
          "reduced": false,
          "time": 2.97666416015625e-05
         },
         {
          "label": "tensordot",
          "n": 1,
          "reduced": false,
          "time": 2.999194042968751e-05
         },
         {
          "label": "tensordot",
          "n": 1,
          "reduced": false,
          "time": 2.9688464599609372e-05
         },
         {
          "label": "tensordot",
          "n": 1,
          "reduced": false,
          "time": 3.048670947265625e-05
         },
         {
          "label": "tensordot",
          "n": 1,
          "reduced": false,
          "time": 3.0291681152343756e-05
         },
         {
          "label": "tensordot",
          "n": 1,
          "reduced": false,
          "time": 3.0217097167968765e-05
         },
         {
          "label": "tensordot",
          "n": 1,
          "reduced": false,
          "time": 2.9972372558593747e-05
         },
         {
          "label": "tensordot",
          "n": 1,
          "reduced": false,
          "time": 2.935920483398437e-05
         },
         {
          "label": "tensordot",
          "n": 1,
          "reduced": false,
          "time": 2.9633542724609387e-05
         },
         {
          "label": "tensordot",
          "n": 1,
          "reduced": false,
          "time": 3.0955306396484374e-05
         },
         {
          "label": "tensordot",
          "n": 1,
          "reduced": false,
          "time": 3.0769675781249986e-05
         },
         {
          "label": "tensordot",
          "n": 1,
          "reduced": false,
          "time": 3.0655756591796874e-05
         },
         {
          "label": "tensordot",
          "n": 1,
          "reduced": false,
          "time": 3.0464193115234373e-05
         },
         {
          "label": "tensordot",
          "n": 1,
          "reduced": false,
          "time": 3.067559228515625e-05
         },
         {
          "label": "tensordot",
          "n": 1,
          "reduced": false,
          "time": 3.094463940429688e-05
         },
         {
          "label": "tensordot",
          "n": 1,
          "reduced": false,
          "time": 3.16232685546875e-05
         },
         {
          "label": "tensordot",
          "n": 1,
          "reduced": false,
          "time": 3.161821459960937e-05
         },
         {
          "label": "tensordot",
          "n": 1,
          "reduced": false,
          "time": 3.1478281005859355e-05
         },
         {
          "label": "tensordot",
          "n": 1,
          "reduced": false,
          "time": 3.0135489501953127e-05
         },
         {
          "label": "tensordot",
          "n": 1,
          "reduced": false,
          "time": 3.0697501953125e-05
         },
         {
          "label": "tensordot",
          "n": 1,
          "reduced": false,
          "time": 3.030237719726562e-05
         },
         {
          "label": "tensordot",
          "n": 1,
          "reduced": false,
          "time": 3.0032681396484375e-05
         },
         {
          "label": "tensordot",
          "n": 1,
          "reduced": false,
          "time": 3.0205697265624985e-05
         },
         {
          "label": "tensordot",
          "n": 1,
          "reduced": false,
          "time": 3.038256567382814e-05
         },
         {
          "label": "tensordot",
          "n": 1,
          "reduced": false,
          "time": 3.0306728271484382e-05
         },
         {
          "label": "tensordot",
          "n": 1,
          "reduced": false,
          "time": 2.9938953857421878e-05
         },
         {
          "label": "tensordot",
          "n": 1,
          "reduced": false,
          "time": 3.0048834472656252e-05
         },
         {
          "label": "tensordot",
          "n": 1,
          "reduced": false,
          "time": 2.9627029296875004e-05
         },
         {
          "label": "tensordot",
          "n": 1,
          "reduced": false,
          "time": 2.951603271484374e-05
         },
         {
          "label": "tensordot",
          "n": 1,
          "reduced": false,
          "time": 2.9461572998046873e-05
         },
         {
          "label": "tensordot",
          "n": 1,
          "reduced": false,
          "time": 3.056686083984375e-05
         },
         {
          "label": "tensordot",
          "n": 1,
          "reduced": false,
          "time": 3.059124096679688e-05
         },
         {
          "label": "tensordot",
          "n": 1,
          "reduced": false,
          "time": 3.036831518554687e-05
         },
         {
          "label": "tensordot",
          "n": 1,
          "reduced": false,
          "time": 3.057948950195314e-05
         },
         {
          "label": "tensordot",
          "n": 1,
          "reduced": false,
          "time": 3.0352627929687505e-05
         },
         {
          "label": "tensordot",
          "n": 1,
          "reduced": false,
          "time": 3.050553857421873e-05
         },
         {
          "label": "tensordot",
          "n": 1,
          "reduced": false,
          "time": 2.9080248291015636e-05
         },
         {
          "label": "tensordot",
          "n": 1,
          "reduced": false,
          "time": 2.9934812744140626e-05
         },
         {
          "label": "tensordot",
          "n": 1,
          "reduced": false,
          "time": 2.9622260253906244e-05
         },
         {
          "label": "tensordot",
          "n": 1,
          "reduced": false,
          "time": 2.9810781005859378e-05
         },
         {
          "label": "tensordot",
          "n": 1,
          "reduced": false,
          "time": 2.9918796874999994e-05
         },
         {
          "label": "tensordot",
          "n": 1,
          "reduced": false,
          "time": 3.009696020507812e-05
         },
         {
          "label": "tensordot",
          "n": 1,
          "reduced": false,
          "time": 2.9917466796875003e-05
         },
         {
          "label": "tensordot",
          "n": 1,
          "reduced": false,
          "time": 3.0094029296875e-05
         },
         {
          "label": "tensordot",
          "n": 1,
          "reduced": false,
          "time": 3.052169140625e-05
         },
         {
          "label": "tensordot",
          "n": 1,
          "reduced": false,
          "time": 2.9644858398437498e-05
         },
         {
          "label": "tensordot",
          "n": 1,
          "reduced": false,
          "time": 2.9521662841796876e-05
         },
         {
          "label": "tensordot",
          "n": 1,
          "reduced": false,
          "time": 2.942802099609377e-05
         },
         {
          "label": "tensordot",
          "n": 1,
          "reduced": false,
          "time": 3.1190843749999994e-05
         },
         {
          "label": "tensordot",
          "n": 1,
          "reduced": false,
          "time": 3.107128149414062e-05
         },
         {
          "label": "tensordot",
          "n": 1,
          "reduced": false,
          "time": 3.093551391601562e-05
         },
         {
          "label": "tensordot",
          "n": 1,
          "reduced": false,
          "time": 2.9803031738281246e-05
         },
         {
          "label": "tensordot",
          "n": 1,
          "reduced": false,
          "time": 2.9675948486328123e-05
         },
         {
          "label": "tensordot",
          "n": 1,
          "reduced": false,
          "time": 2.9614562255859375e-05
         },
         {
          "label": "tensordot",
          "n": 1,
          "reduced": false,
          "time": 3.0787977294921884e-05
         },
         {
          "label": "tensordot",
          "n": 1,
          "reduced": false,
          "time": 3.0778166259765635e-05
         },
         {
          "label": "tensordot",
          "n": 1,
          "reduced": false,
          "time": 3.0736213378906245e-05
         },
         {
          "label": "tensordot",
          "n": 1,
          "reduced": false,
          "time": 2.995761035156249e-05
         },
         {
          "label": "tensordot",
          "n": 1,
          "reduced": false,
          "time": 3.021485473632812e-05
         },
         {
          "label": "tensordot",
          "n": 1,
          "reduced": false,
          "time": 3.0117860839843768e-05
         },
         {
          "label": "tensordot",
          "n": 1,
          "reduced": false,
          "time": 3.0169869140625005e-05
         },
         {
          "label": "tensordot",
          "n": 1,
          "reduced": false,
          "time": 3.004450659179687e-05
         },
         {
          "label": "tensordot",
          "n": 1,
          "reduced": false,
          "time": 2.988657202148437e-05
         },
         {
          "label": "tensordot",
          "n": 1,
          "reduced": false,
          "time": 2.9387327392578117e-05
         },
         {
          "label": "tensordot",
          "n": 1,
          "reduced": false,
          "time": 2.9281572753906253e-05
         },
         {
          "label": "tensordot",
          "n": 1,
          "reduced": false,
          "time": 2.9705338134765617e-05
         },
         {
          "label": "tensordot",
          "n": 1,
          "reduced": false,
          "time": 2.9320844482421868e-05
         },
         {
          "label": "tensordot",
          "n": 1,
          "reduced": false,
          "time": 2.942964086914064e-05
         },
         {
          "label": "tensordot",
          "n": 1,
          "reduced": false,
          "time": 2.908153247070311e-05
         },
         {
          "label": "tensordot",
          "n": 1,
          "reduced": false,
          "time": 2.94252783203125e-05
         },
         {
          "label": "tensordot",
          "n": 1,
          "reduced": false,
          "time": 2.955295214843749e-05
         },
         {
          "label": "tensordot",
          "n": 1,
          "reduced": false,
          "time": 2.998482861328125e-05
         },
         {
          "label": "tensordot",
          "n": 1,
          "reduced": false,
          "time": 3.0498093017578115e-05
         },
         {
          "label": "tensordot",
          "n": 1,
          "reduced": false,
          "time": 3.0518740966796866e-05
         },
         {
          "label": "tensordot",
          "n": 1,
          "reduced": false,
          "time": 3.050104418945312e-05
         },
         {
          "label": "tensordot",
          "n": 1,
          "reduced": false,
          "time": 2.9386521484375003e-05
         },
         {
          "label": "tensordot",
          "n": 1,
          "reduced": false,
          "time": 2.9158851074218744e-05
         },
         {
          "label": "tensordot",
          "n": 1,
          "reduced": false,
          "time": 2.9158825195312494e-05
         },
         {
          "label": "tensordot",
          "n": 1,
          "reduced": false,
          "time": 3.061079272460938e-05
         },
         {
          "label": "tensordot",
          "n": 1,
          "reduced": false,
          "time": 3.083210742187499e-05
         },
         {
          "label": "tensordot",
          "n": 1,
          "reduced": false,
          "time": 3.068426147460936e-05
         },
         {
          "label": "tensordot",
          "n": 1,
          "reduced": false,
          "time": 3.0358994384765633e-05
         },
         {
          "label": "tensordot",
          "n": 1,
          "reduced": false,
          "time": 3.0064844238281255e-05
         },
         {
          "label": "tensordot",
          "n": 1,
          "reduced": false,
          "time": 3.024577050781248e-05
         },
         {
          "label": "tensordot",
          "n": 1,
          "reduced": false,
          "time": 2.98301396484375e-05
         },
         {
          "label": "tensordot",
          "n": 1,
          "reduced": false,
          "time": 3.0071095214843745e-05
         },
         {
          "label": "tensordot",
          "n": 1,
          "reduced": false,
          "time": 3.0283834716796857e-05
         },
         {
          "label": "dask",
          "n": 10,
          "reduced": true,
          "time": 0.0024049737343749995
         },
         {
          "label": "dask",
          "n": 10,
          "reduced": true,
          "time": 0.0024073015625000003
         },
         {
          "label": "dask",
          "n": 10,
          "reduced": true,
          "time": 0.002405909921875001
         },
         {
          "label": "dask",
          "n": 10,
          "reduced": true,
          "time": 0.0024152883437500005
         },
         {
          "label": "dask",
          "n": 10,
          "reduced": true,
          "time": 0.0024201040781250006
         },
         {
          "label": "dask",
          "n": 10,
          "reduced": true,
          "time": 0.002423068843750001
         },
         {
          "label": "dask",
          "n": 10,
          "reduced": true,
          "time": 0.0024222339843749992
         },
         {
          "label": "dask",
          "n": 10,
          "reduced": true,
          "time": 0.002455232421875
         },
         {
          "label": "dask",
          "n": 10,
          "reduced": true,
          "time": 0.002433288421874999
         },
         {
          "label": "dask",
          "n": 10,
          "reduced": true,
          "time": 0.002449996046875
         },
         {
          "label": "dask",
          "n": 10,
          "reduced": true,
          "time": 0.0024578703593749994
         },
         {
          "label": "dask",
          "n": 10,
          "reduced": true,
          "time": 0.0023952301718749985
         },
         {
          "label": "dask",
          "n": 10,
          "reduced": true,
          "time": 0.0024027489531249988
         },
         {
          "label": "dask",
          "n": 10,
          "reduced": true,
          "time": 0.002410793531250002
         },
         {
          "label": "dask",
          "n": 10,
          "reduced": true,
          "time": 0.002413389484374997
         },
         {
          "label": "dask",
          "n": 10,
          "reduced": true,
          "time": 0.0024015540937499993
         },
         {
          "label": "dask",
          "n": 10,
          "reduced": true,
          "time": 0.002405250500000001
         },
         {
          "label": "dask",
          "n": 10,
          "reduced": true,
          "time": 0.002434238453125001
         },
         {
          "label": "dask",
          "n": 10,
          "reduced": true,
          "time": 0.002432559671874999
         },
         {
          "label": "dask",
          "n": 10,
          "reduced": true,
          "time": 0.0024314047812500003
         },
         {
          "label": "dask",
          "n": 10,
          "reduced": true,
          "time": 0.0024343015312499987
         },
         {
          "label": "dask",
          "n": 10,
          "reduced": true,
          "time": 0.0024192726874999997
         },
         {
          "label": "dask",
          "n": 10,
          "reduced": true,
          "time": 0.0024233686718750005
         },
         {
          "label": "dask",
          "n": 10,
          "reduced": true,
          "time": 0.002431861890624998
         },
         {
          "label": "dask",
          "n": 10,
          "reduced": true,
          "time": 0.002420025890625
         },
         {
          "label": "dask",
          "n": 10,
          "reduced": true,
          "time": 0.0023925773124999997
         },
         {
          "label": "dask",
          "n": 10,
          "reduced": true,
          "time": 0.0024015692656250004
         },
         {
          "label": "dask",
          "n": 10,
          "reduced": true,
          "time": 0.0023907874531249994
         },
         {
          "label": "dask",
          "n": 10,
          "reduced": true,
          "time": 0.0023914339999999996
         },
         {
          "label": "dask",
          "n": 10,
          "reduced": true,
          "time": 0.0023921635468749994
         },
         {
          "label": "dask",
          "n": 10,
          "reduced": true,
          "time": 0.002395786171874999
         },
         {
          "label": "dask",
          "n": 10,
          "reduced": true,
          "time": 0.0023788755781250018
         },
         {
          "label": "dask",
          "n": 10,
          "reduced": true,
          "time": 0.002398339453125002
         },
         {
          "label": "dask",
          "n": 10,
          "reduced": true,
          "time": 0.0023923044531250007
         },
         {
          "label": "dask",
          "n": 10,
          "reduced": true,
          "time": 0.002418073109375
         },
         {
          "label": "dask",
          "n": 10,
          "reduced": true,
          "time": 0.0024152444062499993
         },
         {
          "label": "dask",
          "n": 10,
          "reduced": true,
          "time": 0.002399745921875
         },
         {
          "label": "dask",
          "n": 10,
          "reduced": true,
          "time": 0.0023983893437500015
         },
         {
          "label": "dask",
          "n": 10,
          "reduced": true,
          "time": 0.0024332443749999974
         },
         {
          "label": "dask",
          "n": 10,
          "reduced": true,
          "time": 0.0023960917968749995
         },
         {
          "label": "dask",
          "n": 10,
          "reduced": true,
          "time": 0.0024059500000000004
         },
         {
          "label": "dask",
          "n": 10,
          "reduced": true,
          "time": 0.0024056675937500008
         },
         {
          "label": "dask",
          "n": 10,
          "reduced": true,
          "time": 0.002399101328125
         },
         {
          "label": "dask",
          "n": 10,
          "reduced": true,
          "time": 0.002404623171875
         },
         {
          "label": "dask",
          "n": 10,
          "reduced": true,
          "time": 0.002411019906249999
         },
         {
          "label": "dask",
          "n": 10,
          "reduced": true,
          "time": 0.0023963560625000005
         },
         {
          "label": "dask",
          "n": 10,
          "reduced": true,
          "time": 0.0023795746718750024
         },
         {
          "label": "dask",
          "n": 10,
          "reduced": true,
          "time": 0.002400376859375001
         },
         {
          "label": "dask",
          "n": 10,
          "reduced": true,
          "time": 0.002415152109374999
         },
         {
          "label": "dask",
          "n": 10,
          "reduced": true,
          "time": 0.002412999234375001
         },
         {
          "label": "dask",
          "n": 10,
          "reduced": true,
          "time": 0.0024017592343749984
         },
         {
          "label": "dask",
          "n": 10,
          "reduced": true,
          "time": 0.0024170247968749985
         },
         {
          "label": "dask",
          "n": 10,
          "reduced": true,
          "time": 0.002402197124999998
         },
         {
          "label": "dask",
          "n": 10,
          "reduced": true,
          "time": 0.0024036988125000006
         },
         {
          "label": "dask",
          "n": 10,
          "reduced": true,
          "time": 0.0023822440312499995
         },
         {
          "label": "dask",
          "n": 10,
          "reduced": true,
          "time": 0.0023818137187499987
         },
         {
          "label": "dask",
          "n": 10,
          "reduced": true,
          "time": 0.0023980092812499985
         },
         {
          "label": "dask",
          "n": 10,
          "reduced": true,
          "time": 0.002436132062499999
         },
         {
          "label": "dask",
          "n": 10,
          "reduced": true,
          "time": 0.002451070484375
         },
         {
          "label": "dask",
          "n": 10,
          "reduced": true,
          "time": 0.0024430425312500018
         },
         {
          "label": "dask",
          "n": 10,
          "reduced": true,
          "time": 0.002423553859375
         },
         {
          "label": "dask",
          "n": 10,
          "reduced": true,
          "time": 0.0024186664999999996
         },
         {
          "label": "dask",
          "n": 10,
          "reduced": true,
          "time": 0.002410546046875
         },
         {
          "label": "dask",
          "n": 10,
          "reduced": true,
          "time": 0.002406023406250001
         },
         {
          "label": "dask",
          "n": 10,
          "reduced": true,
          "time": 0.00240541853125
         },
         {
          "label": "dask",
          "n": 10,
          "reduced": true,
          "time": 0.00239250253125
         },
         {
          "label": "dask",
          "n": 10,
          "reduced": true,
          "time": 0.0024183497812500006
         },
         {
          "label": "dask",
          "n": 10,
          "reduced": true,
          "time": 0.002411316531249999
         },
         {
          "label": "dask",
          "n": 10,
          "reduced": true,
          "time": 0.0024187368593749994
         },
         {
          "label": "dask",
          "n": 10,
          "reduced": true,
          "time": 0.0024030871875
         },
         {
          "label": "dask",
          "n": 10,
          "reduced": true,
          "time": 0.002397173671875001
         },
         {
          "label": "dask",
          "n": 10,
          "reduced": true,
          "time": 0.002402715562500001
         },
         {
          "label": "dask",
          "n": 10,
          "reduced": true,
          "time": 0.002382210562499999
         },
         {
          "label": "dask",
          "n": 10,
          "reduced": true,
          "time": 0.002411869265625
         },
         {
          "label": "dask",
          "n": 10,
          "reduced": true,
          "time": 0.002407981312499998
         },
         {
          "label": "dask",
          "n": 10,
          "reduced": true,
          "time": 0.002425310921875
         },
         {
          "label": "dask",
          "n": 10,
          "reduced": true,
          "time": 0.0024763993437500013
         },
         {
          "label": "dask",
          "n": 10,
          "reduced": true,
          "time": 0.0024070761718750014
         },
         {
          "label": "dask",
          "n": 10,
          "reduced": true,
          "time": 0.0024290570625
         },
         {
          "label": "dask",
          "n": 10,
          "reduced": true,
          "time": 0.002421741703124999
         },
         {
          "label": "dask",
          "n": 10,
          "reduced": true,
          "time": 0.0024104381718749977
         },
         {
          "label": "dask",
          "n": 10,
          "reduced": true,
          "time": 0.0023919430625000005
         },
         {
          "label": "dask",
          "n": 10,
          "reduced": true,
          "time": 0.0023787155000000015
         },
         {
          "label": "dask",
          "n": 10,
          "reduced": true,
          "time": 0.002413724890625
         },
         {
          "label": "dask",
          "n": 10,
          "reduced": true,
          "time": 0.002401386375
         },
         {
          "label": "dask",
          "n": 10,
          "reduced": true,
          "time": 0.0024088169062499998
         },
         {
          "label": "dask",
          "n": 10,
          "reduced": true,
          "time": 0.002411971796874999
         },
         {
          "label": "dask",
          "n": 10,
          "reduced": true,
          "time": 0.0023984027812500013
         },
         {
          "label": "dask",
          "n": 10,
          "reduced": true,
          "time": 0.0024014382500000004
         },
         {
          "label": "dask",
          "n": 10,
          "reduced": true,
          "time": 0.002400045359375002
         },
         {
          "label": "dask",
          "n": 10,
          "reduced": true,
          "time": 0.0024071069062499995
         },
         {
          "label": "dask",
          "n": 10,
          "reduced": true,
          "time": 0.002409162578125002
         },
         {
          "label": "dask",
          "n": 10,
          "reduced": true,
          "time": 0.0024299965156250013
         },
         {
          "label": "dask",
          "n": 10,
          "reduced": true,
          "time": 0.002396507453125
         },
         {
          "label": "dask",
          "n": 10,
          "reduced": true,
          "time": 0.0023974137031249985
         },
         {
          "label": "dask",
          "n": 10,
          "reduced": true,
          "time": 0.0023869376249999984
         },
         {
          "label": "dask",
          "n": 10,
          "reduced": true,
          "time": 0.00239924609375
         },
         {
          "label": "dask",
          "n": 10,
          "reduced": true,
          "time": 0.0024290036875000004
         },
         {
          "label": "dask",
          "n": 10,
          "reduced": true,
          "time": 0.002417671406250002
         },
         {
          "label": "dask",
          "n": 10,
          "reduced": true,
          "time": 0.002412453046874999
         },
         {
          "label": "dask",
          "n": 10,
          "reduced": true,
          "time": 0.002412378765624999
         },
         {
          "label": "dask",
          "n": 10,
          "reduced": true,
          "time": 0.002454667484374999
         },
         {
          "label": "dask",
          "n": 10,
          "reduced": true,
          "time": 0.00242193965625
         },
         {
          "label": "dask",
          "n": 10,
          "reduced": true,
          "time": 0.0024071676875000014
         },
         {
          "label": "dask",
          "n": 10,
          "reduced": true,
          "time": 0.0023996074218749983
         },
         {
          "label": "dask",
          "n": 10,
          "reduced": true,
          "time": 0.002415079296874999
         },
         {
          "label": "dask",
          "n": 10,
          "reduced": true,
          "time": 0.0023999555156250015
         },
         {
          "label": "dask",
          "n": 10,
          "reduced": true,
          "time": 0.002403772046874999
         },
         {
          "label": "dask",
          "n": 10,
          "reduced": true,
          "time": 0.0024033744687500004
         },
         {
          "label": "dask",
          "n": 10,
          "reduced": true,
          "time": 0.0024194410312499987
         },
         {
          "label": "dask",
          "n": 10,
          "reduced": true,
          "time": 0.002405544109375001
         },
         {
          "label": "dask",
          "n": 10,
          "reduced": true,
          "time": 0.0023937155781250004
         },
         {
          "label": "dask",
          "n": 10,
          "reduced": true,
          "time": 0.0023941120312499994
         },
         {
          "label": "dask",
          "n": 10,
          "reduced": true,
          "time": 0.0024201164999999997
         },
         {
          "label": "dask",
          "n": 10,
          "reduced": true,
          "time": 0.002400716421875001
         },
         {
          "label": "dask",
          "n": 10,
          "reduced": true,
          "time": 0.00239513553125
         },
         {
          "label": "dask",
          "n": 10,
          "reduced": true,
          "time": 0.0024017993437500003
         },
         {
          "label": "dask",
          "n": 10,
          "reduced": true,
          "time": 0.002444280656249999
         },
         {
          "label": "dask",
          "n": 10,
          "reduced": true,
          "time": 0.0024401057968749997
         },
         {
          "label": "dask",
          "n": 10,
          "reduced": true,
          "time": 0.0024232603281249994
         },
         {
          "label": "inner",
          "n": 100,
          "reduced": true,
          "time": 2.2742435150146483e-06
         },
         {
          "label": "inner",
          "n": 100,
          "reduced": true,
          "time": 2.298000610351563e-06
         },
         {
          "label": "inner",
          "n": 100,
          "reduced": true,
          "time": 2.3669856872558605e-06
         },
         {
          "label": "inner",
          "n": 100,
          "reduced": true,
          "time": 2.296544586181641e-06
         },
         {
          "label": "inner",
          "n": 100,
          "reduced": true,
          "time": 2.3232194519042953e-06
         },
         {
          "label": "inner",
          "n": 100,
          "reduced": true,
          "time": 2.3185724029541036e-06
         },
         {
          "label": "inner",
          "n": 100,
          "reduced": true,
          "time": 2.274739303588867e-06
         },
         {
          "label": "inner",
          "n": 100,
          "reduced": true,
          "time": 2.2619557189941424e-06
         },
         {
          "label": "inner",
          "n": 100,
          "reduced": true,
          "time": 2.2610875091552744e-06
         },
         {
          "label": "inner",
          "n": 100,
          "reduced": true,
          "time": 2.3547964019775377e-06
         },
         {
          "label": "inner",
          "n": 100,
          "reduced": true,
          "time": 2.357110534667968e-06
         },
         {
          "label": "inner",
          "n": 100,
          "reduced": true,
          "time": 2.324507980346677e-06
         },
         {
          "label": "inner",
          "n": 100,
          "reduced": true,
          "time": 2.2955542602539068e-06
         },
         {
          "label": "inner",
          "n": 100,
          "reduced": true,
          "time": 2.292255691528322e-06
         },
         {
          "label": "inner",
          "n": 100,
          "reduced": true,
          "time": 2.302721572875977e-06
         },
         {
          "label": "inner",
          "n": 100,
          "reduced": true,
          "time": 2.386111114501952e-06
         },
         {
          "label": "inner",
          "n": 100,
          "reduced": true,
          "time": 2.396827087402346e-06
         },
         {
          "label": "inner",
          "n": 100,
          "reduced": true,
          "time": 2.3602544097900397e-06
         },
         {
          "label": "inner",
          "n": 100,
          "reduced": true,
          "time": 2.2890424652099623e-06
         },
         {
          "label": "inner",
          "n": 100,
          "reduced": true,
          "time": 2.281669784545901e-06
         },
         {
          "label": "inner",
          "n": 100,
          "reduced": true,
          "time": 2.2614080505371098e-06
         },
         {
          "label": "inner",
          "n": 100,
          "reduced": true,
          "time": 2.2965657958984375e-06
         },
         {
          "label": "inner",
          "n": 100,
          "reduced": true,
          "time": 2.3210764312744127e-06
         },
         {
          "label": "inner",
          "n": 100,
          "reduced": true,
          "time": 2.2820680999755856e-06
         },
         {
          "label": "inner",
          "n": 100,
          "reduced": true,
          "time": 2.3144496765136734e-06
         },
         {
          "label": "inner",
          "n": 100,
          "reduced": true,
          "time": 2.3012282257080097e-06
         },
         {
          "label": "inner",
          "n": 100,
          "reduced": true,
          "time": 2.293616561889648e-06
         },
         {
          "label": "inner",
          "n": 100,
          "reduced": true,
          "time": 2.274932052612303e-06
         },
         {
          "label": "inner",
          "n": 100,
          "reduced": true,
          "time": 2.261030303955079e-06
         },
         {
          "label": "inner",
          "n": 100,
          "reduced": true,
          "time": 2.260685424804688e-06
         },
         {
          "label": "inner",
          "n": 100,
          "reduced": true,
          "time": 2.1989104919433604e-06
         },
         {
          "label": "inner",
          "n": 100,
          "reduced": true,
          "time": 2.209564880371095e-06
         },
         {
          "label": "inner",
          "n": 100,
          "reduced": true,
          "time": 2.2209720153808593e-06
         },
         {
          "label": "inner",
          "n": 100,
          "reduced": true,
          "time": 2.3452516937255864e-06
         },
         {
          "label": "inner",
          "n": 100,
          "reduced": true,
          "time": 2.3423052978515634e-06
         },
         {
          "label": "inner",
          "n": 100,
          "reduced": true,
          "time": 2.348402587890625e-06
         },
         {
          "label": "inner",
          "n": 100,
          "reduced": true,
          "time": 2.3692136688232425e-06
         },
         {
          "label": "inner",
          "n": 100,
          "reduced": true,
          "time": 2.3692441101074235e-06
         },
         {
          "label": "inner",
          "n": 100,
          "reduced": true,
          "time": 2.3324984130859368e-06
         },
         {
          "label": "inner",
          "n": 100,
          "reduced": true,
          "time": 2.2558748931884777e-06
         },
         {
          "label": "inner",
          "n": 100,
          "reduced": true,
          "time": 2.2459809570312517e-06
         },
         {
          "label": "inner",
          "n": 100,
          "reduced": true,
          "time": 2.266603408813477e-06
         },
         {
          "label": "inner",
          "n": 100,
          "reduced": true,
          "time": 2.2685740356445316e-06
         },
         {
          "label": "inner",
          "n": 100,
          "reduced": true,
          "time": 2.2421573791503915e-06
         },
         {
          "label": "inner",
          "n": 100,
          "reduced": true,
          "time": 2.2886049957275395e-06
         },
         {
          "label": "inner",
          "n": 100,
          "reduced": true,
          "time": 2.309534515380858e-06
         },
         {
          "label": "inner",
          "n": 100,
          "reduced": true,
          "time": 2.303834930419922e-06
         },
         {
          "label": "inner",
          "n": 100,
          "reduced": true,
          "time": 2.311211914062499e-06
         },
         {
          "label": "inner",
          "n": 100,
          "reduced": true,
          "time": 2.2849121398925788e-06
         },
         {
          "label": "inner",
          "n": 100,
          "reduced": true,
          "time": 2.2667270812988257e-06
         },
         {
          "label": "inner",
          "n": 100,
          "reduced": true,
          "time": 2.2420751037597658e-06
         },
         {
          "label": "inner",
          "n": 100,
          "reduced": true,
          "time": 2.2849564361572263e-06
         },
         {
          "label": "inner",
          "n": 100,
          "reduced": true,
          "time": 2.2817602081298827e-06
         },
         {
          "label": "inner",
          "n": 100,
          "reduced": true,
          "time": 2.2181884765625005e-06
         },
         {
          "label": "inner",
          "n": 100,
          "reduced": true,
          "time": 2.1951469268798814e-06
         },
         {
          "label": "inner",
          "n": 100,
          "reduced": true,
          "time": 2.245629852294923e-06
         },
         {
          "label": "inner",
          "n": 100,
          "reduced": true,
          "time": 2.210391479492189e-06
         },
         {
          "label": "inner",
          "n": 100,
          "reduced": true,
          "time": 2.33759112548828e-06
         },
         {
          "label": "inner",
          "n": 100,
          "reduced": true,
          "time": 2.407413665771487e-06
         },
         {
          "label": "inner",
          "n": 100,
          "reduced": true,
          "time": 2.432785415649415e-06
         },
         {
          "label": "inner",
          "n": 100,
          "reduced": true,
          "time": 2.3160182800292978e-06
         },
         {
          "label": "inner",
          "n": 100,
          "reduced": true,
          "time": 2.3433279876708984e-06
         },
         {
          "label": "inner",
          "n": 100,
          "reduced": true,
          "time": 2.321567520141599e-06
         },
         {
          "label": "inner",
          "n": 100,
          "reduced": true,
          "time": 2.2985897064208975e-06
         },
         {
          "label": "inner",
          "n": 100,
          "reduced": true,
          "time": 2.306044586181638e-06
         },
         {
          "label": "inner",
          "n": 100,
          "reduced": true,
          "time": 2.3092775726318354e-06
         },
         {
          "label": "inner",
          "n": 100,
          "reduced": true,
          "time": 2.2651795654296856e-06
         },
         {
          "label": "inner",
          "n": 100,
          "reduced": true,
          "time": 2.2804689636230467e-06
         },
         {
          "label": "inner",
          "n": 100,
          "reduced": true,
          "time": 2.278544601440429e-06
         },
         {
          "label": "inner",
          "n": 100,
          "reduced": true,
          "time": 2.2917246093750004e-06
         },
         {
          "label": "inner",
          "n": 100,
          "reduced": true,
          "time": 2.3262479858398414e-06
         },
         {
          "label": "inner",
          "n": 100,
          "reduced": true,
          "time": 2.3246376037597647e-06
         },
         {
          "label": "inner",
          "n": 100,
          "reduced": true,
          "time": 2.312857467651368e-06
         },
         {
          "label": "inner",
          "n": 100,
          "reduced": true,
          "time": 2.3001614685058582e-06
         },
         {
          "label": "inner",
          "n": 100,
          "reduced": true,
          "time": 2.3081567687988284e-06
         },
         {
          "label": "inner",
          "n": 100,
          "reduced": true,
          "time": 2.2808567047119135e-06
         },
         {
          "label": "inner",
          "n": 100,
          "reduced": true,
          "time": 2.2865737762451152e-06
         },
         {
          "label": "inner",
          "n": 100,
          "reduced": true,
          "time": 2.2775370178222654e-06
         },
         {
          "label": "inner",
          "n": 100,
          "reduced": true,
          "time": 2.329200424194335e-06
         },
         {
          "label": "inner",
          "n": 100,
          "reduced": true,
          "time": 2.287439392089845e-06
         },
         {
          "label": "inner",
          "n": 100,
          "reduced": true,
          "time": 2.3058507080078145e-06
         },
         {
          "label": "inner",
          "n": 100,
          "reduced": true,
          "time": 2.2298432159423843e-06
         },
         {
          "label": "inner",
          "n": 100,
          "reduced": true,
          "time": 2.247018218994141e-06
         },
         {
          "label": "inner",
          "n": 100,
          "reduced": true,
          "time": 2.256339187622071e-06
         },
         {
          "label": "inner",
          "n": 100,
          "reduced": true,
          "time": 2.2926334991455088e-06
         },
         {
          "label": "inner",
          "n": 100,
          "reduced": true,
          "time": 2.2801438598632836e-06
         },
         {
          "label": "inner",
          "n": 100,
          "reduced": true,
          "time": 2.308134765624999e-06
         },
         {
          "label": "inner",
          "n": 100,
          "reduced": true,
          "time": 2.313362258911131e-06
         },
         {
          "label": "inner",
          "n": 100,
          "reduced": true,
          "time": 2.2852945861816433e-06
         },
         {
          "label": "inner",
          "n": 100,
          "reduced": true,
          "time": 2.294076919555664e-06
         },
         {
          "label": "inner",
          "n": 100,
          "reduced": true,
          "time": 2.3561532592773435e-06
         },
         {
          "label": "inner",
          "n": 100,
          "reduced": true,
          "time": 2.3068919219970693e-06
         },
         {
          "label": "inner",
          "n": 100,
          "reduced": true,
          "time": 2.303240295410155e-06
         },
         {
          "label": "inner",
          "n": 100,
          "reduced": true,
          "time": 2.2891001892089863e-06
         },
         {
          "label": "inner",
          "n": 100,
          "reduced": true,
          "time": 2.2691143646240244e-06
         },
         {
          "label": "inner",
          "n": 100,
          "reduced": true,
          "time": 2.3103822784423844e-06
         },
         {
          "label": "inner",
          "n": 100,
          "reduced": true,
          "time": 2.3447464294433586e-06
         },
         {
          "label": "inner",
          "n": 100,
          "reduced": true,
          "time": 2.3913996276855488e-06
         },
         {
          "label": "inner",
          "n": 100,
          "reduced": true,
          "time": 2.369840011596679e-06
         },
         {
          "label": "inner",
          "n": 100,
          "reduced": true,
          "time": 2.3011049194335932e-06
         },
         {
          "label": "inner",
          "n": 100,
          "reduced": true,
          "time": 2.2561547393798823e-06
         },
         {
          "label": "inner",
          "n": 100,
          "reduced": true,
          "time": 2.2807294921874974e-06
         },
         {
          "label": "inner",
          "n": 100,
          "reduced": true,
          "time": 2.327000030517577e-06
         },
         {
          "label": "inner",
          "n": 100,
          "reduced": true,
          "time": 2.3261350402832035e-06
         },
         {
          "label": "inner",
          "n": 100,
          "reduced": true,
          "time": 2.3310834808349617e-06
         },
         {
          "label": "inner",
          "n": 100,
          "reduced": true,
          "time": 2.268825653076173e-06
         },
         {
          "label": "inner",
          "n": 100,
          "reduced": true,
          "time": 2.281669692993166e-06
         },
         {
          "label": "inner",
          "n": 100,
          "reduced": true,
          "time": 2.2890996093749997e-06
         },
         {
          "label": "inner",
          "n": 100,
          "reduced": true,
          "time": 2.216793563842775e-06
         },
         {
          "label": "inner",
          "n": 100,
          "reduced": true,
          "time": 2.2369013671875e-06
         },
         {
          "label": "inner",
          "n": 100,
          "reduced": true,
          "time": 2.221234298706055e-06
         },
         {
          "label": "inner",
          "n": 100,
          "reduced": true,
          "time": 2.3223436431884773e-06
         },
         {
          "label": "inner",
          "n": 100,
          "reduced": true,
          "time": 2.3317486114501958e-06
         },
         {
          "label": "inner",
          "n": 100,
          "reduced": true,
          "time": 2.312352813720704e-06
         },
         {
          "label": "inner",
          "n": 100,
          "reduced": true,
          "time": 2.2788782043457034e-06
         },
         {
          "label": "inner",
          "n": 100,
          "reduced": true,
          "time": 2.3069108123779297e-06
         },
         {
          "label": "inner",
          "n": 100,
          "reduced": true,
          "time": 2.2864766082763656e-06
         },
         {
          "label": "inner",
          "n": 100,
          "reduced": true,
          "time": 2.2724401245117205e-06
         },
         {
          "label": "inner",
          "n": 100,
          "reduced": true,
          "time": 2.2621741943359404e-06
         },
         {
          "label": "inner",
          "n": 100,
          "reduced": true,
          "time": 2.253253753662109e-06
         },
         {
          "label": "dask",
          "n": 100,
          "reduced": false,
          "time": 0.03435697175000002
         },
         {
          "label": "dask",
          "n": 100,
          "reduced": false,
          "time": 0.03956563299999999
         },
         {
          "label": "dask",
          "n": 100,
          "reduced": false,
          "time": 0.039217635500000014
         },
         {
          "label": "dask",
          "n": 100,
          "reduced": false,
          "time": 0.03425474075000001
         },
         {
          "label": "dask",
          "n": 100,
          "reduced": false,
          "time": 0.03951760874999999
         },
         {
          "label": "dask",
          "n": 100,
          "reduced": false,
          "time": 0.03927646574999999
         },
         {
          "label": "dask",
          "n": 100,
          "reduced": false,
          "time": 0.03411996150000002
         },
         {
          "label": "dask",
          "n": 100,
          "reduced": false,
          "time": 0.03948068874999999
         },
         {
          "label": "dask",
          "n": 100,
          "reduced": false,
          "time": 0.038989699749999995
         },
         {
          "label": "dask",
          "n": 100,
          "reduced": false,
          "time": 0.034493467
         },
         {
          "label": "dask",
          "n": 100,
          "reduced": false,
          "time": 0.03922434400000002
         },
         {
          "label": "dask",
          "n": 100,
          "reduced": false,
          "time": 0.03939202949999998
         },
         {
          "label": "dask",
          "n": 100,
          "reduced": false,
          "time": 0.03470078074999999
         },
         {
          "label": "dask",
          "n": 100,
          "reduced": false,
          "time": 0.04021337375
         },
         {
          "label": "dask",
          "n": 100,
          "reduced": false,
          "time": 0.03987935099999995
         },
         {
          "label": "dask",
          "n": 100,
          "reduced": false,
          "time": 0.03515675874999996
         },
         {
          "label": "dask",
          "n": 100,
          "reduced": false,
          "time": 0.04034899475000003
         },
         {
          "label": "dask",
          "n": 100,
          "reduced": false,
          "time": 0.03912427350000003
         },
         {
          "label": "dask",
          "n": 100,
          "reduced": false,
          "time": 0.03463356275000001
         },
         {
          "label": "dask",
          "n": 100,
          "reduced": false,
          "time": 0.04005452125000003
         },
         {
          "label": "dask",
          "n": 100,
          "reduced": false,
          "time": 0.03909960825000003
         },
         {
          "label": "dask",
          "n": 100,
          "reduced": false,
          "time": 0.03432295824999998
         },
         {
          "label": "dask",
          "n": 100,
          "reduced": false,
          "time": 0.0400928465
         },
         {
          "label": "dask",
          "n": 100,
          "reduced": false,
          "time": 0.03880241325
         },
         {
          "label": "dask",
          "n": 100,
          "reduced": false,
          "time": 0.034656520999999996
         },
         {
          "label": "dask",
          "n": 100,
          "reduced": false,
          "time": 0.03941423350000001
         },
         {
          "label": "dask",
          "n": 100,
          "reduced": false,
          "time": 0.03970224350000007
         },
         {
          "label": "dask",
          "n": 100,
          "reduced": false,
          "time": 0.03433333075
         },
         {
          "label": "dask",
          "n": 100,
          "reduced": false,
          "time": 0.039681373500000006
         },
         {
          "label": "dask",
          "n": 100,
          "reduced": false,
          "time": 0.03924683824999997
         },
         {
          "label": "dask",
          "n": 100,
          "reduced": false,
          "time": 0.03438020525000002
         },
         {
          "label": "dask",
          "n": 100,
          "reduced": false,
          "time": 0.039868879499999954
         },
         {
          "label": "dask",
          "n": 100,
          "reduced": false,
          "time": 0.03936721625000006
         },
         {
          "label": "dask",
          "n": 100,
          "reduced": false,
          "time": 0.03416255400000001
         },
         {
          "label": "dask",
          "n": 100,
          "reduced": false,
          "time": 0.03969514399999996
         },
         {
          "label": "dask",
          "n": 100,
          "reduced": false,
          "time": 0.03953605325000009
         },
         {
          "label": "dask",
          "n": 100,
          "reduced": false,
          "time": 0.034537831500000005
         },
         {
          "label": "dask",
          "n": 100,
          "reduced": false,
          "time": 0.04001766125
         },
         {
          "label": "dask",
          "n": 100,
          "reduced": false,
          "time": 0.03982537975
         },
         {
          "label": "dask",
          "n": 100,
          "reduced": false,
          "time": 0.03435704349999996
         },
         {
          "label": "dask",
          "n": 100,
          "reduced": false,
          "time": 0.04004470999999998
         },
         {
          "label": "dask",
          "n": 100,
          "reduced": false,
          "time": 0.039368553249999994
         },
         {
          "label": "dask",
          "n": 100,
          "reduced": false,
          "time": 0.03499660875000005
         },
         {
          "label": "dask",
          "n": 100,
          "reduced": false,
          "time": 0.039897603250000024
         },
         {
          "label": "dask",
          "n": 100,
          "reduced": false,
          "time": 0.03937549025000009
         },
         {
          "label": "dask",
          "n": 100,
          "reduced": false,
          "time": 0.03424863075000001
         },
         {
          "label": "dask",
          "n": 100,
          "reduced": false,
          "time": 0.03983154974999997
         },
         {
          "label": "dask",
          "n": 100,
          "reduced": false,
          "time": 0.03890485325000004
         },
         {
          "label": "dask",
          "n": 100,
          "reduced": false,
          "time": 0.034253174750000004
         },
         {
          "label": "dask",
          "n": 100,
          "reduced": false,
          "time": 0.04041310600000003
         },
         {
          "label": "dask",
          "n": 100,
          "reduced": false,
          "time": 0.039234240249999996
         },
         {
          "label": "dask",
          "n": 100,
          "reduced": false,
          "time": 0.03416947850000002
         },
         {
          "label": "dask",
          "n": 100,
          "reduced": false,
          "time": 0.039611067499999986
         },
         {
          "label": "dask",
          "n": 100,
          "reduced": false,
          "time": 0.03893805075000001
         },
         {
          "label": "dask",
          "n": 100,
          "reduced": false,
          "time": 0.035150970000000004
         },
         {
          "label": "dask",
          "n": 100,
          "reduced": false,
          "time": 0.039458781750000005
         },
         {
          "label": "dask",
          "n": 100,
          "reduced": false,
          "time": 0.03957054324999998
         },
         {
          "label": "dask",
          "n": 100,
          "reduced": false,
          "time": 0.03473017075000001
         },
         {
          "label": "dask",
          "n": 100,
          "reduced": false,
          "time": 0.03940111775000005
         },
         {
          "label": "dask",
          "n": 100,
          "reduced": false,
          "time": 0.03925521899999995
         },
         {
          "label": "dask",
          "n": 100,
          "reduced": false,
          "time": 0.03441673749999996
         },
         {
          "label": "dask",
          "n": 100,
          "reduced": false,
          "time": 0.03972634349999998
         },
         {
          "label": "dask",
          "n": 100,
          "reduced": false,
          "time": 0.039329731499999965
         },
         {
          "label": "dask",
          "n": 100,
          "reduced": false,
          "time": 0.03480635900000001
         },
         {
          "label": "dask",
          "n": 100,
          "reduced": false,
          "time": 0.04030714325000001
         },
         {
          "label": "dask",
          "n": 100,
          "reduced": false,
          "time": 0.039256059499999996
         },
         {
          "label": "dask",
          "n": 100,
          "reduced": false,
          "time": 0.03443971275000002
         },
         {
          "label": "dask",
          "n": 100,
          "reduced": false,
          "time": 0.039555626249999976
         },
         {
          "label": "dask",
          "n": 100,
          "reduced": false,
          "time": 0.039538536500000054
         },
         {
          "label": "dask",
          "n": 100,
          "reduced": false,
          "time": 0.034724340249999985
         },
         {
          "label": "dask",
          "n": 100,
          "reduced": false,
          "time": 0.04042939399999995
         },
         {
          "label": "dask",
          "n": 100,
          "reduced": false,
          "time": 0.03977687799999996
         },
         {
          "label": "dask",
          "n": 100,
          "reduced": false,
          "time": 0.034658333250000006
         },
         {
          "label": "dask",
          "n": 100,
          "reduced": false,
          "time": 0.03965609524999997
         },
         {
          "label": "dask",
          "n": 100,
          "reduced": false,
          "time": 0.039073500749999934
         },
         {
          "label": "dask",
          "n": 100,
          "reduced": false,
          "time": 0.03472400250000002
         },
         {
          "label": "dask",
          "n": 100,
          "reduced": false,
          "time": 0.03990531624999999
         },
         {
          "label": "dask",
          "n": 100,
          "reduced": false,
          "time": 0.03916774750000007
         },
         {
          "label": "dask",
          "n": 100,
          "reduced": false,
          "time": 0.03460353974999997
         },
         {
          "label": "dask",
          "n": 100,
          "reduced": false,
          "time": 0.03950482324999999
         },
         {
          "label": "dask",
          "n": 100,
          "reduced": false,
          "time": 0.039485101999999994
         },
         {
          "label": "dask",
          "n": 100,
          "reduced": false,
          "time": 0.034265220250000006
         },
         {
          "label": "dask",
          "n": 100,
          "reduced": false,
          "time": 0.03942962750000001
         },
         {
          "label": "dask",
          "n": 100,
          "reduced": false,
          "time": 0.03940200500000002
         },
         {
          "label": "dask",
          "n": 100,
          "reduced": false,
          "time": 0.03472477625000003
         },
         {
          "label": "dask",
          "n": 100,
          "reduced": false,
          "time": 0.03980996750000004
         },
         {
          "label": "dask",
          "n": 100,
          "reduced": false,
          "time": 0.03916845324999996
         },
         {
          "label": "dask",
          "n": 100,
          "reduced": false,
          "time": 0.03549725550000005
         },
         {
          "label": "dask",
          "n": 100,
          "reduced": false,
          "time": 0.04034379775000002
         },
         {
          "label": "dask",
          "n": 100,
          "reduced": false,
          "time": 0.03941304975000004
         },
         {
          "label": "dask",
          "n": 100,
          "reduced": false,
          "time": 0.03504138600000001
         },
         {
          "label": "dask",
          "n": 100,
          "reduced": false,
          "time": 0.04002624099999996
         },
         {
          "label": "dask",
          "n": 100,
          "reduced": false,
          "time": 0.03947256075000005
         },
         {
          "label": "dask",
          "n": 100,
          "reduced": false,
          "time": 0.03420765175000001
         },
         {
          "label": "dask",
          "n": 100,
          "reduced": false,
          "time": 0.03948271674999998
         },
         {
          "label": "dask",
          "n": 100,
          "reduced": false,
          "time": 0.03960541399999995
         },
         {
          "label": "dask",
          "n": 100,
          "reduced": false,
          "time": 0.03490334125
         },
         {
          "label": "dask",
          "n": 100,
          "reduced": false,
          "time": 0.039803865999999966
         },
         {
          "label": "dask",
          "n": 100,
          "reduced": false,
          "time": 0.03970497400000006
         },
         {
          "label": "dask",
          "n": 100,
          "reduced": false,
          "time": 0.034861952249999995
         },
         {
          "label": "dask",
          "n": 100,
          "reduced": false,
          "time": 0.03946821449999999
         },
         {
          "label": "dask",
          "n": 100,
          "reduced": false,
          "time": 0.03887754725000003
         },
         {
          "label": "dask",
          "n": 100,
          "reduced": false,
          "time": 0.035297789999999996
         },
         {
          "label": "dask",
          "n": 100,
          "reduced": false,
          "time": 0.03990682525
         },
         {
          "label": "dask",
          "n": 100,
          "reduced": false,
          "time": 0.039585278
         },
         {
          "label": "dask",
          "n": 100,
          "reduced": false,
          "time": 0.03475717724999999
         },
         {
          "label": "dask",
          "n": 100,
          "reduced": false,
          "time": 0.040490866000000014
         },
         {
          "label": "dask",
          "n": 100,
          "reduced": false,
          "time": 0.03921633450000006
         },
         {
          "label": "dask",
          "n": 100,
          "reduced": false,
          "time": 0.03497220499999998
         },
         {
          "label": "dask",
          "n": 100,
          "reduced": false,
          "time": 0.04006841699999997
         },
         {
          "label": "dask",
          "n": 100,
          "reduced": false,
          "time": 0.03975077575000008
         },
         {
          "label": "dask",
          "n": 100,
          "reduced": false,
          "time": 0.03413274075
         },
         {
          "label": "dask",
          "n": 100,
          "reduced": false,
          "time": 0.039534604750000035
         },
         {
          "label": "dask",
          "n": 100,
          "reduced": false,
          "time": 0.039378656999999984
         },
         {
          "label": "dask",
          "n": 100,
          "reduced": false,
          "time": 0.03488975124999999
         },
         {
          "label": "dask",
          "n": 100,
          "reduced": false,
          "time": 0.039775958499999986
         },
         {
          "label": "dask",
          "n": 100,
          "reduced": false,
          "time": 0.03984812950000005
         },
         {
          "label": "dask",
          "n": 100,
          "reduced": false,
          "time": 0.03461219524999998
         },
         {
          "label": "dask",
          "n": 100,
          "reduced": false,
          "time": 0.04001002775000001
         },
         {
          "label": "dask",
          "n": 100,
          "reduced": false,
          "time": 0.039509191499999985
         },
         {
          "label": "inner",
          "n": 200,
          "reduced": true,
          "time": 2.686884384155272e-06
         },
         {
          "label": "inner",
          "n": 200,
          "reduced": true,
          "time": 2.6878388366699215e-06
         },
         {
          "label": "inner",
          "n": 200,
          "reduced": true,
          "time": 2.6719725036621154e-06
         },
         {
          "label": "inner",
          "n": 200,
          "reduced": true,
          "time": 2.69124052429199e-06
         },
         {
          "label": "inner",
          "n": 200,
          "reduced": true,
          "time": 2.6337800445556546e-06
         },
         {
          "label": "inner",
          "n": 200,
          "reduced": true,
          "time": 2.627583648681631e-06
         },
         {
          "label": "inner",
          "n": 200,
          "reduced": true,
          "time": 2.613950134277337e-06
         },
         {
          "label": "inner",
          "n": 200,
          "reduced": true,
          "time": 2.6117874145507912e-06
         },
         {
          "label": "inner",
          "n": 200,
          "reduced": true,
          "time": 2.578598632812525e-06
         },
         {
          "label": "inner",
          "n": 200,
          "reduced": true,
          "time": 2.6636826477050853e-06
         },
         {
          "label": "inner",
          "n": 200,
          "reduced": true,
          "time": 2.685422897338871e-06
         },
         {
          "label": "inner",
          "n": 200,
          "reduced": true,
          "time": 2.666758911132821e-06
         },
         {
          "label": "inner",
          "n": 200,
          "reduced": true,
          "time": 2.554682083129889e-06
         },
         {
          "label": "inner",
          "n": 200,
          "reduced": true,
          "time": 2.55317547607421e-06
         },
         {
          "label": "inner",
          "n": 200,
          "reduced": true,
          "time": 2.543832565307609e-06
         },
         {
          "label": "inner",
          "n": 200,
          "reduced": true,
          "time": 2.6132712097168043e-06
         },
         {
          "label": "inner",
          "n": 200,
          "reduced": true,
          "time": 2.6255790405273416e-06
         },
         {
          "label": "inner",
          "n": 200,
          "reduced": true,
          "time": 2.625647155761701e-06
         },
         {
          "label": "inner",
          "n": 200,
          "reduced": true,
          "time": 2.5061381530761705e-06
         },
         {
          "label": "inner",
          "n": 200,
          "reduced": true,
          "time": 2.5090270538330093e-06
         },
         {
          "label": "inner",
          "n": 200,
          "reduced": true,
          "time": 2.4561791381836077e-06
         },
         {
          "label": "inner",
          "n": 200,
          "reduced": true,
          "time": 2.6420662384033183e-06
         },
         {
          "label": "inner",
          "n": 200,
          "reduced": true,
          "time": 2.566126525878901e-06
         },
         {
          "label": "inner",
          "n": 200,
          "reduced": true,
          "time": 2.588108871459953e-06
         },
         {
          "label": "inner",
          "n": 200,
          "reduced": true,
          "time": 2.6545664825439435e-06
         },
         {
          "label": "inner",
          "n": 200,
          "reduced": true,
          "time": 2.7298823699951246e-06
         },
         {
          "label": "inner",
          "n": 200,
          "reduced": true,
          "time": 2.7150791625976504e-06
         },
         {
          "label": "inner",
          "n": 200,
          "reduced": true,
          "time": 2.6200382537841857e-06
         },
         {
          "label": "inner",
          "n": 200,
          "reduced": true,
          "time": 2.6166309509277386e-06
         },
         {
          "label": "inner",
          "n": 200,
          "reduced": true,
          "time": 2.65569792175295e-06
         },
         {
          "label": "inner",
          "n": 200,
          "reduced": true,
          "time": 2.6377581176757823e-06
         },
         {
          "label": "inner",
          "n": 200,
          "reduced": true,
          "time": 2.602135620117187e-06
         },
         {
          "label": "inner",
          "n": 200,
          "reduced": true,
          "time": 2.649129241943341e-06
         },
         {
          "label": "inner",
          "n": 200,
          "reduced": true,
          "time": 2.6286065216064467e-06
         },
         {
          "label": "inner",
          "n": 200,
          "reduced": true,
          "time": 2.584582794189455e-06
         },
         {
          "label": "inner",
          "n": 200,
          "reduced": true,
          "time": 2.584803314208963e-06
         },
         {
          "label": "inner",
          "n": 200,
          "reduced": true,
          "time": 2.554428985595693e-06
         },
         {
          "label": "inner",
          "n": 200,
          "reduced": true,
          "time": 2.559054275512687e-06
         },
         {
          "label": "inner",
          "n": 200,
          "reduced": true,
          "time": 2.5413190155029264e-06
         },
         {
          "label": "inner",
          "n": 200,
          "reduced": true,
          "time": 2.783301300048825e-06
         },
         {
          "label": "inner",
          "n": 200,
          "reduced": true,
          "time": 2.724024917602537e-06
         },
         {
          "label": "inner",
          "n": 200,
          "reduced": true,
          "time": 2.643680740356454e-06
         },
         {
          "label": "inner",
          "n": 200,
          "reduced": true,
          "time": 2.5913831176757704e-06
         },
         {
          "label": "inner",
          "n": 200,
          "reduced": true,
          "time": 2.6436395416259783e-06
         },
         {
          "label": "inner",
          "n": 200,
          "reduced": true,
          "time": 2.498001998901372e-06
         },
         {
          "label": "inner",
          "n": 200,
          "reduced": true,
          "time": 2.5425756988525392e-06
         },
         {
          "label": "inner",
          "n": 200,
          "reduced": true,
          "time": 2.5723479766845783e-06
         },
         {
          "label": "inner",
          "n": 200,
          "reduced": true,
          "time": 2.559115158081056e-06
         },
         {
          "label": "inner",
          "n": 200,
          "reduced": true,
          "time": 2.562412490844738e-06
         },
         {
          "label": "inner",
          "n": 200,
          "reduced": true,
          "time": 2.6015139465332106e-06
         },
         {
          "label": "inner",
          "n": 200,
          "reduced": true,
          "time": 2.592685974121085e-06
         },
         {
          "label": "inner",
          "n": 200,
          "reduced": true,
          "time": 2.6189371337890615e-06
         },
         {
          "label": "inner",
          "n": 200,
          "reduced": true,
          "time": 2.544163269042974e-06
         },
         {
          "label": "inner",
          "n": 200,
          "reduced": true,
          "time": 2.615364379882822e-06
         },
         {
          "label": "inner",
          "n": 200,
          "reduced": true,
          "time": 2.594633377075203e-06
         },
         {
          "label": "inner",
          "n": 200,
          "reduced": true,
          "time": 2.5046036071777378e-06
         },
         {
          "label": "inner",
          "n": 200,
          "reduced": true,
          "time": 2.570903182983397e-06
         },
         {
          "label": "inner",
          "n": 200,
          "reduced": true,
          "time": 2.6471775512695346e-06
         },
         {
          "label": "inner",
          "n": 200,
          "reduced": true,
          "time": 2.6575546875000046e-06
         },
         {
          "label": "inner",
          "n": 200,
          "reduced": true,
          "time": 2.655915084838885e-06
         },
         {
          "label": "inner",
          "n": 200,
          "reduced": true,
          "time": 2.5858654327392557e-06
         },
         {
          "label": "inner",
          "n": 200,
          "reduced": true,
          "time": 2.6034077301025446e-06
         },
         {
          "label": "inner",
          "n": 200,
          "reduced": true,
          "time": 2.562014495849596e-06
         },
         {
          "label": "inner",
          "n": 200,
          "reduced": true,
          "time": 2.559117523193353e-06
         },
         {
          "label": "inner",
          "n": 200,
          "reduced": true,
          "time": 2.5733532562255857e-06
         },
         {
          "label": "inner",
          "n": 200,
          "reduced": true,
          "time": 2.5149931640625024e-06
         },
         {
          "label": "inner",
          "n": 200,
          "reduced": true,
          "time": 2.528496566772456e-06
         },
         {
          "label": "inner",
          "n": 200,
          "reduced": true,
          "time": 2.5344669494628877e-06
         },
         {
          "label": "inner",
          "n": 200,
          "reduced": true,
          "time": 2.506429046630871e-06
         },
         {
          "label": "inner",
          "n": 200,
          "reduced": true,
          "time": 2.5568150634765576e-06
         },
         {
          "label": "inner",
          "n": 200,
          "reduced": true,
          "time": 2.492815872192386e-06
         },
         {
          "label": "inner",
          "n": 200,
          "reduced": true,
          "time": 2.483204971313478e-06
         },
         {
          "label": "inner",
          "n": 200,
          "reduced": true,
          "time": 2.630046829223625e-06
         },
         {
          "label": "inner",
          "n": 200,
          "reduced": true,
          "time": 2.6326137847900404e-06
         },
         {
          "label": "inner",
          "n": 200,
          "reduced": true,
          "time": 2.559253540039075e-06
         },
         {
          "label": "inner",
          "n": 200,
          "reduced": true,
          "time": 2.544125808715816e-06
         },
         {
          "label": "inner",
          "n": 200,
          "reduced": true,
          "time": 2.602405761718753e-06
         },
         {
          "label": "inner",
          "n": 200,
          "reduced": true,
          "time": 2.5795822601318503e-06
         },
         {
          "label": "inner",
          "n": 200,
          "reduced": true,
          "time": 2.5670897979736403e-06
         },
         {
          "label": "inner",
          "n": 200,
          "reduced": true,
          "time": 2.526088897705084e-06
         },
         {
          "label": "inner",
          "n": 200,
          "reduced": true,
          "time": 2.5612538757324125e-06
         },
         {
          "label": "inner",
          "n": 200,
          "reduced": true,
          "time": 2.528886688232427e-06
         },
         {
          "label": "inner",
          "n": 200,
          "reduced": true,
          "time": 2.5259468688964887e-06
         },
         {
          "label": "inner",
          "n": 200,
          "reduced": true,
          "time": 2.5657704772949204e-06
         },
         {
          "label": "inner",
          "n": 200,
          "reduced": true,
          "time": 2.5685010528564385e-06
         },
         {
          "label": "inner",
          "n": 200,
          "reduced": true,
          "time": 2.578425277709954e-06
         },
         {
          "label": "inner",
          "n": 200,
          "reduced": true,
          "time": 2.5910525970458892e-06
         },
         {
          "label": "inner",
          "n": 200,
          "reduced": true,
          "time": 2.6053142852783235e-06
         },
         {
          "label": "inner",
          "n": 200,
          "reduced": true,
          "time": 2.628733657836918e-06
         },
         {
          "label": "inner",
          "n": 200,
          "reduced": true,
          "time": 2.5861390075683467e-06
         },
         {
          "label": "inner",
          "n": 200,
          "reduced": true,
          "time": 2.5729058837890584e-06
         },
         {
          "label": "inner",
          "n": 200,
          "reduced": true,
          "time": 2.5965083312988344e-06
         },
         {
          "label": "inner",
          "n": 200,
          "reduced": true,
          "time": 2.5588260498047015e-06
         },
         {
          "label": "inner",
          "n": 200,
          "reduced": true,
          "time": 2.5870284423828153e-06
         },
         {
          "label": "inner",
          "n": 200,
          "reduced": true,
          "time": 2.5407389221191433e-06
         },
         {
          "label": "inner",
          "n": 200,
          "reduced": true,
          "time": 2.5719199218749897e-06
         },
         {
          "label": "inner",
          "n": 200,
          "reduced": true,
          "time": 2.592676132202152e-06
         },
         {
          "label": "inner",
          "n": 200,
          "reduced": true,
          "time": 2.5947515258789046e-06
         },
         {
          "label": "inner",
          "n": 200,
          "reduced": true,
          "time": 2.5587192840576336e-06
         },
         {
          "label": "inner",
          "n": 200,
          "reduced": true,
          "time": 2.633240142822267e-06
         },
         {
          "label": "inner",
          "n": 200,
          "reduced": true,
          "time": 2.5967002563476453e-06
         },
         {
          "label": "inner",
          "n": 200,
          "reduced": true,
          "time": 2.5834569854736177e-06
         },
         {
          "label": "inner",
          "n": 200,
          "reduced": true,
          "time": 2.5957547912597653e-06
         },
         {
          "label": "inner",
          "n": 200,
          "reduced": true,
          "time": 2.6624990234374907e-06
         },
         {
          "label": "inner",
          "n": 200,
          "reduced": true,
          "time": 2.5922902374267756e-06
         },
         {
          "label": "inner",
          "n": 200,
          "reduced": true,
          "time": 2.582807052612304e-06
         },
         {
          "label": "inner",
          "n": 200,
          "reduced": true,
          "time": 2.5726895599365235e-06
         },
         {
          "label": "inner",
          "n": 200,
          "reduced": true,
          "time": 2.6014433898925618e-06
         },
         {
          "label": "inner",
          "n": 200,
          "reduced": true,
          "time": 2.6435013580322197e-06
         },
         {
          "label": "inner",
          "n": 200,
          "reduced": true,
          "time": 2.6855081634521598e-06
         },
         {
          "label": "inner",
          "n": 200,
          "reduced": true,
          "time": 2.590288269042982e-06
         },
         {
          "label": "inner",
          "n": 200,
          "reduced": true,
          "time": 2.596874404907232e-06
         },
         {
          "label": "inner",
          "n": 200,
          "reduced": true,
          "time": 2.62432641601563e-06
         },
         {
          "label": "inner",
          "n": 200,
          "reduced": true,
          "time": 2.6260396118163887e-06
         },
         {
          "label": "inner",
          "n": 200,
          "reduced": true,
          "time": 2.5580011444091777e-06
         },
         {
          "label": "inner",
          "n": 200,
          "reduced": true,
          "time": 2.5830021209716914e-06
         },
         {
          "label": "inner",
          "n": 200,
          "reduced": true,
          "time": 2.6311866607666053e-06
         },
         {
          "label": "inner",
          "n": 200,
          "reduced": true,
          "time": 2.5862561035156243e-06
         },
         {
          "label": "inner",
          "n": 200,
          "reduced": true,
          "time": 2.5685747528076232e-06
         },
         {
          "label": "inner",
          "n": 200,
          "reduced": true,
          "time": 2.573837112426758e-06
         },
         {
          "label": "dask",
          "n": 500,
          "reduced": false,
          "time": 1.5225287139999892
         },
         {
          "label": "dask",
          "n": 500,
          "reduced": false,
          "time": 1.436302187999999
         },
         {
          "label": "dask",
          "n": 500,
          "reduced": false,
          "time": 1.4386089360000085
         },
         {
          "label": "dask",
          "n": 500,
          "reduced": false,
          "time": 1.4917654270000043
         },
         {
          "label": "dask",
          "n": 500,
          "reduced": false,
          "time": 1.423645675000003
         },
         {
          "label": "dask",
          "n": 500,
          "reduced": false,
          "time": 1.41360327000001
         },
         {
          "label": "dask",
          "n": 500,
          "reduced": false,
          "time": 1.5183525770000017
         },
         {
          "label": "dask",
          "n": 500,
          "reduced": false,
          "time": 1.4079524879999923
         },
         {
          "label": "dask",
          "n": 500,
          "reduced": false,
          "time": 1.4274727259999906
         },
         {
          "label": "dask",
          "n": 500,
          "reduced": false,
          "time": 1.5615371220000043
         },
         {
          "label": "dask",
          "n": 500,
          "reduced": false,
          "time": 1.4279321370000133
         },
         {
          "label": "dask",
          "n": 500,
          "reduced": false,
          "time": 1.4358800150000093
         },
         {
          "label": "dask",
          "n": 500,
          "reduced": false,
          "time": 1.4978332139999964
         },
         {
          "label": "dask",
          "n": 500,
          "reduced": false,
          "time": 1.4345906490000004
         },
         {
          "label": "dask",
          "n": 500,
          "reduced": false,
          "time": 1.4524677809999957
         },
         {
          "label": "dask",
          "n": 500,
          "reduced": false,
          "time": 1.4877163000000024
         },
         {
          "label": "dask",
          "n": 500,
          "reduced": false,
          "time": 1.4187296390000057
         },
         {
          "label": "dask",
          "n": 500,
          "reduced": false,
          "time": 1.3992079009999827
         },
         {
          "label": "dask",
          "n": 500,
          "reduced": false,
          "time": 1.5549959979999954
         },
         {
          "label": "dask",
          "n": 500,
          "reduced": false,
          "time": 1.4273120870000042
         },
         {
          "label": "dask",
          "n": 500,
          "reduced": false,
          "time": 1.4322199430000069
         },
         {
          "label": "dask",
          "n": 500,
          "reduced": false,
          "time": 1.5006464499999908
         },
         {
          "label": "dask",
          "n": 500,
          "reduced": false,
          "time": 1.4368554250000045
         },
         {
          "label": "dask",
          "n": 500,
          "reduced": false,
          "time": 1.4225123120000092
         },
         {
          "label": "dask",
          "n": 500,
          "reduced": false,
          "time": 1.4610463789999955
         },
         {
          "label": "dask",
          "n": 500,
          "reduced": false,
          "time": 1.4116801449999912
         },
         {
          "label": "dask",
          "n": 500,
          "reduced": false,
          "time": 1.440577501000007
         },
         {
          "label": "dask",
          "n": 500,
          "reduced": false,
          "time": 1.5214549720000008
         },
         {
          "label": "dask",
          "n": 500,
          "reduced": false,
          "time": 1.4272527060000044
         },
         {
          "label": "dask",
          "n": 500,
          "reduced": false,
          "time": 1.413729735000004
         },
         {
          "label": "dask",
          "n": 500,
          "reduced": false,
          "time": 1.5087560260000004
         },
         {
          "label": "dask",
          "n": 500,
          "reduced": false,
          "time": 1.4356671559999938
         },
         {
          "label": "dask",
          "n": 500,
          "reduced": false,
          "time": 1.425260116000004
         },
         {
          "label": "dask",
          "n": 500,
          "reduced": false,
          "time": 1.5277748909999929
         },
         {
          "label": "dask",
          "n": 500,
          "reduced": false,
          "time": 1.4126166060000003
         },
         {
          "label": "dask",
          "n": 500,
          "reduced": false,
          "time": 1.4224477070000034
         },
         {
          "label": "dask",
          "n": 500,
          "reduced": false,
          "time": 1.5152520470000042
         },
         {
          "label": "dask",
          "n": 500,
          "reduced": false,
          "time": 1.4328400379999948
         },
         {
          "label": "dask",
          "n": 500,
          "reduced": false,
          "time": 1.4119320589999802
         },
         {
          "label": "dask",
          "n": 500,
          "reduced": false,
          "time": 1.526773171000002
         },
         {
          "label": "dask",
          "n": 500,
          "reduced": false,
          "time": 1.4225946640000018
         },
         {
          "label": "dask",
          "n": 500,
          "reduced": false,
          "time": 1.4299490690000027
         },
         {
          "label": "dask",
          "n": 500,
          "reduced": false,
          "time": 1.5270328149999983
         },
         {
          "label": "dask",
          "n": 500,
          "reduced": false,
          "time": 1.4172310590000023
         },
         {
          "label": "dask",
          "n": 500,
          "reduced": false,
          "time": 1.4062168189999795
         },
         {
          "label": "dask",
          "n": 500,
          "reduced": false,
          "time": 1.5037657419999988
         },
         {
          "label": "dask",
          "n": 500,
          "reduced": false,
          "time": 1.447080967000005
         },
         {
          "label": "dask",
          "n": 500,
          "reduced": false,
          "time": 1.431891702999991
         },
         {
          "label": "dask",
          "n": 500,
          "reduced": false,
          "time": 1.5415166129999989
         },
         {
          "label": "dask",
          "n": 500,
          "reduced": false,
          "time": 1.4248545810000053
         },
         {
          "label": "dask",
          "n": 500,
          "reduced": false,
          "time": 1.4454159150000123
         },
         {
          "label": "dask",
          "n": 500,
          "reduced": false,
          "time": 1.541242859999997
         },
         {
          "label": "dask",
          "n": 500,
          "reduced": false,
          "time": 1.4239722159999957
         },
         {
          "label": "dask",
          "n": 500,
          "reduced": false,
          "time": 1.430522628999995
         },
         {
          "label": "dask",
          "n": 500,
          "reduced": false,
          "time": 1.523101901000004
         },
         {
          "label": "dask",
          "n": 500,
          "reduced": false,
          "time": 1.4206365619999985
         },
         {
          "label": "dask",
          "n": 500,
          "reduced": false,
          "time": 1.4201580370000215
         },
         {
          "label": "dask",
          "n": 500,
          "reduced": false,
          "time": 1.4999752169999994
         },
         {
          "label": "dask",
          "n": 500,
          "reduced": false,
          "time": 1.4319445779999995
         },
         {
          "label": "dask",
          "n": 500,
          "reduced": false,
          "time": 1.4177670969999951
         },
         {
          "label": "dask",
          "n": 500,
          "reduced": false,
          "time": 1.5300189649999965
         },
         {
          "label": "dask",
          "n": 500,
          "reduced": false,
          "time": 1.419540799999993
         },
         {
          "label": "dask",
          "n": 500,
          "reduced": false,
          "time": 1.4078328729999896
         },
         {
          "label": "dask",
          "n": 500,
          "reduced": false,
          "time": 1.550728453000005
         },
         {
          "label": "dask",
          "n": 500,
          "reduced": false,
          "time": 1.427562481999999
         },
         {
          "label": "dask",
          "n": 500,
          "reduced": false,
          "time": 1.4348518019999972
         },
         {
          "label": "dask",
          "n": 500,
          "reduced": false,
          "time": 1.490884242000007
         },
         {
          "label": "dask",
          "n": 500,
          "reduced": false,
          "time": 1.4303931729999988
         },
         {
          "label": "dask",
          "n": 500,
          "reduced": false,
          "time": 1.4226237190000006
         },
         {
          "label": "dask",
          "n": 500,
          "reduced": false,
          "time": 1.4853250129999935
         },
         {
          "label": "dask",
          "n": 500,
          "reduced": false,
          "time": 1.438005461000003
         },
         {
          "label": "dask",
          "n": 500,
          "reduced": false,
          "time": 1.4205313159999946
         },
         {
          "label": "dask",
          "n": 500,
          "reduced": false,
          "time": 1.5429238409999897
         },
         {
          "label": "dask",
          "n": 500,
          "reduced": false,
          "time": 1.4133800409999964
         },
         {
          "label": "dask",
          "n": 500,
          "reduced": false,
          "time": 1.4132785179999985
         },
         {
          "label": "dask",
          "n": 500,
          "reduced": false,
          "time": 1.5766214669999954
         },
         {
          "label": "dask",
          "n": 500,
          "reduced": false,
          "time": 1.4450130309999878
         },
         {
          "label": "dask",
          "n": 500,
          "reduced": false,
          "time": 1.4354108429999997
         },
         {
          "label": "dask",
          "n": 500,
          "reduced": false,
          "time": 1.5475508130000009
         },
         {
          "label": "dask",
          "n": 500,
          "reduced": false,
          "time": 1.4082352759999992
         },
         {
          "label": "dask",
          "n": 500,
          "reduced": false,
          "time": 1.3976335939999842
         },
         {
          "label": "dask",
          "n": 500,
          "reduced": false,
          "time": 1.468647464
         },
         {
          "label": "dask",
          "n": 500,
          "reduced": false,
          "time": 1.4333537269999965
         },
         {
          "label": "dask",
          "n": 500,
          "reduced": false,
          "time": 1.4268465809999782
         },
         {
          "label": "dask",
          "n": 500,
          "reduced": false,
          "time": 1.4812004650000006
         },
         {
          "label": "dask",
          "n": 500,
          "reduced": false,
          "time": 1.4290259620000114
         },
         {
          "label": "dask",
          "n": 500,
          "reduced": false,
          "time": 1.4370292440000014
         },
         {
          "label": "dask",
          "n": 500,
          "reduced": false,
          "time": 1.5305190579999959
         },
         {
          "label": "dask",
          "n": 500,
          "reduced": false,
          "time": 1.4444896920000048
         },
         {
          "label": "dask",
          "n": 500,
          "reduced": false,
          "time": 1.4371402450000232
         },
         {
          "label": "dask",
          "n": 500,
          "reduced": false,
          "time": 1.530520370000005
         },
         {
          "label": "dask",
          "n": 500,
          "reduced": false,
          "time": 1.4506831919999996
         },
         {
          "label": "dask",
          "n": 500,
          "reduced": false,
          "time": 1.4333781850000094
         },
         {
          "label": "dask",
          "n": 500,
          "reduced": false,
          "time": 1.528267956999997
         },
         {
          "label": "dask",
          "n": 500,
          "reduced": false,
          "time": 1.4386282510000115
         },
         {
          "label": "dask",
          "n": 500,
          "reduced": false,
          "time": 1.419930399000009
         },
         {
          "label": "dask",
          "n": 500,
          "reduced": false,
          "time": 1.4949578860000088
         },
         {
          "label": "dask",
          "n": 500,
          "reduced": false,
          "time": 1.4463580379999996
         },
         {
          "label": "dask",
          "n": 500,
          "reduced": false,
          "time": 1.429120643999994
         },
         {
          "label": "dask",
          "n": 500,
          "reduced": false,
          "time": 1.5336350289999956
         },
         {
          "label": "dask",
          "n": 500,
          "reduced": false,
          "time": 1.4324862139999937
         },
         {
          "label": "dask",
          "n": 500,
          "reduced": false,
          "time": 1.4269256080000048
         },
         {
          "label": "dask",
          "n": 500,
          "reduced": false,
          "time": 1.5257705140000013
         },
         {
          "label": "dask",
          "n": 500,
          "reduced": false,
          "time": 1.429265032999993
         },
         {
          "label": "dask",
          "n": 500,
          "reduced": false,
          "time": 1.4214176109999812
         },
         {
          "label": "dask",
          "n": 500,
          "reduced": false,
          "time": 1.5046864800000037
         },
         {
          "label": "dask",
          "n": 500,
          "reduced": false,
          "time": 1.4165149269999944
         },
         {
          "label": "dask",
          "n": 500,
          "reduced": false,
          "time": 1.3784694130000048
         },
         {
          "label": "dask",
          "n": 500,
          "reduced": false,
          "time": 1.519498292999998
         },
         {
          "label": "dask",
          "n": 500,
          "reduced": false,
          "time": 1.4208490059999974
         },
         {
          "label": "dask",
          "n": 500,
          "reduced": false,
          "time": 1.4589728029999947
         },
         {
          "label": "dask",
          "n": 500,
          "reduced": false,
          "time": 1.5016756410000056
         },
         {
          "label": "dask",
          "n": 500,
          "reduced": false,
          "time": 1.4110703180000002
         },
         {
          "label": "dask",
          "n": 500,
          "reduced": false,
          "time": 1.4075832009999942
         },
         {
          "label": "dask",
          "n": 500,
          "reduced": false,
          "time": 1.5254949240000002
         },
         {
          "label": "dask",
          "n": 500,
          "reduced": false,
          "time": 1.417145932000011
         },
         {
          "label": "dask",
          "n": 500,
          "reduced": false,
          "time": 1.433237116000015
         },
         {
          "label": "dask",
          "n": 500,
          "reduced": false,
          "time": 1.5185898670000029
         },
         {
          "label": "dask",
          "n": 500,
          "reduced": false,
          "time": 1.4123985049999987
         },
         {
          "label": "dask",
          "n": 500,
          "reduced": false,
          "time": 1.4576410489999887
         },
         {
          "label": "dask",
          "n": 200,
          "reduced": true,
          "time": 0.1621779520000004
         },
         {
          "label": "dask",
          "n": 200,
          "reduced": true,
          "time": 0.1596705269999994
         },
         {
          "label": "dask",
          "n": 200,
          "reduced": true,
          "time": 0.1579676009999993
         },
         {
          "label": "dask",
          "n": 200,
          "reduced": true,
          "time": 0.16522571299999989
         },
         {
          "label": "dask",
          "n": 200,
          "reduced": true,
          "time": 0.16052179899999963
         },
         {
          "label": "dask",
          "n": 200,
          "reduced": true,
          "time": 0.15282884099999983
         },
         {
          "label": "dask",
          "n": 200,
          "reduced": true,
          "time": 0.15970300300000062
         },
         {
          "label": "dask",
          "n": 200,
          "reduced": true,
          "time": 0.15667160100000022
         },
         {
          "label": "dask",
          "n": 200,
          "reduced": true,
          "time": 0.15675589599999995
         },
         {
          "label": "dask",
          "n": 200,
          "reduced": true,
          "time": 0.16307536900000041
         },
         {
          "label": "dask",
          "n": 200,
          "reduced": true,
          "time": 0.1577247340000003
         },
         {
          "label": "dask",
          "n": 200,
          "reduced": true,
          "time": 0.1519345059999999
         },
         {
          "label": "dask",
          "n": 200,
          "reduced": true,
          "time": 0.1572742439999999
         },
         {
          "label": "dask",
          "n": 200,
          "reduced": true,
          "time": 0.16123138599999987
         },
         {
          "label": "dask",
          "n": 200,
          "reduced": true,
          "time": 0.14933915400000153
         },
         {
          "label": "dask",
          "n": 200,
          "reduced": true,
          "time": 0.1603933280000005
         },
         {
          "label": "dask",
          "n": 200,
          "reduced": true,
          "time": 0.15879726799999982
         },
         {
          "label": "dask",
          "n": 200,
          "reduced": true,
          "time": 0.15260658999999954
         },
         {
          "label": "dask",
          "n": 200,
          "reduced": true,
          "time": 0.1549039099999998
         },
         {
          "label": "dask",
          "n": 200,
          "reduced": true,
          "time": 0.15512462800000026
         },
         {
          "label": "dask",
          "n": 200,
          "reduced": true,
          "time": 0.15388646499999936
         },
         {
          "label": "dask",
          "n": 200,
          "reduced": true,
          "time": 0.16688045400000018
         },
         {
          "label": "dask",
          "n": 200,
          "reduced": true,
          "time": 0.1563602950000007
         },
         {
          "label": "dask",
          "n": 200,
          "reduced": true,
          "time": 0.15407536500000063
         },
         {
          "label": "dask",
          "n": 200,
          "reduced": true,
          "time": 0.16011688799999924
         },
         {
          "label": "dask",
          "n": 200,
          "reduced": true,
          "time": 0.15581839499999983
         },
         {
          "label": "dask",
          "n": 200,
          "reduced": true,
          "time": 0.1548723239999994
         },
         {
          "label": "dask",
          "n": 200,
          "reduced": true,
          "time": 0.1637797559999994
         },
         {
          "label": "dask",
          "n": 200,
          "reduced": true,
          "time": 0.1596221059999996
         },
         {
          "label": "dask",
          "n": 200,
          "reduced": true,
          "time": 0.15605663000000014
         },
         {
          "label": "dask",
          "n": 200,
          "reduced": true,
          "time": 0.16131569499999987
         },
         {
          "label": "dask",
          "n": 200,
          "reduced": true,
          "time": 0.15940629600000022
         },
         {
          "label": "dask",
          "n": 200,
          "reduced": true,
          "time": 0.15404943299999907
         },
         {
          "label": "dask",
          "n": 200,
          "reduced": true,
          "time": 0.16248723399999943
         },
         {
          "label": "dask",
          "n": 200,
          "reduced": true,
          "time": 0.15705176899999973
         },
         {
          "label": "dask",
          "n": 200,
          "reduced": true,
          "time": 0.15619990099999903
         },
         {
          "label": "dask",
          "n": 200,
          "reduced": true,
          "time": 0.16762883499999948
         },
         {
          "label": "dask",
          "n": 200,
          "reduced": true,
          "time": 0.159601769
         },
         {
          "label": "dask",
          "n": 200,
          "reduced": true,
          "time": 0.1592087899999992
         },
         {
          "label": "dask",
          "n": 200,
          "reduced": true,
          "time": 0.16215143500000018
         },
         {
          "label": "dask",
          "n": 200,
          "reduced": true,
          "time": 0.1608956319999999
         },
         {
          "label": "dask",
          "n": 200,
          "reduced": true,
          "time": 0.1568973299999996
         },
         {
          "label": "dask",
          "n": 200,
          "reduced": true,
          "time": 0.16487045199999972
         },
         {
          "label": "dask",
          "n": 200,
          "reduced": true,
          "time": 0.15533523200000054
         },
         {
          "label": "dask",
          "n": 200,
          "reduced": true,
          "time": 0.14877004100000057
         },
         {
          "label": "dask",
          "n": 200,
          "reduced": true,
          "time": 0.17140152699999955
         },
         {
          "label": "dask",
          "n": 200,
          "reduced": true,
          "time": 0.15622553999999944
         },
         {
          "label": "dask",
          "n": 200,
          "reduced": true,
          "time": 0.14965073299999965
         },
         {
          "label": "dask",
          "n": 200,
          "reduced": true,
          "time": 0.15927261100000045
         },
         {
          "label": "dask",
          "n": 200,
          "reduced": true,
          "time": 0.15810928400000002
         },
         {
          "label": "dask",
          "n": 200,
          "reduced": true,
          "time": 0.14987046899999967
         },
         {
          "label": "dask",
          "n": 200,
          "reduced": true,
          "time": 0.1589491910000005
         },
         {
          "label": "dask",
          "n": 200,
          "reduced": true,
          "time": 0.15793134100000028
         },
         {
          "label": "dask",
          "n": 200,
          "reduced": true,
          "time": 0.1508195489999995
         },
         {
          "label": "dask",
          "n": 200,
          "reduced": true,
          "time": 0.17029858799999964
         },
         {
          "label": "dask",
          "n": 200,
          "reduced": true,
          "time": 0.15584155900000063
         },
         {
          "label": "dask",
          "n": 200,
          "reduced": true,
          "time": 0.157617118000001
         },
         {
          "label": "dask",
          "n": 200,
          "reduced": true,
          "time": 0.16085475700000007
         },
         {
          "label": "dask",
          "n": 200,
          "reduced": true,
          "time": 0.16003892500000028
         },
         {
          "label": "dask",
          "n": 200,
          "reduced": true,
          "time": 0.15384867400000068
         },
         {
          "label": "dask",
          "n": 200,
          "reduced": true,
          "time": 0.16086617800000003
         },
         {
          "label": "dask",
          "n": 200,
          "reduced": true,
          "time": 0.15704806800000082
         },
         {
          "label": "dask",
          "n": 200,
          "reduced": true,
          "time": 0.1550220590000002
         },
         {
          "label": "dask",
          "n": 200,
          "reduced": true,
          "time": 0.16732496200000035
         },
         {
          "label": "dask",
          "n": 200,
          "reduced": true,
          "time": 0.15607459000000024
         },
         {
          "label": "dask",
          "n": 200,
          "reduced": true,
          "time": 0.14806439400000038
         },
         {
          "label": "dask",
          "n": 200,
          "reduced": true,
          "time": 0.16368011500000001
         },
         {
          "label": "dask",
          "n": 200,
          "reduced": true,
          "time": 0.15670347000000007
         },
         {
          "label": "dask",
          "n": 200,
          "reduced": true,
          "time": 0.15529155100000125
         },
         {
          "label": "dask",
          "n": 200,
          "reduced": true,
          "time": 0.16681266800000039
         },
         {
          "label": "dask",
          "n": 200,
          "reduced": true,
          "time": 0.1669609740000002
         },
         {
          "label": "dask",
          "n": 200,
          "reduced": true,
          "time": 0.1525785829999986
         },
         {
          "label": "dask",
          "n": 200,
          "reduced": true,
          "time": 0.16907007300000032
         },
         {
          "label": "dask",
          "n": 200,
          "reduced": true,
          "time": 0.1556348889999999
         },
         {
          "label": "dask",
          "n": 200,
          "reduced": true,
          "time": 0.15770242099999976
         },
         {
          "label": "dask",
          "n": 200,
          "reduced": true,
          "time": 0.1668612619999994
         },
         {
          "label": "dask",
          "n": 200,
          "reduced": true,
          "time": 0.15443245300000008
         },
         {
          "label": "dask",
          "n": 200,
          "reduced": true,
          "time": 0.1513094970000015
         },
         {
          "label": "dask",
          "n": 200,
          "reduced": true,
          "time": 0.16810275799999985
         },
         {
          "label": "dask",
          "n": 200,
          "reduced": true,
          "time": 0.1588384490000001
         },
         {
          "label": "dask",
          "n": 200,
          "reduced": true,
          "time": 0.15092865200000105
         },
         {
          "label": "dask",
          "n": 200,
          "reduced": true,
          "time": 0.15906210899999973
         },
         {
          "label": "dask",
          "n": 200,
          "reduced": true,
          "time": 0.1665909860000001
         },
         {
          "label": "dask",
          "n": 200,
          "reduced": true,
          "time": 0.15446208799999894
         },
         {
          "label": "dask",
          "n": 200,
          "reduced": true,
          "time": 0.15915872699999944
         },
         {
          "label": "dask",
          "n": 200,
          "reduced": true,
          "time": 0.15903974200000004
         },
         {
          "label": "dask",
          "n": 200,
          "reduced": true,
          "time": 0.15199891099999974
         },
         {
          "label": "dask",
          "n": 200,
          "reduced": true,
          "time": 0.159275332
         },
         {
          "label": "dask",
          "n": 200,
          "reduced": true,
          "time": 0.15928727100000017
         },
         {
          "label": "dask",
          "n": 200,
          "reduced": true,
          "time": 0.1567213710000015
         },
         {
          "label": "dask",
          "n": 200,
          "reduced": true,
          "time": 0.1639662770000001
         },
         {
          "label": "dask",
          "n": 200,
          "reduced": true,
          "time": 0.1536956639999998
         },
         {
          "label": "dask",
          "n": 200,
          "reduced": true,
          "time": 0.15734689099999954
         },
         {
          "label": "dask",
          "n": 200,
          "reduced": true,
          "time": 0.16191608599999974
         },
         {
          "label": "dask",
          "n": 200,
          "reduced": true,
          "time": 0.16333095600000025
         },
         {
          "label": "dask",
          "n": 200,
          "reduced": true,
          "time": 0.16076616600000015
         },
         {
          "label": "dask",
          "n": 200,
          "reduced": true,
          "time": 0.1623930919999994
         },
         {
          "label": "dask",
          "n": 200,
          "reduced": true,
          "time": 0.15806743599999962
         },
         {
          "label": "dask",
          "n": 200,
          "reduced": true,
          "time": 0.15890667100000044
         },
         {
          "label": "dask",
          "n": 200,
          "reduced": true,
          "time": 0.15867295899999956
         },
         {
          "label": "dask",
          "n": 200,
          "reduced": true,
          "time": 0.1650739210000003
         },
         {
          "label": "dask",
          "n": 200,
          "reduced": true,
          "time": 0.15711291399999894
         },
         {
          "label": "dask",
          "n": 200,
          "reduced": true,
          "time": 0.16427390899999939
         },
         {
          "label": "dask",
          "n": 200,
          "reduced": true,
          "time": 0.16126365900000028
         },
         {
          "label": "dask",
          "n": 200,
          "reduced": true,
          "time": 0.16279645799999898
         },
         {
          "label": "dask",
          "n": 200,
          "reduced": true,
          "time": 0.16175046099999957
         },
         {
          "label": "dask",
          "n": 200,
          "reduced": true,
          "time": 0.15887968699999977
         },
         {
          "label": "dask",
          "n": 200,
          "reduced": true,
          "time": 0.15811974699999887
         },
         {
          "label": "dask",
          "n": 200,
          "reduced": true,
          "time": 0.1667732079999995
         },
         {
          "label": "dask",
          "n": 200,
          "reduced": true,
          "time": 0.15789165999999977
         },
         {
          "label": "dask",
          "n": 200,
          "reduced": true,
          "time": 0.15971622100000005
         },
         {
          "label": "dask",
          "n": 200,
          "reduced": true,
          "time": 0.16735953999999964
         },
         {
          "label": "dask",
          "n": 200,
          "reduced": true,
          "time": 0.1534925669999998
         },
         {
          "label": "dask",
          "n": 200,
          "reduced": true,
          "time": 0.15675340399999982
         },
         {
          "label": "dask",
          "n": 200,
          "reduced": true,
          "time": 0.16129965500000054
         },
         {
          "label": "dask",
          "n": 200,
          "reduced": true,
          "time": 0.156514488
         },
         {
          "label": "dask",
          "n": 200,
          "reduced": true,
          "time": 0.15428957500000173
         },
         {
          "label": "dask",
          "n": 200,
          "reduced": true,
          "time": 0.15841383700000033
         },
         {
          "label": "dask",
          "n": 200,
          "reduced": true,
          "time": 0.15901897699999967
         },
         {
          "label": "dask",
          "n": 200,
          "reduced": true,
          "time": 0.15320965799999975
         },
         {
          "label": "tensordot",
          "n": 100,
          "reduced": true,
          "time": 2.6534829833984366e-05
         },
         {
          "label": "tensordot",
          "n": 100,
          "reduced": true,
          "time": 2.6770234863281292e-05
         },
         {
          "label": "tensordot",
          "n": 100,
          "reduced": true,
          "time": 2.635473583984378e-05
         },
         {
          "label": "tensordot",
          "n": 100,
          "reduced": true,
          "time": 2.692363793945312e-05
         },
         {
          "label": "tensordot",
          "n": 100,
          "reduced": true,
          "time": 2.7487751220703132e-05
         },
         {
          "label": "tensordot",
          "n": 100,
          "reduced": true,
          "time": 2.8024358154296884e-05
         },
         {
          "label": "tensordot",
          "n": 100,
          "reduced": true,
          "time": 2.7505432373046886e-05
         },
         {
          "label": "tensordot",
          "n": 100,
          "reduced": true,
          "time": 2.7513625732421883e-05
         },
         {
          "label": "tensordot",
          "n": 100,
          "reduced": true,
          "time": 2.7143758544921897e-05
         },
         {
          "label": "tensordot",
          "n": 100,
          "reduced": true,
          "time": 2.6235203857421878e-05
         },
         {
          "label": "tensordot",
          "n": 100,
          "reduced": true,
          "time": 2.6391858154296876e-05
         },
         {
          "label": "tensordot",
          "n": 100,
          "reduced": true,
          "time": 2.669452758789065e-05
         },
         {
          "label": "tensordot",
          "n": 100,
          "reduced": true,
          "time": 2.692823754882814e-05
         },
         {
          "label": "tensordot",
          "n": 100,
          "reduced": true,
          "time": 2.6734686279296838e-05
         },
         {
          "label": "tensordot",
          "n": 100,
          "reduced": true,
          "time": 2.69111958007812e-05
         },
         {
          "label": "tensordot",
          "n": 100,
          "reduced": true,
          "time": 2.636726025390625e-05
         },
         {
          "label": "tensordot",
          "n": 100,
          "reduced": true,
          "time": 2.651150097656254e-05
         },
         {
          "label": "tensordot",
          "n": 100,
          "reduced": true,
          "time": 2.635440161132815e-05
         },
         {
          "label": "tensordot",
          "n": 100,
          "reduced": true,
          "time": 2.6735119384765617e-05
         },
         {
          "label": "tensordot",
          "n": 100,
          "reduced": true,
          "time": 2.6872305664062525e-05
         },
         {
          "label": "tensordot",
          "n": 100,
          "reduced": true,
          "time": 2.6853297363281265e-05
         },
         {
          "label": "tensordot",
          "n": 100,
          "reduced": true,
          "time": 2.777096313476564e-05
         },
         {
          "label": "tensordot",
          "n": 100,
          "reduced": true,
          "time": 2.787957348632811e-05
         },
         {
          "label": "tensordot",
          "n": 100,
          "reduced": true,
          "time": 2.763152563476566e-05
         },
         {
          "label": "tensordot",
          "n": 100,
          "reduced": true,
          "time": 2.631612890625001e-05
         },
         {
          "label": "tensordot",
          "n": 100,
          "reduced": true,
          "time": 2.6190380615234363e-05
         },
         {
          "label": "tensordot",
          "n": 100,
          "reduced": true,
          "time": 2.645276684570309e-05
         },
         {
          "label": "tensordot",
          "n": 100,
          "reduced": true,
          "time": 2.6735984375000004e-05
         },
         {
          "label": "tensordot",
          "n": 100,
          "reduced": true,
          "time": 2.656000390624996e-05
         },
         {
          "label": "tensordot",
          "n": 100,
          "reduced": true,
          "time": 2.6507739257812513e-05
         },
         {
          "label": "tensordot",
          "n": 100,
          "reduced": true,
          "time": 2.723034130859374e-05
         },
         {
          "label": "tensordot",
          "n": 100,
          "reduced": true,
          "time": 2.6569213134765637e-05
         },
         {
          "label": "tensordot",
          "n": 100,
          "reduced": true,
          "time": 2.7182814453125003e-05
         },
         {
          "label": "tensordot",
          "n": 100,
          "reduced": true,
          "time": 2.6375491699218753e-05
         },
         {
          "label": "tensordot",
          "n": 100,
          "reduced": true,
          "time": 2.68535949707031e-05
         },
         {
          "label": "tensordot",
          "n": 100,
          "reduced": true,
          "time": 2.6567110351562488e-05
         },
         {
          "label": "tensordot",
          "n": 100,
          "reduced": true,
          "time": 2.7659483886718726e-05
         },
         {
          "label": "tensordot",
          "n": 100,
          "reduced": true,
          "time": 2.77950498046875e-05
         },
         {
          "label": "tensordot",
          "n": 100,
          "reduced": true,
          "time": 2.7831097656250028e-05
         },
         {
          "label": "tensordot",
          "n": 100,
          "reduced": true,
          "time": 2.6582193115234372e-05
         },
         {
          "label": "tensordot",
          "n": 100,
          "reduced": true,
          "time": 2.7002874999999956e-05
         },
         {
          "label": "tensordot",
          "n": 100,
          "reduced": true,
          "time": 2.676092846679685e-05
         },
         {
          "label": "tensordot",
          "n": 100,
          "reduced": true,
          "time": 2.681247216796876e-05
         },
         {
          "label": "tensordot",
          "n": 100,
          "reduced": true,
          "time": 2.68712370605469e-05
         },
         {
          "label": "tensordot",
          "n": 100,
          "reduced": true,
          "time": 2.7022343261718772e-05
         },
         {
          "label": "tensordot",
          "n": 100,
          "reduced": true,
          "time": 2.6158102050781267e-05
         },
         {
          "label": "tensordot",
          "n": 100,
          "reduced": true,
          "time": 2.6175316162109377e-05
         },
         {
          "label": "tensordot",
          "n": 100,
          "reduced": true,
          "time": 2.622076049804689e-05
         },
         {
          "label": "tensordot",
          "n": 100,
          "reduced": true,
          "time": 2.6761405517578132e-05
         },
         {
          "label": "tensordot",
          "n": 100,
          "reduced": true,
          "time": 2.6667426025390605e-05
         },
         {
          "label": "tensordot",
          "n": 100,
          "reduced": true,
          "time": 2.6612194091796856e-05
         },
         {
          "label": "tensordot",
          "n": 100,
          "reduced": true,
          "time": 2.7240814941406258e-05
         },
         {
          "label": "tensordot",
          "n": 100,
          "reduced": true,
          "time": 2.7094591308593746e-05
         },
         {
          "label": "tensordot",
          "n": 100,
          "reduced": true,
          "time": 2.7202490234375e-05
         },
         {
          "label": "tensordot",
          "n": 100,
          "reduced": true,
          "time": 2.6567734863281248e-05
         },
         {
          "label": "tensordot",
          "n": 100,
          "reduced": true,
          "time": 2.655200537109376e-05
         },
         {
          "label": "tensordot",
          "n": 100,
          "reduced": true,
          "time": 2.653109155273441e-05
         },
         {
          "label": "tensordot",
          "n": 100,
          "reduced": true,
          "time": 2.6497636474609373e-05
         },
         {
          "label": "tensordot",
          "n": 100,
          "reduced": true,
          "time": 2.7088184326171875e-05
         },
         {
          "label": "tensordot",
          "n": 100,
          "reduced": true,
          "time": 2.691021997070311e-05
         },
         {
          "label": "tensordot",
          "n": 100,
          "reduced": true,
          "time": 2.69061328125e-05
         },
         {
          "label": "tensordot",
          "n": 100,
          "reduced": true,
          "time": 2.700533984374996e-05
         },
         {
          "label": "tensordot",
          "n": 100,
          "reduced": true,
          "time": 2.7332179687500043e-05
         },
         {
          "label": "tensordot",
          "n": 100,
          "reduced": true,
          "time": 2.762407202148439e-05
         },
         {
          "label": "tensordot",
          "n": 100,
          "reduced": true,
          "time": 2.7257278076171885e-05
         },
         {
          "label": "tensordot",
          "n": 100,
          "reduced": true,
          "time": 2.749684594726559e-05
         },
         {
          "label": "tensordot",
          "n": 100,
          "reduced": true,
          "time": 2.905505053710938e-05
         },
         {
          "label": "tensordot",
          "n": 100,
          "reduced": true,
          "time": 2.9067172363281225e-05
         },
         {
          "label": "tensordot",
          "n": 100,
          "reduced": true,
          "time": 2.932701611328128e-05
         },
         {
          "label": "tensordot",
          "n": 100,
          "reduced": true,
          "time": 2.6858904541015623e-05
         },
         {
          "label": "tensordot",
          "n": 100,
          "reduced": true,
          "time": 2.706399633789063e-05
         },
         {
          "label": "tensordot",
          "n": 100,
          "reduced": true,
          "time": 2.676557373046878e-05
         },
         {
          "label": "tensordot",
          "n": 100,
          "reduced": true,
          "time": 2.6915250244140618e-05
         },
         {
          "label": "tensordot",
          "n": 100,
          "reduced": true,
          "time": 2.7122733886718732e-05
         },
         {
          "label": "tensordot",
          "n": 100,
          "reduced": true,
          "time": 2.725836352539062e-05
         },
         {
          "label": "tensordot",
          "n": 100,
          "reduced": true,
          "time": 2.692829614257811e-05
         },
         {
          "label": "tensordot",
          "n": 100,
          "reduced": true,
          "time": 2.716367333984376e-05
         },
         {
          "label": "tensordot",
          "n": 100,
          "reduced": true,
          "time": 2.7099472167968724e-05
         },
         {
          "label": "tensordot",
          "n": 100,
          "reduced": true,
          "time": 2.607497021484375e-05
         },
         {
          "label": "tensordot",
          "n": 100,
          "reduced": true,
          "time": 2.6246255126953098e-05
         },
         {
          "label": "tensordot",
          "n": 100,
          "reduced": true,
          "time": 2.6049324218749986e-05
         },
         {
          "label": "tensordot",
          "n": 100,
          "reduced": true,
          "time": 2.6235282714843746e-05
         },
         {
          "label": "tensordot",
          "n": 100,
          "reduced": true,
          "time": 2.6197167480468723e-05
         },
         {
          "label": "tensordot",
          "n": 100,
          "reduced": true,
          "time": 2.6090411865234398e-05
         },
         {
          "label": "tensordot",
          "n": 100,
          "reduced": true,
          "time": 2.6417490966796882e-05
         },
         {
          "label": "tensordot",
          "n": 100,
          "reduced": true,
          "time": 2.6411050048828148e-05
         },
         {
          "label": "tensordot",
          "n": 100,
          "reduced": true,
          "time": 2.6215122802734404e-05
         },
         {
          "label": "tensordot",
          "n": 100,
          "reduced": true,
          "time": 2.67703732910156e-05
         },
         {
          "label": "tensordot",
          "n": 100,
          "reduced": true,
          "time": 2.679288037109377e-05
         },
         {
          "label": "tensordot",
          "n": 100,
          "reduced": true,
          "time": 2.716059374999999e-05
         },
         {
          "label": "tensordot",
          "n": 100,
          "reduced": true,
          "time": 2.665479931640623e-05
         },
         {
          "label": "tensordot",
          "n": 100,
          "reduced": true,
          "time": 2.7099442382812504e-05
         },
         {
          "label": "tensordot",
          "n": 100,
          "reduced": true,
          "time": 2.7116568603515606e-05
         },
         {
          "label": "tensordot",
          "n": 100,
          "reduced": true,
          "time": 2.583992407226564e-05
         },
         {
          "label": "tensordot",
          "n": 100,
          "reduced": true,
          "time": 2.654819409179688e-05
         },
         {
          "label": "tensordot",
          "n": 100,
          "reduced": true,
          "time": 2.6307198242187522e-05
         },
         {
          "label": "tensordot",
          "n": 100,
          "reduced": true,
          "time": 2.713572534179687e-05
         },
         {
          "label": "tensordot",
          "n": 100,
          "reduced": true,
          "time": 2.714795483398433e-05
         },
         {
          "label": "tensordot",
          "n": 100,
          "reduced": true,
          "time": 2.6836566162109353e-05
         },
         {
          "label": "tensordot",
          "n": 100,
          "reduced": true,
          "time": 2.7284759521484394e-05
         },
         {
          "label": "tensordot",
          "n": 100,
          "reduced": true,
          "time": 2.7364165527343776e-05
         },
         {
          "label": "tensordot",
          "n": 100,
          "reduced": true,
          "time": 2.745154956054687e-05
         },
         {
          "label": "tensordot",
          "n": 100,
          "reduced": true,
          "time": 2.7895449951171865e-05
         },
         {
          "label": "tensordot",
          "n": 100,
          "reduced": true,
          "time": 2.7560430175781214e-05
         },
         {
          "label": "tensordot",
          "n": 100,
          "reduced": true,
          "time": 2.8006904296874974e-05
         },
         {
          "label": "tensordot",
          "n": 100,
          "reduced": true,
          "time": 2.7344523437499997e-05
         },
         {
          "label": "tensordot",
          "n": 100,
          "reduced": true,
          "time": 2.7634391845703088e-05
         },
         {
          "label": "tensordot",
          "n": 100,
          "reduced": true,
          "time": 2.697655493164063e-05
         },
         {
          "label": "tensordot",
          "n": 100,
          "reduced": true,
          "time": 2.6768030029296878e-05
         },
         {
          "label": "tensordot",
          "n": 100,
          "reduced": true,
          "time": 2.6970598632812504e-05
         },
         {
          "label": "tensordot",
          "n": 100,
          "reduced": true,
          "time": 2.6945878906249978e-05
         },
         {
          "label": "tensordot",
          "n": 100,
          "reduced": true,
          "time": 2.653273828125e-05
         },
         {
          "label": "tensordot",
          "n": 100,
          "reduced": true,
          "time": 2.628988134765624e-05
         },
         {
          "label": "tensordot",
          "n": 100,
          "reduced": true,
          "time": 2.650909497070315e-05
         },
         {
          "label": "tensordot",
          "n": 100,
          "reduced": true,
          "time": 2.772713696289064e-05
         },
         {
          "label": "tensordot",
          "n": 100,
          "reduced": true,
          "time": 2.694290673828126e-05
         },
         {
          "label": "tensordot",
          "n": 100,
          "reduced": true,
          "time": 2.7338635986328124e-05
         },
         {
          "label": "tensordot",
          "n": 100,
          "reduced": true,
          "time": 2.630608056640625e-05
         },
         {
          "label": "tensordot",
          "n": 100,
          "reduced": true,
          "time": 2.6118300292968764e-05
         },
         {
          "label": "tensordot",
          "n": 100,
          "reduced": true,
          "time": 2.6006707763671856e-05
         },
         {
          "label": "dask",
          "n": 10,
          "reduced": false,
          "time": 0.002123461609375
         },
         {
          "label": "dask",
          "n": 10,
          "reduced": false,
          "time": 0.0021378759374999987
         },
         {
          "label": "dask",
          "n": 10,
          "reduced": false,
          "time": 0.0021322755781249987
         },
         {
          "label": "dask",
          "n": 10,
          "reduced": false,
          "time": 0.002125398468750001
         },
         {
          "label": "dask",
          "n": 10,
          "reduced": false,
          "time": 0.0021250470625000014
         },
         {
          "label": "dask",
          "n": 10,
          "reduced": false,
          "time": 0.002131890953124998
         },
         {
          "label": "dask",
          "n": 10,
          "reduced": false,
          "time": 0.002116415859375
         },
         {
          "label": "dask",
          "n": 10,
          "reduced": false,
          "time": 0.0021251827031250007
         },
         {
          "label": "dask",
          "n": 10,
          "reduced": false,
          "time": 0.002122858546875
         },
         {
          "label": "dask",
          "n": 10,
          "reduced": false,
          "time": 0.0021278913124999996
         },
         {
          "label": "dask",
          "n": 10,
          "reduced": false,
          "time": 0.002148380468749999
         },
         {
          "label": "dask",
          "n": 10,
          "reduced": false,
          "time": 0.0021349610468750016
         },
         {
          "label": "dask",
          "n": 10,
          "reduced": false,
          "time": 0.0021307268906250003
         },
         {
          "label": "dask",
          "n": 10,
          "reduced": false,
          "time": 0.0021573034843749995
         },
         {
          "label": "dask",
          "n": 10,
          "reduced": false,
          "time": 0.002136085984375001
         },
         {
          "label": "dask",
          "n": 10,
          "reduced": false,
          "time": 0.0021115303281249997
         },
         {
          "label": "dask",
          "n": 10,
          "reduced": false,
          "time": 0.0021189398281249994
         },
         {
          "label": "dask",
          "n": 10,
          "reduced": false,
          "time": 0.002121648968749999
         },
         {
          "label": "dask",
          "n": 10,
          "reduced": false,
          "time": 0.0021150320624999993
         },
         {
          "label": "dask",
          "n": 10,
          "reduced": false,
          "time": 0.002126126640625
         },
         {
          "label": "dask",
          "n": 10,
          "reduced": false,
          "time": 0.0021223098437499997
         },
         {
          "label": "dask",
          "n": 10,
          "reduced": false,
          "time": 0.0021328587031250006
         },
         {
          "label": "dask",
          "n": 10,
          "reduced": false,
          "time": 0.0021373641406249987
         },
         {
          "label": "dask",
          "n": 10,
          "reduced": false,
          "time": 0.002136327375
         },
         {
          "label": "dask",
          "n": 10,
          "reduced": false,
          "time": 0.002114135937500001
         },
         {
          "label": "dask",
          "n": 10,
          "reduced": false,
          "time": 0.0021179475156250013
         },
         {
          "label": "dask",
          "n": 10,
          "reduced": false,
          "time": 0.0021141416093749983
         },
         {
          "label": "dask",
          "n": 10,
          "reduced": false,
          "time": 0.0021294078437500003
         },
         {
          "label": "dask",
          "n": 10,
          "reduced": false,
          "time": 0.0021583863750000015
         },
         {
          "label": "dask",
          "n": 10,
          "reduced": false,
          "time": 0.0021270767343750004
         },
         {
          "label": "dask",
          "n": 10,
          "reduced": false,
          "time": 0.0021468990156250003
         },
         {
          "label": "dask",
          "n": 10,
          "reduced": false,
          "time": 0.002139172796875
         },
         {
          "label": "dask",
          "n": 10,
          "reduced": false,
          "time": 0.0021360182812500007
         },
         {
          "label": "dask",
          "n": 10,
          "reduced": false,
          "time": 0.0021203790000000004
         },
         {
          "label": "dask",
          "n": 10,
          "reduced": false,
          "time": 0.00210629521875
         },
         {
          "label": "dask",
          "n": 10,
          "reduced": false,
          "time": 0.0021039814843750015
         },
         {
          "label": "dask",
          "n": 10,
          "reduced": false,
          "time": 0.00211952084375
         },
         {
          "label": "dask",
          "n": 10,
          "reduced": false,
          "time": 0.002134642921874999
         },
         {
          "label": "dask",
          "n": 10,
          "reduced": false,
          "time": 0.0021313403437499996
         },
         {
          "label": "dask",
          "n": 10,
          "reduced": false,
          "time": 0.002115900015625
         },
         {
          "label": "dask",
          "n": 10,
          "reduced": false,
          "time": 0.002120613375
         },
         {
          "label": "dask",
          "n": 10,
          "reduced": false,
          "time": 0.0021246516562500005
         },
         {
          "label": "dask",
          "n": 10,
          "reduced": false,
          "time": 0.0021281976874999997
         },
         {
          "label": "dask",
          "n": 10,
          "reduced": false,
          "time": 0.0021594029375000007
         },
         {
          "label": "dask",
          "n": 10,
          "reduced": false,
          "time": 0.0021381973437499986
         },
         {
          "label": "dask",
          "n": 10,
          "reduced": false,
          "time": 0.0021208065468750013
         },
         {
          "label": "dask",
          "n": 10,
          "reduced": false,
          "time": 0.002129658359375
         },
         {
          "label": "dask",
          "n": 10,
          "reduced": false,
          "time": 0.0021344187031250017
         },
         {
          "label": "dask",
          "n": 10,
          "reduced": false,
          "time": 0.0021043474843749996
         },
         {
          "label": "dask",
          "n": 10,
          "reduced": false,
          "time": 0.0021096488906250013
         },
         {
          "label": "dask",
          "n": 10,
          "reduced": false,
          "time": 0.0021368477187500012
         },
         {
          "label": "dask",
          "n": 10,
          "reduced": false,
          "time": 0.002132006453125
         },
         {
          "label": "dask",
          "n": 10,
          "reduced": false,
          "time": 0.0021362186562499993
         },
         {
          "label": "dask",
          "n": 10,
          "reduced": false,
          "time": 0.002130553656249999
         },
         {
          "label": "dask",
          "n": 10,
          "reduced": false,
          "time": 0.002125502171875
         },
         {
          "label": "dask",
          "n": 10,
          "reduced": false,
          "time": 0.00213079265625
         },
         {
          "label": "dask",
          "n": 10,
          "reduced": false,
          "time": 0.0021290094531250005
         },
         {
          "label": "dask",
          "n": 10,
          "reduced": false,
          "time": 0.00210599725
         },
         {
          "label": "dask",
          "n": 10,
          "reduced": false,
          "time": 0.0021199036875000007
         },
         {
          "label": "dask",
          "n": 10,
          "reduced": false,
          "time": 0.0021429863749999993
         },
         {
          "label": "dask",
          "n": 10,
          "reduced": false,
          "time": 0.0021734806406249994
         },
         {
          "label": "dask",
          "n": 10,
          "reduced": false,
          "time": 0.00218694159375
         },
         {
          "label": "dask",
          "n": 10,
          "reduced": false,
          "time": 0.0021769164843749994
         },
         {
          "label": "dask",
          "n": 10,
          "reduced": false,
          "time": 0.0021111662343749997
         },
         {
          "label": "dask",
          "n": 10,
          "reduced": false,
          "time": 0.00212452046875
         },
         {
          "label": "dask",
          "n": 10,
          "reduced": false,
          "time": 0.0021241447656250006
         },
         {
          "label": "dask",
          "n": 10,
          "reduced": false,
          "time": 0.0021211916249999994
         },
         {
          "label": "dask",
          "n": 10,
          "reduced": false,
          "time": 0.002116107515625
         },
         {
          "label": "dask",
          "n": 10,
          "reduced": false,
          "time": 0.0021301643125
         },
         {
          "label": "dask",
          "n": 10,
          "reduced": false,
          "time": 0.002116318140625
         },
         {
          "label": "dask",
          "n": 10,
          "reduced": false,
          "time": 0.00211178303125
         },
         {
          "label": "dask",
          "n": 10,
          "reduced": false,
          "time": 0.002128056671874998
         },
         {
          "label": "dask",
          "n": 10,
          "reduced": false,
          "time": 0.0021180813125000007
         },
         {
          "label": "dask",
          "n": 10,
          "reduced": false,
          "time": 0.0021063569687500006
         },
         {
          "label": "dask",
          "n": 10,
          "reduced": false,
          "time": 0.00212036778125
         },
         {
          "label": "dask",
          "n": 10,
          "reduced": false,
          "time": 0.0021264158593749995
         },
         {
          "label": "dask",
          "n": 10,
          "reduced": false,
          "time": 0.0021502024062499993
         },
         {
          "label": "dask",
          "n": 10,
          "reduced": false,
          "time": 0.0021293355781250006
         },
         {
          "label": "dask",
          "n": 10,
          "reduced": false,
          "time": 0.002125995656250001
         },
         {
          "label": "dask",
          "n": 10,
          "reduced": false,
          "time": 0.0021422360937499996
         },
         {
          "label": "dask",
          "n": 10,
          "reduced": false,
          "time": 0.0021289012812500015
         },
         {
          "label": "dask",
          "n": 10,
          "reduced": false,
          "time": 0.0021263456562500005
         },
         {
          "label": "dask",
          "n": 10,
          "reduced": false,
          "time": 0.00213411421875
         },
         {
          "label": "dask",
          "n": 10,
          "reduced": false,
          "time": 0.0021204012656249986
         },
         {
          "label": "dask",
          "n": 10,
          "reduced": false,
          "time": 0.002119577890625
         },
         {
          "label": "dask",
          "n": 10,
          "reduced": false,
          "time": 0.002116909
         },
         {
          "label": "dask",
          "n": 10,
          "reduced": false,
          "time": 0.0021402179374999993
         },
         {
          "label": "dask",
          "n": 10,
          "reduced": false,
          "time": 0.0021052198124999998
         },
         {
          "label": "dask",
          "n": 10,
          "reduced": false,
          "time": 0.0021558080312499995
         },
         {
          "label": "dask",
          "n": 10,
          "reduced": false,
          "time": 0.0021278201562500015
         },
         {
          "label": "dask",
          "n": 10,
          "reduced": false,
          "time": 0.0021159310781249992
         },
         {
          "label": "dask",
          "n": 10,
          "reduced": false,
          "time": 0.0021319944218749984
         },
         {
          "label": "dask",
          "n": 10,
          "reduced": false,
          "time": 0.002143873921874999
         },
         {
          "label": "dask",
          "n": 10,
          "reduced": false,
          "time": 0.0021228708906249998
         },
         {
          "label": "dask",
          "n": 10,
          "reduced": false,
          "time": 0.0021230870468749996
         },
         {
          "label": "dask",
          "n": 10,
          "reduced": false,
          "time": 0.0021299424687500016
         },
         {
          "label": "dask",
          "n": 10,
          "reduced": false,
          "time": 0.002105051781249999
         },
         {
          "label": "dask",
          "n": 10,
          "reduced": false,
          "time": 0.0021083976406250007
         },
         {
          "label": "dask",
          "n": 10,
          "reduced": false,
          "time": 0.0021394237343750015
         },
         {
          "label": "dask",
          "n": 10,
          "reduced": false,
          "time": 0.002158419984375
         },
         {
          "label": "dask",
          "n": 10,
          "reduced": false,
          "time": 0.002157394531249999
         },
         {
          "label": "dask",
          "n": 10,
          "reduced": false,
          "time": 0.0021645562500000014
         },
         {
          "label": "dask",
          "n": 10,
          "reduced": false,
          "time": 0.002136420484375
         },
         {
          "label": "dask",
          "n": 10,
          "reduced": false,
          "time": 0.0021387351718749996
         },
         {
          "label": "dask",
          "n": 10,
          "reduced": false,
          "time": 0.0021385014062500016
         },
         {
          "label": "dask",
          "n": 10,
          "reduced": false,
          "time": 0.002114624390625
         },
         {
          "label": "dask",
          "n": 10,
          "reduced": false,
          "time": 0.002119254359375001
         },
         {
          "label": "dask",
          "n": 10,
          "reduced": false,
          "time": 0.002126335546875002
         },
         {
          "label": "dask",
          "n": 10,
          "reduced": false,
          "time": 0.0021209853437500013
         },
         {
          "label": "dask",
          "n": 10,
          "reduced": false,
          "time": 0.0021141566250000004
         },
         {
          "label": "dask",
          "n": 10,
          "reduced": false,
          "time": 0.002116954093749998
         },
         {
          "label": "dask",
          "n": 10,
          "reduced": false,
          "time": 0.0021378302968750006
         },
         {
          "label": "dask",
          "n": 10,
          "reduced": false,
          "time": 0.0021422100000000003
         },
         {
          "label": "dask",
          "n": 10,
          "reduced": false,
          "time": 0.002142671203125
         },
         {
          "label": "dask",
          "n": 10,
          "reduced": false,
          "time": 0.002127774453125
         },
         {
          "label": "dask",
          "n": 10,
          "reduced": false,
          "time": 0.0021122180781250003
         },
         {
          "label": "dask",
          "n": 10,
          "reduced": false,
          "time": 0.0021122795937500004
         },
         {
          "label": "dask",
          "n": 10,
          "reduced": false,
          "time": 0.0021226184062500004
         },
         {
          "label": "dask",
          "n": 10,
          "reduced": false,
          "time": 0.0021318775000000005
         },
         {
          "label": "dask",
          "n": 10,
          "reduced": false,
          "time": 0.0021223013593750003
         },
         {
          "label": "dask",
          "n": 200,
          "reduced": false,
          "time": 0.15466814000000007
         },
         {
          "label": "dask",
          "n": 200,
          "reduced": false,
          "time": 0.15793737800000063
         },
         {
          "label": "dask",
          "n": 200,
          "reduced": false,
          "time": 0.14822178399999864
         },
         {
          "label": "dask",
          "n": 200,
          "reduced": false,
          "time": 0.16770144299999945
         },
         {
          "label": "dask",
          "n": 200,
          "reduced": false,
          "time": 0.15730063399999938
         },
         {
          "label": "dask",
          "n": 200,
          "reduced": false,
          "time": 0.1496813820000007
         },
         {
          "label": "dask",
          "n": 200,
          "reduced": false,
          "time": 0.15853922599999937
         },
         {
          "label": "dask",
          "n": 200,
          "reduced": false,
          "time": 0.15907465700000056
         },
         {
          "label": "dask",
          "n": 200,
          "reduced": false,
          "time": 0.1482433839999988
         },
         {
          "label": "dask",
          "n": 200,
          "reduced": false,
          "time": 0.16669674200000006
         },
         {
          "label": "dask",
          "n": 200,
          "reduced": false,
          "time": 0.16179500899999955
         },
         {
          "label": "dask",
          "n": 200,
          "reduced": false,
          "time": 0.14933808200000165
         },
         {
          "label": "dask",
          "n": 200,
          "reduced": false,
          "time": 0.15875045599999993
         },
         {
          "label": "dask",
          "n": 200,
          "reduced": false,
          "time": 0.1557655699999998
         },
         {
          "label": "dask",
          "n": 200,
          "reduced": false,
          "time": 0.1484444309999997
         },
         {
          "label": "dask",
          "n": 200,
          "reduced": false,
          "time": 0.16062272799999988
         },
         {
          "label": "dask",
          "n": 200,
          "reduced": false,
          "time": 0.15944646000000073
         },
         {
          "label": "dask",
          "n": 200,
          "reduced": false,
          "time": 0.14851706700000022
         },
         {
          "label": "dask",
          "n": 200,
          "reduced": false,
          "time": 0.15956218400000033
         },
         {
          "label": "dask",
          "n": 200,
          "reduced": false,
          "time": 0.15914695499999976
         },
         {
          "label": "dask",
          "n": 200,
          "reduced": false,
          "time": 0.15309109499999884
         },
         {
          "label": "dask",
          "n": 200,
          "reduced": false,
          "time": 0.16238657199999995
         },
         {
          "label": "dask",
          "n": 200,
          "reduced": false,
          "time": 0.1606375990000002
         },
         {
          "label": "dask",
          "n": 200,
          "reduced": false,
          "time": 0.1491979790000002
         },
         {
          "label": "dask",
          "n": 200,
          "reduced": false,
          "time": 0.1624759539999996
         },
         {
          "label": "dask",
          "n": 200,
          "reduced": false,
          "time": 0.15560607599999976
         },
         {
          "label": "dask",
          "n": 200,
          "reduced": false,
          "time": 0.14752541100000016
         },
         {
          "label": "dask",
          "n": 200,
          "reduced": false,
          "time": 0.16611984800000013
         },
         {
          "label": "dask",
          "n": 200,
          "reduced": false,
          "time": 0.15585047600000035
         },
         {
          "label": "dask",
          "n": 200,
          "reduced": false,
          "time": 0.15236921500000022
         },
         {
          "label": "dask",
          "n": 200,
          "reduced": false,
          "time": 0.16612019
         },
         {
          "label": "dask",
          "n": 200,
          "reduced": false,
          "time": 0.16475680100000023
         },
         {
          "label": "dask",
          "n": 200,
          "reduced": false,
          "time": 0.15276656600000038
         },
         {
          "label": "dask",
          "n": 200,
          "reduced": false,
          "time": 0.1584452160000005
         },
         {
          "label": "dask",
          "n": 200,
          "reduced": false,
          "time": 0.1603814159999999
         },
         {
          "label": "dask",
          "n": 200,
          "reduced": false,
          "time": 0.15248869399999876
         },
         {
          "label": "dask",
          "n": 200,
          "reduced": false,
          "time": 0.1617222260000002
         },
         {
          "label": "dask",
          "n": 200,
          "reduced": false,
          "time": 0.15600589900000017
         },
         {
          "label": "dask",
          "n": 200,
          "reduced": false,
          "time": 0.15180036200000124
         },
         {
          "label": "dask",
          "n": 200,
          "reduced": false,
          "time": 0.16096744100000038
         },
         {
          "label": "dask",
          "n": 200,
          "reduced": false,
          "time": 0.15570088399999982
         },
         {
          "label": "dask",
          "n": 200,
          "reduced": false,
          "time": 0.15259186599999985
         },
         {
          "label": "dask",
          "n": 200,
          "reduced": false,
          "time": 0.15546840799999995
         },
         {
          "label": "dask",
          "n": 200,
          "reduced": false,
          "time": 0.15443052500000043
         },
         {
          "label": "dask",
          "n": 200,
          "reduced": false,
          "time": 0.15217667399999968
         },
         {
          "label": "dask",
          "n": 200,
          "reduced": false,
          "time": 0.15900643199999998
         },
         {
          "label": "dask",
          "n": 200,
          "reduced": false,
          "time": 0.1578872010000003
         },
         {
          "label": "dask",
          "n": 200,
          "reduced": false,
          "time": 0.1557354980000003
         },
         {
          "label": "dask",
          "n": 200,
          "reduced": false,
          "time": 0.15473734800000027
         },
         {
          "label": "dask",
          "n": 200,
          "reduced": false,
          "time": 0.15678815099999976
         },
         {
          "label": "dask",
          "n": 200,
          "reduced": false,
          "time": 0.15207315199999982
         },
         {
          "label": "dask",
          "n": 200,
          "reduced": false,
          "time": 0.16497997199999936
         },
         {
          "label": "dask",
          "n": 200,
          "reduced": false,
          "time": 0.1591702890000004
         },
         {
          "label": "dask",
          "n": 200,
          "reduced": false,
          "time": 0.14861676099999954
         },
         {
          "label": "dask",
          "n": 200,
          "reduced": false,
          "time": 0.16072804199999968
         },
         {
          "label": "dask",
          "n": 200,
          "reduced": false,
          "time": 0.1576214760000001
         },
         {
          "label": "dask",
          "n": 200,
          "reduced": false,
          "time": 0.15102301299999965
         },
         {
          "label": "dask",
          "n": 200,
          "reduced": false,
          "time": 0.1594056859999995
         },
         {
          "label": "dask",
          "n": 200,
          "reduced": false,
          "time": 0.15496711899999926
         },
         {
          "label": "dask",
          "n": 200,
          "reduced": false,
          "time": 0.1489606520000013
         },
         {
          "label": "dask",
          "n": 200,
          "reduced": false,
          "time": 0.1647977169999999
         },
         {
          "label": "dask",
          "n": 200,
          "reduced": false,
          "time": 0.15917966700000008
         },
         {
          "label": "dask",
          "n": 200,
          "reduced": false,
          "time": 0.15120688500000057
         },
         {
          "label": "dask",
          "n": 200,
          "reduced": false,
          "time": 0.17006861899999937
         },
         {
          "label": "dask",
          "n": 200,
          "reduced": false,
          "time": 0.15792938099999976
         },
         {
          "label": "dask",
          "n": 200,
          "reduced": false,
          "time": 0.150734967
         },
         {
          "label": "dask",
          "n": 200,
          "reduced": false,
          "time": 0.16978272600000022
         },
         {
          "label": "dask",
          "n": 200,
          "reduced": false,
          "time": 0.15609835500000013
         },
         {
          "label": "dask",
          "n": 200,
          "reduced": false,
          "time": 0.15121457400000082
         },
         {
          "label": "dask",
          "n": 200,
          "reduced": false,
          "time": 0.160112668
         },
         {
          "label": "dask",
          "n": 200,
          "reduced": false,
          "time": 0.15395606399999995
         },
         {
          "label": "dask",
          "n": 200,
          "reduced": false,
          "time": 0.15043001399999945
         },
         {
          "label": "dask",
          "n": 200,
          "reduced": false,
          "time": 0.15793495299999982
         },
         {
          "label": "dask",
          "n": 200,
          "reduced": false,
          "time": 0.1525110930000002
         },
         {
          "label": "dask",
          "n": 200,
          "reduced": false,
          "time": 0.15215819000000153
         },
         {
          "label": "dask",
          "n": 200,
          "reduced": false,
          "time": 0.15903667600000038
         },
         {
          "label": "dask",
          "n": 200,
          "reduced": false,
          "time": 0.15353174999999997
         },
         {
          "label": "dask",
          "n": 200,
          "reduced": false,
          "time": 0.1493450860000003
         },
         {
          "label": "dask",
          "n": 200,
          "reduced": false,
          "time": 0.16061627900000008
         },
         {
          "label": "dask",
          "n": 200,
          "reduced": false,
          "time": 0.15650780399999942
         },
         {
          "label": "dask",
          "n": 200,
          "reduced": false,
          "time": 0.14704244200000005
         },
         {
          "label": "dask",
          "n": 200,
          "reduced": false,
          "time": 0.24781639700000024
         },
         {
          "label": "dask",
          "n": 200,
          "reduced": false,
          "time": 0.16550428199999967
         },
         {
          "label": "dask",
          "n": 200,
          "reduced": false,
          "time": 0.15064027400000057
         },
         {
          "label": "dask",
          "n": 200,
          "reduced": false,
          "time": 0.16248309299999963
         },
         {
          "label": "dask",
          "n": 200,
          "reduced": false,
          "time": 0.15848649800000025
         },
         {
          "label": "dask",
          "n": 200,
          "reduced": false,
          "time": 0.14900436699999986
         },
         {
          "label": "dask",
          "n": 200,
          "reduced": false,
          "time": 0.16403375599999936
         },
         {
          "label": "dask",
          "n": 200,
          "reduced": false,
          "time": 0.1581076459999995
         },
         {
          "label": "dask",
          "n": 200,
          "reduced": false,
          "time": 0.15257620399999894
         },
         {
          "label": "dask",
          "n": 200,
          "reduced": false,
          "time": 0.16010098100000025
         },
         {
          "label": "dask",
          "n": 200,
          "reduced": false,
          "time": 0.1616440310000007
         },
         {
          "label": "dask",
          "n": 200,
          "reduced": false,
          "time": 0.15199241600000057
         },
         {
          "label": "dask",
          "n": 200,
          "reduced": false,
          "time": 0.16358838799999997
         },
         {
          "label": "dask",
          "n": 200,
          "reduced": false,
          "time": 0.1580501709999993
         },
         {
          "label": "dask",
          "n": 200,
          "reduced": false,
          "time": 0.1508665330000003
         },
         {
          "label": "dask",
          "n": 200,
          "reduced": false,
          "time": 0.16635514699999998
         },
         {
          "label": "dask",
          "n": 200,
          "reduced": false,
          "time": 0.15468021400000076
         },
         {
          "label": "dask",
          "n": 200,
          "reduced": false,
          "time": 0.15007320999999862
         },
         {
          "label": "dask",
          "n": 200,
          "reduced": false,
          "time": 0.16538700499999948
         },
         {
          "label": "dask",
          "n": 200,
          "reduced": false,
          "time": 0.1572750360000006
         },
         {
          "label": "dask",
          "n": 200,
          "reduced": false,
          "time": 0.15086857400000042
         },
         {
          "label": "dask",
          "n": 200,
          "reduced": false,
          "time": 0.16115325499999944
         },
         {
          "label": "dask",
          "n": 200,
          "reduced": false,
          "time": 0.16173580599999937
         },
         {
          "label": "dask",
          "n": 200,
          "reduced": false,
          "time": 0.1491005550000004
         },
         {
          "label": "dask",
          "n": 200,
          "reduced": false,
          "time": 0.17059159500000032
         },
         {
          "label": "dask",
          "n": 200,
          "reduced": false,
          "time": 0.15715941900000008
         },
         {
          "label": "dask",
          "n": 200,
          "reduced": false,
          "time": 0.14925976600000013
         },
         {
          "label": "dask",
          "n": 200,
          "reduced": false,
          "time": 0.15940118099999978
         },
         {
          "label": "dask",
          "n": 200,
          "reduced": false,
          "time": 0.16230895299999926
         },
         {
          "label": "dask",
          "n": 200,
          "reduced": false,
          "time": 0.1490430629999988
         },
         {
          "label": "dask",
          "n": 200,
          "reduced": false,
          "time": 0.16233816499999953
         },
         {
          "label": "dask",
          "n": 200,
          "reduced": false,
          "time": 0.15253747499999992
         },
         {
          "label": "dask",
          "n": 200,
          "reduced": false,
          "time": 0.14791130499999916
         },
         {
          "label": "dask",
          "n": 200,
          "reduced": false,
          "time": 0.16041998799999924
         },
         {
          "label": "dask",
          "n": 200,
          "reduced": false,
          "time": 0.15415375300000012
         },
         {
          "label": "dask",
          "n": 200,
          "reduced": false,
          "time": 0.1540666539999993
         },
         {
          "label": "dask",
          "n": 200,
          "reduced": false,
          "time": 0.15889873000000065
         },
         {
          "label": "dask",
          "n": 200,
          "reduced": false,
          "time": 0.15458834300000035
         },
         {
          "label": "dask",
          "n": 200,
          "reduced": false,
          "time": 0.1499505199999991
         },
         {
          "label": "dask",
          "n": 300,
          "reduced": false,
          "time": 0.4264187699999997
         },
         {
          "label": "dask",
          "n": 300,
          "reduced": false,
          "time": 0.3895142880000009
         },
         {
          "label": "dask",
          "n": 300,
          "reduced": false,
          "time": 0.3976702930000009
         },
         {
          "label": "dask",
          "n": 300,
          "reduced": false,
          "time": 0.416471480000002
         },
         {
          "label": "dask",
          "n": 300,
          "reduced": false,
          "time": 0.3885772670000023
         },
         {
          "label": "dask",
          "n": 300,
          "reduced": false,
          "time": 0.3893700740000021
         },
         {
          "label": "dask",
          "n": 300,
          "reduced": false,
          "time": 0.43612990299999943
         },
         {
          "label": "dask",
          "n": 300,
          "reduced": false,
          "time": 0.4149094809999987
         },
         {
          "label": "dask",
          "n": 300,
          "reduced": false,
          "time": 0.39987970299999986
         },
         {
          "label": "dask",
          "n": 300,
          "reduced": false,
          "time": 0.4051208020000008
         },
         {
          "label": "dask",
          "n": 300,
          "reduced": false,
          "time": 0.4008189200000025
         },
         {
          "label": "dask",
          "n": 300,
          "reduced": false,
          "time": 0.395264700000002
         },
         {
          "label": "dask",
          "n": 300,
          "reduced": false,
          "time": 0.42082199400000064
         },
         {
          "label": "dask",
          "n": 300,
          "reduced": false,
          "time": 0.41379693700000075
         },
         {
          "label": "dask",
          "n": 300,
          "reduced": false,
          "time": 0.390615768
         },
         {
          "label": "dask",
          "n": 300,
          "reduced": false,
          "time": 0.41205457500000087
         },
         {
          "label": "dask",
          "n": 300,
          "reduced": false,
          "time": 0.4218285569999978
         },
         {
          "label": "dask",
          "n": 300,
          "reduced": false,
          "time": 0.39132449999999963
         },
         {
          "label": "dask",
          "n": 300,
          "reduced": false,
          "time": 0.42489004799999996
         },
         {
          "label": "dask",
          "n": 300,
          "reduced": false,
          "time": 0.4008109589999975
         },
         {
          "label": "dask",
          "n": 300,
          "reduced": false,
          "time": 0.39759883500000015
         },
         {
          "label": "dask",
          "n": 300,
          "reduced": false,
          "time": 0.40681080199999897
         },
         {
          "label": "dask",
          "n": 300,
          "reduced": false,
          "time": 0.4248350159999994
         },
         {
          "label": "dask",
          "n": 300,
          "reduced": false,
          "time": 0.4001656010000012
         },
         {
          "label": "dask",
          "n": 300,
          "reduced": false,
          "time": 0.4381925980000023
         },
         {
          "label": "dask",
          "n": 300,
          "reduced": false,
          "time": 0.39461233600000156
         },
         {
          "label": "dask",
          "n": 300,
          "reduced": false,
          "time": 0.3875369120000052
         },
         {
          "label": "dask",
          "n": 300,
          "reduced": false,
          "time": 0.4115138379999994
         },
         {
          "label": "dask",
          "n": 300,
          "reduced": false,
          "time": 0.3991216909999977
         },
         {
          "label": "dask",
          "n": 300,
          "reduced": false,
          "time": 0.39380362800000057
         },
         {
          "label": "dask",
          "n": 300,
          "reduced": false,
          "time": 0.41540248399999946
         },
         {
          "label": "dask",
          "n": 300,
          "reduced": false,
          "time": 0.42625252199999863
         },
         {
          "label": "dask",
          "n": 300,
          "reduced": false,
          "time": 0.3891865079999981
         },
         {
          "label": "dask",
          "n": 300,
          "reduced": false,
          "time": 0.4317348179999989
         },
         {
          "label": "dask",
          "n": 300,
          "reduced": false,
          "time": 0.41077502199999927
         },
         {
          "label": "dask",
          "n": 300,
          "reduced": false,
          "time": 0.4049139110000013
         },
         {
          "label": "dask",
          "n": 300,
          "reduced": false,
          "time": 0.40880263000000205
         },
         {
          "label": "dask",
          "n": 300,
          "reduced": false,
          "time": 0.38862540500000264
         },
         {
          "label": "dask",
          "n": 300,
          "reduced": false,
          "time": 0.38806918699999926
         },
         {
          "label": "dask",
          "n": 300,
          "reduced": false,
          "time": 0.3974899140000012
         },
         {
          "label": "dask",
          "n": 300,
          "reduced": false,
          "time": 0.3827282400000023
         },
         {
          "label": "dask",
          "n": 300,
          "reduced": false,
          "time": 0.38157715400000214
         },
         {
          "label": "dask",
          "n": 300,
          "reduced": false,
          "time": 0.4146720119999987
         },
         {
          "label": "dask",
          "n": 300,
          "reduced": false,
          "time": 0.38916535699999955
         },
         {
          "label": "dask",
          "n": 300,
          "reduced": false,
          "time": 0.40100551899999815
         },
         {
          "label": "dask",
          "n": 300,
          "reduced": false,
          "time": 0.4084037849999991
         },
         {
          "label": "dask",
          "n": 300,
          "reduced": false,
          "time": 0.39998425599999976
         },
         {
          "label": "dask",
          "n": 300,
          "reduced": false,
          "time": 0.4031506020000002
         },
         {
          "label": "dask",
          "n": 300,
          "reduced": false,
          "time": 0.40143528800000006
         },
         {
          "label": "dask",
          "n": 300,
          "reduced": false,
          "time": 0.41658232500000025
         },
         {
          "label": "dask",
          "n": 300,
          "reduced": false,
          "time": 0.40471673500000094
         },
         {
          "label": "dask",
          "n": 300,
          "reduced": false,
          "time": 0.41257270900000087
         },
         {
          "label": "dask",
          "n": 300,
          "reduced": false,
          "time": 0.3910662340000002
         },
         {
          "label": "dask",
          "n": 300,
          "reduced": false,
          "time": 0.412035539999998
         },
         {
          "label": "dask",
          "n": 300,
          "reduced": false,
          "time": 0.40679971000000137
         },
         {
          "label": "dask",
          "n": 300,
          "reduced": false,
          "time": 0.406974512999998
         },
         {
          "label": "dask",
          "n": 300,
          "reduced": false,
          "time": 0.40171379900000304
         },
         {
          "label": "dask",
          "n": 300,
          "reduced": false,
          "time": 0.4429250370000002
         },
         {
          "label": "dask",
          "n": 300,
          "reduced": false,
          "time": 0.38880274499999956
         },
         {
          "label": "dask",
          "n": 300,
          "reduced": false,
          "time": 0.3874495489999994
         },
         {
          "label": "dask",
          "n": 300,
          "reduced": false,
          "time": 0.4136918989999998
         },
         {
          "label": "dask",
          "n": 300,
          "reduced": false,
          "time": 0.3870012580000015
         },
         {
          "label": "dask",
          "n": 300,
          "reduced": false,
          "time": 0.39121888000000027
         },
         {
          "label": "dask",
          "n": 300,
          "reduced": false,
          "time": 0.42953967899999945
         },
         {
          "label": "dask",
          "n": 300,
          "reduced": false,
          "time": 0.3958569099999991
         },
         {
          "label": "dask",
          "n": 300,
          "reduced": false,
          "time": 0.3938547589999999
         },
         {
          "label": "dask",
          "n": 300,
          "reduced": false,
          "time": 0.4088115530000014
         },
         {
          "label": "dask",
          "n": 300,
          "reduced": false,
          "time": 0.39275042299999896
         },
         {
          "label": "dask",
          "n": 300,
          "reduced": false,
          "time": 0.39294150599999966
         },
         {
          "label": "dask",
          "n": 300,
          "reduced": false,
          "time": 0.42354953599999945
         },
         {
          "label": "dask",
          "n": 300,
          "reduced": false,
          "time": 0.4044954130000029
         },
         {
          "label": "dask",
          "n": 300,
          "reduced": false,
          "time": 0.4142355069999972
         },
         {
          "label": "dask",
          "n": 300,
          "reduced": false,
          "time": 0.4334367300000004
         },
         {
          "label": "dask",
          "n": 300,
          "reduced": false,
          "time": 0.3967501380000016
         },
         {
          "label": "dask",
          "n": 300,
          "reduced": false,
          "time": 0.3949699990000006
         },
         {
          "label": "dask",
          "n": 300,
          "reduced": false,
          "time": 0.40418900799999946
         },
         {
          "label": "dask",
          "n": 300,
          "reduced": false,
          "time": 0.40695862600000154
         },
         {
          "label": "dask",
          "n": 300,
          "reduced": false,
          "time": 0.3809096909999994
         },
         {
          "label": "dask",
          "n": 300,
          "reduced": false,
          "time": 0.4188661220000025
         },
         {
          "label": "dask",
          "n": 300,
          "reduced": false,
          "time": 0.4001996560000016
         },
         {
          "label": "dask",
          "n": 300,
          "reduced": false,
          "time": 0.4237106149999974
         },
         {
          "label": "dask",
          "n": 300,
          "reduced": false,
          "time": 0.4108327599999999
         },
         {
          "label": "dask",
          "n": 300,
          "reduced": false,
          "time": 0.39282329400000293
         },
         {
          "label": "dask",
          "n": 300,
          "reduced": false,
          "time": 0.39058181100000056
         },
         {
          "label": "dask",
          "n": 300,
          "reduced": false,
          "time": 0.4092333590000017
         },
         {
          "label": "dask",
          "n": 300,
          "reduced": false,
          "time": 0.3975646079999997
         },
         {
          "label": "dask",
          "n": 300,
          "reduced": false,
          "time": 0.39316082299999877
         },
         {
          "label": "dask",
          "n": 300,
          "reduced": false,
          "time": 0.4315917839999983
         },
         {
          "label": "dask",
          "n": 300,
          "reduced": false,
          "time": 0.43004645699999955
         },
         {
          "label": "dask",
          "n": 300,
          "reduced": false,
          "time": 0.38672866199999945
         },
         {
          "label": "dask",
          "n": 300,
          "reduced": false,
          "time": 0.4044136070000004
         },
         {
          "label": "dask",
          "n": 300,
          "reduced": false,
          "time": 0.42913649499999806
         },
         {
          "label": "dask",
          "n": 300,
          "reduced": false,
          "time": 0.4112081140000008
         },
         {
          "label": "dask",
          "n": 300,
          "reduced": false,
          "time": 0.4239110850000003
         },
         {
          "label": "dask",
          "n": 300,
          "reduced": false,
          "time": 0.438223617000002
         },
         {
          "label": "dask",
          "n": 300,
          "reduced": false,
          "time": 0.3949688910000013
         },
         {
          "label": "dask",
          "n": 300,
          "reduced": false,
          "time": 0.4212530840000017
         },
         {
          "label": "dask",
          "n": 300,
          "reduced": false,
          "time": 0.4069507709999982
         },
         {
          "label": "dask",
          "n": 300,
          "reduced": false,
          "time": 0.3954100000000018
         },
         {
          "label": "dask",
          "n": 300,
          "reduced": false,
          "time": 0.42865832100000034
         },
         {
          "label": "dask",
          "n": 300,
          "reduced": false,
          "time": 0.40634760000000014
         },
         {
          "label": "dask",
          "n": 300,
          "reduced": false,
          "time": 0.38254851700000003
         },
         {
          "label": "dask",
          "n": 300,
          "reduced": false,
          "time": 0.41149729100000165
         },
         {
          "label": "dask",
          "n": 300,
          "reduced": false,
          "time": 0.40954515800000024
         },
         {
          "label": "dask",
          "n": 300,
          "reduced": false,
          "time": 0.38628381200000206
         },
         {
          "label": "dask",
          "n": 300,
          "reduced": false,
          "time": 0.4213753510000018
         },
         {
          "label": "dask",
          "n": 300,
          "reduced": false,
          "time": 0.40472378499999806
         },
         {
          "label": "dask",
          "n": 300,
          "reduced": false,
          "time": 0.39598195700000005
         },
         {
          "label": "dask",
          "n": 300,
          "reduced": false,
          "time": 0.4092997700000005
         },
         {
          "label": "dask",
          "n": 300,
          "reduced": false,
          "time": 0.43024671899999944
         },
         {
          "label": "dask",
          "n": 300,
          "reduced": false,
          "time": 0.38765067900000005
         },
         {
          "label": "dask",
          "n": 300,
          "reduced": false,
          "time": 0.4410788739999987
         },
         {
          "label": "dask",
          "n": 300,
          "reduced": false,
          "time": 0.42195773100000267
         },
         {
          "label": "dask",
          "n": 300,
          "reduced": false,
          "time": 0.3885296650000001
         },
         {
          "label": "dask",
          "n": 300,
          "reduced": false,
          "time": 0.42317113899999903
         },
         {
          "label": "dask",
          "n": 300,
          "reduced": false,
          "time": 0.39296047699999903
         },
         {
          "label": "dask",
          "n": 300,
          "reduced": false,
          "time": 0.3985848109999992
         },
         {
          "label": "dask",
          "n": 300,
          "reduced": false,
          "time": 0.4110416190000006
         },
         {
          "label": "dask",
          "n": 300,
          "reduced": false,
          "time": 0.4046547700000005
         },
         {
          "label": "dask",
          "n": 300,
          "reduced": false,
          "time": 0.39899460999999903
         },
         {
          "label": "dask",
          "n": 1,
          "reduced": false,
          "time": 0.0015383238749999998
         },
         {
          "label": "dask",
          "n": 1,
          "reduced": false,
          "time": 0.0015411367109374992
         },
         {
          "label": "dask",
          "n": 1,
          "reduced": false,
          "time": 0.0015233403671875007
         },
         {
          "label": "dask",
          "n": 1,
          "reduced": false,
          "time": 0.0015089158593750004
         },
         {
          "label": "dask",
          "n": 1,
          "reduced": false,
          "time": 0.0015204049453125005
         },
         {
          "label": "dask",
          "n": 1,
          "reduced": false,
          "time": 0.0015133275703124987
         },
         {
          "label": "dask",
          "n": 1,
          "reduced": false,
          "time": 0.00157523421875
         },
         {
          "label": "dask",
          "n": 1,
          "reduced": false,
          "time": 0.001561991140625
         },
         {
          "label": "dask",
          "n": 1,
          "reduced": false,
          "time": 0.0015693521249999995
         },
         {
          "label": "dask",
          "n": 1,
          "reduced": false,
          "time": 0.0015383259609374998
         },
         {
          "label": "dask",
          "n": 1,
          "reduced": false,
          "time": 0.0015367558124999995
         },
         {
          "label": "dask",
          "n": 1,
          "reduced": false,
          "time": 0.0015165844531250007
         },
         {
          "label": "dask",
          "n": 1,
          "reduced": false,
          "time": 0.0015335934999999995
         },
         {
          "label": "dask",
          "n": 1,
          "reduced": false,
          "time": 0.0015169139062499995
         },
         {
          "label": "dask",
          "n": 1,
          "reduced": false,
          "time": 0.0015347352109375007
         },
         {
          "label": "dask",
          "n": 1,
          "reduced": false,
          "time": 0.0015342718437499998
         },
         {
          "label": "dask",
          "n": 1,
          "reduced": false,
          "time": 0.0015328078203125
         },
         {
          "label": "dask",
          "n": 1,
          "reduced": false,
          "time": 0.0015362353984374987
         },
         {
          "label": "dask",
          "n": 1,
          "reduced": false,
          "time": 0.0015463771953124995
         },
         {
          "label": "dask",
          "n": 1,
          "reduced": false,
          "time": 0.0015327572734375001
         },
         {
          "label": "dask",
          "n": 1,
          "reduced": false,
          "time": 0.0015310489453125003
         },
         {
          "label": "dask",
          "n": 1,
          "reduced": false,
          "time": 0.0015481507890625001
         },
         {
          "label": "dask",
          "n": 1,
          "reduced": false,
          "time": 0.0015366398749999998
         },
         {
          "label": "dask",
          "n": 1,
          "reduced": false,
          "time": 0.0015389998437500014
         },
         {
          "label": "dask",
          "n": 1,
          "reduced": false,
          "time": 0.0015104665156250004
         },
         {
          "label": "dask",
          "n": 1,
          "reduced": false,
          "time": 0.001550031109374999
         },
         {
          "label": "dask",
          "n": 1,
          "reduced": false,
          "time": 0.0015435002421875007
         },
         {
          "label": "dask",
          "n": 1,
          "reduced": false,
          "time": 0.00154863584375
         },
         {
          "label": "dask",
          "n": 1,
          "reduced": false,
          "time": 0.0015237018515625
         },
         {
          "label": "dask",
          "n": 1,
          "reduced": false,
          "time": 0.0015410763593750008
         },
         {
          "label": "dask",
          "n": 1,
          "reduced": false,
          "time": 0.0015284789843750006
         },
         {
          "label": "dask",
          "n": 1,
          "reduced": false,
          "time": 0.0015375011249999992
         },
         {
          "label": "dask",
          "n": 1,
          "reduced": false,
          "time": 0.0015411553046874998
         },
         {
          "label": "dask",
          "n": 1,
          "reduced": false,
          "time": 0.0015240791953125
         },
         {
          "label": "dask",
          "n": 1,
          "reduced": false,
          "time": 0.0015255658281250004
         },
         {
          "label": "dask",
          "n": 1,
          "reduced": false,
          "time": 0.0014908556953124995
         },
         {
          "label": "dask",
          "n": 1,
          "reduced": false,
          "time": 0.0015392006953125004
         },
         {
          "label": "dask",
          "n": 1,
          "reduced": false,
          "time": 0.0015485273046875001
         },
         {
          "label": "dask",
          "n": 1,
          "reduced": false,
          "time": 0.0015199675000000003
         },
         {
          "label": "dask",
          "n": 1,
          "reduced": false,
          "time": 0.001548888921875
         },
         {
          "label": "dask",
          "n": 1,
          "reduced": false,
          "time": 0.0015183694921874994
         },
         {
          "label": "dask",
          "n": 1,
          "reduced": false,
          "time": 0.001536721171875
         },
         {
          "label": "dask",
          "n": 1,
          "reduced": false,
          "time": 0.0015424840781250006
         },
         {
          "label": "dask",
          "n": 1,
          "reduced": false,
          "time": 0.0015339612734375004
         },
         {
          "label": "dask",
          "n": 1,
          "reduced": false,
          "time": 0.001513356632812499
         },
         {
          "label": "dask",
          "n": 1,
          "reduced": false,
          "time": 0.00154189953125
         },
         {
          "label": "dask",
          "n": 1,
          "reduced": false,
          "time": 0.0015215854375000004
         },
         {
          "label": "dask",
          "n": 1,
          "reduced": false,
          "time": 0.0015464025546874996
         },
         {
          "label": "dask",
          "n": 1,
          "reduced": false,
          "time": 0.0015303919375000002
         },
         {
          "label": "dask",
          "n": 1,
          "reduced": false,
          "time": 0.0015322395390624998
         },
         {
          "label": "dask",
          "n": 1,
          "reduced": false,
          "time": 0.001538932640624999
         },
         {
          "label": "dask",
          "n": 1,
          "reduced": false,
          "time": 0.0015369612578124995
         },
         {
          "label": "dask",
          "n": 1,
          "reduced": false,
          "time": 0.0015146591015624995
         },
         {
          "label": "dask",
          "n": 1,
          "reduced": false,
          "time": 0.0015489677656249992
         },
         {
          "label": "dask",
          "n": 1,
          "reduced": false,
          "time": 0.0015639096328125
         },
         {
          "label": "dask",
          "n": 1,
          "reduced": false,
          "time": 0.0015347500625000005
         },
         {
          "label": "dask",
          "n": 1,
          "reduced": false,
          "time": 0.0015520993671875004
         },
         {
          "label": "dask",
          "n": 1,
          "reduced": false,
          "time": 0.0015227408984375005
         },
         {
          "label": "dask",
          "n": 1,
          "reduced": false,
          "time": 0.0015258754609375003
         },
         {
          "label": "dask",
          "n": 1,
          "reduced": false,
          "time": 0.0015163915312499995
         },
         {
          "label": "dask",
          "n": 1,
          "reduced": false,
          "time": 0.0015420093984375004
         },
         {
          "label": "dask",
          "n": 1,
          "reduced": false,
          "time": 0.0015483133984375
         },
         {
          "label": "dask",
          "n": 1,
          "reduced": false,
          "time": 0.001540846070312499
         },
         {
          "label": "dask",
          "n": 1,
          "reduced": false,
          "time": 0.0014896976953125002
         },
         {
          "label": "dask",
          "n": 1,
          "reduced": false,
          "time": 0.001544833640624999
         },
         {
          "label": "dask",
          "n": 1,
          "reduced": false,
          "time": 0.0014898454218750003
         },
         {
          "label": "dask",
          "n": 1,
          "reduced": false,
          "time": 0.0015345553437499998
         },
         {
          "label": "dask",
          "n": 1,
          "reduced": false,
          "time": 0.0015192855625000001
         },
         {
          "label": "dask",
          "n": 1,
          "reduced": false,
          "time": 0.0015322011953124992
         },
         {
          "label": "dask",
          "n": 1,
          "reduced": false,
          "time": 0.0015338861718750003
         },
         {
          "label": "dask",
          "n": 1,
          "reduced": false,
          "time": 0.0015462161249999995
         },
         {
          "label": "dask",
          "n": 1,
          "reduced": false,
          "time": 0.001531567585937501
         },
         {
          "label": "dask",
          "n": 1,
          "reduced": false,
          "time": 0.0015501571953125005
         },
         {
          "label": "dask",
          "n": 1,
          "reduced": false,
          "time": 0.0015160184296875
         },
         {
          "label": "dask",
          "n": 1,
          "reduced": false,
          "time": 0.0015384348984374997
         },
         {
          "label": "dask",
          "n": 1,
          "reduced": false,
          "time": 0.0015102754140624997
         },
         {
          "label": "dask",
          "n": 1,
          "reduced": false,
          "time": 0.0015111415000000003
         },
         {
          "label": "dask",
          "n": 1,
          "reduced": false,
          "time": 0.0015060111718750002
         },
         {
          "label": "dask",
          "n": 1,
          "reduced": false,
          "time": 0.0015553903828124998
         },
         {
          "label": "dask",
          "n": 1,
          "reduced": false,
          "time": 0.0015504720703125004
         },
         {
          "label": "dask",
          "n": 1,
          "reduced": false,
          "time": 0.0015415819140625012
         },
         {
          "label": "dask",
          "n": 1,
          "reduced": false,
          "time": 0.0015435307890624998
         },
         {
          "label": "dask",
          "n": 1,
          "reduced": false,
          "time": 0.0015300923281250005
         },
         {
          "label": "dask",
          "n": 1,
          "reduced": false,
          "time": 0.0015031397500000002
         },
         {
          "label": "dask",
          "n": 1,
          "reduced": false,
          "time": 0.0015240405703125003
         },
         {
          "label": "dask",
          "n": 1,
          "reduced": false,
          "time": 0.0015273804140624988
         },
         {
          "label": "dask",
          "n": 1,
          "reduced": false,
          "time": 0.0014959369296875004
         },
         {
          "label": "dask",
          "n": 1,
          "reduced": false,
          "time": 0.0015431100468749999
         },
         {
          "label": "dask",
          "n": 1,
          "reduced": false,
          "time": 0.0014743302421875003
         },
         {
          "label": "dask",
          "n": 1,
          "reduced": false,
          "time": 0.0015235553828124998
         },
         {
          "label": "dask",
          "n": 1,
          "reduced": false,
          "time": 0.0015065988203124998
         },
         {
          "label": "dask",
          "n": 1,
          "reduced": false,
          "time": 0.0015202507187499995
         },
         {
          "label": "dask",
          "n": 1,
          "reduced": false,
          "time": 0.0015496653125000003
         },
         {
          "label": "dask",
          "n": 1,
          "reduced": false,
          "time": 0.0015259975
         },
         {
          "label": "dask",
          "n": 1,
          "reduced": false,
          "time": 0.0015331940234374992
         },
         {
          "label": "dask",
          "n": 1,
          "reduced": false,
          "time": 0.0015395303046875
         },
         {
          "label": "dask",
          "n": 1,
          "reduced": false,
          "time": 0.0016083478593749995
         },
         {
          "label": "dask",
          "n": 1,
          "reduced": false,
          "time": 0.0016017774218750006
         },
         {
          "label": "dask",
          "n": 1,
          "reduced": false,
          "time": 0.0015960920234375005
         },
         {
          "label": "dask",
          "n": 1,
          "reduced": false,
          "time": 0.0016041616562499994
         },
         {
          "label": "dask",
          "n": 1,
          "reduced": false,
          "time": 0.0016060441171875002
         },
         {
          "label": "dask",
          "n": 1,
          "reduced": false,
          "time": 0.0016133024453124992
         },
         {
          "label": "dask",
          "n": 1,
          "reduced": false,
          "time": 0.0015897950624999997
         },
         {
          "label": "dask",
          "n": 1,
          "reduced": false,
          "time": 0.001588803578124999
         },
         {
          "label": "dask",
          "n": 1,
          "reduced": false,
          "time": 0.0015946272578125
         },
         {
          "label": "dask",
          "n": 1,
          "reduced": false,
          "time": 0.0015376126328125002
         },
         {
          "label": "dask",
          "n": 1,
          "reduced": false,
          "time": 0.001522277609374999
         },
         {
          "label": "dask",
          "n": 1,
          "reduced": false,
          "time": 0.001534168171875001
         },
         {
          "label": "dask",
          "n": 1,
          "reduced": false,
          "time": 0.0015457345624999997
         },
         {
          "label": "dask",
          "n": 1,
          "reduced": false,
          "time": 0.0015351488046875007
         },
         {
          "label": "dask",
          "n": 1,
          "reduced": false,
          "time": 0.0015377042187499999
         },
         {
          "label": "dask",
          "n": 1,
          "reduced": false,
          "time": 0.0016279775000000007
         },
         {
          "label": "dask",
          "n": 1,
          "reduced": false,
          "time": 0.00160689434375
         },
         {
          "label": "dask",
          "n": 1,
          "reduced": false,
          "time": 0.0016134409453125009
         },
         {
          "label": "dask",
          "n": 1,
          "reduced": false,
          "time": 0.0016344175625000006
         },
         {
          "label": "dask",
          "n": 1,
          "reduced": false,
          "time": 0.00162879109375
         },
         {
          "label": "dask",
          "n": 1,
          "reduced": false,
          "time": 0.0016398165625000002
         },
         {
          "label": "dask",
          "n": 1,
          "reduced": false,
          "time": 0.0015911639140625006
         },
         {
          "label": "dask",
          "n": 1,
          "reduced": false,
          "time": 0.001586090578125001
         },
         {
          "label": "dask",
          "n": 1,
          "reduced": false,
          "time": 0.0015691459375000005
         },
         {
          "label": "tensordot",
          "n": 100,
          "reduced": false,
          "time": 0.0003662601093749999
         },
         {
          "label": "tensordot",
          "n": 100,
          "reduced": false,
          "time": 0.0003734216503906247
         },
         {
          "label": "tensordot",
          "n": 100,
          "reduced": false,
          "time": 0.0003738512929687501
         },
         {
          "label": "tensordot",
          "n": 100,
          "reduced": false,
          "time": 0.0003772513144531249
         },
         {
          "label": "tensordot",
          "n": 100,
          "reduced": false,
          "time": 0.0003690910371093748
         },
         {
          "label": "tensordot",
          "n": 100,
          "reduced": false,
          "time": 0.00037755743750000036
         },
         {
          "label": "tensordot",
          "n": 100,
          "reduced": false,
          "time": 0.00037238603515625003
         },
         {
          "label": "tensordot",
          "n": 100,
          "reduced": false,
          "time": 0.0003707274804687498
         },
         {
          "label": "tensordot",
          "n": 100,
          "reduced": false,
          "time": 0.00037728793164062534
         },
         {
          "label": "tensordot",
          "n": 100,
          "reduced": false,
          "time": 0.00037891537109375
         },
         {
          "label": "tensordot",
          "n": 100,
          "reduced": false,
          "time": 0.0003766012578124999
         },
         {
          "label": "tensordot",
          "n": 100,
          "reduced": false,
          "time": 0.00037549900781250027
         },
         {
          "label": "tensordot",
          "n": 100,
          "reduced": false,
          "time": 0.0003770813847656248
         },
         {
          "label": "tensordot",
          "n": 100,
          "reduced": false,
          "time": 0.00037794373242187483
         },
         {
          "label": "tensordot",
          "n": 100,
          "reduced": false,
          "time": 0.00037305122070312516
         },
         {
          "label": "tensordot",
          "n": 100,
          "reduced": false,
          "time": 0.0003766669902343751
         },
         {
          "label": "tensordot",
          "n": 100,
          "reduced": false,
          "time": 0.0003771691269531248
         },
         {
          "label": "tensordot",
          "n": 100,
          "reduced": false,
          "time": 0.00037885422656249975
         },
         {
          "label": "tensordot",
          "n": 100,
          "reduced": false,
          "time": 0.000373281591796875
         },
         {
          "label": "tensordot",
          "n": 100,
          "reduced": false,
          "time": 0.00038082923828125026
         },
         {
          "label": "tensordot",
          "n": 100,
          "reduced": false,
          "time": 0.00037722787890625024
         },
         {
          "label": "tensordot",
          "n": 100,
          "reduced": false,
          "time": 0.000373888888671875
         },
         {
          "label": "tensordot",
          "n": 100,
          "reduced": false,
          "time": 0.0003663107988281251
         },
         {
          "label": "tensordot",
          "n": 100,
          "reduced": false,
          "time": 0.0003757698164062501
         },
         {
          "label": "tensordot",
          "n": 100,
          "reduced": false,
          "time": 0.0003778099570312498
         },
         {
          "label": "tensordot",
          "n": 100,
          "reduced": false,
          "time": 0.00037749907421874996
         },
         {
          "label": "tensordot",
          "n": 100,
          "reduced": false,
          "time": 0.0003775409062500004
         },
         {
          "label": "tensordot",
          "n": 100,
          "reduced": false,
          "time": 0.00037412065039062496
         },
         {
          "label": "tensordot",
          "n": 100,
          "reduced": false,
          "time": 0.00037395956445312496
         },
         {
          "label": "tensordot",
          "n": 100,
          "reduced": false,
          "time": 0.0003773371777343747
         },
         {
          "label": "tensordot",
          "n": 100,
          "reduced": false,
          "time": 0.00037489133984374996
         },
         {
          "label": "tensordot",
          "n": 100,
          "reduced": false,
          "time": 0.000376986244140625
         },
         {
          "label": "tensordot",
          "n": 100,
          "reduced": false,
          "time": 0.0003743896132812497
         },
         {
          "label": "tensordot",
          "n": 100,
          "reduced": false,
          "time": 0.0003733708320312499
         },
         {
          "label": "tensordot",
          "n": 100,
          "reduced": false,
          "time": 0.00037136350781249994
         },
         {
          "label": "tensordot",
          "n": 100,
          "reduced": false,
          "time": 0.0003617902187500002
         },
         {
          "label": "tensordot",
          "n": 100,
          "reduced": false,
          "time": 0.0003776583417968748
         },
         {
          "label": "tensordot",
          "n": 100,
          "reduced": false,
          "time": 0.0003721181484375
         },
         {
          "label": "tensordot",
          "n": 100,
          "reduced": false,
          "time": 0.0003675225429687497
         },
         {
          "label": "tensordot",
          "n": 100,
          "reduced": false,
          "time": 0.00037506515429687514
         },
         {
          "label": "tensordot",
          "n": 100,
          "reduced": false,
          "time": 0.0003780389218750002
         },
         {
          "label": "tensordot",
          "n": 100,
          "reduced": false,
          "time": 0.0003759631738281255
         },
         {
          "label": "tensordot",
          "n": 100,
          "reduced": false,
          "time": 0.0003757501874999999
         },
         {
          "label": "tensordot",
          "n": 100,
          "reduced": false,
          "time": 0.0003755405839843749
         },
         {
          "label": "tensordot",
          "n": 100,
          "reduced": false,
          "time": 0.0003773139589843752
         },
         {
          "label": "tensordot",
          "n": 100,
          "reduced": false,
          "time": 0.0003744290468750001
         },
         {
          "label": "tensordot",
          "n": 100,
          "reduced": false,
          "time": 0.0003779639570312501
         },
         {
          "label": "tensordot",
          "n": 100,
          "reduced": false,
          "time": 0.00037770424218749963
         },
         {
          "label": "tensordot",
          "n": 100,
          "reduced": false,
          "time": 0.00037895879882812516
         },
         {
          "label": "tensordot",
          "n": 100,
          "reduced": false,
          "time": 0.0003788413632812501
         },
         {
          "label": "tensordot",
          "n": 100,
          "reduced": false,
          "time": 0.00037724557226562466
         },
         {
          "label": "tensordot",
          "n": 100,
          "reduced": false,
          "time": 0.0003772278945312498
         },
         {
          "label": "tensordot",
          "n": 100,
          "reduced": false,
          "time": 0.0003804917988281249
         },
         {
          "label": "tensordot",
          "n": 100,
          "reduced": false,
          "time": 0.00038027026953125
         },
         {
          "label": "tensordot",
          "n": 100,
          "reduced": false,
          "time": 0.00037639925976562516
         },
         {
          "label": "tensordot",
          "n": 100,
          "reduced": false,
          "time": 0.0003735498730468752
         },
         {
          "label": "tensordot",
          "n": 100,
          "reduced": false,
          "time": 0.0003750743359375
         },
         {
          "label": "tensordot",
          "n": 100,
          "reduced": false,
          "time": 0.00037471867773437514
         },
         {
          "label": "tensordot",
          "n": 100,
          "reduced": false,
          "time": 0.00036990022265625004
         },
         {
          "label": "tensordot",
          "n": 100,
          "reduced": false,
          "time": 0.0003736779003906247
         },
         {
          "label": "tensordot",
          "n": 100,
          "reduced": false,
          "time": 0.0003737567851562502
         },
         {
          "label": "tensordot",
          "n": 100,
          "reduced": false,
          "time": 0.0003760899550781251
         },
         {
          "label": "tensordot",
          "n": 100,
          "reduced": false,
          "time": 0.0003636282246093749
         },
         {
          "label": "tensordot",
          "n": 100,
          "reduced": false,
          "time": 0.00037497764453125007
         },
         {
          "label": "tensordot",
          "n": 100,
          "reduced": false,
          "time": 0.0003757146582031249
         },
         {
          "label": "tensordot",
          "n": 100,
          "reduced": false,
          "time": 0.00037258660937499995
         },
         {
          "label": "tensordot",
          "n": 100,
          "reduced": false,
          "time": 0.0003755692265625002
         },
         {
          "label": "tensordot",
          "n": 100,
          "reduced": false,
          "time": 0.00036973031250000024
         },
         {
          "label": "tensordot",
          "n": 100,
          "reduced": false,
          "time": 0.0003685069492187498
         },
         {
          "label": "tensordot",
          "n": 100,
          "reduced": false,
          "time": 0.00037430653710937524
         },
         {
          "label": "tensordot",
          "n": 100,
          "reduced": false,
          "time": 0.00037685612695312516
         },
         {
          "label": "tensordot",
          "n": 100,
          "reduced": false,
          "time": 0.0003753367617187497
         },
         {
          "label": "tensordot",
          "n": 100,
          "reduced": false,
          "time": 0.00037878710937500016
         },
         {
          "label": "tensordot",
          "n": 100,
          "reduced": false,
          "time": 0.00036854773046875004
         },
         {
          "label": "tensordot",
          "n": 100,
          "reduced": false,
          "time": 0.00037929475195312484
         },
         {
          "label": "tensordot",
          "n": 100,
          "reduced": false,
          "time": 0.0003686876914062499
         },
         {
          "label": "tensordot",
          "n": 100,
          "reduced": false,
          "time": 0.0003700207167968749
         },
         {
          "label": "tensordot",
          "n": 100,
          "reduced": false,
          "time": 0.0003758373144531245
         },
         {
          "label": "tensordot",
          "n": 100,
          "reduced": false,
          "time": 0.0003767796992187502
         },
         {
          "label": "tensordot",
          "n": 100,
          "reduced": false,
          "time": 0.0003754057031249997
         },
         {
          "label": "tensordot",
          "n": 100,
          "reduced": false,
          "time": 0.0003751900195312504
         },
         {
          "label": "tensordot",
          "n": 100,
          "reduced": false,
          "time": 0.00037348094726562513
         },
         {
          "label": "tensordot",
          "n": 100,
          "reduced": false,
          "time": 0.00037611378710937504
         },
         {
          "label": "tensordot",
          "n": 100,
          "reduced": false,
          "time": 0.00037578640039062465
         },
         {
          "label": "tensordot",
          "n": 100,
          "reduced": false,
          "time": 0.00038106838671875015
         },
         {
          "label": "tensordot",
          "n": 100,
          "reduced": false,
          "time": 0.00037916081835937497
         },
         {
          "label": "tensordot",
          "n": 100,
          "reduced": false,
          "time": 0.00037559996289062477
         },
         {
          "label": "tensordot",
          "n": 100,
          "reduced": false,
          "time": 0.0003704682148437503
         },
         {
          "label": "tensordot",
          "n": 100,
          "reduced": false,
          "time": 0.0003747799003906249
         },
         {
          "label": "tensordot",
          "n": 100,
          "reduced": false,
          "time": 0.00037528937890625013
         },
         {
          "label": "tensordot",
          "n": 100,
          "reduced": false,
          "time": 0.00037867116796875015
         },
         {
          "label": "tensordot",
          "n": 100,
          "reduced": false,
          "time": 0.00037506038867187504
         },
         {
          "label": "tensordot",
          "n": 100,
          "reduced": false,
          "time": 0.0003769660742187495
         },
         {
          "label": "tensordot",
          "n": 100,
          "reduced": false,
          "time": 0.00037795456640625003
         },
         {
          "label": "tensordot",
          "n": 100,
          "reduced": false,
          "time": 0.0003766923906250003
         },
         {
          "label": "tensordot",
          "n": 100,
          "reduced": false,
          "time": 0.0003760257968749999
         },
         {
          "label": "tensordot",
          "n": 100,
          "reduced": false,
          "time": 0.0003759156171875002
         },
         {
          "label": "tensordot",
          "n": 100,
          "reduced": false,
          "time": 0.0003710082617187499
         },
         {
          "label": "tensordot",
          "n": 100,
          "reduced": false,
          "time": 0.0003756796992187496
         },
         {
          "label": "tensordot",
          "n": 100,
          "reduced": false,
          "time": 0.00037670878320312487
         },
         {
          "label": "tensordot",
          "n": 100,
          "reduced": false,
          "time": 0.00037581283007812527
         },
         {
          "label": "tensordot",
          "n": 100,
          "reduced": false,
          "time": 0.00037518265234375014
         },
         {
          "label": "tensordot",
          "n": 100,
          "reduced": false,
          "time": 0.0003807900566406249
         },
         {
          "label": "tensordot",
          "n": 100,
          "reduced": false,
          "time": 0.00037589343359374985
         },
         {
          "label": "tensordot",
          "n": 100,
          "reduced": false,
          "time": 0.00037536969921875057
         },
         {
          "label": "tensordot",
          "n": 100,
          "reduced": false,
          "time": 0.0003795761796875001
         },
         {
          "label": "tensordot",
          "n": 100,
          "reduced": false,
          "time": 0.0003795355410156254
         },
         {
          "label": "tensordot",
          "n": 100,
          "reduced": false,
          "time": 0.00037737096679687446
         },
         {
          "label": "tensordot",
          "n": 100,
          "reduced": false,
          "time": 0.000365331443359375
         },
         {
          "label": "tensordot",
          "n": 100,
          "reduced": false,
          "time": 0.00037361628906249986
         },
         {
          "label": "tensordot",
          "n": 100,
          "reduced": false,
          "time": 0.00036996525585937523
         },
         {
          "label": "tensordot",
          "n": 100,
          "reduced": false,
          "time": 0.000378332111328125
         },
         {
          "label": "tensordot",
          "n": 100,
          "reduced": false,
          "time": 0.0003685989746093749
         },
         {
          "label": "tensordot",
          "n": 100,
          "reduced": false,
          "time": 0.0003756563125000005
         },
         {
          "label": "tensordot",
          "n": 100,
          "reduced": false,
          "time": 0.00037767611523437496
         },
         {
          "label": "tensordot",
          "n": 100,
          "reduced": false,
          "time": 0.00037800595507812493
         },
         {
          "label": "tensordot",
          "n": 100,
          "reduced": false,
          "time": 0.0003786144980468748
         },
         {
          "label": "tensordot",
          "n": 100,
          "reduced": false,
          "time": 0.0003671441347656251
         },
         {
          "label": "tensordot",
          "n": 100,
          "reduced": false,
          "time": 0.0003733478867187501
         },
         {
          "label": "tensordot",
          "n": 100,
          "reduced": false,
          "time": 0.00037600688085937537
         },
         {
          "label": "tensordot",
          "n": 1,
          "reduced": true,
          "time": 2.628753955078125e-05
         },
         {
          "label": "tensordot",
          "n": 1,
          "reduced": true,
          "time": 2.6329238281249995e-05
         },
         {
          "label": "tensordot",
          "n": 1,
          "reduced": true,
          "time": 2.6165333251953137e-05
         },
         {
          "label": "tensordot",
          "n": 1,
          "reduced": true,
          "time": 2.5101682617187495e-05
         },
         {
          "label": "tensordot",
          "n": 1,
          "reduced": true,
          "time": 2.4867681884765616e-05
         },
         {
          "label": "tensordot",
          "n": 1,
          "reduced": true,
          "time": 2.502706079101563e-05
         },
         {
          "label": "tensordot",
          "n": 1,
          "reduced": true,
          "time": 2.5308991210937502e-05
         },
         {
          "label": "tensordot",
          "n": 1,
          "reduced": true,
          "time": 2.5798794921874987e-05
         },
         {
          "label": "tensordot",
          "n": 1,
          "reduced": true,
          "time": 2.592982568359375e-05
         },
         {
          "label": "tensordot",
          "n": 1,
          "reduced": true,
          "time": 2.613937109375001e-05
         },
         {
          "label": "tensordot",
          "n": 1,
          "reduced": true,
          "time": 2.596641577148438e-05
         },
         {
          "label": "tensordot",
          "n": 1,
          "reduced": true,
          "time": 2.5911916992187495e-05
         },
         {
          "label": "tensordot",
          "n": 1,
          "reduced": true,
          "time": 2.5678413574218756e-05
         },
         {
          "label": "tensordot",
          "n": 1,
          "reduced": true,
          "time": 2.600661010742188e-05
         },
         {
          "label": "tensordot",
          "n": 1,
          "reduced": true,
          "time": 2.5999211181640622e-05
         },
         {
          "label": "tensordot",
          "n": 1,
          "reduced": true,
          "time": 2.6077403808593742e-05
         },
         {
          "label": "tensordot",
          "n": 1,
          "reduced": true,
          "time": 2.571691821289062e-05
         },
         {
          "label": "tensordot",
          "n": 1,
          "reduced": true,
          "time": 2.589183984374999e-05
         },
         {
          "label": "tensordot",
          "n": 1,
          "reduced": true,
          "time": 2.6174913085937504e-05
         },
         {
          "label": "tensordot",
          "n": 1,
          "reduced": true,
          "time": 2.605675537109374e-05
         },
         {
          "label": "tensordot",
          "n": 1,
          "reduced": true,
          "time": 2.596572949218751e-05
         },
         {
          "label": "tensordot",
          "n": 1,
          "reduced": true,
          "time": 2.6123975830078127e-05
         },
         {
          "label": "tensordot",
          "n": 1,
          "reduced": true,
          "time": 2.615228466796874e-05
         },
         {
          "label": "tensordot",
          "n": 1,
          "reduced": true,
          "time": 2.553396142578126e-05
         },
         {
          "label": "tensordot",
          "n": 1,
          "reduced": true,
          "time": 2.5963575927734372e-05
         },
         {
          "label": "tensordot",
          "n": 1,
          "reduced": true,
          "time": 2.592511669921875e-05
         },
         {
          "label": "tensordot",
          "n": 1,
          "reduced": true,
          "time": 2.621515917968749e-05
         },
         {
          "label": "tensordot",
          "n": 1,
          "reduced": true,
          "time": 2.6538272216796883e-05
         },
         {
          "label": "tensordot",
          "n": 1,
          "reduced": true,
          "time": 2.6281405517578123e-05
         },
         {
          "label": "tensordot",
          "n": 1,
          "reduced": true,
          "time": 2.6456448974609368e-05
         },
         {
          "label": "tensordot",
          "n": 1,
          "reduced": true,
          "time": 2.5953080810546867e-05
         },
         {
          "label": "tensordot",
          "n": 1,
          "reduced": true,
          "time": 2.6084886718749997e-05
         },
         {
          "label": "tensordot",
          "n": 1,
          "reduced": true,
          "time": 2.6214009033203117e-05
         },
         {
          "label": "tensordot",
          "n": 1,
          "reduced": true,
          "time": 2.618383496093751e-05
         },
         {
          "label": "tensordot",
          "n": 1,
          "reduced": true,
          "time": 2.6132804931640628e-05
         },
         {
          "label": "tensordot",
          "n": 1,
          "reduced": true,
          "time": 2.592591015624999e-05
         },
         {
          "label": "tensordot",
          "n": 1,
          "reduced": true,
          "time": 2.6648134277343754e-05
         },
         {
          "label": "tensordot",
          "n": 1,
          "reduced": true,
          "time": 2.6679905273437504e-05
         },
         {
          "label": "tensordot",
          "n": 1,
          "reduced": true,
          "time": 2.652121337890626e-05
         },
         {
          "label": "tensordot",
          "n": 1,
          "reduced": true,
          "time": 2.585660278320313e-05
         },
         {
          "label": "tensordot",
          "n": 1,
          "reduced": true,
          "time": 2.5691616943359377e-05
         },
         {
          "label": "tensordot",
          "n": 1,
          "reduced": true,
          "time": 2.5960550048828115e-05
         },
         {
          "label": "tensordot",
          "n": 1,
          "reduced": true,
          "time": 2.6792392822265625e-05
         },
         {
          "label": "tensordot",
          "n": 1,
          "reduced": true,
          "time": 2.6715641113281242e-05
         },
         {
          "label": "tensordot",
          "n": 1,
          "reduced": true,
          "time": 2.6860244140625018e-05
         },
         {
          "label": "tensordot",
          "n": 1,
          "reduced": true,
          "time": 2.536996875e-05
         },
         {
          "label": "tensordot",
          "n": 1,
          "reduced": true,
          "time": 2.5789048339843745e-05
         },
         {
          "label": "tensordot",
          "n": 1,
          "reduced": true,
          "time": 2.5484792968750005e-05
         },
         {
          "label": "tensordot",
          "n": 1,
          "reduced": true,
          "time": 2.577312890625e-05
         },
         {
          "label": "tensordot",
          "n": 1,
          "reduced": true,
          "time": 2.5747341064453124e-05
         },
         {
          "label": "tensordot",
          "n": 1,
          "reduced": true,
          "time": 2.578111254882813e-05
         },
         {
          "label": "tensordot",
          "n": 1,
          "reduced": true,
          "time": 2.6265468017578123e-05
         },
         {
          "label": "tensordot",
          "n": 1,
          "reduced": true,
          "time": 2.6143106201171877e-05
         },
         {
          "label": "tensordot",
          "n": 1,
          "reduced": true,
          "time": 2.6061362792968756e-05
         },
         {
          "label": "tensordot",
          "n": 1,
          "reduced": true,
          "time": 2.6528370849609377e-05
         },
         {
          "label": "tensordot",
          "n": 1,
          "reduced": true,
          "time": 2.643497387695312e-05
         },
         {
          "label": "tensordot",
          "n": 1,
          "reduced": true,
          "time": 2.677912377929688e-05
         },
         {
          "label": "tensordot",
          "n": 1,
          "reduced": true,
          "time": 2.7387505371093756e-05
         },
         {
          "label": "tensordot",
          "n": 1,
          "reduced": true,
          "time": 2.7343547119140627e-05
         },
         {
          "label": "tensordot",
          "n": 1,
          "reduced": true,
          "time": 2.7331035644531258e-05
         },
         {
          "label": "tensordot",
          "n": 1,
          "reduced": true,
          "time": 2.611499902343749e-05
         },
         {
          "label": "tensordot",
          "n": 1,
          "reduced": true,
          "time": 2.6017029785156253e-05
         },
         {
          "label": "tensordot",
          "n": 1,
          "reduced": true,
          "time": 2.600165624999999e-05
         },
         {
          "label": "tensordot",
          "n": 1,
          "reduced": true,
          "time": 2.5388154541015627e-05
         },
         {
          "label": "tensordot",
          "n": 1,
          "reduced": true,
          "time": 2.5214613037109377e-05
         },
         {
          "label": "tensordot",
          "n": 1,
          "reduced": true,
          "time": 2.5799540771484383e-05
         },
         {
          "label": "tensordot",
          "n": 1,
          "reduced": true,
          "time": 2.6595416748046878e-05
         },
         {
          "label": "tensordot",
          "n": 1,
          "reduced": true,
          "time": 2.6853553955078134e-05
         },
         {
          "label": "tensordot",
          "n": 1,
          "reduced": true,
          "time": 2.6767500000000004e-05
         },
         {
          "label": "tensordot",
          "n": 1,
          "reduced": true,
          "time": 2.5905145263671877e-05
         },
         {
          "label": "tensordot",
          "n": 1,
          "reduced": true,
          "time": 2.6142378173828117e-05
         },
         {
          "label": "tensordot",
          "n": 1,
          "reduced": true,
          "time": 2.6204211914062492e-05
         },
         {
          "label": "tensordot",
          "n": 1,
          "reduced": true,
          "time": 2.693317236328125e-05
         },
         {
          "label": "tensordot",
          "n": 1,
          "reduced": true,
          "time": 2.6826976806640623e-05
         },
         {
          "label": "tensordot",
          "n": 1,
          "reduced": true,
          "time": 2.6715918701171877e-05
         },
         {
          "label": "tensordot",
          "n": 1,
          "reduced": true,
          "time": 2.537792529296875e-05
         },
         {
          "label": "tensordot",
          "n": 1,
          "reduced": true,
          "time": 2.533303979492187e-05
         },
         {
          "label": "tensordot",
          "n": 1,
          "reduced": true,
          "time": 2.5796086425781254e-05
         },
         {
          "label": "tensordot",
          "n": 1,
          "reduced": true,
          "time": 2.5763565185546873e-05
         },
         {
          "label": "tensordot",
          "n": 1,
          "reduced": true,
          "time": 2.583117089843751e-05
         },
         {
          "label": "tensordot",
          "n": 1,
          "reduced": true,
          "time": 2.5801708007812486e-05
         },
         {
          "label": "tensordot",
          "n": 1,
          "reduced": true,
          "time": 2.558082153320313e-05
         },
         {
          "label": "tensordot",
          "n": 1,
          "reduced": true,
          "time": 2.5523248046874998e-05
         },
         {
          "label": "tensordot",
          "n": 1,
          "reduced": true,
          "time": 2.540173168945311e-05
         },
         {
          "label": "tensordot",
          "n": 1,
          "reduced": true,
          "time": 2.72438974609375e-05
         },
         {
          "label": "tensordot",
          "n": 1,
          "reduced": true,
          "time": 2.7380512451171868e-05
         },
         {
          "label": "tensordot",
          "n": 1,
          "reduced": true,
          "time": 2.6956087402343762e-05
         },
         {
          "label": "tensordot",
          "n": 1,
          "reduced": true,
          "time": 2.5139389648437503e-05
         },
         {
          "label": "tensordot",
          "n": 1,
          "reduced": true,
          "time": 2.5165098632812496e-05
         },
         {
          "label": "tensordot",
          "n": 1,
          "reduced": true,
          "time": 2.5275919189453127e-05
         },
         {
          "label": "tensordot",
          "n": 1,
          "reduced": true,
          "time": 2.5550783447265624e-05
         },
         {
          "label": "tensordot",
          "n": 1,
          "reduced": true,
          "time": 2.5575276367187502e-05
         },
         {
          "label": "tensordot",
          "n": 1,
          "reduced": true,
          "time": 2.555507519531251e-05
         },
         {
          "label": "tensordot",
          "n": 1,
          "reduced": true,
          "time": 2.6357644775390623e-05
         },
         {
          "label": "tensordot",
          "n": 1,
          "reduced": true,
          "time": 2.6467633544921876e-05
         },
         {
          "label": "tensordot",
          "n": 1,
          "reduced": true,
          "time": 2.634997363281249e-05
         },
         {
          "label": "tensordot",
          "n": 1,
          "reduced": true,
          "time": 2.547118481445313e-05
         },
         {
          "label": "tensordot",
          "n": 1,
          "reduced": true,
          "time": 2.545918139648437e-05
         },
         {
          "label": "tensordot",
          "n": 1,
          "reduced": true,
          "time": 2.545137573242187e-05
         },
         {
          "label": "tensordot",
          "n": 1,
          "reduced": true,
          "time": 2.6268549072265627e-05
         },
         {
          "label": "tensordot",
          "n": 1,
          "reduced": true,
          "time": 2.6198795898437497e-05
         },
         {
          "label": "tensordot",
          "n": 1,
          "reduced": true,
          "time": 2.6288908203125013e-05
         },
         {
          "label": "tensordot",
          "n": 1,
          "reduced": true,
          "time": 2.7230549316406254e-05
         },
         {
          "label": "tensordot",
          "n": 1,
          "reduced": true,
          "time": 2.6837797119140633e-05
         },
         {
          "label": "tensordot",
          "n": 1,
          "reduced": true,
          "time": 2.734841137695313e-05
         },
         {
          "label": "tensordot",
          "n": 1,
          "reduced": true,
          "time": 2.6174232177734365e-05
         },
         {
          "label": "tensordot",
          "n": 1,
          "reduced": true,
          "time": 2.6085891601562497e-05
         },
         {
          "label": "tensordot",
          "n": 1,
          "reduced": true,
          "time": 2.5850584472656245e-05
         },
         {
          "label": "tensordot",
          "n": 1,
          "reduced": true,
          "time": 2.5646200683593744e-05
         },
         {
          "label": "tensordot",
          "n": 1,
          "reduced": true,
          "time": 2.6091685302734378e-05
         },
         {
          "label": "tensordot",
          "n": 1,
          "reduced": true,
          "time": 2.5958660156250003e-05
         },
         {
          "label": "tensordot",
          "n": 1,
          "reduced": true,
          "time": 2.502710766601562e-05
         },
         {
          "label": "tensordot",
          "n": 1,
          "reduced": true,
          "time": 2.5159478515625e-05
         },
         {
          "label": "tensordot",
          "n": 1,
          "reduced": true,
          "time": 2.535930224609374e-05
         },
         {
          "label": "tensordot",
          "n": 1,
          "reduced": true,
          "time": 2.562646801757813e-05
         },
         {
          "label": "tensordot",
          "n": 1,
          "reduced": true,
          "time": 2.530441357421875e-05
         },
         {
          "label": "tensordot",
          "n": 1,
          "reduced": true,
          "time": 2.5493162597656254e-05
         },
         {
          "label": "tensordot",
          "n": 1,
          "reduced": true,
          "time": 2.533281665039063e-05
         },
         {
          "label": "tensordot",
          "n": 1,
          "reduced": true,
          "time": 2.4843595458984372e-05
         },
         {
          "label": "tensordot",
          "n": 1,
          "reduced": true,
          "time": 2.5277134277343756e-05
         },
         {
          "label": "dask",
          "n": 400,
          "reduced": false,
          "time": 0.8270203430000009
         },
         {
          "label": "dask",
          "n": 400,
          "reduced": false,
          "time": 0.8017246839999999
         },
         {
          "label": "dask",
          "n": 400,
          "reduced": false,
          "time": 0.7888388499999905
         },
         {
          "label": "dask",
          "n": 400,
          "reduced": false,
          "time": 0.835644859999995
         },
         {
          "label": "dask",
          "n": 400,
          "reduced": false,
          "time": 0.8261059260000039
         },
         {
          "label": "dask",
          "n": 400,
          "reduced": false,
          "time": 0.8029544949999945
         },
         {
          "label": "dask",
          "n": 400,
          "reduced": false,
          "time": 0.8094120219999965
         },
         {
          "label": "dask",
          "n": 400,
          "reduced": false,
          "time": 0.820424961999997
         },
         {
          "label": "dask",
          "n": 400,
          "reduced": false,
          "time": 0.8126181420000052
         },
         {
          "label": "dask",
          "n": 400,
          "reduced": false,
          "time": 0.8408698869999967
         },
         {
          "label": "dask",
          "n": 400,
          "reduced": false,
          "time": 0.8310361589999999
         },
         {
          "label": "dask",
          "n": 400,
          "reduced": false,
          "time": 0.8285980929999965
         },
         {
          "label": "dask",
          "n": 400,
          "reduced": false,
          "time": 0.8588776570000007
         },
         {
          "label": "dask",
          "n": 400,
          "reduced": false,
          "time": 0.8224981680000027
         },
         {
          "label": "dask",
          "n": 400,
          "reduced": false,
          "time": 0.8125162909999943
         },
         {
          "label": "dask",
          "n": 400,
          "reduced": false,
          "time": 0.8534519489999965
         },
         {
          "label": "dask",
          "n": 400,
          "reduced": false,
          "time": 0.8214437820000029
         },
         {
          "label": "dask",
          "n": 400,
          "reduced": false,
          "time": 0.8151332709999934
         },
         {
          "label": "dask",
          "n": 400,
          "reduced": false,
          "time": 0.8569082389999991
         },
         {
          "label": "dask",
          "n": 400,
          "reduced": false,
          "time": 0.794500511999999
         },
         {
          "label": "dask",
          "n": 400,
          "reduced": false,
          "time": 0.8220503569999948
         },
         {
          "label": "dask",
          "n": 400,
          "reduced": false,
          "time": 0.8729628709999986
         },
         {
          "label": "dask",
          "n": 400,
          "reduced": false,
          "time": 0.8207221790000006
         },
         {
          "label": "dask",
          "n": 400,
          "reduced": false,
          "time": 0.8155675950000045
         },
         {
          "label": "dask",
          "n": 400,
          "reduced": false,
          "time": 0.8305939710000061
         },
         {
          "label": "dask",
          "n": 400,
          "reduced": false,
          "time": 0.8080888750000028
         },
         {
          "label": "dask",
          "n": 400,
          "reduced": false,
          "time": 0.8096111230000105
         },
         {
          "label": "dask",
          "n": 400,
          "reduced": false,
          "time": 0.8950724409999964
         },
         {
          "label": "dask",
          "n": 400,
          "reduced": false,
          "time": 0.8190153489999972
         },
         {
          "label": "dask",
          "n": 400,
          "reduced": false,
          "time": 0.8211306979999904
         },
         {
          "label": "dask",
          "n": 400,
          "reduced": false,
          "time": 0.8143697369999998
         },
         {
          "label": "dask",
          "n": 400,
          "reduced": false,
          "time": 0.8444285260000015
         },
         {
          "label": "dask",
          "n": 400,
          "reduced": false,
          "time": 0.8199317790000009
         },
         {
          "label": "dask",
          "n": 400,
          "reduced": false,
          "time": 0.8132393550000003
         },
         {
          "label": "dask",
          "n": 400,
          "reduced": false,
          "time": 0.8066023820000012
         },
         {
          "label": "dask",
          "n": 400,
          "reduced": false,
          "time": 0.7945476359999901
         },
         {
          "label": "dask",
          "n": 400,
          "reduced": false,
          "time": 0.8094443439999992
         },
         {
          "label": "dask",
          "n": 400,
          "reduced": false,
          "time": 0.8085197710000003
         },
         {
          "label": "dask",
          "n": 400,
          "reduced": false,
          "time": 0.820096043999996
         },
         {
          "label": "dask",
          "n": 400,
          "reduced": false,
          "time": 0.8357610099999988
         },
         {
          "label": "dask",
          "n": 400,
          "reduced": false,
          "time": 0.7869958949999969
         },
         {
          "label": "dask",
          "n": 400,
          "reduced": false,
          "time": 0.7896899210000043
         },
         {
          "label": "dask",
          "n": 400,
          "reduced": false,
          "time": 0.8372469310000028
         },
         {
          "label": "dask",
          "n": 400,
          "reduced": false,
          "time": 0.8036486369999949
         },
         {
          "label": "dask",
          "n": 400,
          "reduced": false,
          "time": 0.7990264139999965
         },
         {
          "label": "dask",
          "n": 400,
          "reduced": false,
          "time": 0.8644289009999966
         },
         {
          "label": "dask",
          "n": 400,
          "reduced": false,
          "time": 0.816665460000003
         },
         {
          "label": "dask",
          "n": 400,
          "reduced": false,
          "time": 0.8180804489999929
         },
         {
          "label": "dask",
          "n": 400,
          "reduced": false,
          "time": 0.8070484330000056
         },
         {
          "label": "dask",
          "n": 400,
          "reduced": false,
          "time": 0.8099071700000025
         },
         {
          "label": "dask",
          "n": 400,
          "reduced": false,
          "time": 0.8030529210000026
         },
         {
          "label": "dask",
          "n": 400,
          "reduced": false,
          "time": 0.8450651550000003
         },
         {
          "label": "dask",
          "n": 400,
          "reduced": false,
          "time": 0.8023268369999954
         },
         {
          "label": "dask",
          "n": 400,
          "reduced": false,
          "time": 0.7913742930000041
         },
         {
          "label": "dask",
          "n": 400,
          "reduced": false,
          "time": 0.8464450810000059
         },
         {
          "label": "dask",
          "n": 400,
          "reduced": false,
          "time": 0.8335848349999964
         },
         {
          "label": "dask",
          "n": 400,
          "reduced": false,
          "time": 0.833438117
         },
         {
          "label": "dask",
          "n": 400,
          "reduced": false,
          "time": 0.8505162470000016
         },
         {
          "label": "dask",
          "n": 400,
          "reduced": false,
          "time": 0.8135273980000051
         },
         {
          "label": "dask",
          "n": 400,
          "reduced": false,
          "time": 0.7795910600000013
         },
         {
          "label": "dask",
          "n": 400,
          "reduced": false,
          "time": 0.8187390410000006
         },
         {
          "label": "dask",
          "n": 400,
          "reduced": false,
          "time": 0.8103460499999997
         },
         {
          "label": "dask",
          "n": 400,
          "reduced": false,
          "time": 0.8078363489999987
         },
         {
          "label": "dask",
          "n": 400,
          "reduced": false,
          "time": 0.8349524670000008
         },
         {
          "label": "dask",
          "n": 400,
          "reduced": false,
          "time": 0.8233484900000008
         },
         {
          "label": "dask",
          "n": 400,
          "reduced": false,
          "time": 0.8190463669999986
         },
         {
          "label": "dask",
          "n": 400,
          "reduced": false,
          "time": 0.8006024609999969
         },
         {
          "label": "dask",
          "n": 400,
          "reduced": false,
          "time": 0.784057532999995
         },
         {
          "label": "dask",
          "n": 400,
          "reduced": false,
          "time": 0.7816517719999894
         },
         {
          "label": "dask",
          "n": 400,
          "reduced": false,
          "time": 0.8542541149999963
         },
         {
          "label": "dask",
          "n": 400,
          "reduced": false,
          "time": 0.7895246279999952
         },
         {
          "label": "dask",
          "n": 400,
          "reduced": false,
          "time": 0.798775741
         },
         {
          "label": "dask",
          "n": 400,
          "reduced": false,
          "time": 0.8566056189999998
         },
         {
          "label": "dask",
          "n": 400,
          "reduced": false,
          "time": 0.8265024150000002
         },
         {
          "label": "dask",
          "n": 400,
          "reduced": false,
          "time": 0.8183606229999896
         },
         {
          "label": "dask",
          "n": 400,
          "reduced": false,
          "time": 0.8451669349999946
         },
         {
          "label": "dask",
          "n": 400,
          "reduced": false,
          "time": 0.8047750059999998
         },
         {
          "label": "dask",
          "n": 400,
          "reduced": false,
          "time": 0.8010000959999957
         },
         {
          "label": "dask",
          "n": 400,
          "reduced": false,
          "time": 0.8255769659999999
         },
         {
          "label": "dask",
          "n": 400,
          "reduced": false,
          "time": 0.8089858550000031
         },
         {
          "label": "dask",
          "n": 400,
          "reduced": false,
          "time": 0.8098070009999958
         },
         {
          "label": "dask",
          "n": 400,
          "reduced": false,
          "time": 0.8399544429999963
         },
         {
          "label": "dask",
          "n": 400,
          "reduced": false,
          "time": 0.8190107340000026
         },
         {
          "label": "dask",
          "n": 400,
          "reduced": false,
          "time": 0.8218624109999979
         },
         {
          "label": "dask",
          "n": 400,
          "reduced": false,
          "time": 0.8419617939999995
         },
         {
          "label": "dask",
          "n": 400,
          "reduced": false,
          "time": 0.8124371640000021
         },
         {
          "label": "dask",
          "n": 400,
          "reduced": false,
          "time": 0.8219378560000052
         },
         {
          "label": "dask",
          "n": 400,
          "reduced": false,
          "time": 0.829614828000004
         },
         {
          "label": "dask",
          "n": 400,
          "reduced": false,
          "time": 0.8266899950000024
         },
         {
          "label": "dask",
          "n": 400,
          "reduced": false,
          "time": 0.8023906030000063
         },
         {
          "label": "dask",
          "n": 400,
          "reduced": false,
          "time": 0.8466150540000044
         },
         {
          "label": "dask",
          "n": 400,
          "reduced": false,
          "time": 0.8129871849999972
         },
         {
          "label": "dask",
          "n": 400,
          "reduced": false,
          "time": 0.8023394530000019
         },
         {
          "label": "dask",
          "n": 400,
          "reduced": false,
          "time": 0.8036596059999965
         },
         {
          "label": "dask",
          "n": 400,
          "reduced": false,
          "time": 0.788204774999997
         },
         {
          "label": "dask",
          "n": 400,
          "reduced": false,
          "time": 0.7813856539999904
         },
         {
          "label": "dask",
          "n": 400,
          "reduced": false,
          "time": 0.8788038159999942
         },
         {
          "label": "dask",
          "n": 400,
          "reduced": false,
          "time": 0.8224290440000033
         },
         {
          "label": "dask",
          "n": 400,
          "reduced": false,
          "time": 0.7974361759999908
         },
         {
          "label": "dask",
          "n": 400,
          "reduced": false,
          "time": 0.8412911100000002
         },
         {
          "label": "dask",
          "n": 400,
          "reduced": false,
          "time": 0.7954697609999997
         },
         {
          "label": "dask",
          "n": 400,
          "reduced": false,
          "time": 0.7990142569999961
         },
         {
          "label": "dask",
          "n": 400,
          "reduced": false,
          "time": 0.878183963000005
         },
         {
          "label": "dask",
          "n": 400,
          "reduced": false,
          "time": 0.8225630270000011
         },
         {
          "label": "dask",
          "n": 400,
          "reduced": false,
          "time": 0.815762327999991
         },
         {
          "label": "dask",
          "n": 400,
          "reduced": false,
          "time": 0.8233396769999999
         },
         {
          "label": "dask",
          "n": 400,
          "reduced": false,
          "time": 0.8053701979999985
         },
         {
          "label": "dask",
          "n": 400,
          "reduced": false,
          "time": 0.7850851030000001
         },
         {
          "label": "dask",
          "n": 400,
          "reduced": false,
          "time": 0.8210731929999966
         },
         {
          "label": "dask",
          "n": 400,
          "reduced": false,
          "time": 0.7867907389999971
         },
         {
          "label": "dask",
          "n": 400,
          "reduced": false,
          "time": 0.7754276699999991
         },
         {
          "label": "dask",
          "n": 400,
          "reduced": false,
          "time": 0.8478705639999973
         },
         {
          "label": "dask",
          "n": 400,
          "reduced": false,
          "time": 0.8000755779999977
         },
         {
          "label": "dask",
          "n": 400,
          "reduced": false,
          "time": 0.8060195300000004
         },
         {
          "label": "dask",
          "n": 400,
          "reduced": false,
          "time": 0.8351823459999963
         },
         {
          "label": "dask",
          "n": 400,
          "reduced": false,
          "time": 0.8070405980000004
         },
         {
          "label": "dask",
          "n": 400,
          "reduced": false,
          "time": 0.8056870040000064
         },
         {
          "label": "dask",
          "n": 400,
          "reduced": false,
          "time": 0.8519739159999986
         },
         {
          "label": "dask",
          "n": 400,
          "reduced": false,
          "time": 0.800488688999998
         },
         {
          "label": "dask",
          "n": 400,
          "reduced": false,
          "time": 0.816986147999998
         },
         {
          "label": "dask",
          "n": 400,
          "reduced": true,
          "time": 0.824746986000001
         },
         {
          "label": "dask",
          "n": 400,
          "reduced": true,
          "time": 0.7868968560000056
         },
         {
          "label": "dask",
          "n": 400,
          "reduced": true,
          "time": 0.8182280369999972
         },
         {
          "label": "dask",
          "n": 400,
          "reduced": true,
          "time": 0.8679015969999995
         },
         {
          "label": "dask",
          "n": 400,
          "reduced": true,
          "time": 0.8152545149999995
         },
         {
          "label": "dask",
          "n": 400,
          "reduced": true,
          "time": 0.8071716970000011
         },
         {
          "label": "dask",
          "n": 400,
          "reduced": true,
          "time": 0.8711371109999959
         },
         {
          "label": "dask",
          "n": 400,
          "reduced": true,
          "time": 0.8171774640000038
         },
         {
          "label": "dask",
          "n": 400,
          "reduced": true,
          "time": 0.799969001000008
         },
         {
          "label": "dask",
          "n": 400,
          "reduced": true,
          "time": 0.8209956110000007
         },
         {
          "label": "dask",
          "n": 400,
          "reduced": true,
          "time": 0.8186263139999994
         },
         {
          "label": "dask",
          "n": 400,
          "reduced": true,
          "time": 0.8134460969999964
         },
         {
          "label": "dask",
          "n": 400,
          "reduced": true,
          "time": 0.8396632170000018
         },
         {
          "label": "dask",
          "n": 400,
          "reduced": true,
          "time": 0.7965011080000011
         },
         {
          "label": "dask",
          "n": 400,
          "reduced": true,
          "time": 0.7956983410000049
         },
         {
          "label": "dask",
          "n": 400,
          "reduced": true,
          "time": 0.7986035030000025
         },
         {
          "label": "dask",
          "n": 400,
          "reduced": true,
          "time": 0.8076503989999964
         },
         {
          "label": "dask",
          "n": 400,
          "reduced": true,
          "time": 0.8008553829999983
         },
         {
          "label": "dask",
          "n": 400,
          "reduced": true,
          "time": 0.8813042180000039
         },
         {
          "label": "dask",
          "n": 400,
          "reduced": true,
          "time": 0.776531624999997
         },
         {
          "label": "dask",
          "n": 400,
          "reduced": true,
          "time": 0.7614300440000079
         },
         {
          "label": "dask",
          "n": 400,
          "reduced": true,
          "time": 0.838805267000005
         },
         {
          "label": "dask",
          "n": 400,
          "reduced": true,
          "time": 0.8172282450000026
         },
         {
          "label": "dask",
          "n": 400,
          "reduced": true,
          "time": 0.8161220300000025
         },
         {
          "label": "dask",
          "n": 400,
          "reduced": true,
          "time": 0.7912003269999985
         },
         {
          "label": "dask",
          "n": 400,
          "reduced": true,
          "time": 0.7873337559999953
         },
         {
          "label": "dask",
          "n": 400,
          "reduced": true,
          "time": 0.7749855759999917
         },
         {
          "label": "dask",
          "n": 400,
          "reduced": true,
          "time": 0.837954382999996
         },
         {
          "label": "dask",
          "n": 400,
          "reduced": true,
          "time": 0.8118822360000024
         },
         {
          "label": "dask",
          "n": 400,
          "reduced": true,
          "time": 0.7811537729999998
         },
         {
          "label": "dask",
          "n": 400,
          "reduced": true,
          "time": 0.8460563739999998
         },
         {
          "label": "dask",
          "n": 400,
          "reduced": true,
          "time": 0.7742700399999976
         },
         {
          "label": "dask",
          "n": 400,
          "reduced": true,
          "time": 0.7937191780000035
         },
         {
          "label": "dask",
          "n": 400,
          "reduced": true,
          "time": 0.8253809460000028
         },
         {
          "label": "dask",
          "n": 400,
          "reduced": true,
          "time": 0.8095599520000007
         },
         {
          "label": "dask",
          "n": 400,
          "reduced": true,
          "time": 0.7870408109999971
         },
         {
          "label": "dask",
          "n": 400,
          "reduced": true,
          "time": 0.8141261959999966
         },
         {
          "label": "dask",
          "n": 400,
          "reduced": true,
          "time": 0.778908457
         },
         {
          "label": "dask",
          "n": 400,
          "reduced": true,
          "time": 0.7972373199999936
         },
         {
          "label": "dask",
          "n": 400,
          "reduced": true,
          "time": 0.8035709749999995
         },
         {
          "label": "dask",
          "n": 400,
          "reduced": true,
          "time": 0.7944916180000021
         },
         {
          "label": "dask",
          "n": 400,
          "reduced": true,
          "time": 0.7701859280000036
         },
         {
          "label": "dask",
          "n": 400,
          "reduced": true,
          "time": 0.8188931059999973
         },
         {
          "label": "dask",
          "n": 400,
          "reduced": true,
          "time": 0.7592184020000019
         },
         {
          "label": "dask",
          "n": 400,
          "reduced": true,
          "time": 0.8082067839999922
         },
         {
          "label": "dask",
          "n": 400,
          "reduced": true,
          "time": 0.8051871780000042
         },
         {
          "label": "dask",
          "n": 400,
          "reduced": true,
          "time": 0.7895346510000039
         },
         {
          "label": "dask",
          "n": 400,
          "reduced": true,
          "time": 0.7848657830000008
         },
         {
          "label": "dask",
          "n": 400,
          "reduced": true,
          "time": 0.857404631999998
         },
         {
          "label": "dask",
          "n": 400,
          "reduced": true,
          "time": 0.7830629950000016
         },
         {
          "label": "dask",
          "n": 400,
          "reduced": true,
          "time": 0.786365515
         },
         {
          "label": "dask",
          "n": 400,
          "reduced": true,
          "time": 0.8866343129999947
         },
         {
          "label": "dask",
          "n": 400,
          "reduced": true,
          "time": 0.8040227930000015
         },
         {
          "label": "dask",
          "n": 400,
          "reduced": true,
          "time": 0.7936299130000037
         },
         {
          "label": "dask",
          "n": 400,
          "reduced": true,
          "time": 0.8419981940000056
         },
         {
          "label": "dask",
          "n": 400,
          "reduced": true,
          "time": 0.7922421080000035
         },
         {
          "label": "dask",
          "n": 400,
          "reduced": true,
          "time": 0.815765385000006
         },
         {
          "label": "dask",
          "n": 400,
          "reduced": true,
          "time": 0.8370889360000007
         },
         {
          "label": "dask",
          "n": 400,
          "reduced": true,
          "time": 0.7938188850000003
         },
         {
          "label": "dask",
          "n": 400,
          "reduced": true,
          "time": 0.7922576520000035
         },
         {
          "label": "dask",
          "n": 400,
          "reduced": true,
          "time": 0.8295475830000001
         },
         {
          "label": "dask",
          "n": 400,
          "reduced": true,
          "time": 0.7780263140000017
         },
         {
          "label": "dask",
          "n": 400,
          "reduced": true,
          "time": 0.8207625339999964
         },
         {
          "label": "dask",
          "n": 400,
          "reduced": true,
          "time": 0.8844133220000003
         },
         {
          "label": "dask",
          "n": 400,
          "reduced": true,
          "time": 0.7934543939999941
         },
         {
          "label": "dask",
          "n": 400,
          "reduced": true,
          "time": 0.7860368040000054
         },
         {
          "label": "dask",
          "n": 400,
          "reduced": true,
          "time": 0.8050291369999982
         },
         {
          "label": "dask",
          "n": 400,
          "reduced": true,
          "time": 0.7913467419999947
         },
         {
          "label": "dask",
          "n": 400,
          "reduced": true,
          "time": 0.7827306850000042
         },
         {
          "label": "dask",
          "n": 400,
          "reduced": true,
          "time": 0.8372015140000002
         },
         {
          "label": "dask",
          "n": 400,
          "reduced": true,
          "time": 0.7950890749999999
         },
         {
          "label": "dask",
          "n": 400,
          "reduced": true,
          "time": 0.7795367650000031
         },
         {
          "label": "dask",
          "n": 400,
          "reduced": true,
          "time": 0.8399561660000003
         },
         {
          "label": "dask",
          "n": 400,
          "reduced": true,
          "time": 0.7731882080000005
         },
         {
          "label": "dask",
          "n": 400,
          "reduced": true,
          "time": 0.7708028889999952
         },
         {
          "label": "dask",
          "n": 400,
          "reduced": true,
          "time": 0.8276266060000026
         },
         {
          "label": "dask",
          "n": 400,
          "reduced": true,
          "time": 0.8205398590000001
         },
         {
          "label": "dask",
          "n": 400,
          "reduced": true,
          "time": 0.8066569919999864
         },
         {
          "label": "dask",
          "n": 400,
          "reduced": true,
          "time": 0.823870656000004
         },
         {
          "label": "dask",
          "n": 400,
          "reduced": true,
          "time": 0.8055457509999968
         },
         {
          "label": "dask",
          "n": 400,
          "reduced": true,
          "time": 0.7927948569999899
         },
         {
          "label": "dask",
          "n": 400,
          "reduced": true,
          "time": 0.8353604280000013
         },
         {
          "label": "dask",
          "n": 400,
          "reduced": true,
          "time": 0.8194942879999942
         },
         {
          "label": "dask",
          "n": 400,
          "reduced": true,
          "time": 0.8137884089999972
         },
         {
          "label": "dask",
          "n": 400,
          "reduced": true,
          "time": 0.8502642250000036
         },
         {
          "label": "dask",
          "n": 400,
          "reduced": true,
          "time": 0.7898023400000014
         },
         {
          "label": "dask",
          "n": 400,
          "reduced": true,
          "time": 0.7761431700000117
         },
         {
          "label": "dask",
          "n": 400,
          "reduced": true,
          "time": 0.8085988240000006
         },
         {
          "label": "dask",
          "n": 400,
          "reduced": true,
          "time": 0.7953013919999989
         },
         {
          "label": "dask",
          "n": 400,
          "reduced": true,
          "time": 0.8057542110000071
         },
         {
          "label": "dask",
          "n": 400,
          "reduced": true,
          "time": 0.8239819799999992
         },
         {
          "label": "dask",
          "n": 400,
          "reduced": true,
          "time": 0.7638083430000009
         },
         {
          "label": "dask",
          "n": 400,
          "reduced": true,
          "time": 0.7625120010000046
         },
         {
          "label": "dask",
          "n": 400,
          "reduced": true,
          "time": 0.8410009569999986
         },
         {
          "label": "dask",
          "n": 400,
          "reduced": true,
          "time": 0.7886269880000043
         },
         {
          "label": "dask",
          "n": 400,
          "reduced": true,
          "time": 0.7818351279999973
         },
         {
          "label": "dask",
          "n": 400,
          "reduced": true,
          "time": 0.7775652019999981
         },
         {
          "label": "dask",
          "n": 400,
          "reduced": true,
          "time": 0.7668024090000003
         },
         {
          "label": "dask",
          "n": 400,
          "reduced": true,
          "time": 0.791991608999993
         },
         {
          "label": "dask",
          "n": 400,
          "reduced": true,
          "time": 0.8399200479999962
         },
         {
          "label": "dask",
          "n": 400,
          "reduced": true,
          "time": 0.7776119739999956
         },
         {
          "label": "dask",
          "n": 400,
          "reduced": true,
          "time": 0.77859737
         },
         {
          "label": "dask",
          "n": 400,
          "reduced": true,
          "time": 0.8240040009999987
         },
         {
          "label": "dask",
          "n": 400,
          "reduced": true,
          "time": 0.8102291459999975
         },
         {
          "label": "dask",
          "n": 400,
          "reduced": true,
          "time": 0.80122058500001
         },
         {
          "label": "dask",
          "n": 400,
          "reduced": true,
          "time": 0.8251297850000014
         },
         {
          "label": "dask",
          "n": 400,
          "reduced": true,
          "time": 0.7770316719999997
         },
         {
          "label": "dask",
          "n": 400,
          "reduced": true,
          "time": 0.7836040069999939
         },
         {
          "label": "dask",
          "n": 400,
          "reduced": true,
          "time": 0.8429698960000067
         },
         {
          "label": "dask",
          "n": 400,
          "reduced": true,
          "time": 0.808253661000002
         },
         {
          "label": "dask",
          "n": 400,
          "reduced": true,
          "time": 0.8028194970000015
         },
         {
          "label": "dask",
          "n": 400,
          "reduced": true,
          "time": 0.8335960850000035
         },
         {
          "label": "dask",
          "n": 400,
          "reduced": true,
          "time": 0.7892412169999972
         },
         {
          "label": "dask",
          "n": 400,
          "reduced": true,
          "time": 0.7869343920000063
         },
         {
          "label": "dask",
          "n": 400,
          "reduced": true,
          "time": 0.8720629409999958
         },
         {
          "label": "dask",
          "n": 400,
          "reduced": true,
          "time": 0.8030025940000058
         },
         {
          "label": "dask",
          "n": 400,
          "reduced": true,
          "time": 0.8130126309999923
         },
         {
          "label": "dask",
          "n": 400,
          "reduced": true,
          "time": 0.8501004279999975
         },
         {
          "label": "dask",
          "n": 400,
          "reduced": true,
          "time": 0.8213562279999991
         },
         {
          "label": "dask",
          "n": 400,
          "reduced": true,
          "time": 0.8087314059999926
         },
         {
          "label": "tensordot",
          "n": 10,
          "reduced": false,
          "time": 3.460944262695312e-05
         },
         {
          "label": "tensordot",
          "n": 10,
          "reduced": false,
          "time": 3.4971986572265615e-05
         },
         {
          "label": "tensordot",
          "n": 10,
          "reduced": false,
          "time": 3.4515178710937505e-05
         },
         {
          "label": "tensordot",
          "n": 10,
          "reduced": false,
          "time": 3.706053491210937e-05
         },
         {
          "label": "tensordot",
          "n": 10,
          "reduced": false,
          "time": 3.656046850585938e-05
         },
         {
          "label": "tensordot",
          "n": 10,
          "reduced": false,
          "time": 3.606789794921876e-05
         },
         {
          "label": "tensordot",
          "n": 10,
          "reduced": false,
          "time": 3.609536303710938e-05
         },
         {
          "label": "tensordot",
          "n": 10,
          "reduced": false,
          "time": 3.595002270507814e-05
         },
         {
          "label": "tensordot",
          "n": 10,
          "reduced": false,
          "time": 3.5980658203125e-05
         },
         {
          "label": "tensordot",
          "n": 10,
          "reduced": false,
          "time": 3.5884679687500005e-05
         },
         {
          "label": "tensordot",
          "n": 10,
          "reduced": false,
          "time": 3.597713696289064e-05
         },
         {
          "label": "tensordot",
          "n": 10,
          "reduced": false,
          "time": 3.61436845703125e-05
         },
         {
          "label": "tensordot",
          "n": 10,
          "reduced": false,
          "time": 3.495653100585938e-05
         },
         {
          "label": "tensordot",
          "n": 10,
          "reduced": false,
          "time": 3.515249853515625e-05
         },
         {
          "label": "tensordot",
          "n": 10,
          "reduced": false,
          "time": 3.5622526611328104e-05
         },
         {
          "label": "tensordot",
          "n": 10,
          "reduced": false,
          "time": 3.645723437499999e-05
         },
         {
          "label": "tensordot",
          "n": 10,
          "reduced": false,
          "time": 3.6329157226562496e-05
         },
         {
          "label": "tensordot",
          "n": 10,
          "reduced": false,
          "time": 3.619176611328127e-05
         },
         {
          "label": "tensordot",
          "n": 10,
          "reduced": false,
          "time": 3.534720068359375e-05
         },
         {
          "label": "tensordot",
          "n": 10,
          "reduced": false,
          "time": 3.4576528076171864e-05
         },
         {
          "label": "tensordot",
          "n": 10,
          "reduced": false,
          "time": 3.420451318359374e-05
         },
         {
          "label": "tensordot",
          "n": 10,
          "reduced": false,
          "time": 3.9212640625000005e-05
         },
         {
          "label": "tensordot",
          "n": 10,
          "reduced": false,
          "time": 3.946446020507812e-05
         },
         {
          "label": "tensordot",
          "n": 10,
          "reduced": false,
          "time": 3.890159936523438e-05
         },
         {
          "label": "tensordot",
          "n": 10,
          "reduced": false,
          "time": 3.6021322509765624e-05
         },
         {
          "label": "tensordot",
          "n": 10,
          "reduced": false,
          "time": 3.684307641601563e-05
         },
         {
          "label": "tensordot",
          "n": 10,
          "reduced": false,
          "time": 3.714732568359374e-05
         },
         {
          "label": "tensordot",
          "n": 10,
          "reduced": false,
          "time": 3.4961720703125006e-05
         },
         {
          "label": "tensordot",
          "n": 10,
          "reduced": false,
          "time": 3.49586201171875e-05
         },
         {
          "label": "tensordot",
          "n": 10,
          "reduced": false,
          "time": 3.530452954101561e-05
         },
         {
          "label": "tensordot",
          "n": 10,
          "reduced": false,
          "time": 3.535361303710937e-05
         },
         {
          "label": "tensordot",
          "n": 10,
          "reduced": false,
          "time": 3.5160670654296877e-05
         },
         {
          "label": "tensordot",
          "n": 10,
          "reduced": false,
          "time": 3.522324194335936e-05
         },
         {
          "label": "tensordot",
          "n": 10,
          "reduced": false,
          "time": 3.584999462890626e-05
         },
         {
          "label": "tensordot",
          "n": 10,
          "reduced": false,
          "time": 3.6303810058593765e-05
         },
         {
          "label": "tensordot",
          "n": 10,
          "reduced": false,
          "time": 3.5630359863281246e-05
         },
         {
          "label": "tensordot",
          "n": 10,
          "reduced": false,
          "time": 3.506185961914062e-05
         },
         {
          "label": "tensordot",
          "n": 10,
          "reduced": false,
          "time": 3.508151538085938e-05
         },
         {
          "label": "tensordot",
          "n": 10,
          "reduced": false,
          "time": 3.431430444335938e-05
         },
         {
          "label": "tensordot",
          "n": 10,
          "reduced": false,
          "time": 3.559760961914063e-05
         },
         {
          "label": "tensordot",
          "n": 10,
          "reduced": false,
          "time": 3.615627856445313e-05
         },
         {
          "label": "tensordot",
          "n": 10,
          "reduced": false,
          "time": 3.514362158203125e-05
         },
         {
          "label": "tensordot",
          "n": 10,
          "reduced": false,
          "time": 3.5095918701171875e-05
         },
         {
          "label": "tensordot",
          "n": 10,
          "reduced": false,
          "time": 3.500353613281249e-05
         },
         {
          "label": "tensordot",
          "n": 10,
          "reduced": false,
          "time": 3.5387554443359366e-05
         },
         {
          "label": "tensordot",
          "n": 10,
          "reduced": false,
          "time": 3.557335424804688e-05
         },
         {
          "label": "tensordot",
          "n": 10,
          "reduced": false,
          "time": 3.524168041992186e-05
         },
         {
          "label": "tensordot",
          "n": 10,
          "reduced": false,
          "time": 3.535516723632813e-05
         },
         {
          "label": "tensordot",
          "n": 10,
          "reduced": false,
          "time": 3.58917216796875e-05
         },
         {
          "label": "tensordot",
          "n": 10,
          "reduced": false,
          "time": 3.5746889404296894e-05
         },
         {
          "label": "tensordot",
          "n": 10,
          "reduced": false,
          "time": 3.56128986816406e-05
         },
         {
          "label": "tensordot",
          "n": 10,
          "reduced": false,
          "time": 3.5644090332031256e-05
         },
         {
          "label": "tensordot",
          "n": 10,
          "reduced": false,
          "time": 3.5883854492187506e-05
         },
         {
          "label": "tensordot",
          "n": 10,
          "reduced": false,
          "time": 3.550852343750001e-05
         },
         {
          "label": "tensordot",
          "n": 10,
          "reduced": false,
          "time": 3.6999350341796876e-05
         },
         {
          "label": "tensordot",
          "n": 10,
          "reduced": false,
          "time": 3.679843920898438e-05
         },
         {
          "label": "tensordot",
          "n": 10,
          "reduced": false,
          "time": 3.713120434570313e-05
         },
         {
          "label": "tensordot",
          "n": 10,
          "reduced": false,
          "time": 3.5118807861328125e-05
         },
         {
          "label": "tensordot",
          "n": 10,
          "reduced": false,
          "time": 3.5358137207031255e-05
         },
         {
          "label": "tensordot",
          "n": 10,
          "reduced": false,
          "time": 3.5172655273437516e-05
         },
         {
          "label": "tensordot",
          "n": 10,
          "reduced": false,
          "time": 3.525239379882812e-05
         },
         {
          "label": "tensordot",
          "n": 10,
          "reduced": false,
          "time": 3.5351379882812484e-05
         },
         {
          "label": "tensordot",
          "n": 10,
          "reduced": false,
          "time": 3.4556448974609375e-05
         },
         {
          "label": "tensordot",
          "n": 10,
          "reduced": false,
          "time": 3.654553662109375e-05
         },
         {
          "label": "tensordot",
          "n": 10,
          "reduced": false,
          "time": 3.653676928710939e-05
         },
         {
          "label": "tensordot",
          "n": 10,
          "reduced": false,
          "time": 3.6930711669921874e-05
         },
         {
          "label": "tensordot",
          "n": 10,
          "reduced": false,
          "time": 3.5328683349609386e-05
         },
         {
          "label": "tensordot",
          "n": 10,
          "reduced": false,
          "time": 3.532727416992188e-05
         },
         {
          "label": "tensordot",
          "n": 10,
          "reduced": false,
          "time": 3.5199680664062494e-05
         },
         {
          "label": "tensordot",
          "n": 10,
          "reduced": false,
          "time": 3.637393383789063e-05
         },
         {
          "label": "tensordot",
          "n": 10,
          "reduced": false,
          "time": 3.563852734375001e-05
         },
         {
          "label": "tensordot",
          "n": 10,
          "reduced": false,
          "time": 3.4999253173828115e-05
         },
         {
          "label": "tensordot",
          "n": 10,
          "reduced": false,
          "time": 3.55354736328125e-05
         },
         {
          "label": "tensordot",
          "n": 10,
          "reduced": false,
          "time": 3.539292407226562e-05
         },
         {
          "label": "tensordot",
          "n": 10,
          "reduced": false,
          "time": 3.524337841796874e-05
         },
         {
          "label": "tensordot",
          "n": 10,
          "reduced": false,
          "time": 3.559674633789062e-05
         },
         {
          "label": "tensordot",
          "n": 10,
          "reduced": false,
          "time": 3.546194824218751e-05
         },
         {
          "label": "tensordot",
          "n": 10,
          "reduced": false,
          "time": 3.58323466796875e-05
         },
         {
          "label": "tensordot",
          "n": 10,
          "reduced": false,
          "time": 3.815129711914063e-05
         },
         {
          "label": "tensordot",
          "n": 10,
          "reduced": false,
          "time": 4.059973999023437e-05
         },
         {
          "label": "tensordot",
          "n": 10,
          "reduced": false,
          "time": 3.722516235351561e-05
         },
         {
          "label": "tensordot",
          "n": 10,
          "reduced": false,
          "time": 3.6448250000000005e-05
         },
         {
          "label": "tensordot",
          "n": 10,
          "reduced": false,
          "time": 3.613922436523437e-05
         },
         {
          "label": "tensordot",
          "n": 10,
          "reduced": false,
          "time": 3.6261530273437516e-05
         },
         {
          "label": "tensordot",
          "n": 10,
          "reduced": false,
          "time": 3.567952270507812e-05
         },
         {
          "label": "tensordot",
          "n": 10,
          "reduced": false,
          "time": 3.503477709960937e-05
         },
         {
          "label": "tensordot",
          "n": 10,
          "reduced": false,
          "time": 3.5067825683593744e-05
         },
         {
          "label": "tensordot",
          "n": 10,
          "reduced": false,
          "time": 3.601796313476563e-05
         },
         {
          "label": "tensordot",
          "n": 10,
          "reduced": false,
          "time": 3.647835009765624e-05
         },
         {
          "label": "tensordot",
          "n": 10,
          "reduced": false,
          "time": 3.611162304687499e-05
         },
         {
          "label": "tensordot",
          "n": 10,
          "reduced": false,
          "time": 3.5070793212890636e-05
         },
         {
          "label": "tensordot",
          "n": 10,
          "reduced": false,
          "time": 3.5294866455078114e-05
         },
         {
          "label": "tensordot",
          "n": 10,
          "reduced": false,
          "time": 3.559945556640625e-05
         },
         {
          "label": "tensordot",
          "n": 10,
          "reduced": false,
          "time": 3.6337810058593745e-05
         },
         {
          "label": "tensordot",
          "n": 10,
          "reduced": false,
          "time": 3.5567010009765633e-05
         },
         {
          "label": "tensordot",
          "n": 10,
          "reduced": false,
          "time": 3.625176513671874e-05
         },
         {
          "label": "tensordot",
          "n": 10,
          "reduced": false,
          "time": 3.5241454345703133e-05
         },
         {
          "label": "tensordot",
          "n": 10,
          "reduced": false,
          "time": 3.581104272460936e-05
         },
         {
          "label": "tensordot",
          "n": 10,
          "reduced": false,
          "time": 3.505021362304686e-05
         },
         {
          "label": "tensordot",
          "n": 10,
          "reduced": false,
          "time": 3.5365599121093744e-05
         },
         {
          "label": "tensordot",
          "n": 10,
          "reduced": false,
          "time": 3.504651391601562e-05
         },
         {
          "label": "tensordot",
          "n": 10,
          "reduced": false,
          "time": 3.4990804199218735e-05
         },
         {
          "label": "tensordot",
          "n": 10,
          "reduced": false,
          "time": 3.5061845947265615e-05
         },
         {
          "label": "tensordot",
          "n": 10,
          "reduced": false,
          "time": 3.511072607421877e-05
         },
         {
          "label": "tensordot",
          "n": 10,
          "reduced": false,
          "time": 3.491585375976563e-05
         },
         {
          "label": "tensordot",
          "n": 10,
          "reduced": false,
          "time": 3.530621875e-05
         },
         {
          "label": "tensordot",
          "n": 10,
          "reduced": false,
          "time": 3.5434921875000016e-05
         },
         {
          "label": "tensordot",
          "n": 10,
          "reduced": false,
          "time": 3.539646875000001e-05
         },
         {
          "label": "tensordot",
          "n": 10,
          "reduced": false,
          "time": 3.518280444335938e-05
         },
         {
          "label": "tensordot",
          "n": 10,
          "reduced": false,
          "time": 3.5146928710937504e-05
         },
         {
          "label": "tensordot",
          "n": 10,
          "reduced": false,
          "time": 3.5206719726562475e-05
         },
         {
          "label": "tensordot",
          "n": 10,
          "reduced": false,
          "time": 3.561029833984376e-05
         },
         {
          "label": "tensordot",
          "n": 10,
          "reduced": false,
          "time": 3.5787380615234386e-05
         },
         {
          "label": "tensordot",
          "n": 10,
          "reduced": false,
          "time": 3.5572080078125e-05
         },
         {
          "label": "tensordot",
          "n": 10,
          "reduced": false,
          "time": 3.5256303466796874e-05
         },
         {
          "label": "tensordot",
          "n": 10,
          "reduced": false,
          "time": 3.551127758789063e-05
         },
         {
          "label": "tensordot",
          "n": 10,
          "reduced": false,
          "time": 3.574305932617188e-05
         },
         {
          "label": "tensordot",
          "n": 10,
          "reduced": false,
          "time": 3.565841625976562e-05
         },
         {
          "label": "tensordot",
          "n": 10,
          "reduced": false,
          "time": 3.585330639648437e-05
         },
         {
          "label": "tensordot",
          "n": 10,
          "reduced": false,
          "time": 3.5859636962890646e-05
         },
         {
          "label": "inner",
          "n": 1,
          "reduced": true,
          "time": 1.8594851684570312e-06
         },
         {
          "label": "inner",
          "n": 1,
          "reduced": true,
          "time": 1.850293624877929e-06
         },
         {
          "label": "inner",
          "n": 1,
          "reduced": true,
          "time": 1.8649163513183601e-06
         },
         {
          "label": "inner",
          "n": 1,
          "reduced": true,
          "time": 2.0275363922119145e-06
         },
         {
          "label": "inner",
          "n": 1,
          "reduced": true,
          "time": 2.0255074310302737e-06
         },
         {
          "label": "inner",
          "n": 1,
          "reduced": true,
          "time": 2.0215057525634757e-06
         },
         {
          "label": "inner",
          "n": 1,
          "reduced": true,
          "time": 2.1135232391357424e-06
         },
         {
          "label": "inner",
          "n": 1,
          "reduced": true,
          "time": 2.094480606079102e-06
         },
         {
          "label": "inner",
          "n": 1,
          "reduced": true,
          "time": 2.07825944519043e-06
         },
         {
          "label": "inner",
          "n": 1,
          "reduced": true,
          "time": 2.0231564941406247e-06
         },
         {
          "label": "inner",
          "n": 1,
          "reduced": true,
          "time": 2.00909977722168e-06
         },
         {
          "label": "inner",
          "n": 1,
          "reduced": true,
          "time": 1.9910744781494135e-06
         },
         {
          "label": "inner",
          "n": 1,
          "reduced": true,
          "time": 1.9705278320312498e-06
         },
         {
          "label": "inner",
          "n": 1,
          "reduced": true,
          "time": 1.984534591674805e-06
         },
         {
          "label": "inner",
          "n": 1,
          "reduced": true,
          "time": 1.950039215087891e-06
         },
         {
          "label": "inner",
          "n": 1,
          "reduced": true,
          "time": 1.950931945800781e-06
         },
         {
          "label": "inner",
          "n": 1,
          "reduced": true,
          "time": 1.95561311340332e-06
         },
         {
          "label": "inner",
          "n": 1,
          "reduced": true,
          "time": 1.9554029693603516e-06
         },
         {
          "label": "inner",
          "n": 1,
          "reduced": true,
          "time": 1.947329330444336e-06
         },
         {
          "label": "inner",
          "n": 1,
          "reduced": true,
          "time": 1.9375264892578118e-06
         },
         {
          "label": "inner",
          "n": 1,
          "reduced": true,
          "time": 1.933312866210937e-06
         },
         {
          "label": "inner",
          "n": 1,
          "reduced": true,
          "time": 2.0161951446533204e-06
         },
         {
          "label": "inner",
          "n": 1,
          "reduced": true,
          "time": 2.014554199218751e-06
         },
         {
          "label": "inner",
          "n": 1,
          "reduced": true,
          "time": 2.0438892974853512e-06
         },
         {
          "label": "inner",
          "n": 1,
          "reduced": true,
          "time": 1.993028381347656e-06
         },
         {
          "label": "inner",
          "n": 1,
          "reduced": true,
          "time": 1.9857416687011716e-06
         },
         {
          "label": "inner",
          "n": 1,
          "reduced": true,
          "time": 1.985868103027343e-06
         },
         {
          "label": "inner",
          "n": 1,
          "reduced": true,
          "time": 1.9408427734374995e-06
         },
         {
          "label": "inner",
          "n": 1,
          "reduced": true,
          "time": 1.9325605316162114e-06
         },
         {
          "label": "inner",
          "n": 1,
          "reduced": true,
          "time": 1.9454955139160157e-06
         },
         {
          "label": "inner",
          "n": 1,
          "reduced": true,
          "time": 1.9529395446777346e-06
         },
         {
          "label": "inner",
          "n": 1,
          "reduced": true,
          "time": 1.949836105346679e-06
         },
         {
          "label": "inner",
          "n": 1,
          "reduced": true,
          "time": 1.951913772583008e-06
         },
         {
          "label": "inner",
          "n": 1,
          "reduced": true,
          "time": 1.929185317993164e-06
         },
         {
          "label": "inner",
          "n": 1,
          "reduced": true,
          "time": 1.922696517944336e-06
         },
         {
          "label": "inner",
          "n": 1,
          "reduced": true,
          "time": 1.911287506103515e-06
         },
         {
          "label": "inner",
          "n": 1,
          "reduced": true,
          "time": 1.9487036895751953e-06
         },
         {
          "label": "inner",
          "n": 1,
          "reduced": true,
          "time": 1.936548263549805e-06
         },
         {
          "label": "inner",
          "n": 1,
          "reduced": true,
          "time": 1.927362960815431e-06
         },
         {
          "label": "inner",
          "n": 1,
          "reduced": true,
          "time": 1.904365707397461e-06
         },
         {
          "label": "inner",
          "n": 1,
          "reduced": true,
          "time": 1.9269216308593743e-06
         },
         {
          "label": "inner",
          "n": 1,
          "reduced": true,
          "time": 1.9197935943603516e-06
         },
         {
          "label": "inner",
          "n": 1,
          "reduced": true,
          "time": 1.9777404479980466e-06
         },
         {
          "label": "inner",
          "n": 1,
          "reduced": true,
          "time": 1.981849014282226e-06
         },
         {
          "label": "inner",
          "n": 1,
          "reduced": true,
          "time": 1.952281433105469e-06
         },
         {
          "label": "inner",
          "n": 1,
          "reduced": true,
          "time": 1.9856797180175783e-06
         },
         {
          "label": "inner",
          "n": 1,
          "reduced": true,
          "time": 1.977848724365234e-06
         },
         {
          "label": "inner",
          "n": 1,
          "reduced": true,
          "time": 1.9841812896728506e-06
         },
         {
          "label": "inner",
          "n": 1,
          "reduced": true,
          "time": 1.92009962463379e-06
         },
         {
          "label": "inner",
          "n": 1,
          "reduced": true,
          "time": 1.8845022583007812e-06
         },
         {
          "label": "inner",
          "n": 1,
          "reduced": true,
          "time": 1.8786957397460948e-06
         },
         {
          "label": "inner",
          "n": 1,
          "reduced": true,
          "time": 2.0114514160156245e-06
         },
         {
          "label": "inner",
          "n": 1,
          "reduced": true,
          "time": 2.0164341735839844e-06
         },
         {
          "label": "inner",
          "n": 1,
          "reduced": true,
          "time": 2.0176956481933595e-06
         },
         {
          "label": "inner",
          "n": 1,
          "reduced": true,
          "time": 1.967966049194336e-06
         },
         {
          "label": "inner",
          "n": 1,
          "reduced": true,
          "time": 1.9778127899169916e-06
         },
         {
          "label": "inner",
          "n": 1,
          "reduced": true,
          "time": 1.9632568664550773e-06
         },
         {
          "label": "inner",
          "n": 1,
          "reduced": true,
          "time": 1.94353352355957e-06
         },
         {
          "label": "inner",
          "n": 1,
          "reduced": true,
          "time": 1.96399252319336e-06
         },
         {
          "label": "inner",
          "n": 1,
          "reduced": true,
          "time": 1.933134735107423e-06
         },
         {
          "label": "inner",
          "n": 1,
          "reduced": true,
          "time": 1.9464893341064453e-06
         },
         {
          "label": "inner",
          "n": 1,
          "reduced": true,
          "time": 1.9540010223388665e-06
         },
         {
          "label": "inner",
          "n": 1,
          "reduced": true,
          "time": 1.9485255889892575e-06
         },
         {
          "label": "inner",
          "n": 1,
          "reduced": true,
          "time": 1.9727110595703125e-06
         },
         {
          "label": "inner",
          "n": 1,
          "reduced": true,
          "time": 1.9981841278076174e-06
         },
         {
          "label": "inner",
          "n": 1,
          "reduced": true,
          "time": 1.9910102996826174e-06
         },
         {
          "label": "inner",
          "n": 1,
          "reduced": true,
          "time": 1.9250132598876957e-06
         },
         {
          "label": "inner",
          "n": 1,
          "reduced": true,
          "time": 1.9253008880615232e-06
         },
         {
          "label": "inner",
          "n": 1,
          "reduced": true,
          "time": 1.923106750488281e-06
         },
         {
          "label": "inner",
          "n": 1,
          "reduced": true,
          "time": 1.859661972045898e-06
         },
         {
          "label": "inner",
          "n": 1,
          "reduced": true,
          "time": 1.9196528930664062e-06
         },
         {
          "label": "inner",
          "n": 1,
          "reduced": true,
          "time": 1.8803693237304681e-06
         },
         {
          "label": "inner",
          "n": 1,
          "reduced": true,
          "time": 1.941529632568359e-06
         },
         {
          "label": "inner",
          "n": 1,
          "reduced": true,
          "time": 1.947743423461913e-06
         },
         {
          "label": "inner",
          "n": 1,
          "reduced": true,
          "time": 1.919035522460937e-06
         },
         {
          "label": "inner",
          "n": 1,
          "reduced": true,
          "time": 1.9066403350830084e-06
         },
         {
          "label": "inner",
          "n": 1,
          "reduced": true,
          "time": 1.9335301666259774e-06
         },
         {
          "label": "inner",
          "n": 1,
          "reduced": true,
          "time": 1.9233618621826186e-06
         },
         {
          "label": "inner",
          "n": 1,
          "reduced": true,
          "time": 1.950321884155273e-06
         },
         {
          "label": "inner",
          "n": 1,
          "reduced": true,
          "time": 1.9588277282714855e-06
         },
         {
          "label": "inner",
          "n": 1,
          "reduced": true,
          "time": 1.9611620483398435e-06
         },
         {
          "label": "inner",
          "n": 1,
          "reduced": true,
          "time": 1.913901123046875e-06
         },
         {
          "label": "inner",
          "n": 1,
          "reduced": true,
          "time": 1.9012276458740227e-06
         },
         {
          "label": "inner",
          "n": 1,
          "reduced": true,
          "time": 1.9064130096435546e-06
         },
         {
          "label": "inner",
          "n": 1,
          "reduced": true,
          "time": 1.9674174804687496e-06
         },
         {
          "label": "inner",
          "n": 1,
          "reduced": true,
          "time": 1.9693080749511716e-06
         },
         {
          "label": "inner",
          "n": 1,
          "reduced": true,
          "time": 1.948921188354493e-06
         },
         {
          "label": "inner",
          "n": 1,
          "reduced": true,
          "time": 1.986098388671875e-06
         },
         {
          "label": "inner",
          "n": 1,
          "reduced": true,
          "time": 1.949639877319336e-06
         },
         {
          "label": "inner",
          "n": 1,
          "reduced": true,
          "time": 1.9323327941894528e-06
         },
         {
          "label": "inner",
          "n": 1,
          "reduced": true,
          "time": 1.9644784698486323e-06
         },
         {
          "label": "inner",
          "n": 1,
          "reduced": true,
          "time": 1.9544577331542968e-06
         },
         {
          "label": "inner",
          "n": 1,
          "reduced": true,
          "time": 1.956892303466797e-06
         },
         {
          "label": "inner",
          "n": 1,
          "reduced": true,
          "time": 1.9433480682373047e-06
         },
         {
          "label": "inner",
          "n": 1,
          "reduced": true,
          "time": 1.982061126708985e-06
         },
         {
          "label": "inner",
          "n": 1,
          "reduced": true,
          "time": 1.937218124389648e-06
         },
         {
          "label": "inner",
          "n": 1,
          "reduced": true,
          "time": 1.95679052734375e-06
         },
         {
          "label": "inner",
          "n": 1,
          "reduced": true,
          "time": 1.9047809448242193e-06
         },
         {
          "label": "inner",
          "n": 1,
          "reduced": true,
          "time": 1.903104782104492e-06
         },
         {
          "label": "inner",
          "n": 1,
          "reduced": true,
          "time": 1.905424514770508e-06
         },
         {
          "label": "inner",
          "n": 1,
          "reduced": true,
          "time": 1.942200332641601e-06
         },
         {
          "label": "inner",
          "n": 1,
          "reduced": true,
          "time": 1.9388239135742195e-06
         },
         {
          "label": "inner",
          "n": 1,
          "reduced": true,
          "time": 1.9974530181884762e-06
         },
         {
          "label": "inner",
          "n": 1,
          "reduced": true,
          "time": 2.0178733062744142e-06
         },
         {
          "label": "inner",
          "n": 1,
          "reduced": true,
          "time": 2.0177983551025397e-06
         },
         {
          "label": "inner",
          "n": 1,
          "reduced": true,
          "time": 1.9646277465820313e-06
         },
         {
          "label": "inner",
          "n": 1,
          "reduced": true,
          "time": 1.9618056488037103e-06
         },
         {
          "label": "inner",
          "n": 1,
          "reduced": true,
          "time": 1.971075424194336e-06
         },
         {
          "label": "inner",
          "n": 1,
          "reduced": true,
          "time": 2.0010926666259765e-06
         },
         {
          "label": "inner",
          "n": 1,
          "reduced": true,
          "time": 1.9808054199218743e-06
         },
         {
          "label": "inner",
          "n": 1,
          "reduced": true,
          "time": 1.990186065673829e-06
         },
         {
          "label": "inner",
          "n": 1,
          "reduced": true,
          "time": 1.947418594360352e-06
         },
         {
          "label": "inner",
          "n": 1,
          "reduced": true,
          "time": 1.9768442993164068e-06
         },
         {
          "label": "inner",
          "n": 1,
          "reduced": true,
          "time": 1.9522175445556636e-06
         },
         {
          "label": "inner",
          "n": 1,
          "reduced": true,
          "time": 2.035856979370117e-06
         },
         {
          "label": "inner",
          "n": 1,
          "reduced": true,
          "time": 2.008355819702148e-06
         },
         {
          "label": "inner",
          "n": 1,
          "reduced": true,
          "time": 1.9739739990234377e-06
         },
         {
          "label": "inner",
          "n": 1,
          "reduced": true,
          "time": 1.943441009521484e-06
         },
         {
          "label": "inner",
          "n": 1,
          "reduced": true,
          "time": 1.94506674194336e-06
         },
         {
          "label": "inner",
          "n": 1,
          "reduced": true,
          "time": 1.947716232299806e-06
         }
        ]
       },
       "encoding": {
        "color": {
         "field": "label",
         "type": "nominal"
        },
        "column": {
         "field": "n",
         "type": "quantitative"
        },
        "x": {
         "field": "reduced",
         "type": "nominal"
        },
        "y": {
         "aggregate": "mean",
         "axis": {
          "title": "Time (seconds)"
         },
         "field": "time",
         "scale": {
          "type": "log",
          "zero": false
         },
         "type": "quantitative"
        }
       },
       "mark": "line"
      },
      "image/png": "[encoded data removed]",
      "text/plain": [
       "<VegaLite 2 object>\n",
       "\n",
       "If you see this message, it means the renderer has not been properly enabled\n",
       "for the frontend that you are using. For more information, see\n",
       "https://altair-viz.github.io/user_guide/troubleshooting.html\n"
      ]
     },
     "execution_count": 59,
     "metadata": {},
     "output_type": "execute_result"
    }
   ],
   "source": [
    "points = altair.Chart(df).mark_line().encode(\n",
    "    altair.Y(\n",
    "        'mean(time)',\n",
    "        scale=altair.Scale(type='log', zero=False),\n",
    "        axis=altair.Axis(title='Time (seconds)'),\n",
    "    ),\n",
    "    x='reduced',\n",
    "    column='n',\n",
    "    color='label'\n",
    ")\n",
    "\n",
    "\n",
    "points"
   ]
  },
  {
   "cell_type": "code",
   "execution_count": null,
   "metadata": {},
   "outputs": [],
   "source": []
  }
 ],
 "metadata": {
  "kernelspec": {
   "display_name": "Python 3",
   "language": "python",
   "name": "python3"
  },
  "language_info": {
   "codemirror_mode": {
    "name": "ipython",
    "version": 3
   },
   "file_extension": ".py",
   "mimetype": "text/x-python",
   "name": "python",
   "nbconvert_exporter": "python",
   "pygments_lexer": "ipython3",
   "version": "3.7.0"
  }
 },
 "nbformat": 4,
 "nbformat_minor": 2
}
